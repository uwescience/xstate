{
 "cells": [
  {
   "cell_type": "markdown",
   "metadata": {},
   "source": [
    "# Analysis of Transcription Regulatory Networks (TRNs)"
   ]
  },
  {
   "cell_type": "code",
   "execution_count": 1,
   "metadata": {},
   "outputs": [],
   "source": [
    "import init\n",
    "import common.constants as cn\n",
    "from common.trinary_data import TrinaryData\n",
    "from common.data_provider import DataProvider\n",
    "from common_python.plots import util_plots\n",
    "from plots import util_plots as xutil_plots\n",
    "\n",
    "import os\n",
    "import matplotlib.pyplot as plt\n",
    "import numpy as np\n",
    "import pandas as pd\n",
    "\n",
    "%matplotlib inline"
   ]
  },
  {
   "cell_type": "code",
   "execution_count": 2,
   "metadata": {},
   "outputs": [],
   "source": [
    "PROVIDER = DataProvider()\n",
    "PROVIDER.do()"
   ]
  },
  {
   "cell_type": "code",
   "execution_count": 3,
   "metadata": {},
   "outputs": [],
   "source": [
    "TRINARY = TrinaryData(is_averaged=False, is_dropT1=False)"
   ]
  },
  {
   "cell_type": "code",
   "execution_count": 5,
   "metadata": {},
   "outputs": [
    {
     "data": {
      "text/html": [
       "<div>\n",
       "<style scoped>\n",
       "    .dataframe tbody tr th:only-of-type {\n",
       "        vertical-align: middle;\n",
       "    }\n",
       "\n",
       "    .dataframe tbody tr th {\n",
       "        vertical-align: top;\n",
       "    }\n",
       "\n",
       "    .dataframe thead th {\n",
       "        text-align: right;\n",
       "    }\n",
       "</style>\n",
       "<table border=\"1\" class=\"dataframe\">\n",
       "  <thead>\n",
       "    <tr style=\"text-align: right;\">\n",
       "      <th></th>\n",
       "      <th>tf</th>\n",
       "      <th>GENE_ID</th>\n",
       "      <th>sign</th>\n",
       "    </tr>\n",
       "  </thead>\n",
       "  <tbody>\n",
       "    <tr>\n",
       "      <th>0</th>\n",
       "      <td>Rv0022c</td>\n",
       "      <td>Rv0029</td>\n",
       "      <td>1</td>\n",
       "    </tr>\n",
       "    <tr>\n",
       "      <th>1</th>\n",
       "      <td>Rv0022c</td>\n",
       "      <td>Rv0030</td>\n",
       "      <td>1</td>\n",
       "    </tr>\n",
       "    <tr>\n",
       "      <th>2</th>\n",
       "      <td>Rv0022c</td>\n",
       "      <td>Rv0031</td>\n",
       "      <td>1</td>\n",
       "    </tr>\n",
       "    <tr>\n",
       "      <th>3</th>\n",
       "      <td>Rv0022c</td>\n",
       "      <td>Rv0069c</td>\n",
       "      <td>1</td>\n",
       "    </tr>\n",
       "    <tr>\n",
       "      <th>4</th>\n",
       "      <td>Rv0022c</td>\n",
       "      <td>Rv0070c</td>\n",
       "      <td>1</td>\n",
       "    </tr>\n",
       "  </tbody>\n",
       "</table>\n",
       "</div>"
      ],
      "text/plain": [
       "        tf  GENE_ID  sign\n",
       "0  Rv0022c   Rv0029     1\n",
       "1  Rv0022c   Rv0030     1\n",
       "2  Rv0022c   Rv0031     1\n",
       "3  Rv0022c  Rv0069c     1\n",
       "4  Rv0022c  Rv0070c     1"
      ]
     },
     "execution_count": 5,
     "metadata": {},
     "output_type": "execute_result"
    }
   ],
   "source": [
    "PROVIDER.df_trn_unsigned.head()"
   ]
  },
  {
   "cell_type": "code",
   "execution_count": 6,
   "metadata": {},
   "outputs": [
    {
     "data": {
      "text/plain": [
       "Text(0.5, 1.0, 'Number of Modules for Genes')"
      ]
     },
     "execution_count": 6,
     "metadata": {},
     "output_type": "execute_result"
    },
    {
     "data": {
      "image/png": "[encoded data removed]",
      "text/plain": [
       "<Figure size 432x288 with 1 Axes>"
      ]
     },
     "metadata": {
      "needs_background": "light"
     },
     "output_type": "display_data"
    }
   ],
   "source": [
    "dfg_signed = PROVIDER.df_trn_unsigned.groupby(cn.GENE_ID)\n",
    "ser = dfg_signed.count()[cn.SIGN]\n",
    "ser.head()\n",
    "xv = [v - 0.5 for v in range(1,10)]\n",
    "plt.hist(ser.values, bins=xv)\n",
    "plt.xlabel(\"No. Modules\")\n",
    "plt.ylabel(\"No. Genes\")\n",
    "plt.title(\"Number of Modules for Genes\")"
   ]
  },
  {
   "cell_type": "code",
   "execution_count": 7,
   "metadata": {},
   "outputs": [
    {
     "data": {
      "text/plain": [
       "Text(0.5, 1.0, 'CDF of Module Size')"
      ]
     },
     "execution_count": 7,
     "metadata": {},
     "output_type": "execute_result"
    },
    {
     "data": {
      "image/png": "[encoded data removed]",
      "text/plain": [
       "<Figure size 432x288 with 1 Axes>"
      ]
     },
     "metadata": {
      "needs_background": "light"
     },
     "output_type": "display_data"
    }
   ],
   "source": [
    "# Module size distribution\n",
    "ser = (PROVIDER.df_trn_unsigned.groupby(cn.TF)[\"sign\"].count())\n",
    "ser.head()\n",
    "xv = [v / len(ser) for v in range(len(ser))]\n",
    "ser = ser.sort_values(ascending=True)\n",
    "#plt.hist(ser.values, bins=xv)\n",
    "plt.plot(ser, xv)\n",
    "plt.ylabel(\"Frac modules\")\n",
    "plt.xlabel(\"Module size\")\n",
    "plt.title(\"CDF of Module Size\")"
   ]
  },
  {
   "cell_type": "code",
   "execution_count": 8,
   "metadata": {},
   "outputs": [
    {
     "data": {
      "text/plain": [
       "tf\n",
       "Rv0081     764\n",
       "Rv0678     600\n",
       "Rv1353c    596\n",
       "Rv1033c    518\n",
       "Rv0047c    495\n",
       "          ... \n",
       "Rv0623       2\n",
       "Rv2640c      1\n",
       "Rv3417c      1\n",
       "Rv2282c      1\n",
       "Rv3058c      1\n",
       "Name: sign, Length: 143, dtype: int64"
      ]
     },
     "execution_count": 8,
     "metadata": {},
     "output_type": "execute_result"
    }
   ],
   "source": [
    "ser.sort_values(ascending=False)"
   ]
  },
  {
   "cell_type": "code",
   "execution_count": 11,
   "metadata": {},
   "outputs": [
    {
     "data": {
      "text/plain": [
       "array(['Rv0022c', 'Rv0023', 'Rv0042c', 'Rv0043c', 'Rv0047c', 'Rv0054',\n",
       "       'Rv0067c', 'Rv0078', 'Rv0081', 'Rv0117', 'Rv0135c', 'Rv0158',\n",
       "       'Rv0195', 'Rv0212c', 'Rv0232', 'Rv0238', 'Rv0273c', 'Rv0275c',\n",
       "       'Rv0302', 'Rv0324', 'Rv0330c', 'Rv0339c', 'Rv0348', 'Rv0353',\n",
       "       'Rv0445c', 'Rv0465c', 'Rv0472c', 'Rv0474', 'Rv0494', 'Rv0576',\n",
       "       'Rv0602c', 'Rv0623', 'Rv0653c', 'Rv0674', 'Rv0678', 'Rv0681',\n",
       "       'Rv0691c', 'Rv0735', 'Rv0757', 'Rv0767c', 'Rv0818', 'Rv0827c',\n",
       "       'Rv0880', 'Rv0891c', 'Rv0894', 'Rv0967', 'Rv0981', 'Rv1019',\n",
       "       'Rv1033c', 'Rv1049', 'Rv1167c', 'Rv1176c', 'Rv1186c', 'Rv1189',\n",
       "       'Rv1219c', 'Rv1255c', 'Rv1287', 'Rv1332', 'Rv1353c', 'Rv1359',\n",
       "       'Rv1379', 'Rv1395', 'Rv1404', 'Rv1423', 'Rv1460', 'Rv1473A',\n",
       "       'Rv1556', 'Rv1657', 'Rv1674c', 'Rv1675c', 'Rv1719', 'Rv1773c',\n",
       "       'Rv1776c', 'Rv1816', 'Rv1828', 'Rv1846c', 'Rv1956', 'Rv1985c',\n",
       "       'Rv1990c', 'Rv1994c', 'Rv2009', 'Rv2011c', 'Rv2017', 'Rv2021c',\n",
       "       'Rv2034', 'Rv2069', 'Rv2250c', 'Rv2282c', 'Rv2324', 'Rv2359',\n",
       "       'Rv2374c', 'Rv2488c', 'Rv2506', 'Rv2595', 'Rv2610c', 'Rv2640c',\n",
       "       'Rv2642', 'Rv2745c', 'Rv2760c', 'Rv2779c', 'Rv2788', 'Rv2827c',\n",
       "       'Rv2887', 'Rv2912c', 'Rv2989', 'Rv3050c', 'Rv3058c', 'Rv3066',\n",
       "       'Rv3082c', 'Rv3095', 'Rv3124', 'Rv3133c', 'Rv3160c', 'Rv3164c',\n",
       "       'Rv3167c', 'Rv3173c', 'Rv3183', 'Rv3219', 'Rv3223c', 'Rv3246c',\n",
       "       'Rv3249c', 'Rv3260c', 'Rv3286c', 'Rv3291c', 'Rv3405c', 'Rv3414c',\n",
       "       'Rv3416', 'Rv3417c', 'Rv3488', 'Rv3557c', 'Rv3574', 'Rv3597c',\n",
       "       'Rv3676', 'Rv3681c', 'Rv3736', 'Rv3744', 'Rv3765c', 'Rv3830c',\n",
       "       'Rv3833', 'Rv3849', 'Rv3855', 'Rv3862c', 'Rv3911'], dtype=object)"
      ]
     },
     "execution_count": 11,
     "metadata": {},
     "output_type": "execute_result"
    }
   ],
   "source": [
    "dct_genes.keys()\n"
   ]
  },
  {
   "cell_type": "code",
   "execution_count": 26,
   "metadata": {},
   "outputs": [
    {
     "data": {
      "text/plain": [
       "Text(0.5, 1.0, 'CDF of Outgoing Arcs')"
      ]
     },
     "execution_count": 26,
     "metadata": {},
     "output_type": "execute_result"
    },
    {
     "data": {
      "image/png": "[encoded data removed]",
      "text/plain": [
       "<Figure size 432x288 with 1 Axes>"
      ]
     },
     "metadata": {
      "needs_background": "light"
     },
     "output_type": "display_data"
    }
   ],
   "source": [
    "# Number of out-going arcs for modules\n",
    "dct = PROVIDER.df_trn_unsigned.groupby(cn.TF).groups\n",
    "dct_genes = {k: PROVIDER.df_trn_unsigned.loc[dct[k], cn.GENE_ID].values for k in dct.keys()}\n",
    "tfs = PROVIDER.df_trn_unsigned[cn.TF].unique()\n",
    "dct_size = {}\n",
    "for key in dct_genes.keys():\n",
    "    count = 0\n",
    "    for tf in dct_genes.keys():\n",
    "        if key in dct_genes[tf]:\n",
    "            count += 1\n",
    "    dct_size[key] = count\n",
    "\n",
    "# Plot\n",
    "ser = pd.Series(dct_size)\n",
    "xv = [v / len(ser) for v in range(len(ser))]\n",
    "ser = ser.sort_values(ascending=True)\n",
    "#plt.hist(ser.values, bins=xv)\n",
    "plt.plot(ser, xv)\n",
    "plt.ylabel(\"Frac modules\")\n",
    "plt.xlabel(\"No. outgoing arcs\")\n",
    "plt.title(\"CDF of Outgoing Arcs\") "
   ]
  },
  {
   "cell_type": "code",
   "execution_count": 24,
   "metadata": {},
   "outputs": [
    {
     "data": {
      "text/plain": [
       "pandas.core.series.Series"
      ]
     },
     "execution_count": 24,
     "metadata": {},
     "output_type": "execute_result"
    }
   ],
   "source": [
    "type(dct_genes['Rv0022c'])"
   ]
  },
  {
   "cell_type": "code",
   "execution_count": null,
   "metadata": {},
   "outputs": [],
   "source": [
    "count = len(PROVIDER.df_trn_unsigned.groupby(cn.TF))\n",
    "print(\"Number of modules: %d\" % count)"
   ]
  },
  {
   "cell_type": "markdown",
   "metadata": {},
   "source": [
    "## Visualize Network Relationships\n",
    "Use networkx to plot the relationship between networks. Network $N_1$ precedes $N_2$ if the TF for $N_2$ is in $N_1$. Networks are labelled by their TF."
   ]
  }
 ],
 "metadata": {
  "kernelspec": {
   "display_name": "Python 3",
   "language": "python",
   "name": "python3"
  },
  "language_info": {
   "codemirror_mode": {
    "name": "ipython",
    "version": 3
   },
   "file_extension": ".py",
   "mimetype": "text/x-python",
   "name": "python",
   "nbconvert_exporter": "python",
   "pygments_lexer": "ipython3",
   "version": "3.8.1"
  }
 },
 "nbformat": 4,
 "nbformat_minor": 4
}
