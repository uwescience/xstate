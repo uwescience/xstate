{
 "cells": [
  {
   "cell_type": "markdown",
   "metadata": {},
   "source": [
    "# Analysis of Features by Classification Accuracy"
   ]
  },
  {
   "cell_type": "code",
   "execution_count": 1,
   "metadata": {},
   "outputs": [],
   "source": [
    "import init\n",
    "import common.constants as cn\n",
    "from common.trinary_data import TrinaryData\n",
    "import classifier.main_multi_classifier_feature_optimizer as main\n",
    "from common.data_provider import DataProvider\n",
    "from common_python.plots import util_plots\n",
    "from plots import util_plots as xutil_plots\n",
    "\n",
    "import os\n",
    "import matplotlib.pyplot as plt\n",
    "import numpy as np\n",
    "import pandas as pd\n",
    "\n",
    "%matplotlib inline"
   ]
  },
  {
   "cell_type": "code",
   "execution_count": 2,
   "metadata": {},
   "outputs": [],
   "source": [
    "fit_result_dct = main.getFitResultFromPersister()"
   ]
  },
  {
   "cell_type": "code",
   "execution_count": 3,
   "metadata": {},
   "outputs": [
    {
     "name": "stdout",
     "output_type": "stream",
     "text": [
      "0: [1, 1, 1, 2, 2, 3, 2, 3, 2, 2, 4, 3, 2, 5, 3]\n",
      "   [1.0, 1.0, 0.85, 1.0, 1.0, 0.79, 1.0, 0.88, 1.0, 0.85, 0.99, 1.0, 0.87, 0.82, 1.0]\n",
      "1: [1, 1, 2, 2, 5, 5, 2, 4, 2, 2, 2, 2, 5, 1, 6]\n",
      "   [0.945, 0.98, 0.96, 0.94, 0.965, 0.97, 0.955, 0.995, 0.99, 0.955, 0.925, 0.96, 0.965, 0.945, 0.935]\n",
      "2: [1, 1, 1, 1, 1, 1, 2, 1, 1, 1, 1, 1, 1, 1, 1]\n",
      "   [0.935, 0.855, 0.855, 0.815, 0.87, 0.855, 0.86, 0.865, 0.885, 0.86, 0.84, 0.865, 0.885, 0.865, 0.835]\n",
      "3: [2, 3, 3, 2, 2, 3, 2, 5, 2, 2, 1, 2, 2, 2, 4]\n",
      "   [1.0, 0.93, 0.98, 0.985, 0.98, 0.975, 0.97, 0.89, 0.92, 0.945, 0.945, 0.905, 0.965, 0.91, 0.98]\n",
      "4: [1, 1, 1]\n",
      "   [0.935, 0.795, 0.91]\n"
     ]
    }
   ],
   "source": [
    "for cl in fit_result_dct.keys():\n",
    "    length_stg = str([len(fr.sels) for fr in fit_result_dct[cl]])\n",
    "    score_stg = str([fr.sels_score for fr in fit_result_dct[cl]])\n",
    "    print(\"%d: %s\\n   %s\" % (cl, length_stg, score_stg))"
   ]
  }
 ],
 "metadata": {
  "kernelspec": {
   "display_name": "Python 3",
   "language": "python",
   "name": "python3"
  },
  "language_info": {
   "codemirror_mode": {
    "name": "ipython",
    "version": 3
   },
   "file_extension": ".py",
   "mimetype": "text/x-python",
   "name": "python",
   "nbconvert_exporter": "python",
   "pygments_lexer": "ipython3",
   "version": "3.8.1"
  }
 },
 "nbformat": 4,
 "nbformat_minor": 4
}
