{
 "cells": [
  {
   "cell_type": "markdown",
   "metadata": {},
   "source": [
    "# Analysis of Features by Classification Accuracy"
   ]
  },
  {
   "cell_type": "code",
   "execution_count": 1,
   "metadata": {},
   "outputs": [],
   "source": [
    "import init\n",
    "import common.constants as cn\n",
    "from common.trinary_data import TrinaryData\n",
    "import classifier.main_multi_classifier_feature_optimizer as main\n",
    "from common.data_provider import DataProvider\n",
    "from common_python.plots import util_plots\n",
    "from plots import util_plots as xutil_plots\n",
    "\n",
    "import os\n",
    "import matplotlib.pyplot as plt\n",
    "import numpy as np\n",
    "import pandas as pd\n",
    "\n",
    "%matplotlib inline"
   ]
  },
  {
   "cell_type": "code",
   "execution_count": 2,
   "metadata": {},
   "outputs": [],
   "source": [
    "fit_result_dct = main.getFitResultFromPersister()"
   ]
  },
  {
   "cell_type": "code",
   "execution_count": 3,
   "metadata": {},
   "outputs": [
    {
     "name": "stdout",
     "output_type": "stream",
     "text": [
      "0: [1, 1, 3, 2, 2, 2, 2, 2, 2]\n",
      "   [1.0, 1.0, 0.9933333333333333, 1.0, 1.0, 1.0, 0.8433333333333334, 1.0, 0.87]\n",
      "   [1, 1, 117, 7, 8, 24, 23, 324, 34]\n"
     ]
    }
   ],
   "source": [
    "for cl in fit_result_dct.keys():\n",
    "    length_stg = str([len(fr.sels) for fr in fit_result_dct[cl]])\n",
    "    score_stg = str([fr.sels_score for fr in fit_result_dct[cl]])\n",
    "    n_eval_stg = str([fr.n_eval for fr in fit_result_dct[cl]])\n",
    "    print(\"%d: %s\\n   %s\\n   %s\" % (cl, length_stg, score_stg, n_eval_stg))"
   ]
  }
 ],
 "metadata": {
  "kernelspec": {
   "display_name": "Python 3",
   "language": "python",
   "name": "python3"
  },
  "language_info": {
   "codemirror_mode": {
    "name": "ipython",
    "version": 3
   },
   "file_extension": ".py",
   "mimetype": "text/x-python",
   "name": "python",
   "nbconvert_exporter": "python",
   "pygments_lexer": "ipython3",
   "version": "3.8.1"
  }
 },
 "nbformat": 4,
 "nbformat_minor": 4
}
