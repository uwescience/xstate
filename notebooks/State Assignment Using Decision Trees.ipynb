{
 "cells": [
  {
   "cell_type": "markdown",
   "metadata": {},
   "source": [
    "# State Assignment Using Decision Trees\n",
    "Explore doing state assignment with decision trees. \n",
    "\n",
    "- Handle small classes by combining classes.\n",
    "- Do crossvalidation\n",
    "- Explore sensitivity to perturbations in the data"
   ]
  },
  {
   "cell_type": "code",
   "execution_count": 1,
   "metadata": {},
   "outputs": [],
   "source": [
    "import init\n",
    "from common import constants as cn\n",
    "from common.data_provider import DataProvider\n",
    "from common import transform_data\n",
    "from common_python.statistics import empirical_distribution_generator, density, multiple_density, util_statistics\n",
    "from common_python.plots import util_plots\n",
    "from plots import util_plots as uplots\n",
    "\n",
    "\n",
    "from sklearn.datasets import load_iris\n",
    "from sklearn.model_selection import cross_val_score\n",
    "from sklearn.tree import DecisionTreeClassifier\n",
    "from sklearn import tree\n",
    "import os\n",
    "import matplotlib.pyplot as plt\n",
    "import numpy as np\n",
    "import pandas as pd\n",
    "import collections\n",
    "import seaborn as sns\n",
    "\n",
    "%matplotlib inline"
   ]
  },
  {
   "cell_type": "markdown",
   "metadata": {},
   "source": [
    "## Generate Classification Data\n",
    "\n",
    "1. T0 is eliminated\n",
    "1. Normoxia is combined with Resuscitation (because of small number of Normoxia)\n",
    "1. Perfectly correlated genes are combined"
   ]
  },
  {
   "cell_type": "code",
   "execution_count": 2,
   "metadata": {},
   "outputs": [
    {
     "data": {
      "text/plain": [
       "2582"
      ]
     },
     "execution_count": 2,
     "metadata": {},
     "output_type": "execute_result"
    }
   ],
   "source": [
    "provider = DataProvider()\n",
    "provider.do()\n",
    "len(provider.df_normalized)"
   ]
  },
  {
   "cell_type": "code",
   "execution_count": 3,
   "metadata": {},
   "outputs": [
    {
     "data": {
      "text/html": [
       "<div>\n",
       "<style scoped>\n",
       "    .dataframe tbody tr th:only-of-type {\n",
       "        vertical-align: middle;\n",
       "    }\n",
       "\n",
       "    .dataframe tbody tr th {\n",
       "        vertical-align: top;\n",
       "    }\n",
       "\n",
       "    .dataframe thead th {\n",
       "        text-align: right;\n",
       "    }\n",
       "</style>\n",
       "<table border=\"1\" class=\"dataframe\">\n",
       "  <thead>\n",
       "    <tr style=\"text-align: right;\">\n",
       "      <th></th>\n",
       "      <th>0</th>\n",
       "      <th>1</th>\n",
       "      <th>2</th>\n",
       "      <th>3</th>\n",
       "      <th>4</th>\n",
       "      <th>5</th>\n",
       "      <th>6</th>\n",
       "      <th>7</th>\n",
       "      <th>8</th>\n",
       "      <th>9</th>\n",
       "      <th>...</th>\n",
       "      <th>1505</th>\n",
       "      <th>1506</th>\n",
       "      <th>1507</th>\n",
       "      <th>1508</th>\n",
       "      <th>1509</th>\n",
       "      <th>1510</th>\n",
       "      <th>1511</th>\n",
       "      <th>1512</th>\n",
       "      <th>1513</th>\n",
       "      <th>1514</th>\n",
       "    </tr>\n",
       "  </thead>\n",
       "  <tbody>\n",
       "    <tr>\n",
       "      <th>T1</th>\n",
       "      <td>-1</td>\n",
       "      <td>-1</td>\n",
       "      <td>-1</td>\n",
       "      <td>-1</td>\n",
       "      <td>-1</td>\n",
       "      <td>-1</td>\n",
       "      <td>-1</td>\n",
       "      <td>-1</td>\n",
       "      <td>-1</td>\n",
       "      <td>-1</td>\n",
       "      <td>...</td>\n",
       "      <td>1</td>\n",
       "      <td>1</td>\n",
       "      <td>1</td>\n",
       "      <td>1</td>\n",
       "      <td>1</td>\n",
       "      <td>1</td>\n",
       "      <td>1</td>\n",
       "      <td>1</td>\n",
       "      <td>1</td>\n",
       "      <td>1</td>\n",
       "    </tr>\n",
       "    <tr>\n",
       "      <th>T2</th>\n",
       "      <td>-1</td>\n",
       "      <td>-1</td>\n",
       "      <td>-1</td>\n",
       "      <td>-1</td>\n",
       "      <td>-1</td>\n",
       "      <td>-1</td>\n",
       "      <td>-1</td>\n",
       "      <td>-1</td>\n",
       "      <td>-1</td>\n",
       "      <td>-1</td>\n",
       "      <td>...</td>\n",
       "      <td>1</td>\n",
       "      <td>1</td>\n",
       "      <td>1</td>\n",
       "      <td>1</td>\n",
       "      <td>1</td>\n",
       "      <td>1</td>\n",
       "      <td>1</td>\n",
       "      <td>1</td>\n",
       "      <td>1</td>\n",
       "      <td>1</td>\n",
       "    </tr>\n",
       "    <tr>\n",
       "      <th>T3</th>\n",
       "      <td>-1</td>\n",
       "      <td>-1</td>\n",
       "      <td>-1</td>\n",
       "      <td>-1</td>\n",
       "      <td>-1</td>\n",
       "      <td>-1</td>\n",
       "      <td>-1</td>\n",
       "      <td>-1</td>\n",
       "      <td>-1</td>\n",
       "      <td>-1</td>\n",
       "      <td>...</td>\n",
       "      <td>1</td>\n",
       "      <td>1</td>\n",
       "      <td>1</td>\n",
       "      <td>1</td>\n",
       "      <td>1</td>\n",
       "      <td>1</td>\n",
       "      <td>1</td>\n",
       "      <td>1</td>\n",
       "      <td>1</td>\n",
       "      <td>1</td>\n",
       "    </tr>\n",
       "    <tr>\n",
       "      <th>T4</th>\n",
       "      <td>-1</td>\n",
       "      <td>-1</td>\n",
       "      <td>-1</td>\n",
       "      <td>-1</td>\n",
       "      <td>-1</td>\n",
       "      <td>-1</td>\n",
       "      <td>-1</td>\n",
       "      <td>-1</td>\n",
       "      <td>-1</td>\n",
       "      <td>-1</td>\n",
       "      <td>...</td>\n",
       "      <td>1</td>\n",
       "      <td>1</td>\n",
       "      <td>1</td>\n",
       "      <td>1</td>\n",
       "      <td>1</td>\n",
       "      <td>1</td>\n",
       "      <td>1</td>\n",
       "      <td>1</td>\n",
       "      <td>1</td>\n",
       "      <td>1</td>\n",
       "    </tr>\n",
       "    <tr>\n",
       "      <th>T5</th>\n",
       "      <td>-1</td>\n",
       "      <td>-1</td>\n",
       "      <td>-1</td>\n",
       "      <td>-1</td>\n",
       "      <td>-1</td>\n",
       "      <td>-1</td>\n",
       "      <td>-1</td>\n",
       "      <td>-1</td>\n",
       "      <td>-1</td>\n",
       "      <td>-1</td>\n",
       "      <td>...</td>\n",
       "      <td>1</td>\n",
       "      <td>1</td>\n",
       "      <td>1</td>\n",
       "      <td>1</td>\n",
       "      <td>1</td>\n",
       "      <td>1</td>\n",
       "      <td>1</td>\n",
       "      <td>1</td>\n",
       "      <td>1</td>\n",
       "      <td>1</td>\n",
       "    </tr>\n",
       "  </tbody>\n",
       "</table>\n",
       "<p>5 rows × 1515 columns</p>\n",
       "</div>"
      ],
      "text/plain": [
       "    0     1     2     3     4     5     6     7     8     9     ...   1505  \\\n",
       "T1    -1    -1    -1    -1    -1    -1    -1    -1    -1    -1  ...      1   \n",
       "T2    -1    -1    -1    -1    -1    -1    -1    -1    -1    -1  ...      1   \n",
       "T3    -1    -1    -1    -1    -1    -1    -1    -1    -1    -1  ...      1   \n",
       "T4    -1    -1    -1    -1    -1    -1    -1    -1    -1    -1  ...      1   \n",
       "T5    -1    -1    -1    -1    -1    -1    -1    -1    -1    -1  ...      1   \n",
       "\n",
       "    1506  1507  1508  1509  1510  1511  1512  1513  1514  \n",
       "T1     1     1     1     1     1     1     1     1     1  \n",
       "T2     1     1     1     1     1     1     1     1     1  \n",
       "T3     1     1     1     1     1     1     1     1     1  \n",
       "T4     1     1     1     1     1     1     1     1     1  \n",
       "T5     1     1     1     1     1     1     1     1     1  \n",
       "\n",
       "[5 rows x 1515 columns]"
      ]
     },
     "execution_count": 3,
     "metadata": {},
     "output_type": "execute_result"
    }
   ],
   "source": [
    "# Geenrate the feature data\n",
    "def makeFeatureDF(provider):\n",
    "    df_Xdata = transform_data.aggregateGenes(provider=provider)\n",
    "    df_Xdata = df_Xdata.T\n",
    "    df_Xdata = df_Xdata.drop(index=\"T0\")\n",
    "    data_features = df_Xdata.columns\n",
    "    df_Xdata.columns = range(len(data_features))\n",
    "    return df_Xdata\n",
    "\n",
    "def makeFeatureColumns(provider):\n",
    "    df_X = transform_data.aggregateGenes(provider=provider)\n",
    "    df_X = df_X.T\n",
    "    return df_X.columns.tolist()\n",
    "\n",
    "\n",
    "df_Xdata = makeFeatureDF(provider)\n",
    "df_Xdata.head()"
   ]
  },
  {
   "cell_type": "markdown",
   "metadata": {},
   "source": [
    "There are only two Noroxia states, one of which is a reference state. So, for the class data, we combine\n",
    "Noroxia with Resusitation."
   ]
  },
  {
   "cell_type": "code",
   "execution_count": 4,
   "metadata": {},
   "outputs": [],
   "source": [
    "# Prepare the state data\n",
    "def makeClassSer(provider):\n",
    "    ser_state = provider.df_stage_matrix[cn.STAGE_NAME]\n",
    "    ser_state = ser_state.drop(index=\"T0\")\n",
    "    ser_state = ser_state.copy()\n",
    "    ser_state[ser_state == 'Normoxia'] = 'Resuscitation'\n",
    "    # Create converter from state name to numeric index\n",
    "    states = ser_state.unique()\n",
    "    state_dict = {k: v for v, k in enumerate(states)}\n",
    "    ser = ser_state.apply(lambda k: state_dict[k] )\n",
    "    return ser\n",
    "ser_Ydata = makeClassSer(provider)"
   ]
  },
  {
   "cell_type": "markdown",
   "metadata": {},
   "source": [
    "## Common Codes"
   ]
  },
  {
   "cell_type": "code",
   "execution_count": null,
   "metadata": {},
   "outputs": [],
   "source": [
    "# View the tree\n",
    "def viewTree(df_X, ser_Y):\n",
    "    dtree = tree.DecisionTreeClassifier(criterion = \"entropy\")\n",
    "    dtree = dtree.fit(df_X, ser_Y)\n",
    "    with open(\"dtree.dot\", 'w') as fd:\n",
    "        dotfile = tree.export_graphviz(dtree, out_file = fd, feature_names = df_X.columns)\n",
    "    !dot -Tpng dtree.dot -o dtree.png"
   ]
  },
  {
   "cell_type": "markdown",
   "metadata": {},
   "source": [
    "## sklearn Decision Trees"
   ]
  },
  {
   "cell_type": "code",
   "execution_count": null,
   "metadata": {},
   "outputs": [
    {
     "data": {
      "text/plain": [
       "array([1.        , 0.93333333, 1.        , 0.93333333, 0.93333333,\n",
       "       0.86666667, 0.93333333, 1.        , 1.        , 1.        ])"
      ]
     },
     "execution_count": 6,
     "metadata": {},
     "output_type": "execute_result"
    }
   ],
   "source": [
    "clf = DecisionTreeClassifier(random_state=0)\n",
    "iris = load_iris()\n",
    "cross_val_score(clf, iris.data, iris.target, cv=10)"
   ]
  },
  {
   "cell_type": "code",
   "execution_count": null,
   "metadata": {},
   "outputs": [
    {
     "data": {
      "text/plain": [
       "numpy.ndarray"
      ]
     },
     "execution_count": 7,
     "metadata": {},
     "output_type": "execute_result"
    }
   ],
   "source": [
    "type(iris.data)"
   ]
  },
  {
   "cell_type": "code",
   "execution_count": null,
   "metadata": {},
   "outputs": [
    {
     "data": {
      "text/plain": [
       "array([0, 0, 0, 0, 0, 0, 0, 0, 0, 0, 0, 0, 0, 0, 0, 0, 0, 0, 0, 0, 0, 0,\n",
       "       0, 0, 0, 0, 0, 0, 0, 0, 0, 0, 0, 0, 0, 0, 0, 0, 0, 0, 0, 0, 0, 0,\n",
       "       0, 0, 0, 0, 0, 0, 1, 1, 1, 1, 1, 1, 1, 1, 1, 1, 1, 1, 1, 1, 1, 1,\n",
       "       1, 1, 1, 1, 1, 1, 1, 1, 1, 1, 1, 1, 1, 1, 1, 1, 1, 1, 1, 1, 1, 1,\n",
       "       1, 1, 1, 1, 1, 1, 1, 1, 1, 1, 1, 1, 2, 2, 2, 2, 2, 2, 2, 2, 2, 2,\n",
       "       2, 2, 2, 2, 2, 2, 2, 2, 2, 2, 2, 2, 2, 2, 2, 2, 2, 2, 2, 2, 2, 2,\n",
       "       2, 2, 2, 2, 2, 2, 2, 2, 2, 2, 2, 2, 2, 2, 2, 2, 2, 2])"
      ]
     },
     "execution_count": 8,
     "metadata": {},
     "output_type": "execute_result"
    }
   ],
   "source": [
    "iris.target"
   ]
  },
  {
   "cell_type": "code",
   "execution_count": null,
   "metadata": {},
   "outputs": [],
   "source": [
    "# A different approach. Using dot directly.\n",
    "from pandas import read_csv, DataFrame\n",
    "from sklearn import tree\n",
    "from os import system\n",
    "\n",
    "Y = iris.target\n",
    "X = pd.DataFrame(iris.data)\n",
    "\n",
    "dtree = tree.DecisionTreeClassifier(criterion = \"entropy\")\n",
    "dtree = dtree.fit(X, Y)\n",
    "\n",
    "with open(\"dtree.dot\", 'w') as fd:\n",
    "    dotfile = tree.export_graphviz(dtree, out_file = fd, feature_names = X.columns)\n",
    "!dot -Tpng dtree.dot -o dtree.png\n",
    "#system(\"firefox file:///%s/dtree.png\" % os.getcwd() )"
   ]
  },
  {
   "cell_type": "markdown",
   "metadata": {},
   "source": [
    "<img src=\"dtree.png\"> "
   ]
  },
  {
   "cell_type": "markdown",
   "metadata": {},
   "source": [
    "## Covariance Structure of Features"
   ]
  },
  {
   "cell_type": "code",
   "execution_count": null,
   "metadata": {},
   "outputs": [
    {
     "data": {
      "text/html": [
       "<div>\n",
       "<style scoped>\n",
       "    .dataframe tbody tr th:only-of-type {\n",
       "        vertical-align: middle;\n",
       "    }\n",
       "\n",
       "    .dataframe tbody tr th {\n",
       "        vertical-align: top;\n",
       "    }\n",
       "\n",
       "    .dataframe thead th {\n",
       "        text-align: right;\n",
       "    }\n",
       "</style>\n",
       "<table border=\"1\" class=\"dataframe\">\n",
       "  <thead>\n",
       "    <tr style=\"text-align: right;\">\n",
       "      <th></th>\n",
       "      <th>0</th>\n",
       "      <th>1</th>\n",
       "      <th>2</th>\n",
       "      <th>3</th>\n",
       "      <th>4</th>\n",
       "      <th>5</th>\n",
       "      <th>6</th>\n",
       "      <th>7</th>\n",
       "      <th>8</th>\n",
       "      <th>9</th>\n",
       "      <th>...</th>\n",
       "      <th>1505</th>\n",
       "      <th>1506</th>\n",
       "      <th>1507</th>\n",
       "      <th>1508</th>\n",
       "      <th>1509</th>\n",
       "      <th>1510</th>\n",
       "      <th>1511</th>\n",
       "      <th>1512</th>\n",
       "      <th>1513</th>\n",
       "      <th>1514</th>\n",
       "    </tr>\n",
       "  </thead>\n",
       "  <tbody>\n",
       "    <tr>\n",
       "      <th>T1</th>\n",
       "      <td>-1</td>\n",
       "      <td>-1</td>\n",
       "      <td>-1</td>\n",
       "      <td>-1</td>\n",
       "      <td>-1</td>\n",
       "      <td>-1</td>\n",
       "      <td>-1</td>\n",
       "      <td>-1</td>\n",
       "      <td>-1</td>\n",
       "      <td>-1</td>\n",
       "      <td>...</td>\n",
       "      <td>1</td>\n",
       "      <td>1</td>\n",
       "      <td>1</td>\n",
       "      <td>1</td>\n",
       "      <td>1</td>\n",
       "      <td>1</td>\n",
       "      <td>1</td>\n",
       "      <td>1</td>\n",
       "      <td>1</td>\n",
       "      <td>1</td>\n",
       "    </tr>\n",
       "    <tr>\n",
       "      <th>T2</th>\n",
       "      <td>-1</td>\n",
       "      <td>-1</td>\n",
       "      <td>-1</td>\n",
       "      <td>-1</td>\n",
       "      <td>-1</td>\n",
       "      <td>-1</td>\n",
       "      <td>-1</td>\n",
       "      <td>-1</td>\n",
       "      <td>-1</td>\n",
       "      <td>-1</td>\n",
       "      <td>...</td>\n",
       "      <td>1</td>\n",
       "      <td>1</td>\n",
       "      <td>1</td>\n",
       "      <td>1</td>\n",
       "      <td>1</td>\n",
       "      <td>1</td>\n",
       "      <td>1</td>\n",
       "      <td>1</td>\n",
       "      <td>1</td>\n",
       "      <td>1</td>\n",
       "    </tr>\n",
       "    <tr>\n",
       "      <th>T3</th>\n",
       "      <td>-1</td>\n",
       "      <td>-1</td>\n",
       "      <td>-1</td>\n",
       "      <td>-1</td>\n",
       "      <td>-1</td>\n",
       "      <td>-1</td>\n",
       "      <td>-1</td>\n",
       "      <td>-1</td>\n",
       "      <td>-1</td>\n",
       "      <td>-1</td>\n",
       "      <td>...</td>\n",
       "      <td>1</td>\n",
       "      <td>1</td>\n",
       "      <td>1</td>\n",
       "      <td>1</td>\n",
       "      <td>1</td>\n",
       "      <td>1</td>\n",
       "      <td>1</td>\n",
       "      <td>1</td>\n",
       "      <td>1</td>\n",
       "      <td>1</td>\n",
       "    </tr>\n",
       "    <tr>\n",
       "      <th>T4</th>\n",
       "      <td>-1</td>\n",
       "      <td>-1</td>\n",
       "      <td>-1</td>\n",
       "      <td>-1</td>\n",
       "      <td>-1</td>\n",
       "      <td>-1</td>\n",
       "      <td>-1</td>\n",
       "      <td>-1</td>\n",
       "      <td>-1</td>\n",
       "      <td>-1</td>\n",
       "      <td>...</td>\n",
       "      <td>1</td>\n",
       "      <td>1</td>\n",
       "      <td>1</td>\n",
       "      <td>1</td>\n",
       "      <td>1</td>\n",
       "      <td>1</td>\n",
       "      <td>1</td>\n",
       "      <td>1</td>\n",
       "      <td>1</td>\n",
       "      <td>1</td>\n",
       "    </tr>\n",
       "    <tr>\n",
       "      <th>T5</th>\n",
       "      <td>-1</td>\n",
       "      <td>-1</td>\n",
       "      <td>-1</td>\n",
       "      <td>-1</td>\n",
       "      <td>-1</td>\n",
       "      <td>-1</td>\n",
       "      <td>-1</td>\n",
       "      <td>-1</td>\n",
       "      <td>-1</td>\n",
       "      <td>-1</td>\n",
       "      <td>...</td>\n",
       "      <td>1</td>\n",
       "      <td>1</td>\n",
       "      <td>1</td>\n",
       "      <td>1</td>\n",
       "      <td>1</td>\n",
       "      <td>1</td>\n",
       "      <td>1</td>\n",
       "      <td>1</td>\n",
       "      <td>1</td>\n",
       "      <td>1</td>\n",
       "    </tr>\n",
       "  </tbody>\n",
       "</table>\n",
       "<p>5 rows × 1515 columns</p>\n",
       "</div>"
      ],
      "text/plain": [
       "    0     1     2     3     4     5     6     7     8     9     ...   1505  \\\n",
       "T1    -1    -1    -1    -1    -1    -1    -1    -1    -1    -1  ...      1   \n",
       "T2    -1    -1    -1    -1    -1    -1    -1    -1    -1    -1  ...      1   \n",
       "T3    -1    -1    -1    -1    -1    -1    -1    -1    -1    -1  ...      1   \n",
       "T4    -1    -1    -1    -1    -1    -1    -1    -1    -1    -1  ...      1   \n",
       "T5    -1    -1    -1    -1    -1    -1    -1    -1    -1    -1  ...      1   \n",
       "\n",
       "    1506  1507  1508  1509  1510  1511  1512  1513  1514  \n",
       "T1     1     1     1     1     1     1     1     1     1  \n",
       "T2     1     1     1     1     1     1     1     1     1  \n",
       "T3     1     1     1     1     1     1     1     1     1  \n",
       "T4     1     1     1     1     1     1     1     1     1  \n",
       "T5     1     1     1     1     1     1     1     1     1  \n",
       "\n",
       "[5 rows x 1515 columns]"
      ]
     },
     "execution_count": 10,
     "metadata": {},
     "output_type": "execute_result"
    }
   ],
   "source": [
    "df_data = makeFeatureDF(provider)\n",
    "df_data.head()"
   ]
  },
  {
   "cell_type": "code",
   "execution_count": null,
   "metadata": {},
   "outputs": [
    {
     "data": {
      "image/png": "[encoded data removed]",
      "text/plain": [
       "<Figure size 1152x720 with 2 Axes>"
      ]
     },
     "metadata": {
      "needs_background": "light"
     },
     "output_type": "display_data"
    }
   ],
   "source": [
    "uplots.plotClusteredHeatmap(provider=provider)"
   ]
  },
  {
   "cell_type": "code",
   "execution_count": null,
   "metadata": {},
   "outputs": [],
   "source": [
    "df_corr = df_data.corr()\n",
    "df_corr = df_corr.applymap(lambda v: 0 if np.isnan(v) else v)\n",
    "cg = sns.clustermap(df_corr, cbar_kws={\"ticks\":[-1,1]}, cmap=\"jet\")"
   ]
  },
  {
   "cell_type": "markdown",
   "metadata": {},
   "source": [
    "## Decision Tree for Expression Data"
   ]
  },
  {
   "cell_type": "code",
   "execution_count": null,
   "metadata": {},
   "outputs": [],
   "source": [
    "clf = DecisionTreeClassifier(random_state=0)\n",
    "results = cross_val_score(clf, makeFeatureDF(provider), makeClassSer(provider), cv=3)\n",
    "print(\"Mean: %f\\nStd: %f\" % (np.mean(results), np.std(results)))"
   ]
  },
  {
   "cell_type": "code",
   "execution_count": null,
   "metadata": {},
   "outputs": [],
   "source": [
    "viewTree(df_Xdata, ser_Ydata)"
   ]
  },
  {
   "cell_type": "markdown",
   "metadata": {},
   "source": [
    "The gene groups used in the resulting tree are listed below."
   ]
  },
  {
   "cell_type": "code",
   "execution_count": null,
   "metadata": {},
   "outputs": [],
   "source": [
    "gene_groups = [109,616, 218, 1087]\n",
    "features = makeFeatureColumns(provider)\n",
    "for group in gene_groups:\n",
    "    print(features[group])"
   ]
  },
  {
   "cell_type": "code",
   "execution_count": null,
   "metadata": {},
   "outputs": [],
   "source": [
    "len(makeFeatureColumns(provider))"
   ]
  },
  {
   "cell_type": "code",
   "execution_count": null,
   "metadata": {},
   "outputs": [],
   "source": [
    "gene_groups = [109,616, 218, 1087]\n",
    "features = makeFeatureColumns(provider)\n",
    "df_plot =  transform_data.aggregateGenes(provider=provider)\n",
    "df_plot = df_plot.drop(columns=[\"T0\"])\n",
    "column_names = [features[g] for g in gene_groups]\n",
    "df_plot = df_plot.T\n",
    "df_plot = df_plot[column_names]\n",
    "df_plot = df_plot.copy()\n",
    "df_plot = df_plot.T\n",
    "df_plot.columns = [c.replace(\"T\",\"\") for c in df_plot.columns]\n",
    "df_plot.columns = [\"\" if int(c) % 2 == 0 else c for c in df_plot.columns]\n",
    "df_plot.head()"
   ]
  },
  {
   "cell_type": "code",
   "execution_count": null,
   "metadata": {},
   "outputs": [],
   "source": [
    "df_dtgenes = pd.DataFrame({'num': gene_groups, 'name': column_names})"
   ]
  },
  {
   "cell_type": "code",
   "execution_count": null,
   "metadata": {},
   "outputs": [],
   "source": [
    "\n",
    "#df_plot = df_plot.applymap(lambda v: np.nan if np.isclose(v, 0) else v)\n",
    "ax = uplots.plotStateTransitions(is_plot=False, ex_timepoints=[\"T0\"], color=\"black\")\n",
    "ax.set_ylim((0,4))\n",
    "_ = util_plots.plotCategoricalHeatmap(df_plot, ax = ax, ymax=len(df_plot), xoffset=0)\n",
    "\n"
   ]
  },
  {
   "cell_type": "code",
   "execution_count": null,
   "metadata": {},
   "outputs": [],
   "source": [
    "df_plot.head()"
   ]
  },
  {
   "cell_type": "markdown",
   "metadata": {},
   "source": [
    "**Notes**\n",
    "1. Expect few changes in gene expression between adjacent states"
   ]
  },
  {
   "cell_type": "markdown",
   "metadata": {},
   "source": [
    "# Analyze Decorrelated Expression Data"
   ]
  },
  {
   "cell_type": "code",
   "execution_count": null,
   "metadata": {},
   "outputs": [],
   "source": [
    "df_decor = util_statistics.decorrelate(df_Xdata.T)\n",
    "df_Xdata_decor = df_decor.T\n",
    "clf = DecisionTreeClassifier(random_state=0)\n",
    "cross_val_score(clf, df_Xdata_decor, ser_Ydata, cv=3)"
   ]
  },
  {
   "cell_type": "code",
   "execution_count": null,
   "metadata": {},
   "outputs": [],
   "source": [
    "viewTree(df_Xdata_decor, ser_Ydata)"
   ]
  },
  {
   "cell_type": "code",
   "execution_count": null,
   "metadata": {},
   "outputs": [],
   "source": [
    "xvs = []\n",
    "for _ in range(1000):\n",
    "    df_decor = util_statistics.decorrelate(df_Xdata_decor.T)\n",
    "    df_Xdata_decor = df_decor.T\n",
    "    clf = DecisionTreeClassifier(random_state=0)\n",
    "    xvs.append(np.mean(cross_val_score(clf, df_Xdata_decor, ser_Ydata, cv=3)))"
   ]
  },
  {
   "cell_type": "code",
   "execution_count": null,
   "metadata": {},
   "outputs": [],
   "source": [
    "xvs[0:10]"
   ]
  },
  {
   "cell_type": "code",
   "execution_count": null,
   "metadata": {},
   "outputs": [],
   "source": [
    "xvs.sort()\n",
    "yvs = [(1.0*v) / len(xvs) for v in range(len(xvs))]\n",
    "plt.plot(xvs, yvs, [0.8, 0.8], [0, 1], 'r', linestyle='dashed')\n",
    "plt.plot([0.21, 0.21], [0, 1], 'g', linestyle='dashed')\n",
    "plt.xlim(0, 1.0)\n",
    "plt.xlabel(\"Accuracy\")\n",
    "plt.ylabel(\"Probability\")\n",
    "plt.text(0.7, 0.6, \"DT-All\")\n",
    "plt.text(0.35, 0.8, \"Random Classifier\")\n",
    "plt.text(0.16, 0.6, \"q\")"
   ]
  },
  {
   "cell_type": "markdown",
   "metadata": {},
   "source": [
    "**Notes**\n",
    "1. Calculate a distribution of average accuracy for decorrelated data. Plot CDF and show where data lies with std.\n",
    "1. This looks like a logistic distribution centered at the expected accuracy for a random classifier (selects class from the distribution of observed classes)."
   ]
  },
  {
   "cell_type": "markdown",
   "metadata": {},
   "source": [
    "# Effect of Fractional Decorrelations"
   ]
  },
  {
   "cell_type": "markdown",
   "metadata": {},
   "source": [
    "Bug is that I'm sampling X but not keeping the associated Y."
   ]
  },
  {
   "cell_type": "code",
   "execution_count": null,
   "metadata": {},
   "outputs": [],
   "source": [
    "def calcClassificationAccuracy(provider, frac):\n",
    "    \"\"\"\n",
    "    :param float frac: fraction decorrelate\n",
    "    :return float, float: mean, std of classification error\n",
    "    \"\"\"\n",
    "    NUM_REPETITIONS = 20\n",
    "    df_X = makeFeatureDF(provider)\n",
    "    ser_Y = makeClassSer(provider)\n",
    "    generator = empirical_distribution_generator.EmpiricalDistributionGenerator(df_X)\n",
    "    df = generator.synthesize(-1, frac)\n",
    "    means = []\n",
    "    stds = []\n",
    "    for _ in range(NUM_REPETITIONS):\n",
    "        generator = empirical_distribution_generator.EmpiricalDistributionGenerator(df)\n",
    "        df = generator.synthesize(-1, frac)\n",
    "        clf = DecisionTreeClassifier(random_state=0)\n",
    "        accuracies = cross_val_score(clf, df, ser_Y, cv=3)\n",
    "        means.append(np.mean(accuracies))\n",
    "        stds.append(np.std(accuracies) / np.sqrt(len(accuracies)))\n",
    "    return np.mean(means), np.mean(stds)"
   ]
  },
  {
   "cell_type": "code",
   "execution_count": null,
   "metadata": {},
   "outputs": [],
   "source": [
    "calcClassificationAccuracy(provider, 0.02)"
   ]
  },
  {
   "cell_type": "code",
   "execution_count": null,
   "metadata": {},
   "outputs": [],
   "source": [
    "fracs = [0.01*v for v in range(31)]\n",
    "results = []\n",
    "for frac in fracs:\n",
    "    results.append(calcClassificationAccuracy(provider, frac))\n",
    "results"
   ]
  },
  {
   "cell_type": "code",
   "execution_count": null,
   "metadata": {},
   "outputs": [],
   "source": [
    "def calcRandomClassifierAccuracy(ser):\n",
    "    counts = collections.Counter(ser)\n",
    "    probs = [(1.0*v)/len(ser) for v in counts.values()]\n",
    "    return sum(p**2 for p in probs)"
   ]
  },
  {
   "cell_type": "code",
   "execution_count": null,
   "metadata": {},
   "outputs": [],
   "source": [
    "calcRandomClassifierAccuracy(makeClassSer(provider))"
   ]
  },
  {
   "cell_type": "markdown",
   "metadata": {},
   "source": [
    "## Genes Related to DT Genes"
   ]
  },
  {
   "cell_type": "code",
   "execution_count": null,
   "metadata": {},
   "outputs": [],
   "source": [
    "df_data = makeFeatureDF(provider)\n",
    "df_dtgenes"
   ]
  },
  {
   "cell_type": "code",
   "execution_count": null,
   "metadata": {},
   "outputs": [],
   "source": [
    "df_corr = df_data.corr()\n",
    "df_corr = df_corr.applymap(lambda v: 0 if np.isnan(v) else v)\n",
    "df_corr_sub = df_corr[[108, 616, 218, 1087]]\n",
    "df_corr_sub.columns = df_dtgenes[\"name\"]"
   ]
  },
  {
   "cell_type": "code",
   "execution_count": null,
   "metadata": {},
   "outputs": [],
   "source": [
    "df_corr_sub = df_corr_sub.applymap(lambda v: 0 if np.isnan(v) else v)\n",
    "_ = sns.clustermap(df_corr_sub, cbar_kws={\"ticks\":[-1,1]}, cmap=\"jet\")"
   ]
  },
  {
   "cell_type": "code",
   "execution_count": null,
   "metadata": {},
   "outputs": [],
   "source": [
    "_ = sns.clustermap(df_corr, cbar_kws={\"ticks\":[-1,1]}, cmap=\"jet\")my"
   ]
  },
  {
   "cell_type": "markdown",
   "metadata": {},
   "source": [
    "## Interrogating a Decision Tree"
   ]
  },
  {
   "cell_type": "code",
   "execution_count": null,
   "metadata": {},
   "outputs": [],
   "source": [
    "dtree = tree.DecisionTreeClassifier(criterion = \"entropy\")\n",
    "dtree = dtree.fit(makeFeatureDF(provider), makeClassSer(provider))"
   ]
  },
  {
   "cell_type": "code",
   "execution_count": null,
   "metadata": {},
   "outputs": [],
   "source": [
    "dtree.tree_.children_left"
   ]
  },
  {
   "cell_type": "markdown",
   "metadata": {},
   "source": [
    "## Random Forests"
   ]
  },
  {
   "cell_type": "code",
   "execution_count": null,
   "metadata": {},
   "outputs": [],
   "source": [
    "from sklearn.ensemble import RandomForestClassifier\n",
    "from sklearn.datasets import make_classification"
   ]
  },
  {
   "cell_type": "code",
   "execution_count": null,
   "metadata": {},
   "outputs": [],
   "source": [
    "# Try on Iris data\n",
    "X, y = make_classification(n_samples=1000, n_features=4,\n",
    "    n_informative=2, n_redundant=0,\n",
    "    random_state=0, shuffle=False)\n",
    "clf = RandomForestClassifier(n_estimators=100, max_depth=2, random_state=0)\n",
    "clf.fit(X, y)  \n",
    "print(clf.feature_importances_)\n",
    "print(clf.predict([[0, 0, 0, 0]]))"
   ]
  },
  {
   "cell_type": "markdown",
   "metadata": {},
   "source": [
    "# Try on expression data\n",
    "clf = RandomForestClassifier(n_estimators=1000, random_state=0, max_features)\n",
    "clf.fit(makeFeatureDF(provider), makeClassSer(provider))  \n",
    "print(clf.feature_importances_)"
   ]
  },
  {
   "cell_type": "code",
   "execution_count": null,
   "metadata": {},
   "outputs": [],
   "source": [
    "sum([not np.isclose(v,0) for v in clf.feature_importances_])"
   ]
  },
  {
   "cell_type": "code",
   "execution_count": null,
   "metadata": {},
   "outputs": [],
   "source": [
    "importances = list(clf.feature_importances_)\n",
    "importances.sort(reverse=True)\n",
    "xv = [(1.0*v) for v in range(len(importances))]\n",
    "plt.plot(xv, importances)"
   ]
  },
  {
   "cell_type": "code",
   "execution_count": null,
   "metadata": {},
   "outputs": [],
   "source": [
    "columns = makeFeatureColumns(provider)\n",
    "importances = list(clf.feature_importances_)\n",
    "indices = list(np.argsort(importances))\n",
    "indices.reverse()\n",
    "[(columns[indices[n]], importances[indices[n]]) for n in range(10)]"
   ]
  }
 ],
 "metadata": {
  "kernelspec": {
   "display_name": "Python 3",
   "language": "python",
   "name": "python3"
  },
  "language_info": {
   "codemirror_mode": {
    "name": "ipython",
    "version": 3
   },
   "file_extension": ".py",
   "mimetype": "text/x-python",
   "name": "python",
   "nbconvert_exporter": "python",
   "pygments_lexer": "ipython3",
   "version": "3.6.8"
  }
 },
 "nbformat": 4,
 "nbformat_minor": 2
}
