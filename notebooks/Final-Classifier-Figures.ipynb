{
 "cells": [
  {
   "cell_type": "markdown",
   "metadata": {},
   "source": [
    "# CLASSIFICATION OF LAB SAMPLES"
   ]
  },
  {
   "cell_type": "markdown",
   "metadata": {},
   "source": [
    "This notebook contains the figures for the final classifier.\n",
    "The classifier is constructed as follows:\n",
    "\n",
    "* Features: 10 mycbactin genes plus 1 bacterioferritin gene\n",
    "  * Mycobactin: Rv2377c, Rv2378c, Rv2379c, Rv2380c, Rv2381c, Rv2382c, Rv2383c, Rv2384, Rv2385    , Rv2386c\n",
    "  * Bacterioferritin gene: Rv3841 \n",
    "* Counts are averages of 3 replications\n",
    "* Discard T1, the only normoixia timepoint"
   ]
  },
  {
   "cell_type": "markdown",
   "metadata": {},
   "source": [
    "# TO DO"
   ]
  },
  {
   "cell_type": "markdown",
   "metadata": {},
   "source": [
    "# Preliminaries"
   ]
  },
  {
   "cell_type": "markdown",
   "metadata": {},
   "source": [
    "## Imports"
   ]
  },
  {
   "cell_type": "code",
   "execution_count": 1,
   "metadata": {},
   "outputs": [],
   "source": [
    "import init\n",
    "from common import constants as cn\n",
    "from common_python.util import dataframe\n",
    "from tools.make_classification_data import ClassificationData\n",
    "from tools.cross_validation_data import CrossValidationData\n",
    "\n",
    "import copy\n",
    "import matplotlib.pyplot as plt\n",
    "import numpy as np\n",
    "import pandas as pd\n",
    "import sklearn\n",
    "import seaborn as sns\n",
    "\n",
    "%matplotlib inline"
   ]
  },
  {
   "cell_type": "code",
   "execution_count": 2,
   "metadata": {
    "scrolled": true
   },
   "outputs": [],
   "source": [
    "# Add globals\n",
    "names = [\"REF_TYPE_BIOREACTOR\", \"REF_TYPE_POOLED\", \"REF_TYPE_SELF\", \"CLASSIFIER_DCT\",\n",
    "        \"MYCOBACTIN_BACTERIOFERRIN_GENES\",\n",
    "        \"SAMPLE_DCT\", \"TRINARY\", \"STAGE_NAMES\", \"GENE_DCT\", \"DATA_DCT\", \"T0\", \"DF_X_DCT\",\n",
    "        \"SAMPLE_DATA_DCT\", \"STAGE_NAMES\"]\n",
    "data = ClassificationData()\n",
    "NAMESPACE_DCT = data.getDct()\n",
    "for name in names:\n",
    "    stmt = \"%s = NAMESPACE_DCT['%s']\" % (name, name)\n",
    "    exec(stmt)"
   ]
  },
  {
   "cell_type": "code",
   "execution_count": 3,
   "metadata": {},
   "outputs": [],
   "source": [
    "# Default classifier is the preferred classifier\n",
    "CLASSIFIER = CLASSIFIER_DCT[('pooled', 'mycobactin_bacterioferritin')]"
   ]
  },
  {
   "cell_type": "code",
   "execution_count": 4,
   "metadata": {},
   "outputs": [],
   "source": [
    "DATA_DCT[\"pooled\"].df_X.to_csv(\"pooled.csv\", index=True)"
   ]
  },
  {
   "cell_type": "markdown",
   "metadata": {},
   "source": [
    "## Constants"
   ]
  },
  {
   "cell_type": "markdown",
   "metadata": {},
   "source": [
    "## Helper Functions"
   ]
  },
  {
   "cell_type": "code",
   "execution_count": 5,
   "metadata": {},
   "outputs": [],
   "source": [
    "def evaluateClassifierOnInstances(clf, **kwargs):\n",
    "    clf.evaluateClassifierOnInstances(**kwargs)"
   ]
  },
  {
   "cell_type": "code",
   "execution_count": 6,
   "metadata": {},
   "outputs": [
    {
     "name": "stdout",
     "output_type": "stream",
     "text": [
      "OK!\n"
     ]
    }
   ],
   "source": [
    "def plotSampleData(data_dct, genes= None, is_plot=True):\n",
    "    \"\"\"\n",
    "    Plots trinary values of data for the specified genes.\n",
    "    \n",
    "    Parameters\n",
    "    ----------\n",
    "    data_dct: dict\n",
    "        key: reference type\n",
    "        value: sample dictionary\n",
    "            key: sample name\n",
    "            value: features\n",
    "    genes: list-str\n",
    "    \"\"\"\n",
    "    ref_types = list(data_dct.keys())\n",
    "    sample_names = list(data_dct[ref_types[0]].keys())\n",
    "    for sample_name in sample_names:\n",
    "        for ref_type in ref_types:\n",
    "            df_X = data_dct[ref_type][sample_name]\n",
    "            if genes is None:\n",
    "                genes = list(df_X.columns)\n",
    "            TRINARY.plotExpressionLevels(genes, df_X=df_X, title=ref_type + \", \" + sample_name, is_plot=is_plot)\n",
    "            \n",
    "# Tests\n",
    "plotSampleData(SAMPLE_DCT, genes=MYCOBACTIN_BACTERIOFERRIN_GENES, is_plot=False)\n",
    "print(\"OK!\")"
   ]
  },
  {
   "cell_type": "code",
   "execution_count": 7,
   "metadata": {},
   "outputs": [],
   "source": [
    "def reportSamplePredictions(data_dct):\n",
    "    for name in data_dct.keys():\n",
    "        df_X = data_dct[name]\n",
    "        print(\"\\n%s\" % name)\n",
    "        df_pred = CLASSIFIER.predict(df_X)\n",
    "        new_columns = [STAGE_NAMES[c] for c in df_pred.columns]\n",
    "        df_pred.columns = new_columns\n",
    "        print(df_pred)"
   ]
  },
  {
   "cell_type": "code",
   "execution_count": 8,
   "metadata": {},
   "outputs": [
    {
     "name": "stdout",
     "output_type": "stream",
     "text": [
      "OK!\n"
     ]
    }
   ],
   "source": [
    "def plotAccuracy(genes, title=\"\", selected_stages=None, size=100, is_plot=True, ax=None):\n",
    "    \"\"\"\n",
    "    Plots the accuracy curve for a collection of genes\n",
    "    \n",
    "    Parameters\n",
    "    ----------\n",
    "    genes: list-str\n",
    "    title: str\n",
    "    selected_stages: list-str\n",
    "        Create a binary classifier for just these tages\n",
    "    size: int\n",
    "    is_plot: bol\n",
    "    \"\"\"\n",
    "    if ax is None:\n",
    "        _, ax = plt.subplots(1)\n",
    "    accuracy_dct = {}\n",
    "    #data = mkDataSubset(genes, selected_stages=selected_stages)\n",
    "    data = DATA_DCT[T0].subsetToStates(selected_stages, genes=genes)\n",
    "    ranks = range(1, len(genes) + 1)\n",
    "    for rank in ranks:\n",
    "        accuracy_dct[rank] = CLASSIFIER.crossValidate(\n",
    "            data, num_iter=10, num_holdout=1, filter_high_rank=rank, size=size)\n",
    "    ax.plot(list(accuracy_dct.keys()), list(accuracy_dct.values()), marker=\"o\")\n",
    "    ax.set_ylim([0, 1.1])\n",
    "    _ = ax.set_xlabel(\"No genes in clasifier\")\n",
    "    _ = ax.set_ylabel(\"accuracy\")\n",
    "    ax.set_title(title)\n",
    "    if not is_plot:\n",
    "        plt.close()\n",
    "    return accuracy_dct\n",
    "    \n",
    "# Tests\n",
    "genes = GENE_DCT[\"bacterioferritin\"]\n",
    "accuracy_dct = plotAccuracy(GENE_DCT[\"bacterioferritin\"], title=\", \".join(genes),\n",
    "                            selected_stages=\"StageII\", size=5, is_plot=False)\n",
    "assert(np.isclose(list(accuracy_dct.values())[0], 0.5))\n",
    "print(\"OK!\")"
   ]
  },
  {
   "cell_type": "markdown",
   "metadata": {},
   "source": [
    "# Classification Validations on Training Samples\n",
    "Classify T2-T25 and see if result is same as original class. Use 5-fold cross validation, where there is a holdout for each class and the selection is random.\n"
   ]
  },
  {
   "cell_type": "code",
   "execution_count": 9,
   "metadata": {},
   "outputs": [],
   "source": [
    "# Plot accuracy for the number of genes for each classifier\n",
    "if False:\n",
    "    cv_data = CrossValidationData()\n",
    "    colors = [\"red\", \"brown\", \"blue\", \"black\"]\n",
    "    df_cv_data = cv_data.dataframe\n",
    "    _, ax = plt.subplots(1, figsize=(18, 10))\n",
    "    columns = list(df_cv_data.columns)\n",
    "    keys = [\"%s--%s\" % (k.split(\"--\")[1], k.split(\"--\")[0]) for k in columns]\n",
    "    df_new = df_cv_data.copy()\n",
    "    df_new.columns = keys\n",
    "    keys.sort()\n",
    "    for idx, key in enumerate(keys):\n",
    "        color_idx = idx//2\n",
    "        parts = key.split(\"--\")\n",
    "        yvals = df_new[key].values\n",
    "        ystds = np.sqrt(yvals*(1-yvals)/cv_data.num_clf)\n",
    "        if parts[1] == \"T0\":\n",
    "            linestyle = \"--\"\n",
    "        else:\n",
    "            linestyle = \"-\"\n",
    "        ax.errorbar(range(1, len(yvals)+1), yvals, yerr=ystds, linestyle=linestyle,\n",
    "                    color=colors[color_idx])\n",
    "        ax.set_ylim([0, 1.1])\n",
    "        _ = ax.set_xlabel(\"No genes in clasifier\", fontsize=16)\n",
    "        _ = ax.set_ylabel(\"accuracy\", fontsize=16)\n",
    "    _ = ax.legend(keys)"
   ]
  },
  {
   "cell_type": "markdown",
   "metadata": {},
   "source": [
    "**TODO**: \n",
    "1. Verify values plotted for coefficients.\n",
    "1. Fix the legend\n",
    "1. Find the genes associated with each point and see the genes necessary to reach plateau."
   ]
  },
  {
   "cell_type": "markdown",
   "metadata": {},
   "source": [
    "# Classification of Samples"
   ]
  },
  {
   "cell_type": "code",
   "execution_count": 10,
   "metadata": {},
   "outputs": [
    {
     "data": {
      "text/plain": [
       "11"
      ]
     },
     "execution_count": 10,
     "metadata": {},
     "output_type": "execute_result"
    }
   ],
   "source": [
    "len(CLASSIFIER.features)"
   ]
  },
  {
   "cell_type": "code",
   "execution_count": 11,
   "metadata": {},
   "outputs": [
    {
     "data": {
      "text/html": [
       "<div>\n",
       "<style scoped>\n",
       "    .dataframe tbody tr th:only-of-type {\n",
       "        vertical-align: middle;\n",
       "    }\n",
       "\n",
       "    .dataframe tbody tr th {\n",
       "        vertical-align: top;\n",
       "    }\n",
       "\n",
       "    .dataframe thead th {\n",
       "        text-align: right;\n",
       "    }\n",
       "</style>\n",
       "<table border=\"1\" class=\"dataframe\">\n",
       "  <thead>\n",
       "    <tr style=\"text-align: right;\">\n",
       "      <th></th>\n",
       "      <th>0</th>\n",
       "      <th>1</th>\n",
       "      <th>2</th>\n",
       "      <th>3</th>\n",
       "      <th>4</th>\n",
       "    </tr>\n",
       "  </thead>\n",
       "  <tbody>\n",
       "    <tr>\n",
       "      <th>AM_D20_1</th>\n",
       "      <td>0.00</td>\n",
       "      <td>1.00</td>\n",
       "      <td>0.00</td>\n",
       "      <td>0.00</td>\n",
       "      <td>0.00</td>\n",
       "    </tr>\n",
       "    <tr>\n",
       "      <th>AM_D20_3</th>\n",
       "      <td>0.00</td>\n",
       "      <td>1.00</td>\n",
       "      <td>0.00</td>\n",
       "      <td>0.00</td>\n",
       "      <td>0.00</td>\n",
       "    </tr>\n",
       "    <tr>\n",
       "      <th>AM_D20_4</th>\n",
       "      <td>0.00</td>\n",
       "      <td>1.00</td>\n",
       "      <td>0.00</td>\n",
       "      <td>0.00</td>\n",
       "      <td>0.00</td>\n",
       "    </tr>\n",
       "    <tr>\n",
       "      <th>AM_D20_5</th>\n",
       "      <td>0.00</td>\n",
       "      <td>1.00</td>\n",
       "      <td>0.00</td>\n",
       "      <td>0.00</td>\n",
       "      <td>0.00</td>\n",
       "    </tr>\n",
       "    <tr>\n",
       "      <th>MDM_D20_1</th>\n",
       "      <td>0.04</td>\n",
       "      <td>0.06</td>\n",
       "      <td>0.00</td>\n",
       "      <td>0.90</td>\n",
       "      <td>0.00</td>\n",
       "    </tr>\n",
       "    <tr>\n",
       "      <th>MDM_D20_3</th>\n",
       "      <td>0.90</td>\n",
       "      <td>0.00</td>\n",
       "      <td>0.00</td>\n",
       "      <td>0.06</td>\n",
       "      <td>0.04</td>\n",
       "    </tr>\n",
       "    <tr>\n",
       "      <th>MDM_D20_4</th>\n",
       "      <td>0.77</td>\n",
       "      <td>0.00</td>\n",
       "      <td>0.03</td>\n",
       "      <td>0.06</td>\n",
       "      <td>0.14</td>\n",
       "    </tr>\n",
       "    <tr>\n",
       "      <th>MDM_D20_5</th>\n",
       "      <td>0.00</td>\n",
       "      <td>1.00</td>\n",
       "      <td>0.00</td>\n",
       "      <td>0.00</td>\n",
       "      <td>0.00</td>\n",
       "    </tr>\n",
       "  </tbody>\n",
       "</table>\n",
       "</div>"
      ],
      "text/plain": [
       "              0     1     2     3     4\n",
       "AM_D20_1   0.00  1.00  0.00  0.00  0.00\n",
       "AM_D20_3   0.00  1.00  0.00  0.00  0.00\n",
       "AM_D20_4   0.00  1.00  0.00  0.00  0.00\n",
       "AM_D20_5   0.00  1.00  0.00  0.00  0.00\n",
       "MDM_D20_1  0.04  0.06  0.00  0.90  0.00\n",
       "MDM_D20_3  0.90  0.00  0.00  0.06  0.04\n",
       "MDM_D20_4  0.77  0.00  0.03  0.06  0.14\n",
       "MDM_D20_5  0.00  1.00  0.00  0.00  0.00"
      ]
     },
     "execution_count": 11,
     "metadata": {},
     "output_type": "execute_result"
    }
   ],
   "source": [
    "CLASSIFIER.predict(SAMPLE_DATA_DCT[\"AM_MDM\"])"
   ]
  },
  {
   "cell_type": "code",
   "execution_count": 13,
   "metadata": {},
   "outputs": [],
   "source": [
    "#reportSamplePredictions(SAMPLE_DCT[REF_TYPE_SELF])"
   ]
  },
  {
   "cell_type": "code",
   "execution_count": 14,
   "metadata": {},
   "outputs": [
    {
     "data": {
      "image/png": "[encoded data removed]",
      "text/plain": [
       "<Figure size 432x288 with 1 Axes>"
      ]
     },
     "metadata": {
      "needs_background": "light"
     },
     "output_type": "display_data"
    },
    {
     "data": {
      "text/plain": [
       "'SL1: 0.1360, SL0: 0.0010'"
      ]
     },
     "execution_count": 14,
     "metadata": {},
     "output_type": "execute_result"
    }
   ],
   "source": [
    "df_X = SAMPLE_DATA_DCT[\"AM_MDM\"]\n",
    "condition_strs = [\"AM_D20\", \"MDM_D20\"]\n",
    "CLASSIFIER.plotConditions(df_X, condition_strs, STAGE_NAMES,\n",
    "      state_probs=cn.STATE_PROBS,\n",
    "      num_exp=8)"
   ]
  },
  {
   "cell_type": "code",
   "execution_count": 15,
   "metadata": {},
   "outputs": [
    {
     "data": {
      "image/png": "[encoded data removed]",
      "text/plain": [
       "<Figure size 432x288 with 1 Axes>"
      ]
     },
     "metadata": {
      "needs_background": "light"
     },
     "output_type": "display_data"
    },
    {
     "data": {
      "text/plain": [
       "'SL1: 0.6380, SL0: 0.0150'"
      ]
     },
     "execution_count": 15,
     "metadata": {},
     "output_type": "execute_result"
    }
   ],
   "source": [
    "condition_strs = [\"AW_plus\", \"AW_neg\"]\n",
    "df_X = SAMPLE_DATA_DCT[\"AW\"]\n",
    "CLASSIFIER.plotConditions(df_X, condition_strs, STAGE_NAMES,\n",
    "      state_probs=cn.STATE_PROBS,\n",
    "      num_exp=8) "
   ]
  },
  {
   "cell_type": "code",
   "execution_count": 16,
   "metadata": {},
   "outputs": [
    {
     "data": {
      "image/png": "[encoded data removed]",
      "text/plain": [
       "<Figure size 720x720 with 1 Axes>"
      ]
     },
     "metadata": {
      "needs_background": "light"
     },
     "output_type": "display_data"
    }
   ],
   "source": [
    "repl_strs = [\"rep1\", \"rep2\", \"rep3\"]\n",
    "df_X = SAMPLE_DCT[REF_TYPE_SELF][\"galagan\"]\n",
    "sel_indices = [i for i in df_X.index if \"t0h\" in i]\n",
    "df_X.drop(index=sel_indices)\n",
    "CLASSIFIER.plotProgression(df_X, repl_strs, list(df_X.index))"
   ]
  },
  {
   "cell_type": "code",
   "execution_count": 17,
   "metadata": {},
   "outputs": [
    {
     "data": {
      "image/png": "[encoded data removed]",
      "text/plain": [
       "<Figure size 720x720 with 1 Axes>"
      ]
     },
     "metadata": {
      "needs_background": "light"
     },
     "output_type": "display_data"
    }
   ],
   "source": [
    "repl_strs = [\"rep%d\" % n for n in range(1, 4)]\n",
    "df_X = SAMPLE_DCT[REF_TYPE_SELF][\"rustad\"].copy()\n",
    "indices = [i.replace(\"H37Rv_hypoxia_\", \"\") for i in df_X.index]\n",
    "df_X.index = indices\n",
    "drop_indices = [i for i in indices if \"4hr\" in i]\n",
    "df_X = df_X.drop(index=drop_indices)\n",
    "CLASSIFIER.plotProgression(df_X, repl_strs, list(df_X.index))"
   ]
  }
 ],
 "metadata": {
  "kernelspec": {
   "display_name": "Python 3",
   "language": "python",
   "name": "python3"
  },
  "language_info": {
   "codemirror_mode": {
    "name": "ipython",
    "version": 3
   },
   "file_extension": ".py",
   "mimetype": "text/x-python",
   "name": "python",
   "nbconvert_exporter": "python",
   "pygments_lexer": "ipython3",
   "version": "3.6.6"
  }
 },
 "nbformat": 4,
 "nbformat_minor": 4
}
