{
 "cells": [
  {
   "cell_type": "markdown",
   "metadata": {},
   "source": [
    "# CLASSIFICATION OF LAB SAMPLES"
   ]
  },
  {
   "cell_type": "markdown",
   "metadata": {},
   "source": [
    "This notebook contains the figures for the final classifier.\n",
    "The classifier is constructed as follows:\n",
    "\n",
    "* Features: 10 mycbactin genes plus 1 bacterioferritin gene\n",
    "  * Mycobactin: Rv2377c, Rv2378c, Rv2379c, Rv2380c, Rv2381c, Rv2382c, Rv2383c, Rv2384, Rv2385    , Rv2386c\n",
    "  * Bacterioferritin gene: Rv3841 \n",
    "* Counts are averages of 3 replications\n",
    "* Discard T1, the only normoixia timepoint"
   ]
  },
  {
   "cell_type": "markdown",
   "metadata": {},
   "source": [
    "# TO DO"
   ]
  },
  {
   "cell_type": "markdown",
   "metadata": {},
   "source": [
    "# Preliminaries"
   ]
  },
  {
   "cell_type": "markdown",
   "metadata": {},
   "source": [
    "## Imports"
   ]
  },
  {
   "cell_type": "code",
   "execution_count": 5,
   "metadata": {},
   "outputs": [],
   "source": [
    "import init\n",
    "from common import constants as cn\n",
    "from common_python.util import dataframe\n",
    "from tools.make_classification_data import ClassificationData\n",
    "from tools.cross_validation_data import CrossValidationData\n",
    "\n",
    "import copy\n",
    "import matplotlib.pyplot as plt\n",
    "import numpy as np\n",
    "import pandas as pd\n",
    "import sklearn\n",
    "import seaborn as sns\n",
    "\n",
    "%matplotlib inline"
   ]
  },
  {
   "cell_type": "code",
   "execution_count": 2,
   "metadata": {
    "scrolled": true
   },
   "outputs": [],
   "source": [
    "## Classifier data\n",
    "data = ClassificationData()\n",
    "DATA_DCT = data.getDct()"
   ]
  },
  {
   "cell_type": "code",
   "execution_count": 3,
   "metadata": {},
   "outputs": [
    {
     "data": {
      "text/plain": [
       "dict_keys(['T0', 'POOLED', 'REF_TYPE_POOLED', 'REF_TYPE_BIOREACTOR', 'REF_TYPE_SELF', 'PROVIDER', 'TRINARY', 'ALL_GENES', 'MYCOBACTIN_GENES', 'BACTERIOFERRITIN_GENES', 'MYCOBACTIN_BACTERIOFERRIN_GENES', 'STAGE_NAMES', 'DATA_DCT', 'SER_Y_DCT', 'DF_X_DCT', 'SAMPLE_DCT', 'SAMPLE_AVG_DCT', 'CLASSIFIER_BASE', 'CLASSIFIER_DCT', 'GENE_GROUPS', 'MYCOBACTIN', 'BACTERIOFERRITIN', 'MYCOBACTIN_BACTERIOFERRITIN', 'ALL', 'TOP12_T0', 'TOP12_POOLED', 'GENE_DCT', 'DF_X', 'SER_Y', 'SAMPLE_DATA_DCT', 'CLASSIFIER', 'GENES', 'DF_ACCURACY'])"
      ]
     },
     "execution_count": 3,
     "metadata": {},
     "output_type": "execute_result"
    }
   ],
   "source": [
    "DATA_DCT.keys()"
   ]
  },
  {
   "cell_type": "markdown",
   "metadata": {},
   "source": [
    "## Constants"
   ]
  },
  {
   "cell_type": "markdown",
   "metadata": {},
   "source": [
    "## Helper Functions"
   ]
  },
  {
   "cell_type": "code",
   "execution_count": null,
   "metadata": {},
   "outputs": [],
   "source": [
    "def evaluateClassifierOnInstances(clf, **kwargs):\n",
    "    clf.evaluateClassifierOnInstances(**kwargs)"
   ]
  },
  {
   "cell_type": "code",
   "execution_count": null,
   "metadata": {},
   "outputs": [],
   "source": [
    "def plotSampleData(data_dct, genes= None, is_plot=True):\n",
    "    \"\"\"\n",
    "    Plots trinary values of data for the specified genes.\n",
    "    \n",
    "    Parameters\n",
    "    ----------\n",
    "    data_dct: dict\n",
    "        key: reference type\n",
    "        value: sample dictionary\n",
    "            key: sample name\n",
    "            value: features\n",
    "    genes: list-str\n",
    "    \"\"\"\n",
    "    ref_types = list(data_dct.keys())\n",
    "    sample_names = list(data_dct[ref_types[0]].keys())\n",
    "    for sample_name in sample_names:\n",
    "        for ref_type in ref_types:\n",
    "            df_X = data_dct[ref_type][sample_name]\n",
    "            if genes is None:\n",
    "                genes = list(df_X.columns)\n",
    "            TRINARY.plotExpressionLevels(genes, df_X=df_X, title=ref_type + \", \" + sample_name, is_plot=is_plot)\n",
    "            \n",
    "# Tests\n",
    "plotSampleData(SAMPLE_DCT, genes=MYCOBACTIN_BACTERIOFERRIN_GENES, is_plot=False)\n",
    "print(\"OK!\")"
   ]
  },
  {
   "cell_type": "code",
   "execution_count": null,
   "metadata": {},
   "outputs": [],
   "source": [
    "def reportSamplePredictions(data_dct):\n",
    "    for name in data_dct.keys():\n",
    "        df_X = data_dct[name]\n",
    "        print(\"\\n%s\" % name)\n",
    "        df_pred = CLASSIFIER.predict(df_X)\n",
    "        new_columns = [STAGE_NAMES[c] for c in df_pred.columns]\n",
    "        df_pred.columns = new_columns\n",
    "        print(df_pred)"
   ]
  },
  {
   "cell_type": "code",
   "execution_count": null,
   "metadata": {},
   "outputs": [],
   "source": [
    "def plotAccuracy(genes, title=\"\", selected_stages=None, size=100, is_plot=True, ax=None):\n",
    "    \"\"\"\n",
    "    Plots the accuracy curve for a collection of genes\n",
    "    \n",
    "    Parameters\n",
    "    ----------\n",
    "    genes: list-str\n",
    "    title: str\n",
    "    selected_stages: list-str\n",
    "        Create a binary classifier for just these tages\n",
    "    size: int\n",
    "    is_plot: bol\n",
    "    \"\"\"\n",
    "    if ax is None:\n",
    "        _, ax = plt.subplots(1)\n",
    "    accuracy_dct = {}\n",
    "    #data = mkDataSubset(genes, selected_stages=selected_stages)\n",
    "    data = DATA_DCT[T0].subsetToStates(selected_stages, genes=genes)\n",
    "    ranks = range(1, len(genes) + 1)\n",
    "    for rank in ranks:\n",
    "        accuracy_dct[rank] = CLASSIFIER.crossValidate(\n",
    "            data, num_iter=10, num_holdout=1, filter_high_rank=rank, size=size)\n",
    "    ax.plot(list(accuracy_dct.keys()), list(accuracy_dct.values()), marker=\"o\")\n",
    "    ax.set_ylim([0, 1.1])\n",
    "    _ = ax.set_xlabel(\"No genes in clasifier\")\n",
    "    _ = ax.set_ylabel(\"accuracy\")\n",
    "    ax.set_title(title)\n",
    "    if not is_plot:\n",
    "        plt.close()\n",
    "    return accuracy_dct\n",
    "    \n",
    "# Tests\n",
    "genes = GENE_DCT[\"bacterioferritin\"]\n",
    "accuracy_dct = plotAccuracy(GENE_DCT[\"bacterioferritin\"], title=\", \".join(genes), selected_stages=\"StageII\", size=5, is_plot=True)\n",
    "assert(np.isclose(list(accuracy_dct.values())[0], 0.5))\n",
    "print(\"OK!\")"
   ]
  },
  {
   "cell_type": "markdown",
   "metadata": {},
   "source": [
    "## Data"
   ]
  },
  {
   "cell_type": "markdown",
   "metadata": {},
   "source": [
    "### BioReactor"
   ]
  },
  {
   "cell_type": "code",
   "execution_count": null,
   "metadata": {},
   "outputs": [],
   "source": [
    "for ref, df in DF_X_DCT.items():\n",
    "    TRINARY.plotExpressionLevels(df.columns, title=\"%s\" % ref)"
   ]
  },
  {
   "cell_type": "code",
   "execution_count": null,
   "metadata": {},
   "outputs": [],
   "source": [
    "if FULL_RUN:\n",
    "    for key, clf in CLASSIFIER_DCT.items():\n",
    "        suptitle = \"%s: Acc=%1.2f\" % (\", \".join(key), np.mean(CLASSIFIER_DCT[key].scores))\n",
    "        evaluateClassifierOnInstances(CLASSIFIER_DCT[key], ser_y=DATA_DCT[key[0]].ser_y, nrow=4, ncol=6, \n",
    "                                      suptitle=suptitle)"
   ]
  },
  {
   "cell_type": "markdown",
   "metadata": {},
   "source": [
    "### Lab Samples"
   ]
  },
  {
   "cell_type": "markdown",
   "metadata": {},
   "source": [
    "**Observations**\n",
    "1. Prefer control values that avoid having a constant value of the trinary value over the samples (since such a situation is unhelpful for distinguishing classes).\n",
    "1. On training data (Bioreactor)\n",
    "   1. Many genes have the same within class values\n",
    "   1. Few genes have the same between class values"
   ]
  },
  {
   "cell_type": "markdown",
   "metadata": {},
   "source": [
    "**TO DO**: Plot data in pairs, 1 column, 2 rows; this allows comparisons of the expressions for T0 vs. pooled."
   ]
  },
  {
   "cell_type": "code",
   "execution_count": null,
   "metadata": {},
   "outputs": [],
   "source": [
    "# With Bioreactor reference data\n",
    "plotSampleData(SAMPLE_DCT, genes=MYCOBACTIN_BACTERIOFERRIN_GENES)"
   ]
  },
  {
   "cell_type": "markdown",
   "metadata": {},
   "source": [
    "# Classification Validations on Training Samples\n",
    "Classify T2-T25 and see if result is same as original class. Use 5-fold cross validation, where there is a holdout for each class and the selection is random.\n"
   ]
  },
  {
   "cell_type": "code",
   "execution_count": 22,
   "metadata": {},
   "outputs": [
    {
     "data": {
      "text/plain": [
       "[['T0', 'mycobactin'],\n",
       " ['T0', 'bacterioferritin'],\n",
       " ['pooled', 'mycobactin'],\n",
       " ['pooled', 'bacterioferritin'],\n",
       " ['pooled', 'mycobactin_bacterioferritin'],\n",
       " ['pooled', 'all'],\n",
       " ['T0', 'mycobactin_bacterioferritin'],\n",
       " ['T0', 'all']]"
      ]
     },
     "execution_count": 22,
     "metadata": {},
     "output_type": "execute_result"
    }
   ],
   "source": [
    "[k.split(\"--\") for k in df_cv_data.columns]\n",
    "#[\"%s--%s\" % (k.split()[1], k.split()[0]) for k in df_cv_data.columns]"
   ]
  },
  {
   "cell_type": "code",
   "execution_count": 29,
   "metadata": {},
   "outputs": [
    {
     "data": {
      "text/html": [
       "<div>\n",
       "<style scoped>\n",
       "    .dataframe tbody tr th:only-of-type {\n",
       "        vertical-align: middle;\n",
       "    }\n",
       "\n",
       "    .dataframe tbody tr th {\n",
       "        vertical-align: top;\n",
       "    }\n",
       "\n",
       "    .dataframe thead th {\n",
       "        text-align: right;\n",
       "    }\n",
       "</style>\n",
       "<table border=\"1\" class=\"dataframe\">\n",
       "  <thead>\n",
       "    <tr style=\"text-align: right;\">\n",
       "      <th></th>\n",
       "      <th>mycobactin--T0</th>\n",
       "      <th>bacterioferritin--T0</th>\n",
       "      <th>mycobactin--pooled</th>\n",
       "      <th>bacterioferritin--pooled</th>\n",
       "      <th>mycobactin_bacterioferritin--pooled</th>\n",
       "      <th>all--pooled</th>\n",
       "      <th>mycobactin_bacterioferritin--T0</th>\n",
       "      <th>all--T0</th>\n",
       "    </tr>\n",
       "    <tr>\n",
       "      <th>num_gene</th>\n",
       "      <th></th>\n",
       "      <th></th>\n",
       "      <th></th>\n",
       "      <th></th>\n",
       "      <th></th>\n",
       "      <th></th>\n",
       "      <th></th>\n",
       "      <th></th>\n",
       "    </tr>\n",
       "  </thead>\n",
       "  <tbody>\n",
       "    <tr>\n",
       "      <th>1</th>\n",
       "      <td>0.5030</td>\n",
       "      <td>0.3940</td>\n",
       "      <td>0.5400</td>\n",
       "      <td>0.3920</td>\n",
       "      <td>0.5600</td>\n",
       "      <td>0.4440</td>\n",
       "      <td>0.4570</td>\n",
       "      <td>0.4584</td>\n",
       "    </tr>\n",
       "    <tr>\n",
       "      <th>2</th>\n",
       "      <td>0.5146</td>\n",
       "      <td>0.3924</td>\n",
       "      <td>0.5800</td>\n",
       "      <td>0.3950</td>\n",
       "      <td>0.6282</td>\n",
       "      <td>0.7404</td>\n",
       "      <td>0.4894</td>\n",
       "      <td>0.6030</td>\n",
       "    </tr>\n",
       "    <tr>\n",
       "      <th>3</th>\n",
       "      <td>0.6110</td>\n",
       "      <td>0.3958</td>\n",
       "      <td>0.6376</td>\n",
       "      <td>0.3922</td>\n",
       "      <td>0.5622</td>\n",
       "      <td>0.6724</td>\n",
       "      <td>0.6292</td>\n",
       "      <td>0.6126</td>\n",
       "    </tr>\n",
       "    <tr>\n",
       "      <th>4</th>\n",
       "      <td>0.5952</td>\n",
       "      <td>0.3922</td>\n",
       "      <td>0.6740</td>\n",
       "      <td>0.3964</td>\n",
       "      <td>0.7038</td>\n",
       "      <td>0.7794</td>\n",
       "      <td>0.7124</td>\n",
       "      <td>0.8174</td>\n",
       "    </tr>\n",
       "    <tr>\n",
       "      <th>5</th>\n",
       "      <td>0.6484</td>\n",
       "      <td>0.3984</td>\n",
       "      <td>0.7036</td>\n",
       "      <td>0.3978</td>\n",
       "      <td>0.7134</td>\n",
       "      <td>0.6244</td>\n",
       "      <td>0.7358</td>\n",
       "      <td>0.9778</td>\n",
       "    </tr>\n",
       "    <tr>\n",
       "      <th>6</th>\n",
       "      <td>0.6898</td>\n",
       "      <td>0.3974</td>\n",
       "      <td>0.7514</td>\n",
       "      <td>0.3984</td>\n",
       "      <td>0.7296</td>\n",
       "      <td>0.8566</td>\n",
       "      <td>0.7030</td>\n",
       "      <td>0.9412</td>\n",
       "    </tr>\n",
       "    <tr>\n",
       "      <th>7</th>\n",
       "      <td>0.6704</td>\n",
       "      <td>0.3944</td>\n",
       "      <td>0.7358</td>\n",
       "      <td>0.3902</td>\n",
       "      <td>0.7842</td>\n",
       "      <td>0.8486</td>\n",
       "      <td>0.7546</td>\n",
       "      <td>0.9578</td>\n",
       "    </tr>\n",
       "    <tr>\n",
       "      <th>8</th>\n",
       "      <td>0.7324</td>\n",
       "      <td>0.3962</td>\n",
       "      <td>0.7874</td>\n",
       "      <td>0.3974</td>\n",
       "      <td>0.7888</td>\n",
       "      <td>0.8136</td>\n",
       "      <td>0.7254</td>\n",
       "      <td>0.9368</td>\n",
       "    </tr>\n",
       "    <tr>\n",
       "      <th>9</th>\n",
       "      <td>0.7386</td>\n",
       "      <td>0.3982</td>\n",
       "      <td>0.7668</td>\n",
       "      <td>0.3950</td>\n",
       "      <td>0.7802</td>\n",
       "      <td>0.8150</td>\n",
       "      <td>0.7818</td>\n",
       "      <td>0.9602</td>\n",
       "    </tr>\n",
       "    <tr>\n",
       "      <th>10</th>\n",
       "      <td>0.7226</td>\n",
       "      <td>0.3932</td>\n",
       "      <td>0.8046</td>\n",
       "      <td>0.3952</td>\n",
       "      <td>0.8050</td>\n",
       "      <td>0.9080</td>\n",
       "      <td>0.8056</td>\n",
       "      <td>0.9730</td>\n",
       "    </tr>\n",
       "    <tr>\n",
       "      <th>11</th>\n",
       "      <td>0.7482</td>\n",
       "      <td>0.3958</td>\n",
       "      <td>0.8308</td>\n",
       "      <td>0.3926</td>\n",
       "      <td>0.8386</td>\n",
       "      <td>0.9176</td>\n",
       "      <td>0.7338</td>\n",
       "      <td>0.9186</td>\n",
       "    </tr>\n",
       "  </tbody>\n",
       "</table>\n",
       "</div>"
      ],
      "text/plain": [
       "          mycobactin--T0  bacterioferritin--T0  mycobactin--pooled  \\\n",
       "num_gene                                                             \n",
       "1                 0.5030                0.3940              0.5400   \n",
       "2                 0.5146                0.3924              0.5800   \n",
       "3                 0.6110                0.3958              0.6376   \n",
       "4                 0.5952                0.3922              0.6740   \n",
       "5                 0.6484                0.3984              0.7036   \n",
       "6                 0.6898                0.3974              0.7514   \n",
       "7                 0.6704                0.3944              0.7358   \n",
       "8                 0.7324                0.3962              0.7874   \n",
       "9                 0.7386                0.3982              0.7668   \n",
       "10                0.7226                0.3932              0.8046   \n",
       "11                0.7482                0.3958              0.8308   \n",
       "\n",
       "          bacterioferritin--pooled  mycobactin_bacterioferritin--pooled  \\\n",
       "num_gene                                                                  \n",
       "1                           0.3920                               0.5600   \n",
       "2                           0.3950                               0.6282   \n",
       "3                           0.3922                               0.5622   \n",
       "4                           0.3964                               0.7038   \n",
       "5                           0.3978                               0.7134   \n",
       "6                           0.3984                               0.7296   \n",
       "7                           0.3902                               0.7842   \n",
       "8                           0.3974                               0.7888   \n",
       "9                           0.3950                               0.7802   \n",
       "10                          0.3952                               0.8050   \n",
       "11                          0.3926                               0.8386   \n",
       "\n",
       "          all--pooled  mycobactin_bacterioferritin--T0  all--T0  \n",
       "num_gene                                                         \n",
       "1              0.4440                           0.4570   0.4584  \n",
       "2              0.7404                           0.4894   0.6030  \n",
       "3              0.6724                           0.6292   0.6126  \n",
       "4              0.7794                           0.7124   0.8174  \n",
       "5              0.6244                           0.7358   0.9778  \n",
       "6              0.8566                           0.7030   0.9412  \n",
       "7              0.8486                           0.7546   0.9578  \n",
       "8              0.8136                           0.7254   0.9368  \n",
       "9              0.8150                           0.7818   0.9602  \n",
       "10             0.9080                           0.8056   0.9730  \n",
       "11             0.9176                           0.7338   0.9186  "
      ]
     },
     "execution_count": 29,
     "metadata": {},
     "output_type": "execute_result"
    }
   ],
   "source": [
    "df_new"
   ]
  },
  {
   "cell_type": "code",
   "execution_count": 28,
   "metadata": {},
   "outputs": [
    {
     "data": {
      "text/html": [
       "<div>\n",
       "<style scoped>\n",
       "    .dataframe tbody tr th:only-of-type {\n",
       "        vertical-align: middle;\n",
       "    }\n",
       "\n",
       "    .dataframe tbody tr th {\n",
       "        vertical-align: top;\n",
       "    }\n",
       "\n",
       "    .dataframe thead th {\n",
       "        text-align: right;\n",
       "    }\n",
       "</style>\n",
       "<table border=\"1\" class=\"dataframe\">\n",
       "  <thead>\n",
       "    <tr style=\"text-align: right;\">\n",
       "      <th></th>\n",
       "      <th>T0--mycobactin</th>\n",
       "      <th>T0--bacterioferritin</th>\n",
       "      <th>pooled--mycobactin</th>\n",
       "      <th>pooled--bacterioferritin</th>\n",
       "      <th>pooled--mycobactin_bacterioferritin</th>\n",
       "      <th>pooled--all</th>\n",
       "      <th>T0--mycobactin_bacterioferritin</th>\n",
       "      <th>T0--all</th>\n",
       "    </tr>\n",
       "    <tr>\n",
       "      <th>num_gene</th>\n",
       "      <th></th>\n",
       "      <th></th>\n",
       "      <th></th>\n",
       "      <th></th>\n",
       "      <th></th>\n",
       "      <th></th>\n",
       "      <th></th>\n",
       "      <th></th>\n",
       "    </tr>\n",
       "  </thead>\n",
       "  <tbody>\n",
       "    <tr>\n",
       "      <th>1</th>\n",
       "      <td>0.5030</td>\n",
       "      <td>0.3940</td>\n",
       "      <td>0.5400</td>\n",
       "      <td>0.3920</td>\n",
       "      <td>0.5600</td>\n",
       "      <td>0.4440</td>\n",
       "      <td>0.4570</td>\n",
       "      <td>0.4584</td>\n",
       "    </tr>\n",
       "    <tr>\n",
       "      <th>2</th>\n",
       "      <td>0.5146</td>\n",
       "      <td>0.3924</td>\n",
       "      <td>0.5800</td>\n",
       "      <td>0.3950</td>\n",
       "      <td>0.6282</td>\n",
       "      <td>0.7404</td>\n",
       "      <td>0.4894</td>\n",
       "      <td>0.6030</td>\n",
       "    </tr>\n",
       "    <tr>\n",
       "      <th>3</th>\n",
       "      <td>0.6110</td>\n",
       "      <td>0.3958</td>\n",
       "      <td>0.6376</td>\n",
       "      <td>0.3922</td>\n",
       "      <td>0.5622</td>\n",
       "      <td>0.6724</td>\n",
       "      <td>0.6292</td>\n",
       "      <td>0.6126</td>\n",
       "    </tr>\n",
       "    <tr>\n",
       "      <th>4</th>\n",
       "      <td>0.5952</td>\n",
       "      <td>0.3922</td>\n",
       "      <td>0.6740</td>\n",
       "      <td>0.3964</td>\n",
       "      <td>0.7038</td>\n",
       "      <td>0.7794</td>\n",
       "      <td>0.7124</td>\n",
       "      <td>0.8174</td>\n",
       "    </tr>\n",
       "    <tr>\n",
       "      <th>5</th>\n",
       "      <td>0.6484</td>\n",
       "      <td>0.3984</td>\n",
       "      <td>0.7036</td>\n",
       "      <td>0.3978</td>\n",
       "      <td>0.7134</td>\n",
       "      <td>0.6244</td>\n",
       "      <td>0.7358</td>\n",
       "      <td>0.9778</td>\n",
       "    </tr>\n",
       "    <tr>\n",
       "      <th>6</th>\n",
       "      <td>0.6898</td>\n",
       "      <td>0.3974</td>\n",
       "      <td>0.7514</td>\n",
       "      <td>0.3984</td>\n",
       "      <td>0.7296</td>\n",
       "      <td>0.8566</td>\n",
       "      <td>0.7030</td>\n",
       "      <td>0.9412</td>\n",
       "    </tr>\n",
       "    <tr>\n",
       "      <th>7</th>\n",
       "      <td>0.6704</td>\n",
       "      <td>0.3944</td>\n",
       "      <td>0.7358</td>\n",
       "      <td>0.3902</td>\n",
       "      <td>0.7842</td>\n",
       "      <td>0.8486</td>\n",
       "      <td>0.7546</td>\n",
       "      <td>0.9578</td>\n",
       "    </tr>\n",
       "    <tr>\n",
       "      <th>8</th>\n",
       "      <td>0.7324</td>\n",
       "      <td>0.3962</td>\n",
       "      <td>0.7874</td>\n",
       "      <td>0.3974</td>\n",
       "      <td>0.7888</td>\n",
       "      <td>0.8136</td>\n",
       "      <td>0.7254</td>\n",
       "      <td>0.9368</td>\n",
       "    </tr>\n",
       "    <tr>\n",
       "      <th>9</th>\n",
       "      <td>0.7386</td>\n",
       "      <td>0.3982</td>\n",
       "      <td>0.7668</td>\n",
       "      <td>0.3950</td>\n",
       "      <td>0.7802</td>\n",
       "      <td>0.8150</td>\n",
       "      <td>0.7818</td>\n",
       "      <td>0.9602</td>\n",
       "    </tr>\n",
       "    <tr>\n",
       "      <th>10</th>\n",
       "      <td>0.7226</td>\n",
       "      <td>0.3932</td>\n",
       "      <td>0.8046</td>\n",
       "      <td>0.3952</td>\n",
       "      <td>0.8050</td>\n",
       "      <td>0.9080</td>\n",
       "      <td>0.8056</td>\n",
       "      <td>0.9730</td>\n",
       "    </tr>\n",
       "    <tr>\n",
       "      <th>11</th>\n",
       "      <td>0.7482</td>\n",
       "      <td>0.3958</td>\n",
       "      <td>0.8308</td>\n",
       "      <td>0.3926</td>\n",
       "      <td>0.8386</td>\n",
       "      <td>0.9176</td>\n",
       "      <td>0.7338</td>\n",
       "      <td>0.9186</td>\n",
       "    </tr>\n",
       "  </tbody>\n",
       "</table>\n",
       "</div>"
      ],
      "text/plain": [
       "          T0--mycobactin  T0--bacterioferritin  pooled--mycobactin  \\\n",
       "num_gene                                                             \n",
       "1                 0.5030                0.3940              0.5400   \n",
       "2                 0.5146                0.3924              0.5800   \n",
       "3                 0.6110                0.3958              0.6376   \n",
       "4                 0.5952                0.3922              0.6740   \n",
       "5                 0.6484                0.3984              0.7036   \n",
       "6                 0.6898                0.3974              0.7514   \n",
       "7                 0.6704                0.3944              0.7358   \n",
       "8                 0.7324                0.3962              0.7874   \n",
       "9                 0.7386                0.3982              0.7668   \n",
       "10                0.7226                0.3932              0.8046   \n",
       "11                0.7482                0.3958              0.8308   \n",
       "\n",
       "          pooled--bacterioferritin  pooled--mycobactin_bacterioferritin  \\\n",
       "num_gene                                                                  \n",
       "1                           0.3920                               0.5600   \n",
       "2                           0.3950                               0.6282   \n",
       "3                           0.3922                               0.5622   \n",
       "4                           0.3964                               0.7038   \n",
       "5                           0.3978                               0.7134   \n",
       "6                           0.3984                               0.7296   \n",
       "7                           0.3902                               0.7842   \n",
       "8                           0.3974                               0.7888   \n",
       "9                           0.3950                               0.7802   \n",
       "10                          0.3952                               0.8050   \n",
       "11                          0.3926                               0.8386   \n",
       "\n",
       "          pooled--all  T0--mycobactin_bacterioferritin  T0--all  \n",
       "num_gene                                                         \n",
       "1              0.4440                           0.4570   0.4584  \n",
       "2              0.7404                           0.4894   0.6030  \n",
       "3              0.6724                           0.6292   0.6126  \n",
       "4              0.7794                           0.7124   0.8174  \n",
       "5              0.6244                           0.7358   0.9778  \n",
       "6              0.8566                           0.7030   0.9412  \n",
       "7              0.8486                           0.7546   0.9578  \n",
       "8              0.8136                           0.7254   0.9368  \n",
       "9              0.8150                           0.7818   0.9602  \n",
       "10             0.9080                           0.8056   0.9730  \n",
       "11             0.9176                           0.7338   0.9186  "
      ]
     },
     "execution_count": 28,
     "metadata": {},
     "output_type": "execute_result"
    }
   ],
   "source": [
    "df_"
   ]
  },
  {
   "cell_type": "code",
   "execution_count": 44,
   "metadata": {},
   "outputs": [
    {
     "data": {
      "image/png": "[encoded data removed]",
      "text/plain": [
       "<Figure size 1296x720 with 1 Axes>"
      ]
     },
     "metadata": {
      "needs_background": "light"
     },
     "output_type": "display_data"
    }
   ],
   "source": [
    "# Plot accuracy for the number of genes for each classifier\n",
    "cv_data = CrossValidationData()\n",
    "colors = [\"red\", \"brown\", \"blue\", \"black\"]\n",
    "df_cv_data = cv_data.dataframe\n",
    "_, ax = plt.subplots(1, figsize=(18, 10))\n",
    "columns = list(df_cv_data.columns)\n",
    "keys = [\"%s--%s\" % (k.split(\"--\")[1], k.split(\"--\")[0]) for k in columns]\n",
    "df_new = df_cv_data.copy()\n",
    "df_new.columns = keys\n",
    "keys.sort()\n",
    "for idx, key in enumerate(keys):\n",
    "    color_idx = idx//2\n",
    "    parts = key.split(\"--\")\n",
    "    yvals = df_new[key].values\n",
    "    ystds = np.sqrt(yvals*(1-yvals)/cv_data.num_clf)\n",
    "    if parts[1] == \"T0\":\n",
    "        linestyle = \"--\"\n",
    "    else:\n",
    "        linestyle = \"-\"\n",
    "    ax.errorbar(range(1, len(yvals)+1), yvals, yerr=ystds, linestyle=linestyle,\n",
    "                color=colors[color_idx])\n",
    "    ax.set_ylim([0, 1.1])\n",
    "    _ = ax.set_xlabel(\"No genes in clasifier\", fontsize=16)\n",
    "    _ = ax.set_ylabel(\"accuracy\", fontsize=16)\n",
    "_ = ax.legend(keys)"
   ]
  },
  {
   "cell_type": "markdown",
   "metadata": {},
   "source": [
    "**TODO**: \n",
    "1. Verify values plotted for coefficients.\n",
    "1. Fix the legend\n",
    "1. Find the genes associated with each point and see the genes necessary to reach plateau."
   ]
  },
  {
   "cell_type": "markdown",
   "metadata": {},
   "source": [
    "# Classifier Coefficients"
   ]
  },
  {
   "cell_type": "code",
   "execution_count": null,
   "metadata": {},
   "outputs": [],
   "source": [
    "# Plot the classifier coefficients for each gene\n",
    "nrow = 4\n",
    "ncol = 2\n",
    "fig, axes = plt.subplots(nrow, ncol, figsize=(20, 15))\n",
    "fig.tight_layout()\n",
    "keys = []\n",
    "irow = 0\n",
    "for genes in [\"mycobactin\", \"bacterioferritin\", \"mycobactin_bacterioferritin\", \"all\"]:\n",
    "    icol = 0\n",
    "    for ref in [\"T0\", \"pooled\"]:\n",
    "        key = (ref, genes)\n",
    "        clf = CLASSIFIER_DCT[key]\n",
    "        title = \", \".join(key)\n",
    "        if icol == 1:\n",
    "            is_legend = True\n",
    "        else:\n",
    "            is_legend = False\n",
    "        ax = axes[irow, icol]\n",
    "        clf.plotSVMCoefficients(title=title, ax=ax, class_names=STAGE_NAMES, is_plot=False)\n",
    "        if irow < nrow - 1:\n",
    "            ax.set_xticklabels([])\n",
    "            ax.set_xlabel(\"\")\n",
    "        if icol > 0:\n",
    "            ax.set_ylabel(\"\")\n",
    "        icol += 1\n",
    "    irow += 1\n",
    "plt.show()"
   ]
  },
  {
   "cell_type": "markdown",
   "metadata": {},
   "source": [
    "**TO DO**: Note difference in roles of genes for each state based on pooled vs. TO."
   ]
  },
  {
   "cell_type": "markdown",
   "metadata": {},
   "source": [
    "The above chart displays the values of the SVM coefficients for each of the genes for the classifier used to identify each state. The vertical lines are error bars ($\\pm$ 1 standard deviation) for the value of the coefficient over 100 classifiers constructed using 1 holdout per state.\n",
    "\n",
    "The coefficients are used to identify the stage that best matches a gene expression vector. Given\n",
    "an expression vector $\\mathbf{x} = (x_1, \\cdots, x_N)$, where $x_n \\in [-1, 1 ]$ is the expression level of gene $x_n$ and\n",
    "$c_{m,n}$ is the coefficient for the classifier for stage $m$ and gene $n$:\n",
    "1. $d_m = \\sum_n c_{m,n} x_n$\n",
    "1. Choose stage $m^{\\star}$ such that $m^{\\star} = arg max_m \\{ d_m \\}$"
   ]
  },
  {
   "cell_type": "code",
   "execution_count": null,
   "metadata": {},
   "outputs": [],
   "source": [
    "# Deeper look at training data\n",
    "DATA_DCT[T0].plotExpressionLevels(CLASSIFIER.features, title=\"\")"
   ]
  },
  {
   "cell_type": "markdown",
   "metadata": {},
   "source": [
    "Several observations are of interest:\n",
    "1. The coefficients for Transition are mostly negative, which means that this stage is about *under-expression*.\n",
    "In particular, this stage is characterized by an under-expression of the genes Rv2383c, Rv2382c, Rv2386c, and Rv2385.\n",
    "1. We see that Stage1a is characterized by large positive values of the coefficients for Rv2385, Rv3841, and Rv2384.\n",
    "Although this makes sense for Rv2385, it is counter intuitive for\n",
    "Rv2384 and Rv3841.\n",
    "The rationale here is more complicated.\n",
    "Rv2384 is not differentially expressed in Stage 1a; however, it is under-expressed in Transition.\n",
    "So, a positive coefficient for Rv2384 for Stage 1a allows for differentiation from Transition.\n",
    "A similar tactic seems to be in play for Rv3841 to distinguish Stage1a from Stage II and Resuscitation.\n",
    "However, this is complicated by the fact that Transition over-expresses Rv3841.\n",
    "The classifier compensates for this by having a large coefficient for Rv2384.\n",
    "\n",
    "1. The other stages are characterized by a mixture of over- and under-expression."
   ]
  },
  {
   "cell_type": "markdown",
   "metadata": {},
   "source": [
    "# Accuracy of Gene Groups"
   ]
  },
  {
   "cell_type": "code",
   "execution_count": null,
   "metadata": {},
   "outputs": [],
   "source": [
    "if False:\n",
    "    gene_dct = {g: [g] for g in GENE_DCT[\"mycobactin\"]}\n",
    "    gene_dct.update(GENE_DCT)\n",
    "    for name, genes in gene_dct.items():\n",
    "        _, ax = plt.subplots(1)\n",
    "        _ = accuracy_dct = plotAccuracy(genes, title=\", \".join(genes), selected_stages=[\"StageII\"], ax=ax, size=100)"
   ]
  },
  {
   "cell_type": "code",
   "execution_count": null,
   "metadata": {},
   "outputs": [],
   "source": [
    "if False:\n",
    "    gene_dct = {g: [g] for g in GENE_DCT[\"mycobactin\"]}\n",
    "    gene_dct.update(GENE_DCT)\n",
    "    for name, genes in gene_dct.items():\n",
    "        _, ax = plt.subplots(1)\n",
    "        _ = accuracy_dct = plotAccuracy(genes, title=\", \".join(genes), ax=ax, size=100)"
   ]
  },
  {
   "cell_type": "code",
   "execution_count": null,
   "metadata": {},
   "outputs": [],
   "source": [
    "# Details for the 10 genes\n",
    "if False:\n",
    "    df_X = DF_X[GENE_DCT[\"mycobactin\"]]\n",
    "    num_genes = range(1, len(df_X.columns) + 1)\n",
    "    num_genes = [10]\n",
    "    for num_gene in num_genes:\n",
    "        clf = classifier_ensemble.ClassifierEnsemble(\n",
    "                classifier_ensemble.ClassifierDescriptorSVM(), filter_high_rank=num_gene, size=100)\n",
    "        clf.fit(df_X, SER_Y)\n",
    "        evaluateClassifierOnInstances(clf, df_X=df_X, ser_y=SER_Y, class_names=STAGE_NAMES, nrow=4, ncol=6, is_plot=True)"
   ]
  },
  {
   "cell_type": "markdown",
   "metadata": {},
   "source": [
    "## Evaluation for good performing genes"
   ]
  },
  {
   "cell_type": "markdown",
   "metadata": {},
   "source": [
    "# Classification of Samples"
   ]
  },
  {
   "cell_type": "code",
   "execution_count": null,
   "metadata": {},
   "outputs": [],
   "source": [
    "CLASSIFIER.features"
   ]
  },
  {
   "cell_type": "code",
   "execution_count": null,
   "metadata": {},
   "outputs": [],
   "source": [
    "CLASSIFIER.predict(SAMPLE_DATA_DCT[\"AM_MDM\"])"
   ]
  },
  {
   "cell_type": "code",
   "execution_count": null,
   "metadata": {},
   "outputs": [],
   "source": [
    "reportSamplePredictions(SAMPLE_DCT[REF_TYPE_BIOREACTOR])"
   ]
  },
  {
   "cell_type": "code",
   "execution_count": null,
   "metadata": {},
   "outputs": [],
   "source": [
    "reportSamplePredictions(SAMPLE_DCT[REF_TYPE_POOLED])"
   ]
  },
  {
   "cell_type": "markdown",
   "metadata": {
    "tags": []
   },
   "source": [
    "# Detailed Analyses"
   ]
  },
  {
   "cell_type": "markdown",
   "metadata": {},
   "source": [
    "## GSE167232"
   ]
  },
  {
   "cell_type": "code",
   "execution_count": null,
   "metadata": {},
   "outputs": [],
   "source": [
    "TRINARY.plotExpressionLevels(CLASSIFIER.features, df_X=SAMPLE_DATA_DCT[\"GSE167232\"], title=\"GSE167232\")"
   ]
  },
  {
   "cell_type": "code",
   "execution_count": null,
   "metadata": {},
   "outputs": [],
   "source": [
    "TRINARY.plotExpressionLevels(CLASSIFIER.features, df_X=SAMPLE_DCT[REF_TYPE_POOLED][\"GSE167232\"], title=\"GSE167232\")"
   ]
  },
  {
   "cell_type": "code",
   "execution_count": null,
   "metadata": {},
   "outputs": [],
   "source": [
    "#CLASSIFIER.plotFeatureContributions(df_X.loc[\"TB_AM1\",:], class_names=STAGE_NAMES)\n",
    "df_predict = CLASSIFIER.predict(SAMPLE_DATA_DCT[\"GSE167232\"])\n",
    "indexArr = np.reshape(list(df_predict.index), (4,3))\n",
    "num_row = 4\n",
    "num_col =3\n",
    "_, axes = plt.subplots(num_row, num_col, figsize=(20, 12))\n",
    "for irow in range(4):\n",
    "    for icol in range(3):\n",
    "        if icol == 0:\n",
    "            is_ylabel = True\n",
    "        else:\n",
    "            is_ylabel = False\n",
    "        if icol == num_col - 1:\n",
    "            is_legend = True\n",
    "        else:\n",
    "            is_legend = False\n",
    "        if irow == num_row - 1:\n",
    "            is_xlabel = True\n",
    "        else:\n",
    "            is_xlabel = False\n",
    "        instance = indexArr[irow, icol]\n",
    "        ser_X = SAMPLE_DATA_DCT[\"GSE167232\"].loc[instance, :]\n",
    "        CLASSIFIER.plotFeatureContributions(ser_X, class_names=STAGE_NAMES, title=instance, ax=axes[irow,icol], is_plot=False,\n",
    "                                           is_xlabel=is_xlabel, is_ylabel=is_ylabel, is_legend=is_legend)\n",
    "plt.show()"
   ]
  },
  {
   "cell_type": "markdown",
   "metadata": {},
   "source": [
    "## Rustad"
   ]
  },
  {
   "cell_type": "code",
   "execution_count": null,
   "metadata": {},
   "outputs": [],
   "source": [
    "for ref_type in [REF_TYPE_BIOREACTOR, REF_TYPE_POOLED]:\n",
    "    _, ax = plt.subplots(1)\n",
    "    df_X = SAMPLE_DCT[ref_type][\"rustad\"]\n",
    "    # Select hypoxia samples\n",
    "    sel =  [\"H37Rv_hypoxia\" in i and (not \"10\" in i) for i in df_X.index]\n",
    "    df_X = df_X[sel]\n",
    "    # Select just replication 1-3\n",
    "    sel =  [any([r in i for r in [\"rep1\", \"rep2\", \"rep3\"]])  for i in df_X.index]\n",
    "    df_X = df_X[sel]\n",
    "    #\n",
    "    replFunc = lambda i: i[-4:]\n",
    "    timeFunc = lambda i: i[-9:-6].replace(\"_\", \"\")\n",
    "    #time_strs = [\"4hr\", \"12hr\", \"1day\", \"4day\", \"7day\"]\n",
    "    title = \"rustad: \" + ref_type\n",
    "    CLASSIFIER.plotReplicationsOverTime(df_X, replFunc, timeFunc, title=title, ax=ax)"
   ]
  },
  {
   "cell_type": "markdown",
   "metadata": {},
   "source": [
    "## AM, MDM"
   ]
  },
  {
   "cell_type": "code",
   "execution_count": null,
   "metadata": {
    "tags": []
   },
   "outputs": [],
   "source": [
    "SAMPLE_DATA_DCT[\"AM_MDM\"]"
   ]
  },
  {
   "cell_type": "markdown",
   "metadata": {},
   "source": [
    "## Galagan"
   ]
  },
  {
   "cell_type": "code",
   "execution_count": null,
   "metadata": {},
   "outputs": [],
   "source": [
    "for ref_type in [REF_TYPE_BIOREACTOR, REF_TYPE_POOLED]:\n",
    "    df_X = SAMPLE_DCT[ref_type][\"galagan\"]\n",
    "    prediction_df = CLASSIFIER.predict(df_X)\n",
    "    replFunc = lambda i: i[-4:]\n",
    "    timeFunc = lambda i: i[0:2]\n",
    "    title = \"galagan: \" + ref_type\n",
    "    _, ax = plt.subplots(1)\n",
    "    CLASSIFIER.plotReplicationsOverTime(df_X, replFunc, timeFunc, title=title, ax=ax)"
   ]
  },
  {
   "cell_type": "markdown",
   "metadata": {},
   "source": [
    "# Summary Comments"
   ]
  },
  {
   "cell_type": "markdown",
   "metadata": {},
   "source": [
    "1. Choice of control\n",
    "   1. Criteria for choice\n",
    "1. Evaluating the quality of classification for test samples\n",
    "   1. Consistency between replications\n",
    "   1. Consistency in stage progression of replication\n",
    "1. Detailed summaries for data sets\n",
    "1. Selection of genes based on classification accuracy selects some, but not all of the mycobactin genes. \n",
    "   1. Which are not selected?\n",
    "   1. What additional genes are selected?\n",
    "   1. What are the signs and magnitudes of the mycobactin genes in the \"all\" case?\n",
    "1. Using pooled data results in very different gene selections"
   ]
  }
 ],
 "metadata": {
  "kernelspec": {
   "display_name": "Python 3",
   "language": "python",
   "name": "python3"
  },
  "language_info": {
   "codemirror_mode": {
    "name": "ipython",
    "version": 3
   },
   "file_extension": ".py",
   "mimetype": "text/x-python",
   "name": "python",
   "nbconvert_exporter": "python",
   "pygments_lexer": "ipython3",
   "version": "3.6.6"
  }
 },
 "nbformat": 4,
 "nbformat_minor": 4
}
