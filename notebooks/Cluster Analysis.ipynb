{
 "cells": [
  {
   "cell_type": "markdown",
   "metadata": {},
   "source": [
    "# Analysis of Clusters\n",
    "The purpose of this analysis is to explore how states might be identified if different clustering techniques are used. The focus is on using the normalized data."
   ]
  },
  {
   "cell_type": "code",
   "execution_count": 1,
   "metadata": {},
   "outputs": [],
   "source": [
    "import init\n",
    "from common import constants as cn\n",
    "from common.data_provider import DataProvider\n",
    "from common.data_grouper import DataGrouper\n",
    "from common import transform_data\n",
    "from terms.term_matrix import TermMatrix\n",
    "from plots import util_plots\n",
    "from common_python.text.term_analyzer import TermAnalyzer\n",
    "from common_python.text import util_text\n",
    "\n",
    "import pandas as pd\n",
    "import numpy as np\n",
    "import matplotlib.pyplot as plt\n",
    "import os\n",
    "import seaborn as sns\n",
    "from sklearn.cluster import KMeans"
   ]
  },
  {
   "cell_type": "code",
   "execution_count": 2,
   "metadata": {},
   "outputs": [],
   "source": [
    "# Initialize the data\n",
    "provider = DataProvider()\n",
    "provider.do()"
   ]
  },
  {
   "cell_type": "code",
   "execution_count": 3,
   "metadata": {},
   "outputs": [
    {
     "data": {
      "text/html": [
       "<div>\n",
       "<style scoped>\n",
       "    .dataframe tbody tr th:only-of-type {\n",
       "        vertical-align: middle;\n",
       "    }\n",
       "\n",
       "    .dataframe tbody tr th {\n",
       "        vertical-align: top;\n",
       "    }\n",
       "\n",
       "    .dataframe thead th {\n",
       "        text-align: right;\n",
       "    }\n",
       "</style>\n",
       "<table border=\"1\" class=\"dataframe\">\n",
       "  <thead>\n",
       "    <tr style=\"text-align: right;\">\n",
       "      <th></th>\n",
       "      <th>T0</th>\n",
       "      <th>T1</th>\n",
       "      <th>T2</th>\n",
       "      <th>T3</th>\n",
       "      <th>T4</th>\n",
       "      <th>T5</th>\n",
       "      <th>T6</th>\n",
       "      <th>T7</th>\n",
       "      <th>T8</th>\n",
       "      <th>T9</th>\n",
       "      <th>...</th>\n",
       "      <th>T16</th>\n",
       "      <th>T17</th>\n",
       "      <th>T18</th>\n",
       "      <th>T19</th>\n",
       "      <th>T20</th>\n",
       "      <th>T21</th>\n",
       "      <th>T22</th>\n",
       "      <th>T23</th>\n",
       "      <th>T24</th>\n",
       "      <th>T25</th>\n",
       "    </tr>\n",
       "    <tr>\n",
       "      <th>GENE_ID</th>\n",
       "      <th></th>\n",
       "      <th></th>\n",
       "      <th></th>\n",
       "      <th></th>\n",
       "      <th></th>\n",
       "      <th></th>\n",
       "      <th></th>\n",
       "      <th></th>\n",
       "      <th></th>\n",
       "      <th></th>\n",
       "      <th></th>\n",
       "      <th></th>\n",
       "      <th></th>\n",
       "      <th></th>\n",
       "      <th></th>\n",
       "      <th></th>\n",
       "      <th></th>\n",
       "      <th></th>\n",
       "      <th></th>\n",
       "      <th></th>\n",
       "      <th></th>\n",
       "    </tr>\n",
       "  </thead>\n",
       "  <tbody>\n",
       "    <tr>\n",
       "      <th>Rv0001</th>\n",
       "      <td>0.0</td>\n",
       "      <td>0.053288</td>\n",
       "      <td>0.562002</td>\n",
       "      <td>0.520098</td>\n",
       "      <td>0.408998</td>\n",
       "      <td>0.292690</td>\n",
       "      <td>0.197589</td>\n",
       "      <td>0.370034</td>\n",
       "      <td>-0.161297</td>\n",
       "      <td>-0.019435</td>\n",
       "      <td>...</td>\n",
       "      <td>0.716156</td>\n",
       "      <td>0.726429</td>\n",
       "      <td>0.999946</td>\n",
       "      <td>-0.779207</td>\n",
       "      <td>-0.772564</td>\n",
       "      <td>-0.506032</td>\n",
       "      <td>1.130520</td>\n",
       "      <td>1.210863</td>\n",
       "      <td>0.795904</td>\n",
       "      <td>0.424219</td>\n",
       "    </tr>\n",
       "    <tr>\n",
       "      <th>Rv0005</th>\n",
       "      <td>0.0</td>\n",
       "      <td>0.336807</td>\n",
       "      <td>0.921491</td>\n",
       "      <td>0.857554</td>\n",
       "      <td>0.965708</td>\n",
       "      <td>0.870024</td>\n",
       "      <td>0.932548</td>\n",
       "      <td>1.102305</td>\n",
       "      <td>-0.282280</td>\n",
       "      <td>0.018132</td>\n",
       "      <td>...</td>\n",
       "      <td>0.537108</td>\n",
       "      <td>0.595354</td>\n",
       "      <td>0.593092</td>\n",
       "      <td>-2.044135</td>\n",
       "      <td>-2.142398</td>\n",
       "      <td>-1.892089</td>\n",
       "      <td>-0.090506</td>\n",
       "      <td>0.304769</td>\n",
       "      <td>0.224248</td>\n",
       "      <td>0.551998</td>\n",
       "    </tr>\n",
       "    <tr>\n",
       "      <th>Rv0006</th>\n",
       "      <td>0.0</td>\n",
       "      <td>0.366148</td>\n",
       "      <td>0.782390</td>\n",
       "      <td>1.069473</td>\n",
       "      <td>1.040000</td>\n",
       "      <td>0.851552</td>\n",
       "      <td>1.092635</td>\n",
       "      <td>0.919673</td>\n",
       "      <td>-0.664284</td>\n",
       "      <td>-0.196439</td>\n",
       "      <td>...</td>\n",
       "      <td>0.110037</td>\n",
       "      <td>-0.157785</td>\n",
       "      <td>0.399855</td>\n",
       "      <td>-2.097919</td>\n",
       "      <td>-2.057011</td>\n",
       "      <td>-1.771128</td>\n",
       "      <td>-0.241943</td>\n",
       "      <td>0.129194</td>\n",
       "      <td>0.188108</td>\n",
       "      <td>0.467530</td>\n",
       "    </tr>\n",
       "    <tr>\n",
       "      <th>Rv0009</th>\n",
       "      <td>0.0</td>\n",
       "      <td>0.755500</td>\n",
       "      <td>1.256562</td>\n",
       "      <td>0.938486</td>\n",
       "      <td>1.124699</td>\n",
       "      <td>0.869502</td>\n",
       "      <td>0.982032</td>\n",
       "      <td>0.963860</td>\n",
       "      <td>-0.797231</td>\n",
       "      <td>-0.089894</td>\n",
       "      <td>...</td>\n",
       "      <td>-0.291450</td>\n",
       "      <td>0.134672</td>\n",
       "      <td>-0.206416</td>\n",
       "      <td>-2.747671</td>\n",
       "      <td>-3.066205</td>\n",
       "      <td>-2.417691</td>\n",
       "      <td>0.060293</td>\n",
       "      <td>0.298611</td>\n",
       "      <td>0.212941</td>\n",
       "      <td>0.408092</td>\n",
       "    </tr>\n",
       "    <tr>\n",
       "      <th>Rv0010c</th>\n",
       "      <td>0.0</td>\n",
       "      <td>0.463511</td>\n",
       "      <td>0.526630</td>\n",
       "      <td>0.611111</td>\n",
       "      <td>0.626512</td>\n",
       "      <td>0.424885</td>\n",
       "      <td>0.588894</td>\n",
       "      <td>0.451351</td>\n",
       "      <td>-0.401350</td>\n",
       "      <td>-0.128419</td>\n",
       "      <td>...</td>\n",
       "      <td>-0.361586</td>\n",
       "      <td>-0.408970</td>\n",
       "      <td>-0.403555</td>\n",
       "      <td>-1.160688</td>\n",
       "      <td>-1.212446</td>\n",
       "      <td>-1.003800</td>\n",
       "      <td>-0.267877</td>\n",
       "      <td>-0.042166</td>\n",
       "      <td>-0.003257</td>\n",
       "      <td>0.262309</td>\n",
       "    </tr>\n",
       "  </tbody>\n",
       "</table>\n",
       "<p>5 rows × 26 columns</p>\n",
       "</div>"
      ],
      "text/plain": [
       "          T0        T1        T2        T3        T4        T5        T6  \\\n",
       "GENE_ID                                                                    \n",
       "Rv0001   0.0  0.053288  0.562002  0.520098  0.408998  0.292690  0.197589   \n",
       "Rv0005   0.0  0.336807  0.921491  0.857554  0.965708  0.870024  0.932548   \n",
       "Rv0006   0.0  0.366148  0.782390  1.069473  1.040000  0.851552  1.092635   \n",
       "Rv0009   0.0  0.755500  1.256562  0.938486  1.124699  0.869502  0.982032   \n",
       "Rv0010c  0.0  0.463511  0.526630  0.611111  0.626512  0.424885  0.588894   \n",
       "\n",
       "               T7        T8        T9    ...          T16       T17       T18  \\\n",
       "GENE_ID                                  ...                                    \n",
       "Rv0001   0.370034 -0.161297 -0.019435    ...     0.716156  0.726429  0.999946   \n",
       "Rv0005   1.102305 -0.282280  0.018132    ...     0.537108  0.595354  0.593092   \n",
       "Rv0006   0.919673 -0.664284 -0.196439    ...     0.110037 -0.157785  0.399855   \n",
       "Rv0009   0.963860 -0.797231 -0.089894    ...    -0.291450  0.134672 -0.206416   \n",
       "Rv0010c  0.451351 -0.401350 -0.128419    ...    -0.361586 -0.408970 -0.403555   \n",
       "\n",
       "              T19       T20       T21       T22       T23       T24       T25  \n",
       "GENE_ID                                                                        \n",
       "Rv0001  -0.779207 -0.772564 -0.506032  1.130520  1.210863  0.795904  0.424219  \n",
       "Rv0005  -2.044135 -2.142398 -1.892089 -0.090506  0.304769  0.224248  0.551998  \n",
       "Rv0006  -2.097919 -2.057011 -1.771128 -0.241943  0.129194  0.188108  0.467530  \n",
       "Rv0009  -2.747671 -3.066205 -2.417691  0.060293  0.298611  0.212941  0.408092  \n",
       "Rv0010c -1.160688 -1.212446 -1.003800 -0.267877 -0.042166 -0.003257  0.262309  \n",
       "\n",
       "[5 rows x 26 columns]"
      ]
     },
     "execution_count": 3,
     "metadata": {},
     "output_type": "execute_result"
    }
   ],
   "source": [
    "provider.df_normalized.head()"
   ]
  },
  {
   "cell_type": "markdown",
   "metadata": {},
   "source": [
    "## Visualization of the Normalized Data"
   ]
  },
  {
   "cell_type": "code",
   "execution_count": 4,
   "metadata": {
    "scrolled": false
   },
   "outputs": [
    {
     "data": {
      "image/png": "[encoded data removed]",
      "text/plain": [
       "<Figure size 1152x720 with 2 Axes>"
      ]
     },
     "metadata": {
      "needs_background": "light"
     },
     "output_type": "display_data"
    }
   ],
   "source": [
    "df = util_plots.plotClusteredHeatmap(provider=provider, ncluster=60)"
   ]
  },
  {
   "cell_type": "markdown",
   "metadata": {},
   "source": [
    "## Perfect Correlations\n",
    "Perfectly correlated genes are ones that are differentially expressed in the same way at each interval."
   ]
  },
  {
   "cell_type": "code",
   "execution_count": 5,
   "metadata": {},
   "outputs": [
    {
     "ename": "AttributeError",
     "evalue": "module 'common.transform_data' has no attribute 'thresholdData'",
     "output_type": "error",
     "traceback": [
      "\u001b[0;31m--------------------------------------------------------------------------\u001b[0m",
      "\u001b[0;31mAttributeError\u001b[0m                           Traceback (most recent call last)",
      "\u001b[0;32m<ipython-input-5-4a792399f6f9>\u001b[0m in \u001b[0;36m<module>\u001b[0;34m\u001b[0m\n\u001b[0;32m----> 1\u001b[0;31m \u001b[0mdf\u001b[0m \u001b[0;34m=\u001b[0m \u001b[0mtransform_data\u001b[0m\u001b[0;34m.\u001b[0m\u001b[0mthresholdData\u001b[0m\u001b[0;34m(\u001b[0m\u001b[0mprovider\u001b[0m\u001b[0;34m.\u001b[0m\u001b[0mdf_normalized\u001b[0m\u001b[0;34m,\u001b[0m \u001b[0mis_include_nan\u001b[0m\u001b[0;34m=\u001b[0m\u001b[0;32mFalse\u001b[0m\u001b[0;34m)\u001b[0m\u001b[0;34m\u001b[0m\u001b[0;34m\u001b[0m\u001b[0m\n\u001b[0m\u001b[1;32m      2\u001b[0m \u001b[0mgrouper\u001b[0m \u001b[0;34m=\u001b[0m \u001b[0mDataGrouper\u001b[0m\u001b[0;34m(\u001b[0m\u001b[0mdf\u001b[0m\u001b[0;34m)\u001b[0m\u001b[0;34m\u001b[0m\u001b[0;34m\u001b[0m\u001b[0m\n\u001b[1;32m      3\u001b[0m \u001b[0mgrouper\u001b[0m\u001b[0;34m.\u001b[0m\u001b[0mdo\u001b[0m\u001b[0;34m(\u001b[0m\u001b[0mmin_size\u001b[0m\u001b[0;34m=\u001b[0m\u001b[0;36m1\u001b[0m\u001b[0;34m)\u001b[0m\u001b[0;34m\u001b[0m\u001b[0;34m\u001b[0m\u001b[0m\n",
      "\u001b[0;31mAttributeError\u001b[0m: module 'common.transform_data' has no attribute 'thresholdData'"
     ]
    }
   ],
   "source": [
    "df = transform_data.thresholdData(provider.df_normalized, is_include_nan=False)\n",
    "grouper = DataGrouper(df)\n",
    "grouper.do(min_size=1)"
   ]
  },
  {
   "cell_type": "code",
   "execution_count": null,
   "metadata": {},
   "outputs": [],
   "source": [
    "MAX = 25\n",
    "probs = []\n",
    "grouper.do(min_size=0, is_include_zeros=True)\n",
    "df = grouper.df_group\n",
    "total = df[cn.CNT_GROUP].sum()\n",
    "for n in range(0, MAX):\n",
    "    count = sum([r[cn.CNT_GROUP] for _, r in df.iterrows() if r[cn.CNT_UP] + r[cn.CNT_DOWN] == n])\n",
    "    probs.append(count)\n",
    "probs = [1.0*p / total for p in probs]\n",
    "\n"
   ]
  },
  {
   "cell_type": "code",
   "execution_count": null,
   "metadata": {},
   "outputs": [],
   "source": [
    "grouper.do(min_size=0, is_include_zeros=True)\n",
    "len(grouper.df_group)"
   ]
  },
  {
   "cell_type": "code",
   "execution_count": null,
   "metadata": {},
   "outputs": [],
   "source": [
    "# Hist for the number of genes timepoints with DE\n",
    "_ = plt.bar(range(len(probs)), probs)\n",
    "_ = plt.xlabel(\"Number DE\")\n",
    "_ = plt.ylabel(\"Fraction\")\n",
    "_ = plt.title(\"Genes\")"
   ]
  },
  {
   "cell_type": "code",
   "execution_count": null,
   "metadata": {},
   "outputs": [],
   "source": [
    "# Histogram for number of groups with differential expression\n",
    "bins = 10\n",
    "for col in [cn.CNT_UP, cn.CNT_DOWN, \"both\"]:\n",
    "    plt.figure()\n",
    "    if col == \"both\":\n",
    "        _ = plt.hist(grouper.df_group[cn.CNT_UP] + grouper.df_group[cn.CNT_DOWN], density=True, bins=bins)\n",
    "    else:\n",
    "        _ = plt.hist(grouper.df_group[col], density=True, bins=bins)\n",
    "    _ = plt.xlabel(\"Number DE\")\n",
    "    _ = plt.ylabel(\"Fraction\")\n",
    "    _ = plt.title(\"Correlated Groups: %s\" % col)"
   ]
  },
  {
   "cell_type": "code",
   "execution_count": null,
   "metadata": {},
   "outputs": [],
   "source": [
    "# CDF of group sizes\n",
    "def plotGroupSizeCDF(min_size):\n",
    "    grouper.do(min_size=min_size)\n",
    "    cnts = grouper.df_group[cn.CNT_GROUP].tolist()\n",
    "    cnts.sort()\n",
    "    frac = [1.0*i/len(cnts) for i in range(len(cnts))]\n",
    "    _ = plt.plot(cnts, frac)\n",
    "    _ = plt.xlabel(\"Group Size\")\n",
    "    _ = plt.ylabel(\"Fraction\")"
   ]
  },
  {
   "cell_type": "code",
   "execution_count": null,
   "metadata": {},
   "outputs": [],
   "source": [
    "# CDF of group sizes\n",
    "def plotGroupSizeHist(min_size):\n",
    "    grouper.do(min_size=min_size)\n",
    "    cnts = grouper.df_group[cn.CNT_GROUP].tolist()\n",
    "    plt.hist(cnts, bins=len(grouper.df_group))\n",
    "    _ = plt.xlabel(\"Group Size\")\n",
    "    _ = plt.ylabel(\"# Groups\")\n",
    "    _ = plt.title(\"Min. Group Size: %d\" % min_size)"
   ]
  },
  {
   "cell_type": "code",
   "execution_count": null,
   "metadata": {},
   "outputs": [],
   "source": [
    "plotGroupSizeHist(2)"
   ]
  },
  {
   "cell_type": "code",
   "execution_count": null,
   "metadata": {},
   "outputs": [],
   "source": [
    "grouper.do(min_size=1)\n",
    "grouper.df_group[cn.CNT_GROUP].sum()"
   ]
  },
  {
   "cell_type": "code",
   "execution_count": null,
   "metadata": {},
   "outputs": [],
   "source": [
    "grouper.do(min_size=3)\n",
    "1464 - grouper.df_group[cn.CNT_GROUP].sum()"
   ]
  },
  {
   "cell_type": "code",
   "execution_count": null,
   "metadata": {},
   "outputs": [],
   "source": [
    "2772-1464"
   ]
  },
  {
   "cell_type": "code",
   "execution_count": null,
   "metadata": {},
   "outputs": [],
   "source": [
    "for size in [1, 2, 3, 5]:\n",
    "    plotGroupSizeCDF(size)"
   ]
  },
  {
   "cell_type": "code",
   "execution_count": null,
   "metadata": {},
   "outputs": [],
   "source": [
    "from scipy.stats import binom\n",
    "binom.cdf(0, 10, 0.047)"
   ]
  },
  {
   "cell_type": "code",
   "execution_count": null,
   "metadata": {},
   "outputs": [],
   "source": [
    "len(provider.df_normalized)"
   ]
  },
  {
   "cell_type": "markdown",
   "metadata": {},
   "source": [
    "**Observations**\n",
    "1. What's going on with the block of genes that are solid blue? Should be 0s? \n",
    "Some genes remain over- or under- expressed across multiple state transitions\n",
    "1. Also, seem to be mini-states\n",
    "1. It looks like there's a solid band around 2300. This seems impossible since the high values must be compensated by low values relative to the mean.\n",
    "1. Note the juxtaposition of over-expression with under-expression. What are these genes?"
   ]
  },
  {
   "cell_type": "markdown",
   "metadata": {},
   "source": [
    "**Analyses**\n",
    "1. Validate against Mario's data\n",
    "1. Find perfectly correlated genes, plot statistics on groups.\n",
    "1. Create a spreadsheet with groups, genes, GO terms\n",
    "1. Fit frequency of groups with n DEs to a discrete exponential?\n",
    "1. Plot number or fraction of >1 in succession DEs over time with vertical lines before looking at statistical tests.\n",
    "1. Overlay the groups on time."
   ]
  },
  {
   "cell_type": "markdown",
   "metadata": {},
   "source": [
    "## Gene Analysis"
   ]
  },
  {
   "cell_type": "code",
   "execution_count": null,
   "metadata": {},
   "outputs": [],
   "source": [
    "util_plots.plotClustermap()\n",
    "util_plots.plotClustermap(is_up_regulated=False)"
   ]
  },
  {
   "cell_type": "markdown",
   "metadata": {},
   "source": [
    "## Term Analysis"
   ]
  },
  {
   "cell_type": "code",
   "execution_count": null,
   "metadata": {},
   "outputs": [],
   "source": [
    "matrix = TermMatrix()"
   ]
  },
  {
   "cell_type": "code",
   "execution_count": null,
   "metadata": {},
   "outputs": [],
   "source": [
    "matrix.plotTimeAggregation(is_up_regulated=False)"
   ]
  },
  {
   "cell_type": "code",
   "execution_count": null,
   "metadata": {},
   "outputs": [],
   "source": [
    "matrix.plotTimeAggregation(is_up_regulated=True)"
   ]
  },
  {
   "cell_type": "code",
   "execution_count": null,
   "metadata": {},
   "outputs": [],
   "source": [
    "_, _, ser_cluster = matrix.calcClusters(max_distance=0, is_up_regulated=True)"
   ]
  },
  {
   "cell_type": "code",
   "execution_count": null,
   "metadata": {},
   "outputs": [],
   "source": [
    "ser_cluster.sort_values()"
   ]
  },
  {
   "cell_type": "code",
   "execution_count": null,
   "metadata": {},
   "outputs": [],
   "source": [
    "df = pd.DataFrame({'group': ser_cluster, 'term': ser_cluster.index})\n",
    "dfg = df.groupby('group')\n",
    "groups = dfg.groups\n",
    "terms = [\"\\n\".join(v.tolist()) for v in groups.values()]\n",
    "sizes = [len(v.tolist()) for v in groups.values()]\n",
    "df_g = pd.DataFrame({'group': list(groups.keys()), 'terms': terms, 'sizes': sizes})"
   ]
  },
  {
   "cell_type": "code",
   "execution_count": null,
   "metadata": {},
   "outputs": [],
   "source": [
    "df_g.to_csv(\"terms.csv\")"
   ]
  },
  {
   "cell_type": "code",
   "execution_count": null,
   "metadata": {},
   "outputs": [],
   "source": [
    "len(groups.keys())"
   ]
  },
  {
   "cell_type": "code",
   "execution_count": null,
   "metadata": {},
   "outputs": [],
   "source": [
    "type(groups)"
   ]
  },
  {
   "cell_type": "markdown",
   "metadata": {},
   "source": [
    "**Notes**:\n",
    "1. Am I seeing all of the GO terms?"
   ]
  },
  {
   "cell_type": "markdown",
   "metadata": {},
   "source": [
    "## Gene and Terms"
   ]
  },
  {
   "cell_type": "markdown",
   "metadata": {},
   "source": [
    "Analysis\n",
    "1. Plot number times regulated versus ratio of term count / gene count for groups"
   ]
  }
 ],
 "metadata": {
  "kernelspec": {
   "display_name": "Python 3",
   "language": "python",
   "name": "python3"
  },
  "language_info": {
   "codemirror_mode": {
    "name": "ipython",
    "version": 3
   },
   "file_extension": ".py",
   "mimetype": "text/x-python",
   "name": "python",
   "nbconvert_exporter": "python",
   "pygments_lexer": "ipython3",
   "version": "3.6.8"
  }
 },
 "nbformat": 4,
 "nbformat_minor": 2
}
