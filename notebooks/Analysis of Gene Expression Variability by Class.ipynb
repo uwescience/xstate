{
 "cells": [
  {
   "cell_type": "markdown",
   "metadata": {},
   "source": [
    "# Analysis of Gene Expression Variability by Class\n",
    "This notebook analyzes the variability of genes within classes."
   ]
  },
  {
   "cell_type": "code",
   "execution_count": 1,
   "metadata": {
    "scrolled": true
   },
   "outputs": [],
   "source": [
    "import init\n",
    "from common import constants as cn\n",
    "from common.trinary_data import TrinaryData\n",
    "from common.data_provider import DataProvider\n",
    "from common_python.plots import util_plots\n",
    "from plots import util_plots as xutil_plots\n",
    "from common_python.classifier import classifier_ensemble\n",
    "from common_python.classifier import classifier_collection\n",
    "from common_python.classifier.classifier_ensemble_random_forest import ClassifierEnsembleRandomForest\n",
    "from common_python.plots import util_plots as common_plots\n",
    "\n",
    "import collections\n",
    "import os\n",
    "import matplotlib.pyplot as plt\n",
    "import numpy as np\n",
    "import pandas as pd\n",
    "import sklearn\n",
    "from sklearn.decomposition import PCA\n",
    "from sklearn import svm\n",
    "from sklearn.model_selection import cross_val_score\n",
    "\n",
    "trinary_short = TrinaryData()\n",
    "trinary_short.df_X.columns = trinary_short.features\n",
    "trinary_long = TrinaryData(is_averaged=False, is_dropT1=False)\n",
    "trinary_long.df_X.columns = trinary_long.features\n",
    "\n",
    "%matplotlib inline"
   ]
  },
  {
   "cell_type": "code",
   "execution_count": 2,
   "metadata": {},
   "outputs": [
    {
     "data": {
      "text/html": [
       "<div>\n",
       "<style scoped>\n",
       "    .dataframe tbody tr th:only-of-type {\n",
       "        vertical-align: middle;\n",
       "    }\n",
       "\n",
       "    .dataframe tbody tr th {\n",
       "        vertical-align: top;\n",
       "    }\n",
       "\n",
       "    .dataframe thead th {\n",
       "        text-align: right;\n",
       "    }\n",
       "</style>\n",
       "<table border=\"1\" class=\"dataframe\">\n",
       "  <thead>\n",
       "    <tr style=\"text-align: right;\">\n",
       "      <th></th>\n",
       "      <th>Rv1131</th>\n",
       "      <th>Rv1927</th>\n",
       "      <th>Rv3085</th>\n",
       "      <th>Rv3083</th>\n",
       "      <th>Rv2642</th>\n",
       "      <th>Rv3741c</th>\n",
       "      <th>Rv0841</th>\n",
       "      <th>Rv1129c</th>\n",
       "      <th>Rv3086</th>\n",
       "      <th>Rv0260c</th>\n",
       "      <th>...</th>\n",
       "      <th>Rv3267</th>\n",
       "      <th>Rv0288</th>\n",
       "      <th>Rv0129c</th>\n",
       "      <th>Rv3135</th>\n",
       "      <th>Rv0351</th>\n",
       "      <th>Rv2147c</th>\n",
       "      <th>Rv2737c</th>\n",
       "      <th>Rv0440</th>\n",
       "      <th>Rv3269</th>\n",
       "      <th>Rv3418c</th>\n",
       "    </tr>\n",
       "  </thead>\n",
       "  <tbody>\n",
       "    <tr>\n",
       "      <th>T1.0</th>\n",
       "      <td>-1</td>\n",
       "      <td>-1</td>\n",
       "      <td>-1</td>\n",
       "      <td>-1</td>\n",
       "      <td>-1</td>\n",
       "      <td>-1</td>\n",
       "      <td>-1</td>\n",
       "      <td>-1</td>\n",
       "      <td>-1</td>\n",
       "      <td>-1</td>\n",
       "      <td>...</td>\n",
       "      <td>1</td>\n",
       "      <td>1</td>\n",
       "      <td>1</td>\n",
       "      <td>1</td>\n",
       "      <td>1</td>\n",
       "      <td>1</td>\n",
       "      <td>1</td>\n",
       "      <td>1</td>\n",
       "      <td>1</td>\n",
       "      <td>1</td>\n",
       "    </tr>\n",
       "    <tr>\n",
       "      <th>T2.0</th>\n",
       "      <td>-1</td>\n",
       "      <td>-1</td>\n",
       "      <td>-1</td>\n",
       "      <td>-1</td>\n",
       "      <td>-1</td>\n",
       "      <td>-1</td>\n",
       "      <td>-1</td>\n",
       "      <td>-1</td>\n",
       "      <td>-1</td>\n",
       "      <td>-1</td>\n",
       "      <td>...</td>\n",
       "      <td>1</td>\n",
       "      <td>1</td>\n",
       "      <td>1</td>\n",
       "      <td>1</td>\n",
       "      <td>1</td>\n",
       "      <td>1</td>\n",
       "      <td>1</td>\n",
       "      <td>1</td>\n",
       "      <td>1</td>\n",
       "      <td>1</td>\n",
       "    </tr>\n",
       "    <tr>\n",
       "      <th>T3.0</th>\n",
       "      <td>-1</td>\n",
       "      <td>-1</td>\n",
       "      <td>-1</td>\n",
       "      <td>-1</td>\n",
       "      <td>-1</td>\n",
       "      <td>-1</td>\n",
       "      <td>-1</td>\n",
       "      <td>-1</td>\n",
       "      <td>-1</td>\n",
       "      <td>-1</td>\n",
       "      <td>...</td>\n",
       "      <td>1</td>\n",
       "      <td>1</td>\n",
       "      <td>1</td>\n",
       "      <td>1</td>\n",
       "      <td>1</td>\n",
       "      <td>1</td>\n",
       "      <td>1</td>\n",
       "      <td>1</td>\n",
       "      <td>1</td>\n",
       "      <td>1</td>\n",
       "    </tr>\n",
       "    <tr>\n",
       "      <th>T4.0</th>\n",
       "      <td>-1</td>\n",
       "      <td>-1</td>\n",
       "      <td>-1</td>\n",
       "      <td>-1</td>\n",
       "      <td>-1</td>\n",
       "      <td>-1</td>\n",
       "      <td>-1</td>\n",
       "      <td>-1</td>\n",
       "      <td>-1</td>\n",
       "      <td>-1</td>\n",
       "      <td>...</td>\n",
       "      <td>1</td>\n",
       "      <td>1</td>\n",
       "      <td>1</td>\n",
       "      <td>1</td>\n",
       "      <td>1</td>\n",
       "      <td>1</td>\n",
       "      <td>1</td>\n",
       "      <td>1</td>\n",
       "      <td>1</td>\n",
       "      <td>1</td>\n",
       "    </tr>\n",
       "    <tr>\n",
       "      <th>T5.0</th>\n",
       "      <td>-1</td>\n",
       "      <td>-1</td>\n",
       "      <td>-1</td>\n",
       "      <td>-1</td>\n",
       "      <td>-1</td>\n",
       "      <td>-1</td>\n",
       "      <td>-1</td>\n",
       "      <td>-1</td>\n",
       "      <td>-1</td>\n",
       "      <td>-1</td>\n",
       "      <td>...</td>\n",
       "      <td>1</td>\n",
       "      <td>1</td>\n",
       "      <td>1</td>\n",
       "      <td>1</td>\n",
       "      <td>1</td>\n",
       "      <td>1</td>\n",
       "      <td>1</td>\n",
       "      <td>1</td>\n",
       "      <td>1</td>\n",
       "      <td>1</td>\n",
       "    </tr>\n",
       "  </tbody>\n",
       "</table>\n",
       "<p>5 rows × 2342 columns</p>\n",
       "</div>"
      ],
      "text/plain": [
       "      Rv1131  Rv1927  Rv3085  Rv3083  Rv2642  Rv3741c  Rv0841  Rv1129c  \\\n",
       "T1.0      -1      -1      -1      -1      -1       -1      -1       -1   \n",
       "T2.0      -1      -1      -1      -1      -1       -1      -1       -1   \n",
       "T3.0      -1      -1      -1      -1      -1       -1      -1       -1   \n",
       "T4.0      -1      -1      -1      -1      -1       -1      -1       -1   \n",
       "T5.0      -1      -1      -1      -1      -1       -1      -1       -1   \n",
       "\n",
       "      Rv3086  Rv0260c  ...  Rv3267  Rv0288  Rv0129c  Rv3135  Rv0351  Rv2147c  \\\n",
       "T1.0      -1       -1  ...       1       1        1       1       1        1   \n",
       "T2.0      -1       -1  ...       1       1        1       1       1        1   \n",
       "T3.0      -1       -1  ...       1       1        1       1       1        1   \n",
       "T4.0      -1       -1  ...       1       1        1       1       1        1   \n",
       "T5.0      -1       -1  ...       1       1        1       1       1        1   \n",
       "\n",
       "      Rv2737c  Rv0440  Rv3269  Rv3418c  \n",
       "T1.0        1       1       1        1  \n",
       "T2.0        1       1       1        1  \n",
       "T3.0        1       1       1        1  \n",
       "T4.0        1       1       1        1  \n",
       "T5.0        1       1       1        1  \n",
       "\n",
       "[5 rows x 2342 columns]"
      ]
     },
     "execution_count": 2,
     "metadata": {},
     "output_type": "execute_result"
    }
   ],
   "source": [
    "trinary_long.df_X.head()"
   ]
  },
  {
   "cell_type": "code",
   "execution_count": 3,
   "metadata": {},
   "outputs": [
    {
     "data": {
      "text/plain": [
       "T1.0    0\n",
       "T1.1    0\n",
       "T1.2    0\n",
       "T2.0    1\n",
       "T2.1    1\n",
       "Name: name, dtype: int64"
      ]
     },
     "execution_count": 3,
     "metadata": {},
     "output_type": "execute_result"
    }
   ],
   "source": [
    "trinary_long.ser_y.head()"
   ]
  },
  {
   "cell_type": "markdown",
   "metadata": {},
   "source": [
    "## F-Stat by Gene"
   ]
  },
  {
   "cell_type": "code",
   "execution_count": 4,
   "metadata": {},
   "outputs": [],
   "source": [
    "CLASS = \"class\"\n",
    "df_ext = trinary_long.df_X\n",
    "df_ext[CLASS] = trinary_long.ser_y"
   ]
  },
  {
   "cell_type": "code",
   "execution_count": 62,
   "metadata": {},
   "outputs": [],
   "source": [
    "def makeFStatSer(df_X, ser_y, state_equ=None):\n",
    "    \"\"\"\n",
    "    Constructs the F-static for genes comparing sum of squares within the same\n",
    "    state to sum of squares between states.\n",
    "    :param pd.DataFrame df_X:\n",
    "        column: gene\n",
    "        row: instance\n",
    "        value: trinary\n",
    "    :param pd.Series ser_y:\n",
    "        row: instance\n",
    "        value: class\n",
    "    :param dict state_equ:\n",
    "        key: state in ser_y\n",
    "        value: new state\n",
    "    \"\"\"\n",
    "    if state_equ is None:\n",
    "        state_equ = {s: s for s in ser_y.unique()}\n",
    "    # Construct the groups\n",
    "    CLASS = \"class\"\n",
    "    df_X[CLASS] = ser_y.apply(lambda v: state_equ[v])\n",
    "    # Calculate aggregations\n",
    "    dfg = df_X.groupby(CLASS)\n",
    "    dfg_std = dfg.std()\n",
    "    dfg_mean = dfg.mean()\n",
    "    dfg_count = dfg.count()\n",
    "    # Calculate SSB\n",
    "    ser_mean = df_X.mean()\n",
    "    del ser_mean[CLASS]\n",
    "    df_ssb = dfg_count*(dfg_mean - ser_mean)**2\n",
    "    ser_ssb = df_ssb.sum()\n",
    "    # SSW\n",
    "    df_ssw = dfg_std*(dfg_count - 1)\n",
    "    ser_ssw = df_ssw.sum()\n",
    "    # Calculate the F-Statistic\n",
    "    ser_fstat = ser_ssb/ser_ssw\n",
    "    ser_fstat = ser_fstat.sort_values(ascending=False)\n",
    "    return ser_fstat"
   ]
  },
  {
   "cell_type": "code",
   "execution_count": 63,
   "metadata": {},
   "outputs": [
    {
     "data": {
      "text/plain": [
       "Rv2626c                                                                                                                                                                                                                                                                                                                                                                                                                                                                                                                                                                                                                           0.590571\n",
       "Rv1813c                                                                                                                                                                                                                                                                                                                                                                                                                                                                                                                                                                                                                           0.428194\n",
       "Rv2007c                                                                                                                                                                                                                                                                                                                                                                                                                                                                                                                                                                                                                           0.426390\n",
       "Rv2031c                                                                                                                                                                                                                                                                                                                                                                                                                                                                                                                                                                                                                           0.336788\n",
       "Rv3130c                                                                                                                                                                                                                                                                                                                                                                                                                                                                                                                                                                                                                           0.232135\n",
       "                                                                                                                                                                                                                                                                                                                                                                                                                                                                                                                                                                                                                                    ...   \n",
       "Rv1239c                                                                                                                                                                                                                                                                                                                                                                                                                                                                                                                                                                                                                           0.000000\n",
       "Rv3862c                                                                                                                                                                                                                                                                                                                                                                                                                                                                                                                                                                                                                           0.000000\n",
       "Rv2154c                                                                                                                                                                                                                                                                                                                                                                                                                                                                                                                                                                                                                           0.000000\n",
       "Rv1699                                                                                                                                                                                                                                                                                                                                                                                                                                                                                                                                                                                                                            0.000000\n",
       "Rv0016c--Rv0137c--Rv0257--Rv0274--Rv0337c--Rv0361--Rv0391--Rv0479c--Rv0491--Rv0577--Rv0583c--Rv0787A--Rv0806c--Rv0884c--Rv0903c--Rv0981--Rv1155--Rv1173--Rv1212c--Rv1224--Rv1248c--Rv1253--Rv1257c--Rv1332--Rv1337--Rv1448c--Rv1521--Rv1600--Rv1749c--Rv1811--Rv1814--Rv1828--Rv1844c--Rv1863c--Rv2124c--Rv2146c--Rv2183c--Rv2202c--Rv2215--Rv2289--Rv2500c--Rv2587c--Rv2606c--Rv2707--Rv2716--Rv2725c--Rv2791c--Rv2841c--Rv2970c--Rv3038c--Rv3075c--Rv3205c--Rv3265c--Rv3281--Rv3285--Rv3377c--Rv3403c--Rv3424c--Rv3425--Rv3426--Rv3465--Rv3520c--Rv3610c--Rv3626c--Rv3683--Rv3710--Rv3734c--Rv3816c--Rv3818--Rv3876--Rv3901c         NaN\n",
       "Length: 2342, dtype: float64"
      ]
     },
     "execution_count": 63,
     "metadata": {},
     "output_type": "execute_result"
    }
   ],
   "source": [
    "state_equ = {s: s if s==0 else 1 for s in trinary_long.ser_y.unique()}\n",
    "makeFStatSer(trinary_long.df_X, trinary_long.ser_y, state_equ=state_equ)"
   ]
  },
  {
   "cell_type": "code",
   "execution_count": 86,
   "metadata": {},
   "outputs": [],
   "source": [
    "def plotStateFstat(state):\n",
    "    state_equ = {s: s if s==state else -1 for s in trinary_long.ser_y.unique()}\n",
    "    ser_fstat = makeFStatSer(trinary_long.df_X, trinary_long.ser_y, state_equ=state_equ)\n",
    "    ser_sl = ser_fstat.apply(lambda v: -np.log(1 - f.cdf(v, 1, 70)))\n",
    "    indices = ser_sl.index[0:10]\n",
    "    plt.figure()\n",
    "    plt.figure(figsize=(8, 6))\n",
    "    plt.bar(indices, ser_sl[indices])\n",
    "    plt.xticks(indices, indices, rotation=90)\n",
    "    _ = plt.ylabel(\"-log(SL)\")\n",
    "    plt.title(\"State: %d\" % state)"
   ]
  },
  {
   "cell_type": "code",
   "execution_count": 87,
   "metadata": {},
   "outputs": [
    {
     "data": {
      "text/plain": [
       "<Figure size 432x288 with 0 Axes>"
      ]
     },
     "metadata": {},
     "output_type": "display_data"
    },
    {
     "data": {
      "image/png": "[encoded data removed]",
      "text/plain": [
       "<Figure size 576x432 with 1 Axes>"
      ]
     },
     "metadata": {
      "needs_background": "light"
     },
     "output_type": "display_data"
    },
    {
     "data": {
      "text/plain": [
       "<Figure size 432x288 with 0 Axes>"
      ]
     },
     "metadata": {},
     "output_type": "display_data"
    },
    {
     "data": {
      "image/png": "[encoded data removed]",
      "text/plain": [
       "<Figure size 576x432 with 1 Axes>"
      ]
     },
     "metadata": {
      "needs_background": "light"
     },
     "output_type": "display_data"
    },
    {
     "data": {
      "text/plain": [
       "<Figure size 432x288 with 0 Axes>"
      ]
     },
     "metadata": {},
     "output_type": "display_data"
    },
    {
     "data": {
      "image/png": "[encoded data removed]",
      "text/plain": [
       "<Figure size 576x432 with 1 Axes>"
      ]
     },
     "metadata": {
      "needs_background": "light"
     },
     "output_type": "display_data"
    },
    {
     "data": {
      "text/plain": [
       "<Figure size 432x288 with 0 Axes>"
      ]
     },
     "metadata": {},
     "output_type": "display_data"
    },
    {
     "data": {
      "image/png": "[encoded data removed]",
      "text/plain": [
       "<Figure size 576x432 with 1 Axes>"
      ]
     },
     "metadata": {
      "needs_background": "light"
     },
     "output_type": "display_data"
    },
    {
     "data": {
      "text/plain": [
       "<Figure size 432x288 with 0 Axes>"
      ]
     },
     "metadata": {},
     "output_type": "display_data"
    },
    {
     "data": {
      "image/png": "[encoded data removed]",
      "text/plain": [
       "<Figure size 576x432 with 1 Axes>"
      ]
     },
     "metadata": {
      "needs_background": "light"
     },
     "output_type": "display_data"
    },
    {
     "data": {
      "text/plain": [
       "<Figure size 432x288 with 0 Axes>"
      ]
     },
     "metadata": {},
     "output_type": "display_data"
    },
    {
     "data": {
      "image/png": "[encoded data removed]",
      "text/plain": [
       "<Figure size 576x432 with 1 Axes>"
      ]
     },
     "metadata": {
      "needs_background": "light"
     },
     "output_type": "display_data"
    }
   ],
   "source": [
    "for state in trinary_long.ser_y.unique():\n",
    "    plotStateFstat(state)"
   ]
  },
  {
   "cell_type": "code",
   "execution_count": 6,
   "metadata": {},
   "outputs": [
    {
     "data": {
      "text/html": [
       "<div>\n",
       "<style scoped>\n",
       "    .dataframe tbody tr th:only-of-type {\n",
       "        vertical-align: middle;\n",
       "    }\n",
       "\n",
       "    .dataframe tbody tr th {\n",
       "        vertical-align: top;\n",
       "    }\n",
       "\n",
       "    .dataframe thead th {\n",
       "        text-align: right;\n",
       "    }\n",
       "</style>\n",
       "<table border=\"1\" class=\"dataframe\">\n",
       "  <thead>\n",
       "    <tr style=\"text-align: right;\">\n",
       "      <th></th>\n",
       "      <th>Rv1131</th>\n",
       "      <th>Rv1927</th>\n",
       "      <th>Rv3085</th>\n",
       "      <th>Rv3083</th>\n",
       "      <th>Rv2642</th>\n",
       "      <th>Rv3741c</th>\n",
       "      <th>Rv0841</th>\n",
       "      <th>Rv1129c</th>\n",
       "      <th>Rv3086</th>\n",
       "      <th>Rv0260c</th>\n",
       "      <th>...</th>\n",
       "      <th>Rv3267</th>\n",
       "      <th>Rv0288</th>\n",
       "      <th>Rv0129c</th>\n",
       "      <th>Rv3135</th>\n",
       "      <th>Rv0351</th>\n",
       "      <th>Rv2147c</th>\n",
       "      <th>Rv2737c</th>\n",
       "      <th>Rv0440</th>\n",
       "      <th>Rv3269</th>\n",
       "      <th>Rv3418c</th>\n",
       "    </tr>\n",
       "    <tr>\n",
       "      <th>class</th>\n",
       "      <th></th>\n",
       "      <th></th>\n",
       "      <th></th>\n",
       "      <th></th>\n",
       "      <th></th>\n",
       "      <th></th>\n",
       "      <th></th>\n",
       "      <th></th>\n",
       "      <th></th>\n",
       "      <th></th>\n",
       "      <th></th>\n",
       "      <th></th>\n",
       "      <th></th>\n",
       "      <th></th>\n",
       "      <th></th>\n",
       "      <th></th>\n",
       "      <th></th>\n",
       "      <th></th>\n",
       "      <th></th>\n",
       "      <th></th>\n",
       "      <th></th>\n",
       "    </tr>\n",
       "  </thead>\n",
       "  <tbody>\n",
       "    <tr>\n",
       "      <th>0</th>\n",
       "      <td>-1.0</td>\n",
       "      <td>-1.000000</td>\n",
       "      <td>-1.000000</td>\n",
       "      <td>-1.000000</td>\n",
       "      <td>-0.333333</td>\n",
       "      <td>-0.666667</td>\n",
       "      <td>-0.333333</td>\n",
       "      <td>-1.000000</td>\n",
       "      <td>-1.000000</td>\n",
       "      <td>-0.666667</td>\n",
       "      <td>...</td>\n",
       "      <td>0.666667</td>\n",
       "      <td>0.333333</td>\n",
       "      <td>0.333333</td>\n",
       "      <td>0.333333</td>\n",
       "      <td>1.000000</td>\n",
       "      <td>0.333333</td>\n",
       "      <td>1.000000</td>\n",
       "      <td>1.000000</td>\n",
       "      <td>1.000000</td>\n",
       "      <td>1.000000</td>\n",
       "    </tr>\n",
       "    <tr>\n",
       "      <th>1</th>\n",
       "      <td>-1.0</td>\n",
       "      <td>-1.000000</td>\n",
       "      <td>-1.000000</td>\n",
       "      <td>-1.000000</td>\n",
       "      <td>-0.666667</td>\n",
       "      <td>-0.833333</td>\n",
       "      <td>-0.722222</td>\n",
       "      <td>-1.000000</td>\n",
       "      <td>-1.000000</td>\n",
       "      <td>-1.000000</td>\n",
       "      <td>...</td>\n",
       "      <td>0.666667</td>\n",
       "      <td>0.777778</td>\n",
       "      <td>0.944444</td>\n",
       "      <td>0.944444</td>\n",
       "      <td>0.666667</td>\n",
       "      <td>0.888889</td>\n",
       "      <td>0.944444</td>\n",
       "      <td>1.000000</td>\n",
       "      <td>1.000000</td>\n",
       "      <td>1.000000</td>\n",
       "    </tr>\n",
       "    <tr>\n",
       "      <th>2</th>\n",
       "      <td>-1.0</td>\n",
       "      <td>-0.611111</td>\n",
       "      <td>-0.777778</td>\n",
       "      <td>-0.944444</td>\n",
       "      <td>-0.166667</td>\n",
       "      <td>-0.722222</td>\n",
       "      <td>-0.666667</td>\n",
       "      <td>-0.555556</td>\n",
       "      <td>-0.388889</td>\n",
       "      <td>-0.277778</td>\n",
       "      <td>...</td>\n",
       "      <td>0.000000</td>\n",
       "      <td>-0.333333</td>\n",
       "      <td>-0.166667</td>\n",
       "      <td>-0.055556</td>\n",
       "      <td>-0.111111</td>\n",
       "      <td>-0.166667</td>\n",
       "      <td>0.222222</td>\n",
       "      <td>0.388889</td>\n",
       "      <td>0.611111</td>\n",
       "      <td>0.333333</td>\n",
       "    </tr>\n",
       "    <tr>\n",
       "      <th>3</th>\n",
       "      <td>-1.0</td>\n",
       "      <td>-1.000000</td>\n",
       "      <td>-1.000000</td>\n",
       "      <td>-0.866667</td>\n",
       "      <td>-0.733333</td>\n",
       "      <td>-0.733333</td>\n",
       "      <td>-0.400000</td>\n",
       "      <td>-1.000000</td>\n",
       "      <td>-0.866667</td>\n",
       "      <td>-1.000000</td>\n",
       "      <td>...</td>\n",
       "      <td>0.400000</td>\n",
       "      <td>0.933333</td>\n",
       "      <td>0.933333</td>\n",
       "      <td>0.600000</td>\n",
       "      <td>0.733333</td>\n",
       "      <td>0.933333</td>\n",
       "      <td>1.000000</td>\n",
       "      <td>1.000000</td>\n",
       "      <td>1.000000</td>\n",
       "      <td>1.000000</td>\n",
       "    </tr>\n",
       "    <tr>\n",
       "      <th>4</th>\n",
       "      <td>-1.0</td>\n",
       "      <td>-1.000000</td>\n",
       "      <td>-0.777778</td>\n",
       "      <td>-0.222222</td>\n",
       "      <td>0.000000</td>\n",
       "      <td>-1.000000</td>\n",
       "      <td>-0.111111</td>\n",
       "      <td>-1.000000</td>\n",
       "      <td>0.000000</td>\n",
       "      <td>0.000000</td>\n",
       "      <td>...</td>\n",
       "      <td>-0.111111</td>\n",
       "      <td>-0.333333</td>\n",
       "      <td>0.000000</td>\n",
       "      <td>0.444444</td>\n",
       "      <td>0.333333</td>\n",
       "      <td>0.333333</td>\n",
       "      <td>0.888889</td>\n",
       "      <td>1.000000</td>\n",
       "      <td>1.000000</td>\n",
       "      <td>0.888889</td>\n",
       "    </tr>\n",
       "  </tbody>\n",
       "</table>\n",
       "<p>5 rows × 2342 columns</p>\n",
       "</div>"
      ],
      "text/plain": [
       "       Rv1131    Rv1927    Rv3085    Rv3083    Rv2642   Rv3741c    Rv0841  \\\n",
       "class                                                                       \n",
       "0        -1.0 -1.000000 -1.000000 -1.000000 -0.333333 -0.666667 -0.333333   \n",
       "1        -1.0 -1.000000 -1.000000 -1.000000 -0.666667 -0.833333 -0.722222   \n",
       "2        -1.0 -0.611111 -0.777778 -0.944444 -0.166667 -0.722222 -0.666667   \n",
       "3        -1.0 -1.000000 -1.000000 -0.866667 -0.733333 -0.733333 -0.400000   \n",
       "4        -1.0 -1.000000 -0.777778 -0.222222  0.000000 -1.000000 -0.111111   \n",
       "\n",
       "        Rv1129c    Rv3086   Rv0260c  ...    Rv3267    Rv0288   Rv0129c  \\\n",
       "class                                ...                                 \n",
       "0     -1.000000 -1.000000 -0.666667  ...  0.666667  0.333333  0.333333   \n",
       "1     -1.000000 -1.000000 -1.000000  ...  0.666667  0.777778  0.944444   \n",
       "2     -0.555556 -0.388889 -0.277778  ...  0.000000 -0.333333 -0.166667   \n",
       "3     -1.000000 -0.866667 -1.000000  ...  0.400000  0.933333  0.933333   \n",
       "4     -1.000000  0.000000  0.000000  ... -0.111111 -0.333333  0.000000   \n",
       "\n",
       "         Rv3135    Rv0351   Rv2147c   Rv2737c    Rv0440    Rv3269   Rv3418c  \n",
       "class                                                                        \n",
       "0      0.333333  1.000000  0.333333  1.000000  1.000000  1.000000  1.000000  \n",
       "1      0.944444  0.666667  0.888889  0.944444  1.000000  1.000000  1.000000  \n",
       "2     -0.055556 -0.111111 -0.166667  0.222222  0.388889  0.611111  0.333333  \n",
       "3      0.600000  0.733333  0.933333  1.000000  1.000000  1.000000  1.000000  \n",
       "4      0.444444  0.333333  0.333333  0.888889  1.000000  1.000000  0.888889  \n",
       "\n",
       "[5 rows x 2342 columns]"
      ]
     },
     "execution_count": 6,
     "metadata": {},
     "output_type": "execute_result"
    }
   ],
   "source": [
    "dfg_mean.head()"
   ]
  },
  {
   "cell_type": "code",
   "execution_count": 8,
   "metadata": {},
   "outputs": [
    {
     "data": {
      "text/plain": [
       "Rv1131      0.280000\n",
       "Rv1927      2.068889\n",
       "Rv3085      0.853333\n",
       "Rv3083      4.433333\n",
       "Rv2642      6.530000\n",
       "             ...    \n",
       "Rv2147c    17.205556\n",
       "Rv2737c    11.418889\n",
       "Rv0440      5.108889\n",
       "Rv3269      2.068889\n",
       "Rv3418c     5.857778\n",
       "Length: 2342, dtype: float64"
      ]
     },
     "execution_count": 8,
     "metadata": {},
     "output_type": "execute_result"
    }
   ],
   "source": [
    "ser_mean = trinary_long.df_X.mean()\n",
    "del ser_mean[CLASS]\n",
    "#df_ssb = dfg_count*(dfg_mean - ser_mean)**2\n",
    "df_ssb = dfg_count*(dfg_mean - ser_mean)**2\n",
    "ser_ssb = df_ssb.sum()\n",
    "ser_ssb"
   ]
  },
  {
   "cell_type": "code",
   "execution_count": 9,
   "metadata": {},
   "outputs": [
    {
     "data": {
      "text/plain": [
       "Rv1131      4.281744\n",
       "Rv1927      8.527733\n",
       "Rv3085     10.800143\n",
       "Rv3083     12.460728\n",
       "Rv2642     29.496564\n",
       "             ...    \n",
       "Rv2147c    27.954284\n",
       "Rv2737c    17.121506\n",
       "Rv0440      8.527733\n",
       "Rv3269      8.527733\n",
       "Rv3418c    14.328570\n",
       "Length: 2342, dtype: float64"
      ]
     },
     "execution_count": 9,
     "metadata": {},
     "output_type": "execute_result"
    }
   ],
   "source": [
    "# Calculate the sum of squares within\n",
    "df_ssw = dfg_std*(dfg_count - 1)\n",
    "ser_ssw = df_ssw.sum()\n",
    "ser_ssw"
   ]
  },
  {
   "cell_type": "code",
   "execution_count": 11,
   "metadata": {},
   "outputs": [
    {
     "data": {
      "text/plain": [
       "(array([369., 374., 478., 388., 269., 160., 121.,  71.,  48.,  37.,  15.,\n",
       "          5.,   1.,   1.,   0.,   1.,   0.,   1.,   0.,   2.]),\n",
       " array([0.        , 0.12231561, 0.24463122, 0.36694682, 0.48926243,\n",
       "        0.61157804, 0.73389365, 0.85620926, 0.97852487, 1.10084047,\n",
       "        1.22315608, 1.34547169, 1.4677873 , 1.59010291, 1.71241852,\n",
       "        1.83473412, 1.95704973, 2.07936534, 2.20168095, 2.32399656,\n",
       "        2.44631217]),\n",
       " <a list of 20 Patch objects>)"
      ]
     },
     "execution_count": 11,
     "metadata": {},
     "output_type": "execute_result"
    },
    {
     "data": {
      "image/png": "[encoded data removed]",
      "text/plain": [
       "<Figure size 432x288 with 1 Axes>"
      ]
     },
     "metadata": {
      "needs_background": "light"
     },
     "output_type": "display_data"
    }
   ],
   "source": [
    "ser_fstat = ser_ssb/ser_ssw\n",
    "plt.hist(ser_fstat, bins=20)"
   ]
  },
  {
   "cell_type": "code",
   "execution_count": 16,
   "metadata": {},
   "outputs": [
    {
     "data": {
      "text/plain": [
       "Rv0676c--Rv2829c    2.446312\n",
       "Rv2698              2.446312\n",
       "Rv2627c             2.097279\n",
       "Rv1997              1.875959\n",
       "Rv0241c             1.614771\n",
       "Rv2626c             1.502922\n",
       "Rv2005c             1.389839\n",
       "Rv0602c             1.371179\n",
       "Rv0591              1.364046\n",
       "Rv1477              1.359965\n",
       "Rv0976c             1.359327\n",
       "Rv0629c             1.345309\n",
       "Rv2573              1.330304\n",
       "Rv0601c             1.328548\n",
       "Rv3450c             1.324059\n",
       "dtype: float64"
      ]
     },
     "execution_count": 16,
     "metadata": {},
     "output_type": "execute_result"
    }
   ],
   "source": [
    "ser_fstat = ser_fstat.sort_values(ascending=False)\n",
    "ser_fstat[ser_fstat.index[0:15]]"
   ]
  },
  {
   "cell_type": "code",
   "execution_count": 23,
   "metadata": {},
   "outputs": [
    {
     "data": {
      "text/plain": [
       "0.950193042159055"
      ]
     },
     "execution_count": 23,
     "metadata": {},
     "output_type": "execute_result"
    }
   ],
   "source": [
    "from scipy.stats import f\n",
    "f.cdf(1.3, 70, 2300)"
   ]
  },
  {
   "cell_type": "code",
   "execution_count": 71,
   "metadata": {},
   "outputs": [
    {
     "data": {
      "text/plain": [
       "0.0035481338923357532"
      ]
     },
     "execution_count": 71,
     "metadata": {},
     "output_type": "execute_result"
    }
   ],
   "source": [
    "10**(-2.45)"
   ]
  },
  {
   "cell_type": "code",
   "execution_count": 66,
   "metadata": {},
   "outputs": [
    {
     "data": {
      "image/png": "[encoded data removed]",
      "text/plain": [
       "<Figure size 1152x864 with 1 Axes>"
      ]
     },
     "metadata": {
      "needs_background": "light"
     },
     "output_type": "display_data"
    }
   ],
   "source": [
    "ser_sl = ser_fstat.apply(lambda v: -np.log(1 - f.cdf(v, 1, 70)))\n",
    "indices = ser_sl.index[0:10]\n",
    "plt.figure(figsize=(16, 12))\n",
    "plt.bar(indices, ser_sl[indices])\n",
    "plt.xticks(indices, indices, rotation=90)\n",
    "_ = plt.ylabel(\"-log(SL)\")"
   ]
  },
  {
   "cell_type": "code",
   "execution_count": 33,
   "metadata": {},
   "outputs": [
    {
     "data": {
      "text/plain": [
       "Index(['Rv0676c--Rv2829c', 'Rv2698', 'Rv2627c', 'Rv1997', 'Rv0241c', 'Rv2626c',\n",
       "       'Rv2005c', 'Rv0602c', 'Rv0591', 'Rv1477'],\n",
       "      dtype='object')"
      ]
     },
     "execution_count": 33,
     "metadata": {},
     "output_type": "execute_result"
    }
   ],
   "source": [
    "indices"
   ]
  }
 ],
 "metadata": {
  "kernelspec": {
   "display_name": "Python 3",
   "language": "python",
   "name": "python3"
  },
  "language_info": {
   "codemirror_mode": {
    "name": "ipython",
    "version": 3
   },
   "file_extension": ".py",
   "mimetype": "text/x-python",
   "name": "python",
   "nbconvert_exporter": "python",
   "pygments_lexer": "ipython3",
   "version": "3.8.1"
  }
 },
 "nbformat": 4,
 "nbformat_minor": 2
}
