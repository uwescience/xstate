{
 "cells": [
  {
   "cell_type": "markdown",
   "metadata": {},
   "source": [
    "# Evaluation of Classifiers on Data Other than the Bioreactor Samples"
   ]
  },
  {
   "cell_type": "markdown",
   "metadata": {},
   "source": [
    "This notebook analyzes the accuracy of the SVM classifier on data other than the bioreactor samples.\n",
    "The analysis makes use of data built by ClassificationData in the tools directory.\n",
    "This class augments the global namespace to include data used in analysis.\n",
    "\n",
    "The training data are:\n",
    "* all genes (not just regulators);\n",
    "* averaged;\n",
    "* do not include T1 (since only one observtion)"
   ]
  },
  {
   "cell_type": "markdown",
   "metadata": {},
   "source": [
    "# TO DO\n",
    "1. Plot progression for individual samples for Bioreactor\n",
    "1. Evaluate average of replications for other progressions\n",
    "1. Examine the contributions to the classification by gene in the samples that don't result in mycobactin being a strong predictor.\n",
    "1. Do cross correlation studies of genes to check ortogonality.\n",
    "1. **Check calculation of pooled, whether average log**\n",
    "1. Structure codes for the analyses conducted. This structure should be reflected in ``DATA_DCT``.\n",
    "   1. Selection of genes: myco, myco +, all genes\n",
    "   1. How counts are processed\n",
    "      1. Reference - T0/biostat, T0/data source, pooled/data source\n",
    "1. Evaluation of classifiers\n",
    "   1. Performance on biostat data\n",
    "   1. Performance on other samples\n",
    "      1. Time consistency\n",
    "      1. Replication consistency\n",
    "      1. Consistency with expectation\n",
    "1. Analyses for Eliza:\n",
    "   1. Accuracy with all 11 and the accuracy as you add in more genes (same as what you just sent but with all 11).\n",
    "   1. Could you test with just the 10 mycobactin genes (Rv2377c-Rv2386c)?\n",
    "   1. Could you test with just bacterioferritin (Rv3841)? Just Rv2384?\n",
    "   1. Is there one gene that gives good accuracy\n",
    "1. compare accuracy with ranom selection of genes\n",
    "1. Classifier coefficient profile.\n",
    "   1. Eliza genes - 1-10\n",
    "   1. Auto selected genes: 5, 10, 20"
   ]
  },
  {
   "cell_type": "markdown",
   "metadata": {},
   "source": [
    "# Preliminaries"
   ]
  },
  {
   "cell_type": "markdown",
   "metadata": {},
   "source": [
    "## Imports"
   ]
  },
  {
   "cell_type": "code",
   "execution_count": 1,
   "metadata": {},
   "outputs": [],
   "source": [
    "import init\n",
    "from common import constants as cn\n",
    "from common_python.util import dataframe\n",
    "from tools.make_classification_data import ClassificationData\n",
    "\n",
    "import copy\n",
    "import matplotlib.pyplot as plt\n",
    "import numpy as np\n",
    "import pandas as pd\n",
    "import sklearn\n",
    "from sklearn.decomposition import PCA\n",
    "from sklearn import svm\n",
    "from sklearn.model_selection import cross_val_score\n",
    "import seaborn as sns\n",
    "\n",
    "%matplotlib inline"
   ]
  },
  {
   "cell_type": "code",
   "execution_count": 3,
   "metadata": {},
   "outputs": [
    {
     "data": {
      "text/plain": [
       "dict_keys(['__name__', '__doc__', '__package__', '__loader__', '__spec__', '__builtin__', '__builtins__', '_ih', '_oh', '_dh', 'In', 'Out', 'get_ipython', 'exit', 'quit', '_', '__', '___', '_i', '_ii', '_iii', '_i1', 'init', 'cn', 'dataframe', 'ClassificationData', 'copy', 'plt', 'np', 'pd', 'sklearn', 'PCA', 'svm', 'cross_val_score', 'sns', '_i2', '_i3', 'data', 'dct', 'global_dct'])"
      ]
     },
     "execution_count": 3,
     "metadata": {},
     "output_type": "execute_result"
    }
   ],
   "source": [
    "data = ClassificationData()\n",
    "dct = data.namespace_dct\n",
    "global_dct = globals()\n",
    "global_dct.update(dct)\n",
    "globals().keys()"
   ]
  },
  {
   "cell_type": "markdown",
   "metadata": {},
   "source": [
    "## Constants"
   ]
  },
  {
   "cell_type": "code",
   "execution_count": null,
   "metadata": {},
   "outputs": [],
   "source": [
    "FULL_RUN = False\n",
    "\n",
    "STAGES = list(cn.STATE_NAMES)\n",
    "STAGES.remove(\"Normoxia\")"
   ]
  },
  {
   "cell_type": "markdown",
   "metadata": {},
   "source": [
    "## Helper Functions"
   ]
  },
  {
   "cell_type": "code",
   "execution_count": null,
   "metadata": {},
   "outputs": [],
   "source": [
    "def plotSampleData(data_dct, plot_genes=None, selected_sample=None, is_plot=True):\n",
    "    \"\"\"\n",
    "    Plots trinary values of data for the specified genes.\n",
    "    \n",
    "Parameters\n",
    "    ----------\n",
    "    data_dct: dict\n",
    "        key: reference type\n",
    "        value: sample dictionary\n",
    "            key: sample name\n",
    "            value: features\n",
    "    selected_sample: str\n",
    "        Sample for which plot is done\n",
    "    plot_genes: list-str\n",
    "    \"\"\"\n",
    "    ref_types = list(data_dct.keys())\n",
    "    sample_names = list(data_dct[ref_types[0]].keys())\n",
    "    if plot_genes is None:\n",
    "        plot_genes = []\n",
    "        for key, genes in GENE_DCT.items():\n",
    "            if key != ALL:\n",
    "                geneLst = list(genes)\n",
    "                plot_genes.extend(geneLst)\n",
    "        plot_genes = list(set(plot_genes))\n",
    "        plot_genes.sort()\n",
    "    for sample_name in sample_names:\n",
    "        if (sample_name == selected_sample) or (selected_sample is None):\n",
    "            for ref_type in ref_types:\n",
    "                df_X = data_dct[ref_type][sample_name]\n",
    "                title = \"%s, %s\" % (sample_name, ref_type)\n",
    "                TRINARY.plotExpressionLevels(plot_genes, df_X=df_X, title=title, is_plot=is_plot, figsize=(15, 3), is_color_bar=False)\n",
    "\n",
    "# Tests\n",
    "plotSampleData(SAMPLE_DCT, is_plot=False)\n",
    "print(\"OK!\")"
   ]
  },
  {
   "cell_type": "code",
   "execution_count": null,
   "metadata": {},
   "outputs": [],
   "source": [
    "SAMPLE_DCT.keys()"
   ]
  },
  {
   "cell_type": "code",
   "execution_count": null,
   "metadata": {},
   "outputs": [],
   "source": [
    "def plotProgression(sample_name, is_average=False, is_plot=True):\n",
    "    \"\"\"\n",
    "    Does line plots for the sample.\n",
    "    The plot row indicates how data are prepared. The columns indicate how\n",
    "    the classifier is construted.\n",
    "    \n",
    "    Paramters\n",
    "    ---------\n",
    "    sample_name: str\n",
    "    is_average: bool\n",
    "        use average of replicas\n",
    "    \"\"\"\n",
    "    # Extract information on the samples and classifiers\n",
    "    smpl_refs = list(SAMPLE_DCT.keys())\n",
    "    sample_data = list(SAMPLE_DCT.values())\n",
    "    descriptor = sample_data.SAMPLE_DESCRIPTOR_DCT[sample_name]\n",
    "    if is_average:\n",
    "        sample_dct = SAMPLE_AVG_DCT\n",
    "        repl_strs = [\"\"]\n",
    "    else:\n",
    "        sample_dct = SAMPLE_DCT\n",
    "        repl_strs = descriptor.rnm\n",
    "    key_pairs = CLASSIFIER_DCT.keys()\n",
    "    [clf_refs, groups] = [a for a in zip(*key_pairs)]\n",
    "    clf_refs = list(set(clf_refs))  # Reference data used to construct classifier\n",
    "    groups = list(set(groups))  # Gene groups\n",
    "    # Plot characteristics\n",
    "    ncol = len(groups)\n",
    "    nrow = len(clf_refs)\n",
    "    # Construct plots\n",
    "    for smpl_ref in smpl_refs:\n",
    "        _, axes = plt.subplots(nrow, ncol, figsize=(12, 5))\n",
    "        icol = 0\n",
    "        irow = 0\n",
    "        for clf_ref in clf_refs:\n",
    "            for group in groups:\n",
    "                ax = axes[irow, icol]\n",
    "                clf = CLASSIFIER_DCT[(clf_ref, group)]\n",
    "                df_X = sample_dct[smpl_ref][sample_name]\n",
    "                if df_X is not None:\n",
    "                    clf.plotProgression(df_X, repl_strs, descriptor.cnm, ax=ax, is_plot=False)\n",
    "                    if icol == 0:\n",
    "                        ax.text(-2, 5.5, clf_ref, fontsize=18)\n",
    "                    else:\n",
    "                        ax.set_yticklabels([])\n",
    "                    if irow == 0:\n",
    "                        ax.set_xticklabels([])\n",
    "                        plot_title = group\n",
    "                    else:\n",
    "                        plot_title = \"\"\n",
    "                    ax.set_title(plot_title, rotation=45)\n",
    "                    icol += 1\n",
    "                    if icol >= ncol:\n",
    "                        icol = 0\n",
    "                        irow += 1\n",
    "        plt.suptitle(\"Sample Reference: \" + smpl_ref, fontsize=18)\n",
    "        if is_plot:\n",
    "            plt.show()\n",
    "        else:\n",
    "            plt.close()\n",
    "            \n",
    "#plotProgression(\"rustad\", is_plot=False)\n",
    "#plotProgression(\"rustad\", is_plot=False, is_average=True)\n",
    "#print(\"OK!\")"
   ]
  },
  {
   "cell_type": "code",
   "execution_count": null,
   "metadata": {},
   "outputs": [],
   "source": [
    "def reportSamplePredictions(data_dct):\n",
    "    for name, df_X in data_dct.items():\n",
    "        print(\"\\n%s\" % name)\n",
    "        df_pred = CLASSIFIER.predict(df_X)\n",
    "        new_columns = [STAGE_NAMES[c] for c in df_pred.columns]\n",
    "        df_pred.columns = new_columns\n",
    "        print(df_pred)"
   ]
  },
  {
   "cell_type": "code",
   "execution_count": null,
   "metadata": {},
   "outputs": [],
   "source": [
    "SAMPLE_DCT[REF_TYPE_POOLED].__dict__.keys()"
   ]
  },
  {
   "cell_type": "code",
   "execution_count": null,
   "metadata": {},
   "outputs": [],
   "source": [
    "def plotConditions(sample_name, fontsize_label=8, is_plot=True):\n",
    "    \"\"\"\n",
    "    Plots conditions for all the expression reference calculations and classifiers.\n",
    "    \n",
    "    Parameters\n",
    "    ----------\n",
    "    sample_name: str\n",
    "    nrow: int\n",
    "    ncol: int\n",
    "    \"\"\"\n",
    "    sample_data = SAMPLE_DCT[REF_TYPE_POOLED][sample_name]\n",
    "    descriptor = sample_data.SAMPLE_DCT[sample_name]\n",
    "    if sample_name == \"GSE167232\":\n",
    "        ref_types = [REF_TYPE_BIOREACTOR, REF_TYPE_POOLED]\n",
    "    else:\n",
    "        ref_types = [REF_TYPE_BIOREACTOR, REF_TYPE_SELF, REF_TYPE_POOLED]\n",
    "    ref_type_label_dct = {REF_TYPE_BIOREACTOR: \"bioreactor T0\",\n",
    "                      REF_TYPE_POOLED: \"pooled\",\n",
    "                      REF_TYPE_SELF: \"self\",\n",
    "                         }\n",
    "    ncol = len(CLASSIFIER_DCT.keys())\n",
    "    nrow = len(ref_types)\n",
    "    _, axes = plt.subplots(nrow, ncol, figsize=(20, 10))\n",
    "    icol = 0\n",
    "    irow = 0\n",
    "    significance_str = None\n",
    "    for ref_idx, sample_ref_type in enumerate(ref_types):\n",
    "        for clf_key, clf in CLASSIFIER_DCT.items():\n",
    "            ax = axes[irow, icol]\n",
    "            df_X = SAMPLE_DCT[sample_ref_type][sample_name]\n",
    "            if df_X is not None:\n",
    "                significance_str = clf.plotConditions(df_X, descriptor.cnm, state_names=STAGE_NAMES, ax=ax, is_plot=False,\n",
    "                                   fontsize_label=fontsize_label, shading_offset=0.2,\n",
    "                                   state_probs=cn.STATE_PROBS, num_exp=24)\n",
    "                if icol == 0:\n",
    "                    row_title = ref_type_label_dct[sample_ref_type]\n",
    "                    ax.set_ylabel(row_title, fontsize=16)\n",
    "                    # ax.text(-2, 5.5, row_title, fontsize=16)\n",
    "                else:\n",
    "                    ax.set_yticklabels([])\n",
    "                if irow == 0:\n",
    "                    plot_title = \", \".join(clf_key)\n",
    "                else:\n",
    "                    plot_title = \"\"\n",
    "                if ref_idx < len(ref_types) - 1:\n",
    "                    ax.set_xticklabels([])\n",
    "                ax.set_title(plot_title, rotation=45)\n",
    "                icol += 1\n",
    "                if icol >= ncol:\n",
    "                    icol = 0\n",
    "                    irow += 1\n",
    "    suptitle = \"%s: %s\" % (sample_name, significance_str)\n",
    "    plt.suptitle(suptitle, fontsize=18)\n",
    "    if not is_plot:\n",
    "        plt.close()\n",
    "    \n",
    "# Tests\n",
    "plotConditions(\"AM_MDM\", is_plot=False)\n",
    "print(\"OK!\")"
   ]
  },
  {
   "cell_type": "code",
   "execution_count": null,
   "metadata": {},
   "outputs": [],
   "source": [
    "CLASSIFIER_DCT.keys()"
   ]
  },
  {
   "cell_type": "code",
   "execution_count": null,
   "metadata": {},
   "outputs": [],
   "source": [
    "df_X = SAMPLE_DCT[REF_TYPE_POOLED][\"GSE167232\"]\n",
    "df_X.to_csv(\"sample.csv\")\n",
    "clf = CLASSIFIER_DCT[(\"T0\", \"all\")]\n",
    "descriptor = sample_data.SAMPLE_DESCRIPTOR_DCT[\"GSE167232\"]\n",
    "clf.plotConditions(df_X, descriptor.cnm, state_names=STAGE_NAMES, is_plot=False,\n",
    "                                    shading_offset=0.05)"
   ]
  },
  {
   "cell_type": "markdown",
   "metadata": {},
   "source": [
    "# Gene Expression"
   ]
  },
  {
   "cell_type": "markdown",
   "metadata": {},
   "source": [
    "**Observations**\n",
    "1. Prefer control values that avoid having a constant value of the trinary value over the samples (since such a situation is unhelpful for distinguishing classes).\n",
    "1. On training data (Bioreactor)\n",
    "   1. Many genes have the same within class values\n",
    "   1. Few genes have the same between class values"
   ]
  },
  {
   "cell_type": "markdown",
   "metadata": {},
   "source": [
    "**TO DO**: Plot data in pairs, 1 column, 2 rows; this allows comparisons of the expressions for T0 vs. pooled."
   ]
  },
  {
   "cell_type": "markdown",
   "metadata": {},
   "source": [
    "## AM, MDM"
   ]
  },
  {
   "cell_type": "code",
   "execution_count": null,
   "metadata": {},
   "outputs": [],
   "source": [
    "# With Bioreactor reference data\n",
    "plotSampleData(SAMPLE_DCT, selected_sample=\"AM_MDM\")"
   ]
  },
  {
   "cell_type": "markdown",
   "metadata": {},
   "source": [
    "## AW"
   ]
  },
  {
   "cell_type": "code",
   "execution_count": null,
   "metadata": {},
   "outputs": [],
   "source": [
    "# With Bioreactor reference data\n",
    "plotSampleData(SAMPLE_DCT, selected_sample=\"AW\")"
   ]
  },
  {
   "cell_type": "markdown",
   "metadata": {},
   "source": [
    "## galagan"
   ]
  },
  {
   "cell_type": "code",
   "execution_count": null,
   "metadata": {},
   "outputs": [],
   "source": [
    "# With Bioreactor reference data\n",
    "plotSampleData(SAMPLE_DCT, selected_sample=\"galagan\")"
   ]
  },
  {
   "cell_type": "markdown",
   "metadata": {},
   "source": [
    "## rustad"
   ]
  },
  {
   "cell_type": "code",
   "execution_count": null,
   "metadata": {},
   "outputs": [],
   "source": [
    "# With Bioreactor reference data\n",
    "plotSampleData(SAMPLE_DCT, selected_sample=\"rustad\")"
   ]
  },
  {
   "cell_type": "markdown",
   "metadata": {},
   "source": [
    "## GSE167232"
   ]
  },
  {
   "cell_type": "code",
   "execution_count": null,
   "metadata": {},
   "outputs": [],
   "source": [
    "# With Bioreactor reference data\n",
    "plotSampleData(SAMPLE_DCT, selected_sample=\"GSE167232\")"
   ]
  },
  {
   "cell_type": "markdown",
   "metadata": {},
   "source": [
    "## GSE67035"
   ]
  },
  {
   "cell_type": "code",
   "execution_count": null,
   "metadata": {},
   "outputs": [],
   "source": [
    "# With Bioreactor reference data\n",
    "plotSampleData(SAMPLE_DCT, selected_sample=\"GSE67035\")"
   ]
  },
  {
   "cell_type": "markdown",
   "metadata": {},
   "source": [
    "# Condition Analysis"
   ]
  },
  {
   "cell_type": "markdown",
   "metadata": {},
   "source": [
    "Analyzes data sets with distinct conditions."
   ]
  },
  {
   "cell_type": "markdown",
   "metadata": {},
   "source": [
    "**Notes**\n",
    "1. Calculate the probability of having of different configurations of the classifications if class predictions are $p_c$."
   ]
  },
  {
   "cell_type": "markdown",
   "metadata": {},
   "source": [
    "## AW"
   ]
  },
  {
   "cell_type": "code",
   "execution_count": null,
   "metadata": {},
   "outputs": [],
   "source": [
    "plotConditions(\"AW\")"
   ]
  },
  {
   "cell_type": "markdown",
   "metadata": {},
   "source": [
    "## AM, MDM"
   ]
  },
  {
   "cell_type": "code",
   "execution_count": null,
   "metadata": {},
   "outputs": [],
   "source": [
    "plotConditions(\"AM_MDM\")"
   ]
  },
  {
   "cell_type": "markdown",
   "metadata": {},
   "source": [
    "## GSE167232"
   ]
  },
  {
   "cell_type": "code",
   "execution_count": null,
   "metadata": {},
   "outputs": [],
   "source": [
    "plotConditions(\"GSE167232\", fontsize_label=7)"
   ]
  },
  {
   "cell_type": "markdown",
   "metadata": {},
   "source": [
    "## GSE167232R"
   ]
  },
  {
   "cell_type": "code",
   "execution_count": null,
   "metadata": {},
   "outputs": [],
   "source": [
    "plotConditions(\"GSE167232R\", fontsize_label=7)"
   ]
  },
  {
   "cell_type": "markdown",
   "metadata": {},
   "source": [
    "## GSE67035"
   ]
  },
  {
   "cell_type": "code",
   "execution_count": null,
   "metadata": {},
   "outputs": [],
   "source": [
    "plotConditions(\"GSE67035\", fontsize_label=8)"
   ]
  },
  {
   "cell_type": "markdown",
   "metadata": {
    "tags": []
   },
   "source": [
    "# Progression Analysis"
   ]
  },
  {
   "cell_type": "code",
   "execution_count": null,
   "metadata": {},
   "outputs": [],
   "source": [
    "#CLASSIFIER.plotFeatureContributions(df_X.loc[\"TB_AM1\",:], class_names=STAGE_NAMES)\n",
    "if False:\n",
    "    df_predict = CLASSIFIER.predict(SAMPLE_DATA_DCT[\"GSE167232\"])\n",
    "    indexArr = np.reshape(list(df_predict.index), (4,3))\n",
    "    num_row = 4\n",
    "    num_col =3\n",
    "    _, axes = plt.subplots(num_row, num_col, figsize=(20, 12))\n",
    "    for irow in range(4):\n",
    "        for icol in range(3):\n",
    "            if icol == 0:\n",
    "                is_ylabel = True\n",
    "            else:\n",
    "                is_ylabel = False\n",
    "            if icol == num_col - 1:\n",
    "                is_legend = True\n",
    "            else:\n",
    "                is_legend = False\n",
    "            if irow == num_row - 1:\n",
    "                is_xlabel = True\n",
    "            else:\n",
    "                is_xlabel = False\n",
    "            instance = indexArr[irow, icol]\n",
    "            ser_X = SAMPLE_DATA_DCT[\"GSE167232\"].loc[instance, :]\n",
    "            CLASSIFIER.plotFeatureContributions(ser_X, class_names=STAGE_NAMES, title=instance, ax=axes[irow,icol], is_plot=False,\n",
    "                                               is_xlabel=is_xlabel, is_ylabel=is_ylabel, is_legend=is_legend)\n",
    "    plt.show()"
   ]
  },
  {
   "cell_type": "markdown",
   "metadata": {},
   "source": [
    "## Rustad"
   ]
  },
  {
   "cell_type": "code",
   "execution_count": null,
   "metadata": {},
   "outputs": [],
   "source": [
    "plotProgression(\"rustad\")"
   ]
  },
  {
   "cell_type": "code",
   "execution_count": null,
   "metadata": {},
   "outputs": [],
   "source": [
    "plotProgression(\"rustad\", is_average=True)"
   ]
  },
  {
   "cell_type": "markdown",
   "metadata": {},
   "source": [
    "## Galagan"
   ]
  },
  {
   "cell_type": "code",
   "execution_count": null,
   "metadata": {},
   "outputs": [],
   "source": [
    "plotProgression(\"galagan\")"
   ]
  },
  {
   "cell_type": "code",
   "execution_count": null,
   "metadata": {},
   "outputs": [],
   "source": [
    "plotProgression(\"galagan\", is_average=True)"
   ]
  },
  {
   "cell_type": "code",
   "execution_count": null,
   "metadata": {},
   "outputs": [],
   "source": []
  }
 ],
 "metadata": {
  "kernelspec": {
   "display_name": "Python 3",
   "language": "python",
   "name": "python3"
  },
  "language_info": {
   "codemirror_mode": {
    "name": "ipython",
    "version": 3
   },
   "file_extension": ".py",
   "mimetype": "text/x-python",
   "name": "python",
   "nbconvert_exporter": "python",
   "pygments_lexer": "ipython3",
   "version": "3.6.6"
  }
 },
 "nbformat": 4,
 "nbformat_minor": 4
}
