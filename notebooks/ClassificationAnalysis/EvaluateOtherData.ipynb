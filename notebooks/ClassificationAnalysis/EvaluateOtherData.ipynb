{
 "cells": [
  {
   "cell_type": "markdown",
   "metadata": {},
   "source": [
    "# Evaluation of Classifiers on Data Other than the Bioreactor Samples"
   ]
  },
  {
   "cell_type": "markdown",
   "metadata": {},
   "source": [
    "This notebook analyzes the accuracy of the SVM classifier on data other than the bioreactor samples.\n",
    "The analysis makes use of data built by ClassificationData in the tools directory.\n",
    "This class augments the global namespace to include data used in analysis.\n",
    "\n",
    "The training data are:\n",
    "* all genes (not just regulators);\n",
    "* averaged;\n",
    "* do not include T1 (since only one observtion)"
   ]
  },
  {
   "cell_type": "markdown",
   "metadata": {},
   "source": [
    "# TO DO\n",
    "1. Plot progression for individual samples for Bioreactor\n",
    "1. Evaluate average of replications for other progressions\n",
    "1. Examine the contributions to the classification by gene in the samples that don't result in mycobactin being a strong predictor.\n",
    "1. Do cross correlation studies of genes to check ortogonality.\n",
    "1. **Check calculation of pooled, whether average log**\n",
    "1. Structure codes for the analyses conducted. This structure should be reflected in ``DATA_DCT``.\n",
    "   1. Selection of genes: myco, myco +, all genes\n",
    "   1. How counts are processed\n",
    "      1. Reference - T0/biostat, T0/data source, pooled/data source\n",
    "1. Evaluation of classifiers\n",
    "   1. Performance on biostat data\n",
    "   1. Performance on other samples\n",
    "      1. Time consistency\n",
    "      1. Replication consistency\n",
    "      1. Consistency with expectation\n",
    "1. Analyses for Eliza:\n",
    "   1. Accuracy with all 11 and the accuracy as you add in more genes (same as what you just sent but with all 11).\n",
    "   1. Could you test with just the 10 mycobactin genes (Rv2377c-Rv2386c)?\n",
    "   1. Could you test with just bacterioferritin (Rv3841)? Just Rv2384?\n",
    "   1. Is there one gene that gives good accuracy\n",
    "1. compare accuracy with ranom selection of genes\n",
    "1. Classifier coefficient profile.\n",
    "   1. Eliza genes - 1-10\n",
    "   1. Auto selected genes: 5, 10, 20"
   ]
  },
  {
   "cell_type": "markdown",
   "metadata": {},
   "source": [
    "# Preliminaries"
   ]
  },
  {
   "cell_type": "markdown",
   "metadata": {},
   "source": [
    "## Imports"
   ]
  },
  {
   "cell_type": "code",
   "execution_count": 1,
   "metadata": {},
   "outputs": [],
   "source": [
    "import init\n",
    "from common import constants as cn\n",
    "from common_python.util import dataframe\n",
    "from tools import make_classification_data\n",
    "\n",
    "import copy\n",
    "import matplotlib.pyplot as plt\n",
    "import numpy as np\n",
    "import pandas as pd\n",
    "import sklearn\n",
    "from sklearn.decomposition import PCA\n",
    "from sklearn import svm\n",
    "from sklearn.model_selection import cross_val_score\n",
    "import seaborn as sns\n",
    "\n",
    "%matplotlib inline"
   ]
  },
  {
   "cell_type": "code",
   "execution_count": 2,
   "metadata": {
    "scrolled": true
   },
   "outputs": [],
   "source": [
    "data = make_classification_data.ClassificationData()\n",
    "data.get(globals())"
   ]
  },
  {
   "cell_type": "markdown",
   "metadata": {},
   "source": [
    "## Constants"
   ]
  },
  {
   "cell_type": "code",
   "execution_count": 3,
   "metadata": {},
   "outputs": [],
   "source": [
    "FULL_RUN = True\n",
    "\n",
    "STAGES = list(cn.STATE_NAMES)\n",
    "STAGES.remove(\"Normoxia\")"
   ]
  },
  {
   "cell_type": "markdown",
   "metadata": {},
   "source": [
    "## Helper Functions"
   ]
  },
  {
   "cell_type": "code",
   "execution_count": 4,
   "metadata": {},
   "outputs": [
    {
     "ename": "AttributeError",
     "evalue": "'SampleData' object has no attribute 'keys'",
     "output_type": "error",
     "traceback": [
      "\u001b[0;31m------------------------------------------------------------------------\u001b[0m",
      "\u001b[0;31mAttributeError\u001b[0m                         Traceback (most recent call last)",
      "\u001b[0;32m<ipython-input-4-f3111998d160>\u001b[0m in \u001b[0;36m<module>\u001b[0;34m\u001b[0m\n\u001b[1;32m     22\u001b[0m \u001b[0;34m\u001b[0m\u001b[0m\n\u001b[1;32m     23\u001b[0m \u001b[0;31m# Tests\u001b[0m\u001b[0;34m\u001b[0m\u001b[0;34m\u001b[0m\u001b[0m\n\u001b[0;32m---> 24\u001b[0;31m \u001b[0mplotSampleData\u001b[0m\u001b[0;34m(\u001b[0m\u001b[0mSAMPLE_DCT\u001b[0m\u001b[0;34m,\u001b[0m \u001b[0mgenes\u001b[0m\u001b[0;34m=\u001b[0m\u001b[0mMYCOBACTIN_BACTERIOFERRIN_GENES\u001b[0m\u001b[0;34m,\u001b[0m \u001b[0mis_plot\u001b[0m\u001b[0;34m=\u001b[0m\u001b[0;32mFalse\u001b[0m\u001b[0;34m)\u001b[0m\u001b[0;34m\u001b[0m\u001b[0m\n\u001b[0m\u001b[1;32m     25\u001b[0m \u001b[0mprint\u001b[0m\u001b[0;34m(\u001b[0m\u001b[0;34m\"OK!\"\u001b[0m\u001b[0;34m)\u001b[0m\u001b[0;34m\u001b[0m\u001b[0m\n",
      "\u001b[0;32m<ipython-input-4-f3111998d160>\u001b[0m in \u001b[0;36mplotSampleData\u001b[0;34m(data_dct, genes, is_plot)\u001b[0m\n\u001b[1;32m     13\u001b[0m     \"\"\"\n\u001b[1;32m     14\u001b[0m     \u001b[0mref_types\u001b[0m \u001b[0;34m=\u001b[0m \u001b[0mlist\u001b[0m\u001b[0;34m(\u001b[0m\u001b[0mdata_dct\u001b[0m\u001b[0;34m.\u001b[0m\u001b[0mkeys\u001b[0m\u001b[0;34m(\u001b[0m\u001b[0;34m)\u001b[0m\u001b[0;34m)\u001b[0m\u001b[0;34m\u001b[0m\u001b[0m\n\u001b[0;32m---> 15\u001b[0;31m     \u001b[0msample_names\u001b[0m \u001b[0;34m=\u001b[0m \u001b[0mlist\u001b[0m\u001b[0;34m(\u001b[0m\u001b[0mdata_dct\u001b[0m\u001b[0;34m[\u001b[0m\u001b[0mref_types\u001b[0m\u001b[0;34m[\u001b[0m\u001b[0;36m0\u001b[0m\u001b[0;34m]\u001b[0m\u001b[0;34m]\u001b[0m\u001b[0;34m.\u001b[0m\u001b[0mkeys\u001b[0m\u001b[0;34m(\u001b[0m\u001b[0;34m)\u001b[0m\u001b[0;34m)\u001b[0m\u001b[0;34m\u001b[0m\u001b[0m\n\u001b[0m\u001b[1;32m     16\u001b[0m     \u001b[0;32mfor\u001b[0m \u001b[0msample_name\u001b[0m \u001b[0;32min\u001b[0m \u001b[0msample_names\u001b[0m\u001b[0;34m:\u001b[0m\u001b[0;34m\u001b[0m\u001b[0m\n\u001b[1;32m     17\u001b[0m         \u001b[0;32mfor\u001b[0m \u001b[0mref_type\u001b[0m \u001b[0;32min\u001b[0m \u001b[0mref_types\u001b[0m\u001b[0;34m:\u001b[0m\u001b[0;34m\u001b[0m\u001b[0m\n",
      "\u001b[0;31mAttributeError\u001b[0m: 'SampleData' object has no attribute 'keys'"
     ]
    }
   ],
   "source": [
    "def plotSampleData(data_dct, genes= None, is_plot=True):\n",
    "    \"\"\"\n",
    "    Plots trinary values of data for the specified genes.\n",
    "    \n",
    "    Parameters\n",
    "    ----------\n",
    "    data_dct: dict\n",
    "        key: reference type\n",
    "        value: sample dictionary\n",
    "            key: sample name\n",
    "            value: features\n",
    "    genes: list-str\n",
    "    \"\"\"\n",
    "    ref_types = list(data_dct.keys())\n",
    "    sample_names = list(data_dct[ref_types[0]].keys())\n",
    "    for sample_name in sample_names:\n",
    "        for ref_type in ref_types:\n",
    "            df_X = data_dct[ref_type][sample_name]\n",
    "            if genes is None:\n",
    "                genes = list(df_X.columns)\n",
    "            TRINARY.plotExpressionLevels(genes, df_X=df_X, title=ref_type + \", \" + sample_name, is_plot=is_plot)\n",
    "            \n",
    "# Tests\n",
    "plotSampleData(SAMPLE_DCT, genes=MYCOBACTIN_BACTERIOFERRIN_GENES, is_plot=False)\n",
    "print(\"OK!\")"
   ]
  },
  {
   "cell_type": "code",
   "execution_count": null,
   "metadata": {},
   "outputs": [],
   "source": [
    "def reportSamplePredictions(data_dct):\n",
    "    for name, df_X in data_dct.items():\n",
    "        print(\"\\n%s\" % name)\n",
    "        df_pred = CLASSIFIER.predict(df_X)\n",
    "        new_columns = [STAGE_NAMES[c] for c in df_pred.columns]\n",
    "        df_pred.columns = new_columns\n",
    "        print(df_pred)"
   ]
  },
  {
   "cell_type": "markdown",
   "metadata": {},
   "source": [
    "## Gene Expression"
   ]
  },
  {
   "cell_type": "markdown",
   "metadata": {},
   "source": [
    "**Observations**\n",
    "1. Prefer control values that avoid having a constant value of the trinary value over the samples (since such a situation is unhelpful for distinguishing classes).\n",
    "1. On training data (Bioreactor)\n",
    "   1. Many genes have the same within class values\n",
    "   1. Few genes have the same between class values"
   ]
  },
  {
   "cell_type": "markdown",
   "metadata": {},
   "source": [
    "**TO DO**: Plot data in pairs, 1 column, 2 rows; this allows comparisons of the expressions for T0 vs. pooled."
   ]
  },
  {
   "cell_type": "code",
   "execution_count": null,
   "metadata": {},
   "outputs": [],
   "source": [
    "# With Bioreactor reference data\n",
    "plotSampleData(SAMPLE_DCT, genes=MYCOBACTIN_BACTERIOFERRIN_GENES)"
   ]
  },
  {
   "cell_type": "code",
   "execution_count": null,
   "metadata": {},
   "outputs": [],
   "source": [
    "SAMPLE_DCT[\"ref_type_pooled\"][\"AW\"]"
   ]
  },
  {
   "cell_type": "markdown",
   "metadata": {},
   "source": [
    "# Condition Analysis"
   ]
  },
  {
   "cell_type": "markdown",
   "metadata": {},
   "source": [
    "Analyzes data sets with distinct conditions."
   ]
  },
  {
   "cell_type": "code",
   "execution_count": null,
   "metadata": {},
   "outputs": [],
   "source": [
    "def plotConditions(sample_name, conditionFunc, fontsize_label=9, is_plot=True):\n",
    "    \"\"\"\n",
    "    Plots conditions for all the expression reference calculations and classifiers.\n",
    "    \n",
    "    Parameters\n",
    "    ----------\n",
    "    sample_name: str\n",
    "    conditionFunc: Function\n",
    "    nrow: int\n",
    "    ncol: int\n",
    "    \"\"\"\n",
    "    ref_types = [REF_TYPE_BIOREACTOR, REF_TYPE_POOLED]\n",
    "    ref_type_label_dct = {REF_TYPE_BIOREACTOR: \"bioreactor T0\",\n",
    "                      REF_TYPE_POOLED: \"pooled\"}\n",
    "    ncol = len(CLASSIFIER_DCT.keys())\n",
    "    nrow = len(ref_types)\n",
    "    _, axes = plt.subplots(nrow, ncol, figsize=(20, 10))\n",
    "    icol = 0\n",
    "    irow = 0\n",
    "    for feature_ref_type in ref_types:\n",
    "        for clf_key, clf in CLASSIFIER_DCT.items():\n",
    "            ax = axes[irow, icol]\n",
    "            df_X = SAMPLE_DCT[feature_ref_type][sample_name]\n",
    "            clf.plotConditions(df_X, conditionFunc, state_names=STAGE_NAMES, ax=ax, is_plot=False,\n",
    "                               fontsize_label=fontsize_label)\n",
    "            if icol == 0:\n",
    "                row_title = ref_type_label_dct[feature_ref_type]\n",
    "                ax.set_ylabel(row_title, fontsize=16)\n",
    "                # ax.text(-2, 5.5, row_title, fontsize=16)\n",
    "            else:\n",
    "                ax.set_yticklabels([])\n",
    "            if irow == 0:\n",
    "                ax.set_xticklabels([])\n",
    "                plot_title = \", \".join(clf_key)\n",
    "            else:\n",
    "                plot_title = \"\"\n",
    "            ax.set_title(plot_title, rotation=45)\n",
    "            icol += 1\n",
    "            if icol >= ncol:\n",
    "                icol = 0\n",
    "                irow += 1\n",
    "    plt.suptitle(sample_name, fontsize=18)\n",
    "    if not is_plot:\n",
    "        plt.close()\n",
    "    \n",
    "# Tests\n",
    "conditionFunc = lambda v: v[0:3].replace(\"_\", \"\")\n",
    "plotConditions(\"AM_MDM\", conditionFunc, is_plot=False)"
   ]
  },
  {
   "cell_type": "markdown",
   "metadata": {},
   "source": [
    "## AW"
   ]
  },
  {
   "cell_type": "code",
   "execution_count": null,
   "metadata": {},
   "outputs": [],
   "source": [
    "conditionFunc = lambda v: v[0:-2]\n",
    "plotConditions(\"AW\", conditionFunc)"
   ]
  },
  {
   "cell_type": "markdown",
   "metadata": {},
   "source": [
    "## AM, MDM"
   ]
  },
  {
   "cell_type": "code",
   "execution_count": null,
   "metadata": {},
   "outputs": [],
   "source": [
    "SAMPLE_DCT[REF_TYPE_POOLED][\"AM_MDM\"]"
   ]
  },
  {
   "cell_type": "code",
   "execution_count": null,
   "metadata": {},
   "outputs": [],
   "source": [
    "conditionFunc = lambda v: v[0:3].replace(\"_\", \"\")\n",
    "plotConditions(\"AM_MDM\", conditionFunc)"
   ]
  },
  {
   "cell_type": "markdown",
   "metadata": {},
   "source": [
    "## AW"
   ]
  },
  {
   "cell_type": "code",
   "execution_count": null,
   "metadata": {},
   "outputs": [],
   "source": [
    "SAMPLE_DCT[\"ref_type_pooled\"][\"AW\"].head(3)"
   ]
  },
  {
   "cell_type": "markdown",
   "metadata": {},
   "source": [
    "## AM, MDM"
   ]
  },
  {
   "cell_type": "code",
   "execution_count": null,
   "metadata": {},
   "outputs": [],
   "source": [
    "clf = CLASSIFIER_DCT[(T0, \"all\")]\n",
    "df_X = SAMPLE_DCT[REF_TYPE_BIOREACTOR][\"AM_MDM\"]\n",
    "conditionFunc = lambda v: v[0:3].replace(\"_\", \"\")\n",
    "_, ax = plt.subplots(1)\n",
    "clf.plotConditions(df_X, conditionFunc, state_names=STAGE_NAMES, ax=ax, is_plot=False)\n",
    "ax.set_title(\"AM, MDM\")\n",
    "plt.show()"
   ]
  },
  {
   "cell_type": "code",
   "execution_count": null,
   "metadata": {},
   "outputs": [],
   "source": [
    "clf = CLASSIFIER_DCT[(POOLED, \"all\")]\n",
    "sample_name = \"GSE167232\"\n",
    "df_X = SAMPLE_DCT[REF_TYPE_POOLED][sample_name]\n",
    "conditionFunc = lambda v: v[0:3].replace(\"_\", \"\")\n",
    "_, ax = plt.subplots(1)\n",
    "clf.plotConditions(df_X, conditionFunc, state_names=STAGE_NAMES, ax=ax, is_plot=False)\n",
    "ax.set_title(sample_name)\n",
    "plt.show()"
   ]
  },
  {
   "cell_type": "markdown",
   "metadata": {},
   "source": [
    "## GSE167232"
   ]
  },
  {
   "cell_type": "code",
   "execution_count": null,
   "metadata": {},
   "outputs": [],
   "source": [
    "conditionFunc = lambda v: v[0:-2]\n",
    "plotConditions(\"GSE167232\", conditionFunc, fontsize_label=7)"
   ]
  },
  {
   "cell_type": "markdown",
   "metadata": {
    "tags": []
   },
   "source": [
    "# Progression Analysis"
   ]
  },
  {
   "cell_type": "code",
   "execution_count": null,
   "metadata": {},
   "outputs": [],
   "source": [
    "#CLASSIFIER.plotFeatureContributions(df_X.loc[\"TB_AM1\",:], class_names=STAGE_NAMES)\n",
    "if FULL_RUN:\n",
    "    df_predict = CLASSIFIER.predict(SAMPLE_DATA_DCT[\"GSE167232\"])\n",
    "    indexArr = np.reshape(list(df_predict.index), (4,3))\n",
    "    num_row = 4\n",
    "    num_col =3\n",
    "    _, axes = plt.subplots(num_row, num_col, figsize=(20, 12))\n",
    "    for irow in range(4):\n",
    "        for icol in range(3):\n",
    "            if icol == 0:\n",
    "                is_ylabel = True\n",
    "            else:\n",
    "                is_ylabel = False\n",
    "            if icol == num_col - 1:\n",
    "                is_legend = True\n",
    "            else:\n",
    "                is_legend = False\n",
    "            if irow == num_row - 1:\n",
    "                is_xlabel = True\n",
    "            else:\n",
    "                is_xlabel = False\n",
    "            instance = indexArr[irow, icol]\n",
    "            ser_X = SAMPLE_DATA_DCT[\"GSE167232\"].loc[instance, :]\n",
    "            CLASSIFIER.plotFeatureContributions(ser_X, class_names=STAGE_NAMES, title=instance, ax=axes[irow,icol], is_plot=False,\n",
    "                                               is_xlabel=is_xlabel, is_ylabel=is_ylabel, is_legend=is_legend)\n",
    "    plt.show()"
   ]
  },
  {
   "cell_type": "markdown",
   "metadata": {},
   "source": [
    "## Rustad"
   ]
  },
  {
   "cell_type": "code",
   "execution_count": null,
   "metadata": {},
   "outputs": [],
   "source": [
    "x_vals = ['4h', '8h', '12h', '1da', '4da', '7da']\n",
    "y_vals = [5, 4, 4, 3, 1, 4]\n",
    "plt.plot(x_vals, y_vals)\n",
    "x_vals = ['4h', '8h', '12h', '4da', '7da'] \n",
    "y_vals = [1, 3, 3, 2, 2]\n",
    "plt.plot(x_vals, y_vals)"
   ]
  },
  {
   "cell_type": "code",
   "execution_count": null,
   "metadata": {},
   "outputs": [],
   "source": [
    "def calcRustadParameters(feature_ref_type, clf_key):\n",
    "    \"\"\"\n",
    "    Constructs the plot characteristics\n",
    "    \n",
    "    Parameters\n",
    "    ----------\n",
    "    feature_ref_type: str\n",
    "    clf_key: (str, str)\n",
    "    \n",
    "    Returns\n",
    "    -------\n",
    "    df_X: DataFrame (feature vector)\n",
    "    replFunc: Function (constructs replication strings)\n",
    "    timeFunc: Function (constructs time strings)\n",
    "    row_title: str (title for a row of plots)\n",
    "    plot_title: str (plot title)\n",
    "    \"\"\"\n",
    "    df_X = SAMPLE_DCT[feature_ref_type][\"rustad\"]\n",
    "    sel =  [\"H37Rv_hypoxia\" in i and (not \"10\" in i) for i in df_X.index]\n",
    "    df_X = df_X[sel]\n",
    "    # Select just replication 1-3\n",
    "    sel =  [any([r in i for r in [\"rep1\", \"rep2\", \"rep3\"]])  for i in df_X.index]\n",
    "    replFunc = lambda i: i[-4:]\n",
    "    timeFunc = lambda i: i[-9:-6].replace(\"_\", \"\")\n",
    "    plot_title = \"--\".join(clf_key)\n",
    "    row_title = \"T0\" if feature_ref_type == make_classification_data.REF_TYPE_BIOREACTOR else \"pooled\"\n",
    "    return df_X[sel], replFunc, timeFunc, row_title, plot_title\n",
    "\n",
    "# Tests\n",
    "df_X, replFunc, timeFunc, row_title, plot_title = calcRustadParameters(\"ref_type_bioreactor\", (\"T0\", \"all\"))\n",
    "assert(isinstance(df_X, pd.DataFrame))\n",
    "assert(isinstance(plot_title, str))"
   ]
  },
  {
   "cell_type": "code",
   "execution_count": null,
   "metadata": {},
   "outputs": [],
   "source": [
    "def plotProgression(func):\n",
    "    \"\"\"\n",
    "    Does line plots for the sample.\n",
    "    The plot row indicates how data are prepared. The columns indicate how\n",
    "    the classifier is construted.\n",
    "    \n",
    "    Paramters\n",
    "    ---------\n",
    "    func: Function\n",
    "        parameters: ref_type (str)\n",
    "        returns: df_X, replFunc, timeFunc, title\n",
    "    \"\"\"\n",
    "    ref_types = [REF_TYPE_BIOREACTOR, REF_TYPE_POOLED]\n",
    "    ncol = len(CLASSIFIER_DCT.keys())\n",
    "    nrow = len(ref_types)\n",
    "    _, axes = plt.subplots(nrow, ncol, figsize=(12, 10))\n",
    "    icol = 0\n",
    "    irow = 0\n",
    "    for feature_ref_type in ref_types:\n",
    "        for clf_key, clf in CLASSIFIER_DCT.items():\n",
    "            ax = axes[irow, icol]\n",
    "            df_X, replFunc, timeFunc, row_title, plot_title = func(feature_ref_type, clf_key)\n",
    "            clf.plotProgression(df_X, replFunc, timeFunc, ax=ax, is_plot=False)\n",
    "            if icol == 0:\n",
    "                ax.text(-2, 5.5, row_title, fontsize=16)\n",
    "            else:\n",
    "                ax.set_yticklabels([])\n",
    "            if irow == 0:\n",
    "                ax.set_xticklabels([])\n",
    "            else:\n",
    "                plot_title = \"\"\n",
    "            ax.set_title(plot_title, rotation=45)\n",
    "            icol += 1\n",
    "            if icol >= ncol:\n",
    "                icol = 0\n",
    "                irow += 1\n",
    "    plt.show()\n",
    "            \n",
    "plotProgression(calcRustadParameters)"
   ]
  },
  {
   "cell_type": "markdown",
   "metadata": {},
   "source": [
    "## Galagan"
   ]
  },
  {
   "cell_type": "code",
   "execution_count": null,
   "metadata": {},
   "outputs": [],
   "source": [
    "for ref_type in [REF_TYPE_BIOREACTOR, REF_TYPE_POOLED]:\n",
    "    df_X = SAMPLE_DCT[ref_type][\"galagan\"]\n",
    "    prediction_df = CLASSIFIER.predict(df_X)\n",
    "    replFunc = lambda i: i[-4:]\n",
    "    timeFunc = lambda i: i[0:2]\n",
    "    title = \"galagan: \" + ref_type\n",
    "    _, ax = plt.subplots(1)\n",
    "    CLASSIFIER.plotProgression(df_X, replFunc, timeFunc, title=title, ax=ax)"
   ]
  },
  {
   "cell_type": "markdown",
   "metadata": {},
   "source": [
    "# Summary Comments"
   ]
  },
  {
   "cell_type": "markdown",
   "metadata": {},
   "source": [
    "1. Choice of control\n",
    "   1. Criteria for choice\n",
    "1. Evaluating the quality of classification for test samples\n",
    "   1. Consistency between replications\n",
    "   1. Consistency in stage progression of replication\n",
    "1. Detailed summaries for data sets\n",
    "1. Selection of genes based on classification accuracy selects some, but not all of the mycobactin genes. \n",
    "   1. Which are not selected?\n",
    "   1. What additional genes are selected?\n",
    "   1. What are the signs and magnitudes of the mycobactin genes in the \"all\" case?\n",
    "1. Using pooled data results in very different gene selections"
   ]
  }
 ],
 "metadata": {
  "kernelspec": {
   "display_name": "Python 3",
   "language": "python",
   "name": "python3"
  },
  "language_info": {
   "codemirror_mode": {
    "name": "ipython",
    "version": 3
   },
   "file_extension": ".py",
   "mimetype": "text/x-python",
   "name": "python",
   "nbconvert_exporter": "python",
   "pygments_lexer": "ipython3",
   "version": "3.6.6"
  }
 },
 "nbformat": 4,
 "nbformat_minor": 4
}
