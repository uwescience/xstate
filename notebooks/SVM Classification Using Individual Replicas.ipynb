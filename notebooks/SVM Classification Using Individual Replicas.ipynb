{
 "cells": [
  {
   "cell_type": "markdown",
   "metadata": {},
   "source": [
    "# SVM Classification Using Individual Replicas\n",
    "This notebook analyzes the quality of the classifiers resulting from training on individual replicas of read counts rather than averaged values. Data are adjusted for library size and gene length."
   ]
  },
  {
   "cell_type": "code",
   "execution_count": 2,
   "metadata": {
    "scrolled": true
   },
   "outputs": [],
   "source": [
    "import init\n",
    "from common import constants as cn\n",
    "from common.trinary_data import TrinaryData\n",
    "from common.data_provider import DataProvider\n",
    "from common_python.plots import util_plots\n",
    "from plots import util_plots as xutil_plots\n",
    "from common_python.classifier import classifier_ensemble\n",
    "from common_python.classifier import classifier_collection\n",
    "from common_python.classifier.classifier_ensemble_random_forest import ClassifierEnsembleRandomForest\n",
    "\n",
    "import collections\n",
    "import os\n",
    "import matplotlib.pyplot as plt\n",
    "import numpy as np\n",
    "import pandas as pd\n",
    "import sklearn\n",
    "from sklearn.decomposition import PCA\n",
    "from sklearn import svm\n",
    "from sklearn.model_selection import cross_val_score\n",
    "\n",
    "%matplotlib inline"
   ]
  },
  {
   "cell_type": "code",
   "execution_count": 8,
   "metadata": {},
   "outputs": [
    {
     "name": "stdout",
     "output_type": "stream",
     "text": [
      "          0         1         2         3         4         5         6   \\\n",
      "Rv0001   1.0  1.072119  1.301797  1.255190  1.353351  1.274508  0.919210   \n",
      "Rv0005   1.0  1.637825  1.730923  2.040822  1.984227  1.989241  1.762261   \n",
      "Rv0006   1.0  1.628194  1.519583  1.936701  1.928850  1.580781  1.886713   \n",
      "Rv0009   1.0  1.959713  2.390467  1.762375  2.045719  2.008867  1.793311   \n",
      "Rv0010c  1.0  1.378715  1.160466  1.171577  1.136251  1.267012  1.108681   \n",
      "\n",
      "               7         8         9   ...        16        17        18  \\\n",
      "Rv0001   1.035712  0.886113  0.764993  ...  1.563982  1.154330  1.396935   \n",
      "Rv0005   1.936669  0.991634  1.737733  ...  1.529332  0.867944  1.185441   \n",
      "Rv0006   1.941937  0.752407  1.766990  ...  1.124146  0.692071  1.033188   \n",
      "Rv0009   1.764238  0.707191  1.642490  ...  0.877297  0.545770  0.691607   \n",
      "Rv0010c  1.048403  0.656563  0.844574  ...  0.672185  0.488660  0.488790   \n",
      "\n",
      "               19        20        21        22        23        24        25  \n",
      "Rv0001   0.873840  0.518795  0.832542  1.832858  1.871556  1.375646  1.006479  \n",
      "Rv0005   0.466903  0.227699  0.382894  0.869934  1.137407  1.050877  1.280610  \n",
      "Rv0006   0.451840  0.284954  0.370225  0.774316  0.948310  1.031778  1.229872  \n",
      "Rv0009   0.312656  0.158245  0.219900  0.979479  1.112158  1.035624  1.186365  \n",
      "Rv0010c  0.573819  0.426375  0.579413  0.627436  0.764008  0.687625  0.859554  \n",
      "\n",
      "[5 rows x 26 columns]\n",
      "          0         1         2         3         4         5         6   \\\n",
      "Rv0001   1.0  1.026937  1.383909  1.162622  1.053654  1.139063  1.010623   \n",
      "Rv0005   1.0  1.148038  1.609581  1.357651  1.363110  1.335166  1.392159   \n",
      "Rv0006   1.0  1.234566  1.416093  1.656305  1.559285  1.126837  1.638593   \n",
      "Rv0009   1.0  1.698017  2.202363  1.533993  1.668346  1.195873  1.594292   \n",
      "Rv0010c  1.0  1.390079  1.496747  1.271650  1.104165  1.014452  1.218067   \n",
      "\n",
      "               7         8         9   ...        16        17        18  \\\n",
      "Rv0001   0.989209  0.986979  0.746670  ...  0.995860  1.949972  1.333348   \n",
      "Rv0005   1.556875  0.721108  0.920876  ...  0.400432  1.115681  0.901200   \n",
      "Rv0006   1.458747  0.591484  0.847373  ...  0.355807  0.737346  0.830448   \n",
      "Rv0009   1.308536  0.419000  0.911217  ...  0.229577  0.997103  0.572464   \n",
      "Rv0010c  1.094034  0.851158  0.933210  ...  0.623752  0.616530  0.499753   \n",
      "\n",
      "               19        20        21        22        23        24        25  \n",
      "Rv0001   0.646541  0.825484  0.864210  1.788661  1.748339  1.340972  1.104847  \n",
      "Rv0005   0.226318  0.290585  0.297655  0.703608  0.855966  0.828556  1.048835  \n",
      "Rv0006   0.241096  0.322836  0.347630  0.693995  0.807483  0.851379  1.013834  \n",
      "Rv0009   0.132252  0.167125  0.232513  0.835163  0.782452  0.846315  0.933207  \n",
      "Rv0010c  0.484788  0.714649  0.608140  0.665771  0.721784  0.783564  0.951200  \n",
      "\n",
      "[5 rows x 26 columns]\n",
      "          0         1         2         3         4         5         6   \\\n",
      "Rv0001   1.0  0.951935  1.270808  1.165448  1.059413  1.003798  0.867067   \n",
      "Rv0005   1.0  1.262974  1.630677  1.453104  1.558073  1.496728  1.490996   \n",
      "Rv0006   1.0  1.183819  1.481394  1.697428  1.640622  1.545059  1.502187   \n",
      "Rv0009   1.0  1.482468  1.718096  1.600120  1.626222  1.398101  1.337818   \n",
      "Rv0010c  1.0  1.098537  1.093155  1.071087  1.200288  0.999303  0.825995   \n",
      "\n",
      "               7         8         9   ...        16        17        18  \\\n",
      "Rv0001   1.120774  0.887019  1.052894  ...  1.273492  1.417521  1.526833   \n",
      "Rv0005   1.699153  1.584126  1.080264  ...  1.474761  1.352384  0.957288   \n",
      "Rv0006   1.497553  1.613861  0.832953  ...  1.038345  0.767391  0.658381   \n",
      "Rv0009   1.637984  1.454947  0.937146  ...  1.025040  0.878206  0.604763   \n",
      "Rv0010c  0.981336  0.976201  0.837832  ...  0.660821  0.584916  0.603475   \n",
      "\n",
      "               19        20        21        22        23        24        25  \n",
      "Rv0001   0.727138  0.758386  1.781252  1.572989  1.710819  1.422082  1.043712  \n",
      "Rv0005   0.302214  0.293176  0.670888  0.694021  0.873244  0.924096  1.031230  \n",
      "Rv0006   0.291154  0.311197  0.592211  0.671343  0.791392  0.883619  1.033700  \n",
      "Rv0009   0.172570  0.143428  0.829524  0.905061  0.934662  0.926507  0.964196  \n",
      "Rv0010c  0.505421  0.506088  0.582988  0.711303  0.717262  0.818256  0.813667  \n",
      "\n",
      "[5 rows x 26 columns]\n"
     ]
    }
   ],
   "source": [
    "provider = DataProvider(is_normalized_wrtT0=True)\n",
    "provider.do()\n",
    "for n in range(3):\n",
    "    print(provider.dfs_adjusted_read_count_wrtT0[n].head())"
   ]
  }
 ],
 "metadata": {
  "kernelspec": {
   "display_name": "Python 3",
   "language": "python",
   "name": "python3"
  },
  "language_info": {
   "codemirror_mode": {
    "name": "ipython",
    "version": 3
   },
   "file_extension": ".py",
   "mimetype": "text/x-python",
   "name": "python",
   "nbconvert_exporter": "python",
   "pygments_lexer": "ipython3",
   "version": "3.8.1"
  }
 },
 "nbformat": 4,
 "nbformat_minor": 2
}
