{
 "cells": [
  {
   "cell_type": "markdown",
   "metadata": {},
   "source": [
    "# SVM Classification Using Individual Replicas\n",
    "This notebook analyzes the quality of the classifiers resulting from training on individual replicas of read counts rather than averaged values. Data are adjusted for library size and gene length."
   ]
  },
  {
   "cell_type": "code",
   "execution_count": 2,
   "metadata": {
    "scrolled": true
   },
   "outputs": [],
   "source": [
    "import init\n",
    "from common import constants as cn\n",
    "from common.trinary_data import TrinaryData\n",
    "from common.data_provider import DataProvider\n",
    "from common_python.plots import util_plots\n",
    "from plots import util_plots as xutil_plots\n",
    "from common_python.classifier import classifier_ensemble\n",
    "from common_python.classifier import classifier_collection\n",
    "from common_python.classifier.classifier_ensemble_random_forest import ClassifierEnsembleRandomForest\n",
    "\n",
    "import collections\n",
    "import os\n",
    "import matplotlib.pyplot as plt\n",
    "import numpy as np\n",
    "import pandas as pd\n",
    "import sklearn\n",
    "from sklearn.decomposition import PCA\n",
    "from sklearn import svm\n",
    "from sklearn.model_selection import cross_val_score\n",
    "\n",
    "%matplotlib inline"
   ]
  },
  {
   "cell_type": "code",
   "execution_count": 7,
   "metadata": {},
   "outputs": [
    {
     "data": {
      "text/html": [
       "<div>\n",
       "<style scoped>\n",
       "    .dataframe tbody tr th:only-of-type {\n",
       "        vertical-align: middle;\n",
       "    }\n",
       "\n",
       "    .dataframe tbody tr th {\n",
       "        vertical-align: top;\n",
       "    }\n",
       "\n",
       "    .dataframe thead th {\n",
       "        text-align: right;\n",
       "    }\n",
       "</style>\n",
       "<table border=\"1\" class=\"dataframe\">\n",
       "  <thead>\n",
       "    <tr style=\"text-align: right;\">\n",
       "      <th></th>\n",
       "      <th>0</th>\n",
       "      <th>1</th>\n",
       "      <th>2</th>\n",
       "      <th>3</th>\n",
       "      <th>4</th>\n",
       "      <th>5</th>\n",
       "      <th>6</th>\n",
       "      <th>7</th>\n",
       "      <th>8</th>\n",
       "      <th>9</th>\n",
       "      <th>...</th>\n",
       "      <th>16</th>\n",
       "      <th>17</th>\n",
       "      <th>18</th>\n",
       "      <th>19</th>\n",
       "      <th>20</th>\n",
       "      <th>21</th>\n",
       "      <th>22</th>\n",
       "      <th>23</th>\n",
       "      <th>24</th>\n",
       "      <th>25</th>\n",
       "    </tr>\n",
       "  </thead>\n",
       "  <tbody>\n",
       "    <tr>\n",
       "      <th>Rv0001</th>\n",
       "      <td>702.025149</td>\n",
       "      <td>779.516150</td>\n",
       "      <td>1070.330107</td>\n",
       "      <td>521.248835</td>\n",
       "      <td>966.936447</td>\n",
       "      <td>484.195823</td>\n",
       "      <td>555.040510</td>\n",
       "      <td>831.962319</td>\n",
       "      <td>596.055777</td>\n",
       "      <td>436.412031</td>\n",
       "      <td>...</td>\n",
       "      <td>506.720680</td>\n",
       "      <td>1530.537317</td>\n",
       "      <td>4200.945280</td>\n",
       "      <td>907.661559</td>\n",
       "      <td>1659.302171</td>\n",
       "      <td>1416.808965</td>\n",
       "      <td>5445.610535</td>\n",
       "      <td>4040.124851</td>\n",
       "      <td>5459.701691</td>\n",
       "      <td>3478.791893</td>\n",
       "    </tr>\n",
       "    <tr>\n",
       "      <th>Rv0002</th>\n",
       "      <td>220.542687</td>\n",
       "      <td>269.453675</td>\n",
       "      <td>294.591012</td>\n",
       "      <td>153.028891</td>\n",
       "      <td>341.369245</td>\n",
       "      <td>149.461221</td>\n",
       "      <td>201.155532</td>\n",
       "      <td>327.676794</td>\n",
       "      <td>242.204515</td>\n",
       "      <td>179.118978</td>\n",
       "      <td>...</td>\n",
       "      <td>177.739408</td>\n",
       "      <td>256.130243</td>\n",
       "      <td>691.319398</td>\n",
       "      <td>396.455696</td>\n",
       "      <td>802.463710</td>\n",
       "      <td>660.245464</td>\n",
       "      <td>1097.233307</td>\n",
       "      <td>802.762651</td>\n",
       "      <td>1318.670928</td>\n",
       "      <td>1119.141608</td>\n",
       "    </tr>\n",
       "    <tr>\n",
       "      <th>Rv0003</th>\n",
       "      <td>148.669755</td>\n",
       "      <td>187.943639</td>\n",
       "      <td>190.481241</td>\n",
       "      <td>106.776727</td>\n",
       "      <td>205.851134</td>\n",
       "      <td>116.123453</td>\n",
       "      <td>120.865985</td>\n",
       "      <td>202.136128</td>\n",
       "      <td>239.309429</td>\n",
       "      <td>146.433324</td>\n",
       "      <td>...</td>\n",
       "      <td>170.142117</td>\n",
       "      <td>112.541873</td>\n",
       "      <td>314.458794</td>\n",
       "      <td>485.423051</td>\n",
       "      <td>983.433213</td>\n",
       "      <td>798.439168</td>\n",
       "      <td>482.854483</td>\n",
       "      <td>351.746580</td>\n",
       "      <td>675.442802</td>\n",
       "      <td>654.404557</td>\n",
       "    </tr>\n",
       "    <tr>\n",
       "      <th>Rv0004</th>\n",
       "      <td>64.976837</td>\n",
       "      <td>78.559085</td>\n",
       "      <td>65.477927</td>\n",
       "      <td>42.324591</td>\n",
       "      <td>71.765955</td>\n",
       "      <td>55.447652</td>\n",
       "      <td>42.010891</td>\n",
       "      <td>79.341913</td>\n",
       "      <td>83.944223</td>\n",
       "      <td>56.747405</td>\n",
       "      <td>...</td>\n",
       "      <td>64.590251</td>\n",
       "      <td>37.974005</td>\n",
       "      <td>134.469445</td>\n",
       "      <td>186.848768</td>\n",
       "      <td>264.589160</td>\n",
       "      <td>253.882070</td>\n",
       "      <td>231.471136</td>\n",
       "      <td>131.026697</td>\n",
       "      <td>285.204421</td>\n",
       "      <td>257.650020</td>\n",
       "    </tr>\n",
       "    <tr>\n",
       "      <th>Rv0005</th>\n",
       "      <td>2092.706817</td>\n",
       "      <td>2597.726971</td>\n",
       "      <td>3710.897521</td>\n",
       "      <td>1814.472108</td>\n",
       "      <td>3728.950511</td>\n",
       "      <td>1691.858454</td>\n",
       "      <td>2279.187143</td>\n",
       "      <td>3903.237362</td>\n",
       "      <td>1298.180611</td>\n",
       "      <td>1604.445036</td>\n",
       "      <td>...</td>\n",
       "      <td>607.371497</td>\n",
       "      <td>2610.424762</td>\n",
       "      <td>8464.092664</td>\n",
       "      <td>947.115256</td>\n",
       "      <td>1741.190571</td>\n",
       "      <td>1454.655816</td>\n",
       "      <td>6385.647779</td>\n",
       "      <td>5896.320893</td>\n",
       "      <td>10056.039420</td>\n",
       "      <td>9844.403232</td>\n",
       "    </tr>\n",
       "  </tbody>\n",
       "</table>\n",
       "<p>5 rows × 26 columns</p>\n",
       "</div>"
      ],
      "text/plain": [
       "                 0            1            2            3            4   \\\n",
       "Rv0001   702.025149   779.516150  1070.330107   521.248835   966.936447   \n",
       "Rv0002   220.542687   269.453675   294.591012   153.028891   341.369245   \n",
       "Rv0003   148.669755   187.943639   190.481241   106.776727   205.851134   \n",
       "Rv0004    64.976837    78.559085    65.477927    42.324591    71.765955   \n",
       "Rv0005  2092.706817  2597.726971  3710.897521  1814.472108  3728.950511   \n",
       "\n",
       "                 5            6            7            8            9   ...  \\\n",
       "Rv0001   484.195823   555.040510   831.962319   596.055777   436.412031  ...   \n",
       "Rv0002   149.461221   201.155532   327.676794   242.204515   179.118978  ...   \n",
       "Rv0003   116.123453   120.865985   202.136128   239.309429   146.433324  ...   \n",
       "Rv0004    55.447652    42.010891    79.341913    83.944223    56.747405  ...   \n",
       "Rv0005  1691.858454  2279.187143  3903.237362  1298.180611  1604.445036  ...   \n",
       "\n",
       "                16           17           18          19           20  \\\n",
       "Rv0001  506.720680  1530.537317  4200.945280  907.661559  1659.302171   \n",
       "Rv0002  177.739408   256.130243   691.319398  396.455696   802.463710   \n",
       "Rv0003  170.142117   112.541873   314.458794  485.423051   983.433213   \n",
       "Rv0004   64.590251    37.974005   134.469445  186.848768   264.589160   \n",
       "Rv0005  607.371497  2610.424762  8464.092664  947.115256  1741.190571   \n",
       "\n",
       "                 21           22           23            24           25  \n",
       "Rv0001  1416.808965  5445.610535  4040.124851   5459.701691  3478.791893  \n",
       "Rv0002   660.245464  1097.233307   802.762651   1318.670928  1119.141608  \n",
       "Rv0003   798.439168   482.854483   351.746580    675.442802   654.404557  \n",
       "Rv0004   253.882070   231.471136   131.026697    285.204421   257.650020  \n",
       "Rv0005  1454.655816  6385.647779  5896.320893  10056.039420  9844.403232  \n",
       "\n",
       "[5 rows x 26 columns]"
      ]
     },
     "execution_count": 7,
     "metadata": {},
     "output_type": "execute_result"
    }
   ],
   "source": [
    "provider = DataProvider(is_normalize=False)\n",
    "provider.do()\n",
    "provider.dfs_centered_adjusted_read_count[1].head()"
   ]
  },
  {
   "cell_type": "code",
   "execution_count": 2,
   "metadata": {
    "scrolled": true
   },
   "outputs": [],
   "source": [
    "data = TrinaryData()\n",
    "data.df_X.head()\n",
    "dd = DataProvider(is_normalize=False)\n",
    "dd.do()"
   ]
  },
  {
   "cell_type": "markdown",
   "metadata": {},
   "source": [
    "## Feature Selection\n",
    "Determine how many features to include."
   ]
  },
  {
   "cell_type": "code",
   "execution_count": 3,
   "metadata": {},
   "outputs": [
    {
     "data": {
      "image/png": "[encoded data removed]",
      "text/plain": [
       "<Figure size 432x288 with 1 Axes>"
      ]
     },
     "metadata": {
      "needs_background": "light"
     },
     "output_type": "display_data"
    },
    {
     "data": {
      "image/png": "[encoded data removed]",
      "text/plain": [
       "<Figure size 432x288 with 1 Axes>"
      ]
     },
     "metadata": {
      "needs_background": "light"
     },
     "output_type": "display_data"
    },
    {
     "data": {
      "image/png": "[encoded data removed]",
      "text/plain": [
       "<Figure size 432x288 with 1 Axes>"
      ]
     },
     "metadata": {
      "needs_background": "light"
     },
     "output_type": "display_data"
    },
    {
     "data": {
      "image/png": "[encoded data removed]",
      "text/plain": [
       "<Figure size 432x288 with 1 Axes>"
      ]
     },
     "metadata": {
      "needs_background": "light"
     },
     "output_type": "display_data"
    }
   ],
   "source": [
    "# Assess how many features should be included\n",
    "for filter in [10, 15, 20, 30]:\n",
    "    svm_ensemble = classifier_ensemble.ClassifierEnsemble(\n",
    "        classifier_ensemble.ClassifierDescriptorSVM(), filter_high_rank=filter, size=30)\n",
    "    df_X = data.df_X.copy()\n",
    "    df_X.columns = data.features\n",
    "    svm_ensemble.fit(df_X, data.ser_y)\n",
    "    # Analysis to determine how many features should be considered\n",
    "    svm_ensemble.plotImportance(title=\"%d\" % filter, ylim=[0, 1.5], ylabel=\"Parameter Value\")\n",
    "    #svm_ensemble.plotRank()"
   ]
  }
 ],
 "metadata": {
  "kernelspec": {
   "display_name": "Python 3",
   "language": "python",
   "name": "python3"
  },
  "language_info": {
   "codemirror_mode": {
    "name": "ipython",
    "version": 3
   },
   "file_extension": ".py",
   "mimetype": "text/x-python",
   "name": "python",
   "nbconvert_exporter": "python",
   "pygments_lexer": "ipython3",
   "version": "3.8.0"
  }
 },
 "nbformat": 4,
 "nbformat_minor": 2
}
