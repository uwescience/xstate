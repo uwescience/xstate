{
 "cells": [
  {
   "cell_type": "markdown",
   "metadata": {},
   "source": [
    "# REST API for KEGG"
   ]
  },
  {
   "cell_type": "code",
   "execution_count": 1,
   "metadata": {},
   "outputs": [],
   "source": [
    "import requests\n",
    "import json\n",
    "import pandas as pd\n",
    "import numpy as np"
   ]
  },
  {
   "cell_type": "code",
   "execution_count": 36,
   "metadata": {},
   "outputs": [],
   "source": [
    "from collections import namedtuple\n",
    "PathwayDescription = namedtuple(\"PathwayDescription\", \"name description\")\n",
    "api_url_base = \"http://rest.kegg.jp/list/pathway/mtv\"\n",
    "\n",
    "response = requests.get(api_url_base, headers={})\n",
    "\n",
    "if response.status_code == 200:\n",
    "    lines = response.text.split(\"\\n\")\n",
    "    result = []\n",
    "    for line in lines:\n",
    "        splits = line.split(\"\\t\")\n",
    "        if len(splits) > 1:\n",
    "            pathway = PathwayDescription(name=splits[0], description=splits[1])\n",
    "            result.append(pathway)\n",
    "else:\n",
    "    result = None"
   ]
  },
  {
   "cell_type": "code",
   "execution_count": 35,
   "metadata": {},
   "outputs": [
    {
     "data": {
      "text/plain": [
       "PathwayDescription(name='path:mtv00010', description='Glycolysis / Gluconeogenesis - Mycobacterium tuberculosis H37Rv')"
      ]
     },
     "execution_count": 35,
     "metadata": {},
     "output_type": "execute_result"
    }
   ],
   "source": [
    "result[0]"
   ]
  },
  {
   "cell_type": "code",
   "execution_count": 22,
   "metadata": {},
   "outputs": [
    {
     "name": "stdout",
     "output_type": "stream",
     "text": [
      "path:mtv00010\tGlycolysis / Gluconeogenesis - Mycobacterium tuberculosis H37Rv\n",
      "path:mtv00020\tCitrate cycle (TCA cycle) - Mycobacterium tuberculosis H37Rv\n",
      "path:mtv00030\tPentose phosphate pathway - Mycobacterium tuberculosis H37Rv\n",
      "path:mtv00040\tPentose and glucuronate interconversions - Mycobacterium tuberculosis H37Rv\n",
      "path:mtv00051\tFructose and mannose metabolism - Mycobacterium tuberculosis H37Rv\n",
      "path:mtv00052\tGalactose metabolism - Mycobacterium tuberculosis H37Rv\n",
      "path:mtv00053\tAscorbate and aldarate metabolism - Mycobacterium tuberculosis H37Rv\n",
      "path:mtv00061\tFatty acid biosynthesis - Mycobacterium tuberculosis H37Rv\n",
      "path:mtv00071\tFatty acid degradation - Mycobacterium tuberculosis H37Rv\n",
      "path:mtv00072\tSynthesis and degradation of ketone bodies - Mycobacterium tuberculosis H37Rv\n",
      "path:mtv00100\tSteroid biosynthesis - Mycobacterium tuberculosis H37Rv\n",
      "path:mtv00121\tSecondary bile acid biosynthesis - Mycobacterium tuberculosis H37Rv\n",
      "path:mtv00130\tUbiquinone and other terpenoid-quinone biosynthesis - Mycobacterium tuberculosis H37Rv\n",
      "path:mtv00190\tOxidative phosphorylation - Mycobacterium tuberculosis H37Rv\n",
      "path:mtv00220\tArginine biosynthesis - Mycobacterium tuberculosis H37Rv\n",
      "path:mtv00230\tPurine metabolism - Mycobacterium tuberculosis H37Rv\n",
      "path:mtv00240\tPyrimidine metabolism - Mycobacterium tuberculosis H37Rv\n",
      "path:mtv00250\tAlanine, aspartate and glutamate metabolism - Mycobacterium tuberculosis H37Rv\n",
      "path:mtv00260\tGlycine, serine and threonine metabolism - Mycobacterium tuberculosis H37Rv\n",
      "path:mtv00261\tMonobactam biosynthesis - Mycobacterium tuberculosis H37Rv\n",
      "path:mtv00270\tCysteine and methionine metabolism - Mycobacterium tuberculosis H37Rv\n",
      "path:mtv00280\tValine, leucine and isoleucine degradation - Mycobacterium tuberculosis H37Rv\n",
      "path:mtv00281\tGeraniol degradation - Mycobacterium tuberculosis H37Rv\n",
      "path:mtv00290\tValine, leucine and isoleucine biosynthesis - Mycobacterium tuberculosis H37Rv\n",
      "path:mtv00300\tLysine biosynthesis - Mycobacterium tuberculosis H37Rv\n",
      "path:mtv00310\tLysine degradation - Mycobacterium tuberculosis H37Rv\n",
      "path:mtv00311\tPenicillin and cephalosporin biosynthesis - Mycobacterium tuberculosis H37Rv\n",
      "path:mtv00330\tArginine and proline metabolism - Mycobacterium tuberculosis H37Rv\n",
      "path:mtv00332\tCarbapenem biosynthesis - Mycobacterium tuberculosis H37Rv\n",
      "path:mtv00340\tHistidine metabolism - Mycobacterium tuberculosis H37Rv\n",
      "path:mtv00350\tTyrosine metabolism - Mycobacterium tuberculosis H37Rv\n",
      "path:mtv00360\tPhenylalanine metabolism - Mycobacterium tuberculosis H37Rv\n",
      "path:mtv00361\tChlorocyclohexane and chlorobenzene degradation - Mycobacterium tuberculosis H37Rv\n",
      "path:mtv00362\tBenzoate degradation - Mycobacterium tuberculosis H37Rv\n",
      "path:mtv00364\tFluorobenzoate degradation - Mycobacterium tuberculosis H37Rv\n",
      "path:mtv00380\tTryptophan metabolism - Mycobacterium tuberculosis H37Rv\n",
      "path:mtv00400\tPhenylalanine, tyrosine and tryptophan biosynthesis - Mycobacterium tuberculosis H37Rv\n",
      "path:mtv00401\tNovobiocin biosynthesis - Mycobacterium tuberculosis H37Rv\n",
      "path:mtv00410\tbeta-Alanine metabolism - Mycobacterium tuberculosis H37Rv\n",
      "path:mtv00430\tTaurine and hypotaurine metabolism - Mycobacterium tuberculosis H37Rv\n",
      "path:mtv00450\tSelenocompound metabolism - Mycobacterium tuberculosis H37Rv\n",
      "path:mtv00460\tCyanoamino acid metabolism - Mycobacterium tuberculosis H37Rv\n",
      "path:mtv00471\tD-Glutamine and D-glutamate metabolism - Mycobacterium tuberculosis H37Rv\n",
      "path:mtv00472\tD-Arginine and D-ornithine metabolism - Mycobacterium tuberculosis H37Rv\n",
      "path:mtv00473\tD-Alanine metabolism - Mycobacterium tuberculosis H37Rv\n",
      "path:mtv00480\tGlutathione metabolism - Mycobacterium tuberculosis H37Rv\n",
      "path:mtv00500\tStarch and sucrose metabolism - Mycobacterium tuberculosis H37Rv\n",
      "path:mtv00514\tOther types of O-glycan biosynthesis - Mycobacterium tuberculosis H37Rv\n",
      "path:mtv00515\tMannose type O-glycan biosynthesis - Mycobacterium tuberculosis H37Rv\n",
      "path:mtv00520\tAmino sugar and nucleotide sugar metabolism - Mycobacterium tuberculosis H37Rv\n",
      "path:mtv00521\tStreptomycin biosynthesis - Mycobacterium tuberculosis H37Rv\n",
      "path:mtv00523\tPolyketide sugar unit biosynthesis - Mycobacterium tuberculosis H37Rv\n",
      "path:mtv00525\tAcarbose and validamycin biosynthesis - Mycobacterium tuberculosis H37Rv\n",
      "path:mtv00540\tLipopolysaccharide biosynthesis - Mycobacterium tuberculosis H37Rv\n",
      "path:mtv00550\tPeptidoglycan biosynthesis - Mycobacterium tuberculosis H37Rv\n",
      "path:mtv00561\tGlycerolipid metabolism - Mycobacterium tuberculosis H37Rv\n",
      "path:mtv00562\tInositol phosphate metabolism - Mycobacterium tuberculosis H37Rv\n",
      "path:mtv00564\tGlycerophospholipid metabolism - Mycobacterium tuberculosis H37Rv\n",
      "path:mtv00565\tEther lipid metabolism - Mycobacterium tuberculosis H37Rv\n",
      "path:mtv00571\tLipoarabinomannan (LAM) biosynthesis - Mycobacterium tuberculosis H37Rv\n",
      "path:mtv00572\tArabinogalactan biosynthesis - Mycobacterium - Mycobacterium tuberculosis H37Rv\n",
      "path:mtv00592\talpha-Linolenic acid metabolism - Mycobacterium tuberculosis H37Rv\n",
      "path:mtv00600\tSphingolipid metabolism - Mycobacterium tuberculosis H37Rv\n",
      "path:mtv00620\tPyruvate metabolism - Mycobacterium tuberculosis H37Rv\n",
      "path:mtv00621\tDioxin degradation - Mycobacterium tuberculosis H37Rv\n",
      "path:mtv00622\tXylene degradation - Mycobacterium tuberculosis H37Rv\n",
      "path:mtv00623\tToluene degradation - Mycobacterium tuberculosis H37Rv\n",
      "path:mtv00625\tChloroalkane and chloroalkene degradation - Mycobacterium tuberculosis H37Rv\n",
      "path:mtv00626\tNaphthalene degradation - Mycobacterium tuberculosis H37Rv\n",
      "path:mtv00627\tAminobenzoate degradation - Mycobacterium tuberculosis H37Rv\n",
      "path:mtv00630\tGlyoxylate and dicarboxylate metabolism - Mycobacterium tuberculosis H37Rv\n",
      "path:mtv00640\tPropanoate metabolism - Mycobacterium tuberculosis H37Rv\n",
      "path:mtv00643\tStyrene degradation - Mycobacterium tuberculosis H37Rv\n",
      "path:mtv00650\tButanoate metabolism - Mycobacterium tuberculosis H37Rv\n",
      "path:mtv00660\tC5-Branched dibasic acid metabolism - Mycobacterium tuberculosis H37Rv\n",
      "path:mtv00670\tOne carbon pool by folate - Mycobacterium tuberculosis H37Rv\n",
      "path:mtv00680\tMethane metabolism - Mycobacterium tuberculosis H37Rv\n",
      "path:mtv00730\tThiamine metabolism - Mycobacterium tuberculosis H37Rv\n",
      "path:mtv00740\tRiboflavin metabolism - Mycobacterium tuberculosis H37Rv\n",
      "path:mtv00750\tVitamin B6 metabolism - Mycobacterium tuberculosis H37Rv\n",
      "path:mtv00760\tNicotinate and nicotinamide metabolism - Mycobacterium tuberculosis H37Rv\n",
      "path:mtv00770\tPantothenate and CoA biosynthesis - Mycobacterium tuberculosis H37Rv\n",
      "path:mtv00780\tBiotin metabolism - Mycobacterium tuberculosis H37Rv\n",
      "path:mtv00785\tLipoic acid metabolism - Mycobacterium tuberculosis H37Rv\n",
      "path:mtv00790\tFolate biosynthesis - Mycobacterium tuberculosis H37Rv\n",
      "path:mtv00860\tPorphyrin and chlorophyll metabolism - Mycobacterium tuberculosis H37Rv\n",
      "path:mtv00900\tTerpenoid backbone biosynthesis - Mycobacterium tuberculosis H37Rv\n",
      "path:mtv00903\tLimonene and pinene degradation - Mycobacterium tuberculosis H37Rv\n",
      "path:mtv00906\tCarotenoid biosynthesis - Mycobacterium tuberculosis H37Rv\n",
      "path:mtv00910\tNitrogen metabolism - Mycobacterium tuberculosis H37Rv\n",
      "path:mtv00920\tSulfur metabolism - Mycobacterium tuberculosis H37Rv\n",
      "path:mtv00930\tCaprolactam degradation - Mycobacterium tuberculosis H37Rv\n",
      "path:mtv00970\tAminoacyl-tRNA biosynthesis - Mycobacterium tuberculosis H37Rv\n",
      "path:mtv00983\tDrug metabolism - other enzymes - Mycobacterium tuberculosis H37Rv\n",
      "path:mtv00984\tSteroid degradation - Mycobacterium tuberculosis H37Rv\n",
      "path:mtv01040\tBiosynthesis of unsaturated fatty acids - Mycobacterium tuberculosis H37Rv\n",
      "path:mtv01053\tBiosynthesis of siderophore group nonribosomal peptides - Mycobacterium tuberculosis H37Rv\n",
      "path:mtv01100\tMetabolic pathways - Mycobacterium tuberculosis H37Rv\n",
      "path:mtv01110\tBiosynthesis of secondary metabolites - Mycobacterium tuberculosis H37Rv\n",
      "path:mtv01120\tMicrobial metabolism in diverse environments - Mycobacterium tuberculosis H37Rv\n",
      "path:mtv01130\tBiosynthesis of antibiotics - Mycobacterium tuberculosis H37Rv\n",
      "path:mtv01200\tCarbon metabolism - Mycobacterium tuberculosis H37Rv\n",
      "path:mtv01210\t2-Oxocarboxylic acid metabolism - Mycobacterium tuberculosis H37Rv\n",
      "path:mtv01212\tFatty acid metabolism - Mycobacterium tuberculosis H37Rv\n",
      "path:mtv01220\tDegradation of aromatic compounds - Mycobacterium tuberculosis H37Rv\n",
      "path:mtv01230\tBiosynthesis of amino acids - Mycobacterium tuberculosis H37Rv\n",
      "path:mtv01501\tbeta-Lactam resistance - Mycobacterium tuberculosis H37Rv\n",
      "path:mtv01502\tVancomycin resistance - Mycobacterium tuberculosis H37Rv\n",
      "path:mtv01503\tCationic antimicrobial peptide (CAMP) resistance - Mycobacterium tuberculosis H37Rv\n",
      "path:mtv02010\tABC transporters - Mycobacterium tuberculosis H37Rv\n",
      "path:mtv02020\tTwo-component system - Mycobacterium tuberculosis H37Rv\n",
      "path:mtv02024\tQuorum sensing - Mycobacterium tuberculosis H37Rv\n",
      "path:mtv03010\tRibosome - Mycobacterium tuberculosis H37Rv\n",
      "path:mtv03018\tRNA degradation - Mycobacterium tuberculosis H37Rv\n",
      "path:mtv03020\tRNA polymerase - Mycobacterium tuberculosis H37Rv\n",
      "path:mtv03030\tDNA replication - Mycobacterium tuberculosis H37Rv\n",
      "path:mtv03050\tProteasome - Mycobacterium tuberculosis H37Rv\n",
      "path:mtv03060\tProtein export - Mycobacterium tuberculosis H37Rv\n",
      "path:mtv03070\tBacterial secretion system - Mycobacterium tuberculosis H37Rv\n",
      "path:mtv03410\tBase excision repair - Mycobacterium tuberculosis H37Rv\n",
      "path:mtv03420\tNucleotide excision repair - Mycobacterium tuberculosis H37Rv\n",
      "path:mtv03430\tMismatch repair - Mycobacterium tuberculosis H37Rv\n",
      "path:mtv03440\tHomologous recombination - Mycobacterium tuberculosis H37Rv\n",
      "path:mtv03450\tNon-homologous end-joining - Mycobacterium tuberculosis H37Rv\n",
      "path:mtv04122\tSulfur relay system - Mycobacterium tuberculosis H37Rv\n",
      "path:mtv05152\tTuberculosis - Mycobacterium tuberculosis H37Rv\n",
      "\n"
     ]
    }
   ],
   "source": [
    "dir()"
   ]
  }
 ],
 "metadata": {
  "kernelspec": {
   "display_name": "Python 3",
   "language": "python",
   "name": "python3"
  },
  "language_info": {
   "codemirror_mode": {
    "name": "ipython",
    "version": 3
   },
   "file_extension": ".py",
   "mimetype": "text/x-python",
   "name": "python",
   "nbconvert_exporter": "python",
   "pygments_lexer": "ipython3",
   "version": "3.6.8"
  }
 },
 "nbformat": 4,
 "nbformat_minor": 2
}
