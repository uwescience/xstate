{
 "cells": [
  {
   "cell_type": "markdown",
   "metadata": {},
   "source": [
    "# Classification Equivalent Features\n",
    "Analysis of the features that can be substituted in high accuracy, minimal classifiers. A classifer is **minimal** if the removal of any single feature makes it no longer high accuracy. Two features are equivalent if one can substituted for the other in a minimal, high accuracy classifier and the result is still a high accuracy classifier."
   ]
  },
  {
   "cell_type": "code",
   "execution_count": 1,
   "metadata": {},
   "outputs": [],
   "source": [
    "import init\n",
    "import common.constants as cn\n",
    "import common_python.constants as ccn\n",
    "from common.trinary_data import TrinaryData\n",
    "from common.data_provider import DataProvider\n",
    "import classifier.main_multi_classifier_feature_optimizer as main\n",
    "from common.data_provider import DataProvider\n",
    "from common_python.plots import util_plots\n",
    "from plots import util_plots as xutil_plots\n",
    "\n",
    "import datetime\n",
    "import os\n",
    "import matplotlib.pyplot as plt\n",
    "import numpy as np\n",
    "import pandas as pd\n",
    "import seaborn\n",
    "\n",
    "%matplotlib inline"
   ]
  },
  {
   "cell_type": "code",
   "execution_count": 2,
   "metadata": {},
   "outputs": [],
   "source": [
    "# These are the \"long\" data that have individual replications, not averages\n",
    "PROVIDER = DataProvider()\n",
    "PROVIDER.do()\n",
    "TRINARY = TrinaryData(is_averaged=False, is_dropT1=False)  # Trinary data\n",
    "DF_X = TRINARY.df_X\n",
    "SER_Y = TRINARY.ser_y\n",
    "STATES = SER_Y.unique()\n",
    "path = os.path.join(cn.DATA_DIR, \"fit_result.xlsx\")\n",
    "DF_FIT = pd.read_excel(path)\n",
    "path = os.path.join(cn.DATA_DIR, \"fit_result_tf.xlsx\")\n",
    "DF_FIT_TF = pd.read_excel(path)\n",
    "DF_FIT_TF.head()\n",
    "TFs = list(DF_FIT_TF[\"feature\"].unique())"
   ]
  },
  {
   "cell_type": "code",
   "execution_count": 14,
   "metadata": {},
   "outputs": [
    {
     "data": {
      "text/html": [
       "<div>\n",
       "<style scoped>\n",
       "    .dataframe tbody tr th:only-of-type {\n",
       "        vertical-align: middle;\n",
       "    }\n",
       "\n",
       "    .dataframe tbody tr th {\n",
       "        vertical-align: top;\n",
       "    }\n",
       "\n",
       "    .dataframe thead th {\n",
       "        text-align: right;\n",
       "    }\n",
       "</style>\n",
       "<table border=\"1\" class=\"dataframe\">\n",
       "  <thead>\n",
       "    <tr style=\"text-align: right;\">\n",
       "      <th></th>\n",
       "      <th>cls_feature</th>\n",
       "      <th>cmp_feature</th>\n",
       "      <th>score</th>\n",
       "      <th>state</th>\n",
       "    </tr>\n",
       "  </thead>\n",
       "  <tbody>\n",
       "    <tr>\n",
       "      <th>0</th>\n",
       "      <td>Rv0158</td>\n",
       "      <td>Rv0158</td>\n",
       "      <td>1.0</td>\n",
       "      <td>1</td>\n",
       "    </tr>\n",
       "    <tr>\n",
       "      <th>1</th>\n",
       "      <td>Rv0158</td>\n",
       "      <td>Rv1460</td>\n",
       "      <td>0.0</td>\n",
       "      <td>1</td>\n",
       "    </tr>\n",
       "    <tr>\n",
       "      <th>2</th>\n",
       "      <td>Rv0158</td>\n",
       "      <td>Rv0054</td>\n",
       "      <td>-4.0</td>\n",
       "      <td>1</td>\n",
       "    </tr>\n",
       "    <tr>\n",
       "      <th>3</th>\n",
       "      <td>Rv0158</td>\n",
       "      <td>Rv3246c</td>\n",
       "      <td>0.0</td>\n",
       "      <td>1</td>\n",
       "    </tr>\n",
       "    <tr>\n",
       "      <th>4</th>\n",
       "      <td>Rv0158</td>\n",
       "      <td>Rv2034</td>\n",
       "      <td>0.0</td>\n",
       "      <td>1</td>\n",
       "    </tr>\n",
       "  </tbody>\n",
       "</table>\n",
       "</div>"
      ],
      "text/plain": [
       "  cls_feature cmp_feature  score  state\n",
       "0      Rv0158      Rv0158    1.0      1\n",
       "1      Rv0158      Rv1460    0.0      1\n",
       "2      Rv0158      Rv0054   -4.0      1\n",
       "3      Rv0158     Rv3246c    0.0      1\n",
       "4      Rv0158      Rv2034    0.0      1"
      ]
     },
     "execution_count": 14,
     "metadata": {},
     "output_type": "execute_result"
    }
   ],
   "source": [
    "# Relate incremental accuracy (RIA) of a feature\n",
    "#   CCN.CLS_FEATURE - feature in the classifier that is removed\n",
    "#   CCN.CMP_FEATURE - other feature that is inserted\n",
    "#   CCN.SCORE - RIA of the new classifier compared to the old 1. A score of 1 means that the\n",
    "#               two features are equivalent. A score > 1 means that the new feature creates\n",
    "#               an improved classifier, and < 1 a degraded classifier.\n",
    "DATA_DIR = cn.PROJECT_DIR\n",
    "for directory in [\"xstate\", \"python\", \"classifier\"]:\n",
    "    DATA_DIR = os.path.join(DATA_DIR, directory)\n",
    "dfs = []\n",
    "for state in SER_Y.unique():\n",
    "    path = os.path.join(DATA_DIR, \"main_feature_equivalence_calculator_%d.csv\" % state)\n",
    "    if os.path.isfile(path):\n",
    "        df = pd.read_csv(path)\n",
    "        del df[df.columns[0]] # Eliminate bogus column \"Unnamed\"\n",
    "        dfs.append(df)\n",
    "DF_RIA = pd.concat(dfs)\n",
    "DF_RIA.head()"
   ]
  }
 ],
 "metadata": {
  "kernelspec": {
   "display_name": "Python 3",
   "language": "python",
   "name": "python3"
  },
  "language_info": {
   "codemirror_mode": {
    "name": "ipython",
    "version": 3
   },
   "file_extension": ".py",
   "mimetype": "text/x-python",
   "name": "python",
   "nbconvert_exporter": "python",
   "pygments_lexer": "ipython3",
   "version": "3.8.1"
  }
 },
 "nbformat": 4,
 "nbformat_minor": 4
}
