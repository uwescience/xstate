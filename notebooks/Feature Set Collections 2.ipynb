{
 "cells": [
  {
   "cell_type": "markdown",
   "metadata": {},
   "source": [
    "# Feature Set Collections 2"
   ]
  },
  {
   "cell_type": "code",
   "execution_count": 1,
   "metadata": {
    "scrolled": false
   },
   "outputs": [],
   "source": [
    "import init\n",
    "import common.constants as cn\n",
    "import common_python.constants as ccn\n",
    "from common.trinary_data import TrinaryData\n",
    "from common.data_provider import DataProvider\n",
    "from common.data_provider import DataProvider\n",
    "from common_python.plots import util_plots\n",
    "from plots import util_plots as xutil_plots\n",
    "from common_python.classifier import feature_analyzer\n",
    "from common_python.classifier import feature_set_collection\n",
    "from common_python.util import util\n",
    "from common import transform_data\n",
    "from common_python.classifier.feature_set import FeatureSet\n",
    "from common import trinary_data\n",
    "from classifier import util_classifier\n",
    "\n",
    "import datetime\n",
    "import os\n",
    "import matplotlib.pyplot as plt\n",
    "import numpy as np\n",
    "import pandas as pd\n",
    "import seaborn\n",
    "from sklearn import svm\n",
    "\n",
    "%matplotlib inline"
   ]
  },
  {
   "cell_type": "code",
   "execution_count": 2,
   "metadata": {
    "scrolled": false
   },
   "outputs": [],
   "source": [
    "# These are the \"long\" data that have individual replications, not averages. And, only using TFs.\n",
    "PROVIDER = DataProvider()\n",
    "PROVIDER.do()\n",
    "TRINARY = TrinaryData(is_averaged=False, is_dropT1=False, is_regulator=True)  # Trinary data\n",
    "DF_X = TRINARY.df_X\n",
    "SER_Y = TRINARY.ser_y\n",
    "STATES = SER_Y.unique()\n",
    "REGULATORS = DF_X.columns.tolist()\n",
    "DATA_PATH = cn.PROJECT_DIR\n",
    "for directory in [\"data\", \"feature_analyzer\"]:\n",
    "    DATA_PATH = os.path.join(DATA_PATH, directory)\n",
    "DATA_PATH_PAT = os.path.join(DATA_PATH, \"%d\") \n",
    "ANALYZER_DCT = feature_analyzer.deserialize({s: DATA_PATH_PAT % s for s in STATES})\n",
    "ANALYZERS = ANALYZER_DCT.values()\n",
    "COLLECTION_DCT = {s: feature_set_collection.FeatureSetCollection.deserialize(DATA_PATH_PAT % s) for s in STATES}\n",
    "_ = [c.df_case for c in COLLECTION_DCT.values()]"
   ]
  },
  {
   "cell_type": "code",
   "execution_count": 3,
   "metadata": {
    "scrolled": true
   },
   "outputs": [],
   "source": [
    "# Serialize the collections\n",
    "if False:\n",
    "    for state in STATES:\n",
    "        COLLECTION_DCT[state].serialize(DATA_PATH_PAT % state)"
   ]
  },
  {
   "cell_type": "code",
   "execution_count": 4,
   "metadata": {
    "scrolled": false
   },
   "outputs": [
    {
     "data": {
      "text/html": [
       "<div>\n",
       "<style scoped>\n",
       "    .dataframe tbody tr th:only-of-type {\n",
       "        vertical-align: middle;\n",
       "    }\n",
       "\n",
       "    .dataframe tbody tr th {\n",
       "        vertical-align: top;\n",
       "    }\n",
       "\n",
       "    .dataframe thead th {\n",
       "        text-align: right;\n",
       "    }\n",
       "</style>\n",
       "<table border=\"1\" class=\"dataframe\">\n",
       "  <thead>\n",
       "    <tr style=\"text-align: right;\">\n",
       "      <th></th>\n",
       "      <th>GENE_ID</th>\n",
       "      <th>GO_Term</th>\n",
       "    </tr>\n",
       "  </thead>\n",
       "  <tbody>\n",
       "    <tr>\n",
       "      <th>0</th>\n",
       "      <td>P9WKY5</td>\n",
       "      <td>host cell nucleus</td>\n",
       "    </tr>\n",
       "    <tr>\n",
       "      <th>1</th>\n",
       "      <td>Rv0001</td>\n",
       "      <td>DNA replication initiation---dephosphorylation...</td>\n",
       "    </tr>\n",
       "    <tr>\n",
       "      <th>2</th>\n",
       "      <td>Rv0002</td>\n",
       "      <td>extracellular region---cell wall</td>\n",
       "    </tr>\n",
       "    <tr>\n",
       "      <th>3</th>\n",
       "      <td>Rv0003</td>\n",
       "      <td>double-strand break repair---cytosol---plasma ...</td>\n",
       "    </tr>\n",
       "    <tr>\n",
       "      <th>4</th>\n",
       "      <td>Rv0005</td>\n",
       "      <td>DNA topological change---growth---magnesium io...</td>\n",
       "    </tr>\n",
       "  </tbody>\n",
       "</table>\n",
       "</div>"
      ],
      "text/plain": [
       "  GENE_ID                                            GO_Term\n",
       "0  P9WKY5                                  host cell nucleus\n",
       "1  Rv0001  DNA replication initiation---dephosphorylation...\n",
       "2  Rv0002                   extracellular region---cell wall\n",
       "3  Rv0003  double-strand break repair---cytosol---plasma ...\n",
       "4  Rv0005  DNA topological change---growth---magnesium io..."
      ]
     },
     "execution_count": 4,
     "metadata": {},
     "output_type": "execute_result"
    }
   ],
   "source": [
    "PROVIDER.df_go_terms.head()"
   ]
  },
  {
   "cell_type": "code",
   "execution_count": 5,
   "metadata": {
    "scrolled": false
   },
   "outputs": [],
   "source": [
    "SAMPLE_DATA = trinary_data.getSampleData()\n",
    "DF_AM = SAMPLE_DATA.AM_MDM\n",
    "DF_AW = SAMPLE_DATA.AW\n",
    "DF_GALAGAN = SAMPLE_DATA.galagan"
   ]
  },
  {
   "cell_type": "markdown",
   "metadata": {},
   "source": [
    "## Feature Set Collection Histograms"
   ]
  },
  {
   "cell_type": "code",
   "execution_count": 6,
   "metadata": {
    "scrolled": true
   },
   "outputs": [],
   "source": [
    "def histograms(ser_X, title=\"\", **kwargs):\n",
    "    ncol = 3\n",
    "    nrow = 2\n",
    "    fig, axes = plt.subplots(nrow, ncol, figsize=(16, 12))\n",
    "    for idx, state in enumerate(COLLECTION_DCT.keys()):\n",
    "        row = int(idx/ncol)\n",
    "        col = idx % ncol\n",
    "        if idx == 5:\n",
    "            is_plot=False\n",
    "        else:\n",
    "            is_plot=False\n",
    "        COLLECTION_DCT[state].plotEvaluateHistogram(ser_X, ax=axes[row, col],\n",
    "                                                   title=\"%d\" % state, is_plot=False, **kwargs)\n",
    "    plt.suptitle(title, fontsize=14)\n",
    "    plt.show()"
   ]
  },
  {
   "cell_type": "code",
   "execution_count": 7,
   "metadata": {
    "scrolled": false
   },
   "outputs": [],
   "source": [
    "for instance in DF_AM.index:\n",
    "    ser_X = DF_AM.loc[instance, :]\n",
    "    #histograms(ser_X, title=instance, ylim=[0,10], max_sl=0.01)"
   ]
  },
  {
   "cell_type": "code",
   "execution_count": 8,
   "metadata": {
    "scrolled": true
   },
   "outputs": [],
   "source": [
    "for instance in DF_GALAGAN.index:\n",
    "    ser_X = DF_GALAGAN.loc[instance, :]\n",
    "    #histograms(ser_X, title=instance, max_sl=0.01, ylim=[0, 10])"
   ]
  },
  {
   "cell_type": "markdown",
   "metadata": {},
   "source": [
    "## Term Analysis\n",
    "Only include genes that have GO terms hypoxia, lipid, fatty acid."
   ]
  },
  {
   "cell_type": "code",
   "execution_count": null,
   "metadata": {},
   "outputs": [],
   "source": [
    "fset = FeatureSet([\"Rv2009\"])\n",
    "fset_selector = lambda f: util_classifier.countTerms(f, [\"a\"])\n",
    "COLLECTION_DCT[1].plotEvaluate(ser_X, fset_selector=fset_selector, num_fset=100)"
   ]
  }
 ],
 "metadata": {
  "kernelspec": {
   "display_name": "Python 3",
   "language": "python",
   "name": "python3"
  },
  "language_info": {
   "codemirror_mode": {
    "name": "ipython",
    "version": 3
   },
   "file_extension": ".py",
   "mimetype": "text/x-python",
   "name": "python",
   "nbconvert_exporter": "python",
   "pygments_lexer": "ipython3",
   "version": "3.8.1"
  }
 },
 "nbformat": 4,
 "nbformat_minor": 4
}
