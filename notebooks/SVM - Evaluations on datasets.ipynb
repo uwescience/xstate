{
 "cells": [
  {
   "cell_type": "markdown",
   "metadata": {},
   "source": [
    "# SVM - Evaluation On Datasets"
   ]
  },
  {
   "cell_type": "markdown",
   "metadata": {},
   "source": [
    "This notebook analyzes on multiple datasets. This notebook\n",
    "considers whether classifiers in ensembles were trained on\n",
    "features with values compatible with the tests vector."
   ]
  },
  {
   "cell_type": "markdown",
   "metadata": {},
   "source": [
    "**TO DO**\n",
    "1. Check the data to see if trained on Normoxia. \n",
    "1. Also, was training done on individual replicas? Are the data all features or just regulators?\n",
    "1. Bar plot presentation of evaluations\n",
    "1. Filter ensembles if test_vector is not contained in the training data."
   ]
  },
  {
   "cell_type": "markdown",
   "metadata": {},
   "source": [
    "# Preliminaries"
   ]
  },
  {
   "cell_type": "code",
   "execution_count": 1,
   "metadata": {
    "scrolled": true
   },
   "outputs": [],
   "source": [
    "import init\n",
    "from common import constants as cn\n",
    "from common.trinary_data import TrinaryData\n",
    "from common.data_provider import DataProvider\n",
    "from common_python.plots import util_plots\n",
    "from common_python.classifier import classifier_ensemble\n",
    "from common_python.classifier import classifier_collection\n",
    "from common import transform_data\n",
    "\n",
    "import collections\n",
    "import os\n",
    "import matplotlib.pyplot as plt\n",
    "import numpy as np\n",
    "import pandas as pd\n",
    "import sklearn\n",
    "from sklearn.decomposition import PCA\n",
    "from sklearn import svm\n",
    "from sklearn.model_selection import cross_val_score\n",
    "\n",
    "%matplotlib inline"
   ]
  },
  {
   "cell_type": "markdown",
   "metadata": {},
   "source": [
    "# Data\n",
    "Data used in the analysis."
   ]
  },
  {
   "cell_type": "code",
   "execution_count": 14,
   "metadata": {},
   "outputs": [
    {
     "data": {
      "text/html": [
       "<div>\n",
       "<style scoped>\n",
       "    .dataframe tbody tr th:only-of-type {\n",
       "        vertical-align: middle;\n",
       "    }\n",
       "\n",
       "    .dataframe tbody tr th {\n",
       "        vertical-align: top;\n",
       "    }\n",
       "\n",
       "    .dataframe thead th {\n",
       "        text-align: right;\n",
       "    }\n",
       "</style>\n",
       "<table border=\"1\" class=\"dataframe\">\n",
       "  <thead>\n",
       "    <tr style=\"text-align: right;\">\n",
       "      <th></th>\n",
       "      <th>Rv1927</th>\n",
       "      <th>Rv1129c</th>\n",
       "      <th>Rv3085</th>\n",
       "      <th>Rv3083</th>\n",
       "      <th>Rv3086</th>\n",
       "      <th>Rv2226</th>\n",
       "      <th>Rv0260c</th>\n",
       "      <th>Rv1365c</th>\n",
       "      <th>Rv3084</th>\n",
       "      <th>Rv0975c</th>\n",
       "      <th>...</th>\n",
       "      <th>Rv3267</th>\n",
       "      <th>Rv2748c</th>\n",
       "      <th>Rv3260c</th>\n",
       "      <th>Rv0350</th>\n",
       "      <th>Rv2737c</th>\n",
       "      <th>Rv0440--Rv3417c</th>\n",
       "      <th>Rv2734</th>\n",
       "      <th>Rv0519c</th>\n",
       "      <th>Rv3418c</th>\n",
       "      <th>Rv3269</th>\n",
       "    </tr>\n",
       "  </thead>\n",
       "  <tbody>\n",
       "    <tr>\n",
       "      <th>T2</th>\n",
       "      <td>-1</td>\n",
       "      <td>-1</td>\n",
       "      <td>-1</td>\n",
       "      <td>-1</td>\n",
       "      <td>-1</td>\n",
       "      <td>-1</td>\n",
       "      <td>-1</td>\n",
       "      <td>-1</td>\n",
       "      <td>-1</td>\n",
       "      <td>-1</td>\n",
       "      <td>...</td>\n",
       "      <td>1</td>\n",
       "      <td>1</td>\n",
       "      <td>1</td>\n",
       "      <td>1</td>\n",
       "      <td>1</td>\n",
       "      <td>1</td>\n",
       "      <td>1</td>\n",
       "      <td>1</td>\n",
       "      <td>1</td>\n",
       "      <td>1</td>\n",
       "    </tr>\n",
       "    <tr>\n",
       "      <th>T3</th>\n",
       "      <td>-1</td>\n",
       "      <td>-1</td>\n",
       "      <td>-1</td>\n",
       "      <td>-1</td>\n",
       "      <td>-1</td>\n",
       "      <td>-1</td>\n",
       "      <td>-1</td>\n",
       "      <td>-1</td>\n",
       "      <td>-1</td>\n",
       "      <td>-1</td>\n",
       "      <td>...</td>\n",
       "      <td>1</td>\n",
       "      <td>1</td>\n",
       "      <td>1</td>\n",
       "      <td>1</td>\n",
       "      <td>1</td>\n",
       "      <td>1</td>\n",
       "      <td>1</td>\n",
       "      <td>1</td>\n",
       "      <td>1</td>\n",
       "      <td>1</td>\n",
       "    </tr>\n",
       "    <tr>\n",
       "      <th>T4</th>\n",
       "      <td>-1</td>\n",
       "      <td>-1</td>\n",
       "      <td>-1</td>\n",
       "      <td>-1</td>\n",
       "      <td>-1</td>\n",
       "      <td>-1</td>\n",
       "      <td>-1</td>\n",
       "      <td>-1</td>\n",
       "      <td>-1</td>\n",
       "      <td>-1</td>\n",
       "      <td>...</td>\n",
       "      <td>1</td>\n",
       "      <td>1</td>\n",
       "      <td>1</td>\n",
       "      <td>1</td>\n",
       "      <td>1</td>\n",
       "      <td>1</td>\n",
       "      <td>1</td>\n",
       "      <td>1</td>\n",
       "      <td>1</td>\n",
       "      <td>1</td>\n",
       "    </tr>\n",
       "    <tr>\n",
       "      <th>T5</th>\n",
       "      <td>-1</td>\n",
       "      <td>-1</td>\n",
       "      <td>-1</td>\n",
       "      <td>-1</td>\n",
       "      <td>-1</td>\n",
       "      <td>-1</td>\n",
       "      <td>-1</td>\n",
       "      <td>-1</td>\n",
       "      <td>-1</td>\n",
       "      <td>-1</td>\n",
       "      <td>...</td>\n",
       "      <td>1</td>\n",
       "      <td>1</td>\n",
       "      <td>1</td>\n",
       "      <td>1</td>\n",
       "      <td>1</td>\n",
       "      <td>1</td>\n",
       "      <td>1</td>\n",
       "      <td>1</td>\n",
       "      <td>1</td>\n",
       "      <td>1</td>\n",
       "    </tr>\n",
       "    <tr>\n",
       "      <th>T6</th>\n",
       "      <td>-1</td>\n",
       "      <td>-1</td>\n",
       "      <td>-1</td>\n",
       "      <td>-1</td>\n",
       "      <td>-1</td>\n",
       "      <td>-1</td>\n",
       "      <td>-1</td>\n",
       "      <td>-1</td>\n",
       "      <td>-1</td>\n",
       "      <td>-1</td>\n",
       "      <td>...</td>\n",
       "      <td>1</td>\n",
       "      <td>1</td>\n",
       "      <td>1</td>\n",
       "      <td>1</td>\n",
       "      <td>1</td>\n",
       "      <td>1</td>\n",
       "      <td>1</td>\n",
       "      <td>1</td>\n",
       "      <td>1</td>\n",
       "      <td>1</td>\n",
       "    </tr>\n",
       "  </tbody>\n",
       "</table>\n",
       "<p>5 rows × 1515 columns</p>\n",
       "</div>"
      ],
      "text/plain": [
       "    Rv1927  Rv1129c  Rv3085  Rv3083  Rv3086  Rv2226  Rv0260c  Rv1365c  Rv3084  \\\n",
       "T2      -1       -1      -1      -1      -1      -1       -1       -1      -1   \n",
       "T3      -1       -1      -1      -1      -1      -1       -1       -1      -1   \n",
       "T4      -1       -1      -1      -1      -1      -1       -1       -1      -1   \n",
       "T5      -1       -1      -1      -1      -1      -1       -1       -1      -1   \n",
       "T6      -1       -1      -1      -1      -1      -1       -1       -1      -1   \n",
       "\n",
       "    Rv0975c  ...  Rv3267  Rv2748c  Rv3260c  Rv0350  Rv2737c  Rv0440--Rv3417c  \\\n",
       "T2       -1  ...       1        1        1       1        1                1   \n",
       "T3       -1  ...       1        1        1       1        1                1   \n",
       "T4       -1  ...       1        1        1       1        1                1   \n",
       "T5       -1  ...       1        1        1       1        1                1   \n",
       "T6       -1  ...       1        1        1       1        1                1   \n",
       "\n",
       "    Rv2734  Rv0519c  Rv3418c  Rv3269  \n",
       "T2       1        1        1       1  \n",
       "T3       1        1        1       1  \n",
       "T4       1        1        1       1  \n",
       "T5       1        1        1       1  \n",
       "T6       1        1        1       1  \n",
       "\n",
       "[5 rows x 1515 columns]"
      ]
     },
     "execution_count": 14,
     "metadata": {},
     "output_type": "execute_result"
    }
   ],
   "source": [
    "DATA = TrinaryData(is_regulator=False, is_averaged=True, is_dropT1=True)\n",
    "DATA.df_X.head()"
   ]
  },
  {
   "cell_type": "code",
   "execution_count": 15,
   "metadata": {},
   "outputs": [
    {
     "data": {
      "text/plain": [
       "timepoint\n",
       "T2     1\n",
       "T3     1\n",
       "T4     1\n",
       "T5     1\n",
       "T6     1\n",
       "T7     1\n",
       "T8     2\n",
       "T9     2\n",
       "T10    3\n",
       "T11    2\n",
       "T12    3\n",
       "T13    3\n",
       "T14    3\n",
       "T15    3\n",
       "T16    4\n",
       "T17    4\n",
       "T18    4\n",
       "T19    2\n",
       "T20    2\n",
       "T21    2\n",
       "T22    0\n",
       "T23    0\n",
       "T24    0\n",
       "T25    0\n",
       "Name: name, dtype: int64"
      ]
     },
     "execution_count": 15,
     "metadata": {},
     "output_type": "execute_result"
    }
   ],
   "source": [
    "DATA.ser_y"
   ]
  },
  {
   "cell_type": "code",
   "execution_count": 4,
   "metadata": {},
   "outputs": [],
   "source": [
    "df_sampleAM = transform_data.trinaryReadsDF(\n",
    "    csv_file=\"AM_MDM_Mtb_transcripts_DEseq.csv\", is_time_columns=False, is_display_errors=False)\n",
    "df_sampleAW = transform_data.trinaryReadsDF(csv_file=\"AW_plus_v_AW_neg_Mtb_transcripts_DEseq.csv\",\n",
    "                                            is_time_columns=False, is_display_errors=False)"
   ]
  },
  {
   "cell_type": "code",
   "execution_count": 5,
   "metadata": {
    "scrolled": true
   },
   "outputs": [
    {
     "data": {
      "text/plain": [
       "Index(['AW_plus_1', 'AW_neg_1', 'AW_plus_3', 'AW_neg_3', 'AW_plus_4',\n",
       "       'AW_neg_4'],\n",
       "      dtype='object')"
      ]
     },
     "execution_count": 5,
     "metadata": {},
     "output_type": "execute_result"
    }
   ],
   "source": [
    "df_sampleAM = df_sampleAM.T\n",
    "df_sampleAW.columns"
   ]
  },
  {
   "cell_type": "code",
   "execution_count": 6,
   "metadata": {},
   "outputs": [
    {
     "data": {
      "text/html": [
       "<div>\n",
       "<style scoped>\n",
       "    .dataframe tbody tr th:only-of-type {\n",
       "        vertical-align: middle;\n",
       "    }\n",
       "\n",
       "    .dataframe tbody tr th {\n",
       "        vertical-align: top;\n",
       "    }\n",
       "\n",
       "    .dataframe thead th {\n",
       "        text-align: right;\n",
       "    }\n",
       "</style>\n",
       "<table border=\"1\" class=\"dataframe\">\n",
       "  <thead>\n",
       "    <tr style=\"text-align: right;\">\n",
       "      <th>GENE_ID</th>\n",
       "      <th>Rv0001</th>\n",
       "      <th>Rv0005</th>\n",
       "      <th>Rv0006</th>\n",
       "      <th>Rv0009</th>\n",
       "      <th>Rv0010c</th>\n",
       "      <th>Rv0011c</th>\n",
       "      <th>Rv0013</th>\n",
       "      <th>Rv0014c</th>\n",
       "      <th>Rv0016c</th>\n",
       "      <th>Rv0020c</th>\n",
       "      <th>...</th>\n",
       "      <th>Rvnt36</th>\n",
       "      <th>Rvnt37</th>\n",
       "      <th>Rvnt38</th>\n",
       "      <th>Rvnt39</th>\n",
       "      <th>Rvnt40</th>\n",
       "      <th>Rvnt41</th>\n",
       "      <th>Rvnt42</th>\n",
       "      <th>Rvnt43</th>\n",
       "      <th>Rvnt44</th>\n",
       "      <th>Rvnt45</th>\n",
       "    </tr>\n",
       "  </thead>\n",
       "  <tbody>\n",
       "    <tr>\n",
       "      <th>AW_plus_1</th>\n",
       "      <td>0</td>\n",
       "      <td>0</td>\n",
       "      <td>0</td>\n",
       "      <td>0</td>\n",
       "      <td>-1</td>\n",
       "      <td>0</td>\n",
       "      <td>-1</td>\n",
       "      <td>0</td>\n",
       "      <td>0</td>\n",
       "      <td>0</td>\n",
       "      <td>...</td>\n",
       "      <td>0</td>\n",
       "      <td>0</td>\n",
       "      <td>-1</td>\n",
       "      <td>0</td>\n",
       "      <td>-1</td>\n",
       "      <td>0</td>\n",
       "      <td>-1</td>\n",
       "      <td>0</td>\n",
       "      <td>0</td>\n",
       "      <td>-1</td>\n",
       "    </tr>\n",
       "    <tr>\n",
       "      <th>AW_neg_1</th>\n",
       "      <td>1</td>\n",
       "      <td>1</td>\n",
       "      <td>0</td>\n",
       "      <td>0</td>\n",
       "      <td>-1</td>\n",
       "      <td>1</td>\n",
       "      <td>-1</td>\n",
       "      <td>0</td>\n",
       "      <td>0</td>\n",
       "      <td>0</td>\n",
       "      <td>...</td>\n",
       "      <td>-1</td>\n",
       "      <td>-1</td>\n",
       "      <td>-1</td>\n",
       "      <td>-1</td>\n",
       "      <td>-1</td>\n",
       "      <td>-1</td>\n",
       "      <td>-1</td>\n",
       "      <td>-1</td>\n",
       "      <td>-1</td>\n",
       "      <td>-1</td>\n",
       "    </tr>\n",
       "    <tr>\n",
       "      <th>AW_plus_3</th>\n",
       "      <td>0</td>\n",
       "      <td>0</td>\n",
       "      <td>0</td>\n",
       "      <td>0</td>\n",
       "      <td>-1</td>\n",
       "      <td>1</td>\n",
       "      <td>0</td>\n",
       "      <td>0</td>\n",
       "      <td>0</td>\n",
       "      <td>0</td>\n",
       "      <td>...</td>\n",
       "      <td>0</td>\n",
       "      <td>0</td>\n",
       "      <td>-1</td>\n",
       "      <td>0</td>\n",
       "      <td>-1</td>\n",
       "      <td>-1</td>\n",
       "      <td>-1</td>\n",
       "      <td>-1</td>\n",
       "      <td>-1</td>\n",
       "      <td>-1</td>\n",
       "    </tr>\n",
       "    <tr>\n",
       "      <th>AW_neg_3</th>\n",
       "      <td>1</td>\n",
       "      <td>0</td>\n",
       "      <td>0</td>\n",
       "      <td>0</td>\n",
       "      <td>-1</td>\n",
       "      <td>1</td>\n",
       "      <td>0</td>\n",
       "      <td>0</td>\n",
       "      <td>0</td>\n",
       "      <td>0</td>\n",
       "      <td>...</td>\n",
       "      <td>0</td>\n",
       "      <td>-1</td>\n",
       "      <td>-1</td>\n",
       "      <td>-1</td>\n",
       "      <td>-1</td>\n",
       "      <td>-1</td>\n",
       "      <td>-1</td>\n",
       "      <td>-1</td>\n",
       "      <td>-1</td>\n",
       "      <td>-1</td>\n",
       "    </tr>\n",
       "    <tr>\n",
       "      <th>AW_plus_4</th>\n",
       "      <td>0</td>\n",
       "      <td>0</td>\n",
       "      <td>0</td>\n",
       "      <td>0</td>\n",
       "      <td>-1</td>\n",
       "      <td>1</td>\n",
       "      <td>0</td>\n",
       "      <td>0</td>\n",
       "      <td>0</td>\n",
       "      <td>0</td>\n",
       "      <td>...</td>\n",
       "      <td>0</td>\n",
       "      <td>0</td>\n",
       "      <td>-1</td>\n",
       "      <td>-1</td>\n",
       "      <td>-1</td>\n",
       "      <td>-1</td>\n",
       "      <td>-1</td>\n",
       "      <td>-1</td>\n",
       "      <td>-1</td>\n",
       "      <td>1</td>\n",
       "    </tr>\n",
       "  </tbody>\n",
       "</table>\n",
       "<p>5 rows × 2582 columns</p>\n",
       "</div>"
      ],
      "text/plain": [
       "GENE_ID    Rv0001  Rv0005  Rv0006  Rv0009  Rv0010c  Rv0011c  Rv0013  Rv0014c  \\\n",
       "AW_plus_1       0       0       0       0       -1        0      -1        0   \n",
       "AW_neg_1        1       1       0       0       -1        1      -1        0   \n",
       "AW_plus_3       0       0       0       0       -1        1       0        0   \n",
       "AW_neg_3        1       0       0       0       -1        1       0        0   \n",
       "AW_plus_4       0       0       0       0       -1        1       0        0   \n",
       "\n",
       "GENE_ID    Rv0016c  Rv0020c  ...  Rvnt36  Rvnt37  Rvnt38  Rvnt39  Rvnt40  \\\n",
       "AW_plus_1        0        0  ...       0       0      -1       0      -1   \n",
       "AW_neg_1         0        0  ...      -1      -1      -1      -1      -1   \n",
       "AW_plus_3        0        0  ...       0       0      -1       0      -1   \n",
       "AW_neg_3         0        0  ...       0      -1      -1      -1      -1   \n",
       "AW_plus_4        0        0  ...       0       0      -1      -1      -1   \n",
       "\n",
       "GENE_ID    Rvnt41  Rvnt42  Rvnt43  Rvnt44  Rvnt45  \n",
       "AW_plus_1       0      -1       0       0      -1  \n",
       "AW_neg_1       -1      -1      -1      -1      -1  \n",
       "AW_plus_3      -1      -1      -1      -1      -1  \n",
       "AW_neg_3       -1      -1      -1      -1      -1  \n",
       "AW_plus_4      -1      -1      -1      -1       1  \n",
       "\n",
       "[5 rows x 2582 columns]"
      ]
     },
     "execution_count": 6,
     "metadata": {},
     "output_type": "execute_result"
    }
   ],
   "source": [
    "df_sampleAW = df_sampleAW.T\n",
    "df_sampleAW.head()"
   ]
  },
  {
   "cell_type": "markdown",
   "metadata": {},
   "source": [
    "# Classification Validations of Controlled Samples\n",
    "Classify T2-T25 and see if result is same as original class. Use 5-fold cross validation, where there is a holdout for each class and the selection is random.\n"
   ]
  },
  {
   "cell_type": "code",
   "execution_count": 16,
   "metadata": {},
   "outputs": [
    {
     "data": {
      "text/plain": [
       "Text(0, 0.5, 'accuracy')"
      ]
     },
     "execution_count": 16,
     "metadata": {},
     "output_type": "execute_result"
    },
    {
     "data": {
      "image/png": "[encoded data removed]",
      "text/plain": [
       "<Figure size 432x288 with 1 Axes>"
      ]
     },
     "metadata": {
      "needs_background": "light"
     },
     "output_type": "display_data"
    }
   ],
   "source": [
    "accuracy_dct = {}\n",
    "for rank in [1, 2, 4, 8, 16, 32]:\n",
    "    accuracy_dct[rank] = classifier_ensemble.ClassifierEnsemble.crossValidate(\n",
    "        DATA, num_iter=10, num_holdout=1, filter_high_rank=rank)\n",
    "plt.plot(list(accuracy_dct.keys()), list(accuracy_dct.values()))\n",
    "plt.ylim([0, 1.1])\n",
    "plt.xlabel(\"No classifiers in ensemble\")\n",
    "plt.ylabel(\"accuracy\")"
   ]
  },
  {
   "cell_type": "markdown",
   "metadata": {},
   "source": [
    "# Classification of Lab Samples"
   ]
  },
  {
   "cell_type": "code",
   "execution_count": null,
   "metadata": {},
   "outputs": [],
   "source": [
    "svm_ensemble = classifier_ensemble.ClassifierEnsemble(\n",
    "        classifier_ensemble.ClassifierDescriptorSVM(), filter_high_rank=15, size=30)\n",
    "df_X = DATA.df_X.copy()\n",
    "df_X.columns = DATA.features\n",
    "svm_ensemble.fit(df_X, DATA.ser_y)"
   ]
  },
  {
   "cell_type": "code",
   "execution_count": null,
   "metadata": {},
   "outputs": [],
   "source": [
    "svm_ensemble.predict(df_sampleAM)"
   ]
  },
  {
   "cell_type": "code",
   "execution_count": null,
   "metadata": {},
   "outputs": [],
   "source": [
    "svm_ensemble.predict(df_sampleAW)"
   ]
  },
  {
   "cell_type": "markdown",
   "metadata": {},
   "source": [
    "# Support for Prediction"
   ]
  }
 ],
 "metadata": {
  "kernelspec": {
   "display_name": "Python 3",
   "language": "python",
   "name": "python3"
  },
  "language_info": {
   "codemirror_mode": {
    "name": "ipython",
    "version": 3
   },
   "file_extension": ".py",
   "mimetype": "text/x-python",
   "name": "python",
   "nbconvert_exporter": "python",
   "pygments_lexer": "ipython3",
   "version": "3.6.6"
  }
 },
 "nbformat": 4,
 "nbformat_minor": 4
}
