{
 "cells": [
  {
   "cell_type": "markdown",
   "metadata": {},
   "source": [
    "# CASE BASED CLASSIFICATION"
   ]
  },
  {
   "cell_type": "markdown",
   "metadata": {},
   "source": [
    "This notebook develops the idea of case base classiication (cb-clf). This involves:\n",
    "1. Identify sets of feature that provide good classification accuracy. There may be many.\n",
    "1. Given a new feature vector, provide evidence for the difference classes to which it may belong."
   ]
  },
  {
   "cell_type": "markdown",
   "metadata": {},
   "source": [
    "A **feature** is an atribtue of the data, like a Gene. A feature set is a collection of genes.\n",
    "We typically write this as Rv3246c+Rv3260c.\n",
    "\n",
    "A **feature vector** is a set of features with a value assigned. We are dealing with trinary values: -1 (under expressed),\n",
    "+1 (over expressed), 0 (otherwise).\n",
    "We typically write this as\n",
    "Rv3246c[-1]+Rv3260c[0].\n",
    "\n",
    "A **case** is a feature vector that effectively distinguishes between expression states (classes).\n",
    "\n",
    "Cases are obtained from decision trees by examining nodes to see if their *impurity* (class distinctions) are statistically\n",
    "significant.\n",
    "\n",
    "Decision trees are obtained by running the Random Forest Classsification Algorithm.\n",
    "This is done separately for each expression state.\n",
    "So, in our data, there are 6 sets of cases.\n",
    "\n",
    "Classifications are evaluated for new gene expression data by:\n",
    "* Setup\n",
    "   1. Construct cases for each expression state.\n",
    "   \n",
    "* Evaluation of a data set\n",
    "   1. Create trinary data\n",
    "   1. For each expression state\n",
    "      1. Find applicable cases\n",
    "      1. Plot their significance level"
   ]
  },
  {
   "cell_type": "markdown",
   "metadata": {},
   "source": [
    "## Imports"
   ]
  },
  {
   "cell_type": "code",
   "execution_count": 1,
   "metadata": {
    "scrolled": true
   },
   "outputs": [],
   "source": [
    "import init\n",
    "import common.constants as cn\n",
    "import common_python.constants as ccn\n",
    "from common.trinary_data import TrinaryData\n",
    "from common.data_provider import DataProvider\n",
    "from common.data_provider import DataProvider\n",
    "from common_python.plots import util_plots\n",
    "from plots import util_plots as xutil_plots\n",
    "from common_python.classifier import feature_analyzer\n",
    "from common_python.classifier import feature_set_collection\n",
    "from common_python.util import util\n",
    "from common import transform_data\n",
    "from common_python.classifier.feature_set import FeatureSet\n",
    "from common import trinary_data\n",
    "from common_python.classifier.case_manager import FeatureVectorStatistic, Case, CaseManager\n",
    "from common_python.classifier.case_manager_collection import CaseManagerCollection\n",
    "\n",
    "import copy\n",
    "import datetime\n",
    "import os\n",
    "import matplotlib.pyplot as plt\n",
    "import numpy as np\n",
    "import pandas as pd\n",
    "import seaborn\n",
    "\n",
    "%matplotlib inline"
   ]
  },
  {
   "cell_type": "markdown",
   "metadata": {},
   "source": [
    "## Constants"
   ]
  },
  {
   "cell_type": "code",
   "execution_count": 2,
   "metadata": {
    "scrolled": true
   },
   "outputs": [],
   "source": [
    "# These are the \"long\" data that have individual replications, not averages. And, only using TFs.\n",
    "TRINARY = TrinaryData(is_averaged=False, is_dropT1=False, is_regulator=True)  # Trinary data\n",
    "PROVIDER = DataProvider()\n",
    "PROVIDER.do()\n",
    "DF_X = TRINARY.df_X\n",
    "SER_Y = TRINARY.ser_y\n",
    "STATES = SER_Y.unique()\n",
    "FEATURES_NAMES = DF_X.columns.tolist()\n",
    "NUM_TREE = 300\n",
    "SER_DESC = PROVIDER.df_go_terms.set_index(cn.GENE_ID)\n",
    "SER_DESC = SER_DESC[\"GO_Term\"]"
   ]
  },
  {
   "cell_type": "markdown",
   "metadata": {},
   "source": [
    "## Data"
   ]
  },
  {
   "cell_type": "markdown",
   "metadata": {},
   "source": [
    "1. The data consistent of individual replicas of read counts at 26 times.\n",
    "1. Times are labelled with six states, as defined in ``STATE_DCT``.\n",
    "1. Raw expression values of normalized w.r.t. time 0 (normal) and transformed as log2 so that there are\n",
    "25 normalized times that are trinary values defined as:\n",
    "   * -1 if < -1\n",
    "   * 1 if > 1\n",
    "   * 0 otherwise"
   ]
  },
  {
   "cell_type": "code",
   "execution_count": 3,
   "metadata": {},
   "outputs": [
    {
     "data": {
      "text/plain": [
       "GENE_ID\n",
       "P9WKY5                                    host cell nucleus\n",
       "Rv0001    DNA replication initiation---dephosphorylation...\n",
       "Rv0002                     extracellular region---cell wall\n",
       "Rv0003    double-strand break repair---cytosol---plasma ...\n",
       "Name: GO_Term, dtype: object"
      ]
     },
     "execution_count": 3,
     "metadata": {},
     "output_type": "execute_result"
    }
   ],
   "source": [
    "SER_DESC.head(4)"
   ]
  },
  {
   "cell_type": "code",
   "execution_count": 4,
   "metadata": {},
   "outputs": [
    {
     "data": {
      "text/plain": [
       "GENE_ID\n",
       "Rv0117     regulation of fatty acid metabolic process---r...\n",
       "Rv0445c    regulation of gene expression---regulation of ...\n",
       "Rv1359     regulation of gene expression---regulation of ...\n",
       "Rv1956     response to hypoxia---regulation of fatty acid...\n",
       "Rv2017     regulation of fatty acid metabolic process---r...\n",
       "Rv2021c    regulation of fatty acid metabolic process---r...\n",
       "Rv2034     regulation of transcriptionDNA-templated---reg...\n",
       "Rv2745c    response to oxidative stress---response to hea...\n",
       "Rv3133c    response to hypoxia---pathogenesis---regulatio...\n",
       "Rv3164c    regulation of fatty acid metabolic process---c...\n",
       "Rv3414c    pathogenesis---response to heat---regulation o...\n",
       "Rv3416     pathogenesis---regulation of lipid metabolic p...\n",
       "Rv3557c    regulation of transcriptionDNA-templated---reg...\n",
       "Rv3833     regulation of fatty acid metabolic process---m...\n",
       "Name: GO_Term, dtype: object"
      ]
     },
     "execution_count": 4,
     "metadata": {},
     "output_type": "execute_result"
    }
   ],
   "source": [
    "sel = [(g in DF_X.columns) and (SER_DESC.loc[g].find(\"fatty acid\") > 0) for g in SER_DESC.index]\n",
    "SER_DESC[sel]"
   ]
  },
  {
   "cell_type": "code",
   "execution_count": 5,
   "metadata": {},
   "outputs": [
    {
     "data": {
      "text/plain": [
       "{0: 'Normoxia',\n",
       " 1: 'Transition',\n",
       " 2: 'Stage II',\n",
       " 3: 'Stage 1a',\n",
       " 4: 'Stage 1b',\n",
       " 5: 'Resuscitation'}"
      ]
     },
     "execution_count": 5,
     "metadata": {},
     "output_type": "execute_result"
    }
   ],
   "source": [
    "STATE_DCT = {}\n",
    "STATE_DCT[0] = \"Normoxia\"\n",
    "STATE_DCT[1] = \"Transition\"\n",
    "STATE_DCT[2] = \"Stage II\"\n",
    "STATE_DCT[3] = \"Stage 1a\"\n",
    "STATE_DCT[4] = \"Stage 1b\"\n",
    "STATE_DCT[5] = \"Resuscitation\"\n",
    "STATE_DCT"
   ]
  },
  {
   "cell_type": "code",
   "execution_count": 6,
   "metadata": {},
   "outputs": [],
   "source": [
    "CASE_MANAGER_COLLECTION_BASE = CaseManagerCollection(DF_X, SER_Y, n_estimators=NUM_TREE)\n",
    "CASE_MANAGER_COLLECTION_BASE.build()"
   ]
  },
  {
   "cell_type": "code",
   "execution_count": 7,
   "metadata": {
    "scrolled": true
   },
   "outputs": [],
   "source": [
    "SAMPLE_DATA = trinary_data.getSampleData()\n",
    "DF_AM_MDM = SAMPLE_DATA.AM_MDM.T\n",
    "DF_AW = SAMPLE_DATA.AW.T\n",
    "DF_GALAGAN = SAMPLE_DATA.galagan.T\n",
    "DF_SHERMAN = SAMPLE_DATA.sherman.T\n",
    "DF_RUSTAD = SAMPLE_DATA.rustad.T"
   ]
  },
  {
   "cell_type": "code",
   "execution_count": 8,
   "metadata": {},
   "outputs": [
    {
     "data": {
      "text/html": [
       "<div>\n",
       "<style scoped>\n",
       "    .dataframe tbody tr th:only-of-type {\n",
       "        vertical-align: middle;\n",
       "    }\n",
       "\n",
       "    .dataframe tbody tr th {\n",
       "        vertical-align: top;\n",
       "    }\n",
       "\n",
       "    .dataframe thead th {\n",
       "        text-align: right;\n",
       "    }\n",
       "</style>\n",
       "<table border=\"1\" class=\"dataframe\">\n",
       "  <thead>\n",
       "    <tr style=\"text-align: right;\">\n",
       "      <th></th>\n",
       "      <th>AW_plus_1</th>\n",
       "      <th>AW_neg_1</th>\n",
       "      <th>AW_plus_3</th>\n",
       "      <th>AW_neg_3</th>\n",
       "      <th>AW_plus_4</th>\n",
       "      <th>AW_neg_4</th>\n",
       "    </tr>\n",
       "    <tr>\n",
       "      <th>GENE_ID</th>\n",
       "      <th></th>\n",
       "      <th></th>\n",
       "      <th></th>\n",
       "      <th></th>\n",
       "      <th></th>\n",
       "      <th></th>\n",
       "    </tr>\n",
       "  </thead>\n",
       "  <tbody>\n",
       "    <tr>\n",
       "      <th>Rv3830c</th>\n",
       "      <td>-1</td>\n",
       "      <td>-1</td>\n",
       "      <td>-1</td>\n",
       "      <td>0</td>\n",
       "      <td>-1</td>\n",
       "      <td>0</td>\n",
       "    </tr>\n",
       "    <tr>\n",
       "      <th>Rv1332</th>\n",
       "      <td>1</td>\n",
       "      <td>1</td>\n",
       "      <td>0</td>\n",
       "      <td>1</td>\n",
       "      <td>1</td>\n",
       "      <td>0</td>\n",
       "    </tr>\n",
       "    <tr>\n",
       "      <th>Rv3160c</th>\n",
       "      <td>0</td>\n",
       "      <td>1</td>\n",
       "      <td>0</td>\n",
       "      <td>0</td>\n",
       "      <td>1</td>\n",
       "      <td>0</td>\n",
       "    </tr>\n",
       "    <tr>\n",
       "      <th>Rv3164c</th>\n",
       "      <td>0</td>\n",
       "      <td>1</td>\n",
       "      <td>1</td>\n",
       "      <td>1</td>\n",
       "      <td>1</td>\n",
       "      <td>0</td>\n",
       "    </tr>\n",
       "    <tr>\n",
       "      <th>Rv1404</th>\n",
       "      <td>0</td>\n",
       "      <td>0</td>\n",
       "      <td>1</td>\n",
       "      <td>0</td>\n",
       "      <td>1</td>\n",
       "      <td>0</td>\n",
       "    </tr>\n",
       "    <tr>\n",
       "      <th>...</th>\n",
       "      <td>...</td>\n",
       "      <td>...</td>\n",
       "      <td>...</td>\n",
       "      <td>...</td>\n",
       "      <td>...</td>\n",
       "      <td>...</td>\n",
       "    </tr>\n",
       "    <tr>\n",
       "      <th>Rv1675c</th>\n",
       "      <td>-1</td>\n",
       "      <td>-1</td>\n",
       "      <td>-1</td>\n",
       "      <td>-1</td>\n",
       "      <td>-1</td>\n",
       "      <td>-1</td>\n",
       "    </tr>\n",
       "    <tr>\n",
       "      <th>Rv1657</th>\n",
       "      <td>-1</td>\n",
       "      <td>-1</td>\n",
       "      <td>-1</td>\n",
       "      <td>-1</td>\n",
       "      <td>-1</td>\n",
       "      <td>-1</td>\n",
       "    </tr>\n",
       "    <tr>\n",
       "      <th>Rv1379</th>\n",
       "      <td>0</td>\n",
       "      <td>-1</td>\n",
       "      <td>-1</td>\n",
       "      <td>-1</td>\n",
       "      <td>-1</td>\n",
       "      <td>-1</td>\n",
       "    </tr>\n",
       "    <tr>\n",
       "      <th>Rv0981</th>\n",
       "      <td>0</td>\n",
       "      <td>0</td>\n",
       "      <td>0</td>\n",
       "      <td>0</td>\n",
       "      <td>1</td>\n",
       "      <td>0</td>\n",
       "    </tr>\n",
       "    <tr>\n",
       "      <th>Rv3417c</th>\n",
       "      <td>0</td>\n",
       "      <td>0</td>\n",
       "      <td>0</td>\n",
       "      <td>0</td>\n",
       "      <td>0</td>\n",
       "      <td>-1</td>\n",
       "    </tr>\n",
       "  </tbody>\n",
       "</table>\n",
       "<p>102 rows × 6 columns</p>\n",
       "</div>"
      ],
      "text/plain": [
       "         AW_plus_1  AW_neg_1  AW_plus_3  AW_neg_3  AW_plus_4  AW_neg_4\n",
       "GENE_ID                                                               \n",
       "Rv3830c         -1        -1         -1         0         -1         0\n",
       "Rv1332           1         1          0         1          1         0\n",
       "Rv3160c          0         1          0         0          1         0\n",
       "Rv3164c          0         1          1         1          1         0\n",
       "Rv1404           0         0          1         0          1         0\n",
       "...            ...       ...        ...       ...        ...       ...\n",
       "Rv1675c         -1        -1         -1        -1         -1        -1\n",
       "Rv1657          -1        -1         -1        -1         -1        -1\n",
       "Rv1379           0        -1         -1        -1         -1        -1\n",
       "Rv0981           0         0          0         0          1         0\n",
       "Rv3417c          0         0          0         0          0        -1\n",
       "\n",
       "[102 rows x 6 columns]"
      ]
     },
     "execution_count": 8,
     "metadata": {},
     "output_type": "execute_result"
    }
   ],
   "source": [
    "DF_AW"
   ]
  },
  {
   "cell_type": "markdown",
   "metadata": {},
   "source": [
    "## Helper Functions"
   ]
  },
  {
   "cell_type": "code",
   "execution_count": null,
   "metadata": {
    "tags": []
   },
   "outputs": [],
   "source": [
    " def oldFullProfile(ser_X, title=\"\", max_sl=0.001, **kwargs):\n",
    "        \"\"\"\n",
    "        Creates a classification profile for the feature vector.\n",
    "        \n",
    "        Parameters\n",
    "        ----------\n",
    "        ser_X: Series (feature vector)\n",
    "        \"\"\"\n",
    "        kwargs[\"max_sl\"] = max_sl\n",
    "        num_row = 2 \n",
    "        num_col = 3 \n",
    "        fig, axes = plt.subplots(num_row, num_col,\n",
    "            figsize=(16, 10))\n",
    "        for idx, state in enumerate(STATES):\n",
    "            row = int(idx/num_col)\n",
    "            col = idx % num_col\n",
    "            manager = CASE_MANAGER_DCT[state]\n",
    "            if row == 0:\n",
    "                label_xoffset = -0.1\n",
    "            else:\n",
    "                label_xoffset = 0.1 \n",
    "            cases = manager.plotEvaluate(ser_X, \n",
    "                ax=axes[row, col], is_plot=False,\n",
    "                title = STATE_DCT[idx],\n",
    "                label_xoffset=label_xoffset, **kwargs)\n",
    "        fig.suptitle(title, fontsize=16)\n",
    "        plt.show()\n",
    "        \n",
    "# Tests\n",
    "ser_X = DF_X.loc[\"T2.1\"]\n",
    "oldFullProfile(ser_X, max_sl=0.001)"
   ]
  },
  {
   "cell_type": "code",
   "execution_count": 11,
   "metadata": {},
   "outputs": [
    {
     "data": {
      "image/png": "[encoded data removed]",
      "text/plain": [
       "<Figure size 864x576 with 2 Axes>"
      ]
     },
     "metadata": {
      "needs_background": "light"
     },
     "output_type": "display_data"
    }
   ],
   "source": [
    "def fullProfile(collection, ser_X, title=\"\", max_sl=5, include_terms=None, **kwargs):\n",
    "    \"\"\"\n",
    "    Creates a classification profile for the feature vector.\n",
    "\n",
    "    Parameters\n",
    "    ----------\n",
    "    ser_X: Series (feature vector)\n",
    "    \"\"\"\n",
    "    kwargs[\"max_sl\"] = max_sl\n",
    "    if include_terms is not None:\n",
    "        for manager in collection.manager_dct.values():\n",
    "            manager.filterCaseByDescription(ser_desc, include_terms=terms)\n",
    "    df = collection.plotHeatmap(is_plot=True, **kwargs)\n",
    "\n",
    "# TESTING\n",
    "collection = copy.deepcopy(CASE_MANAGER_COLLECTION_BASE)\n",
    "ser_X = DF_X.loc[\"T2.1\"]\n",
    "fullProfile(collection, ser_X, figsize=(12, 8))"
   ]
  },
  {
   "cell_type": "markdown",
   "metadata": {},
   "source": [
    "# Miscellaneous Calculations"
   ]
  },
  {
   "cell_type": "markdown",
   "metadata": {},
   "source": [
    "## Case Calculations"
   ]
  },
  {
   "cell_type": "markdown",
   "metadata": {},
   "source": [
    "Given a maximum significance level $\\alpha$, a sample size of $N$, and null distribution that is Binomial in $(N, p)$,\n",
    "what is the minimum sample size?\n",
    "\n",
    "We want $N$ such that $P(n = N) = P(n = 0) \\leq \\alpha$.\n",
    "That is, $\\alpha \\geq p^N \\equiv \\frac{log(\\alpha)}{log(p)} \\leq N$."
   ]
  },
  {
   "cell_type": "markdown",
   "metadata": {
    "tags": []
   },
   "source": [
    "# Evaluations of Samples - Only \"fatty acid\" + \"hypoxia\""
   ]
  },
  {
   "cell_type": "code",
   "execution_count": null,
   "metadata": {},
   "outputs": [],
   "source": [
    "CASE_MANAGER_DCT = copy.deepcopy(CASE_MANAGER_BASE_DCT)"
   ]
  },
  {
   "cell_type": "code",
   "execution_count": null,
   "metadata": {},
   "outputs": [],
   "source": [
    "[m.filterCaseByDescription(SER_DESC, include_terms=[\"hypoxia\", \"fatty acid\"]) for m in CASE_MANAGER_DCT.values()]\n",
    "{k: len(CASE_MANAGER_DCT[k].case_dct) for k in CASE_MANAGER_DCT}"
   ]
  },
  {
   "cell_type": "markdown",
   "metadata": {},
   "source": [
    "## Training Data"
   ]
  },
  {
   "cell_type": "markdown",
   "metadata": {},
   "source": [
    "A feature vector evaluation involves finding all cases that apply to the feature vector\n",
    "and indicating their support for or against a particular state."
   ]
  },
  {
   "cell_type": "code",
   "execution_count": null,
   "metadata": {},
   "outputs": [],
   "source": [
    "# Below is a evaluation of the feature vector at the first replication at time T3.\n",
    "instances = [\"T3.0\", \"T3.1\", \"T3.2\"]\n",
    "for instance in instances:\n",
    "    fullProfile(DF_X.loc[instance], title=instance)"
   ]
  },
  {
   "cell_type": "code",
   "execution_count": null,
   "metadata": {},
   "outputs": [],
   "source": [
    "instances = [\"T13.0\", \"T13.1\", \"T13.2\"]\n",
    "for instance in instances:\n",
    "    fullProfile(DF_X.loc[instance], title=instance)"
   ]
  },
  {
   "cell_type": "markdown",
   "metadata": {},
   "source": [
    "## AW"
   ]
  },
  {
   "cell_type": "code",
   "execution_count": null,
   "metadata": {
    "tags": []
   },
   "outputs": [],
   "source": [
    "DF_AW.head(2)"
   ]
  },
  {
   "cell_type": "code",
   "execution_count": null,
   "metadata": {},
   "outputs": [],
   "source": [
    "instances = [ [\"AW_%s_%d\" % (pm, n) for pm in [\"plus\", \"neg\"]] for n in [1, 3, 4]]\n",
    "instances = list(np.array(instances).flatten())\n",
    "for instance in instances:\n",
    "    fullProfile(DF_AW[instance], title=instance)"
   ]
  },
  {
   "cell_type": "markdown",
   "metadata": {},
   "source": [
    "## AM, MDM"
   ]
  },
  {
   "cell_type": "code",
   "execution_count": null,
   "metadata": {
    "jupyter": {
     "source_hidden": true
    },
    "tags": []
   },
   "outputs": [],
   "source": [
    "DF_AM_MDM.head(2)"
   ]
  },
  {
   "cell_type": "code",
   "execution_count": null,
   "metadata": {},
   "outputs": [],
   "source": [
    "instances = [ [\"%s_D20_%d\" % (pm, n) for pm in [\"AM\", \"MDM\"]] for n in [1, 3, 4, 5]]\n",
    "instances = list(np.array(instances).flatten())\n",
    "for instance in instances:\n",
    "    fullProfile(DF_AM_MDM[instance], title=instance)"
   ]
  },
  {
   "cell_type": "markdown",
   "metadata": {},
   "source": [
    "## Galagan"
   ]
  },
  {
   "cell_type": "code",
   "execution_count": null,
   "metadata": {},
   "outputs": [],
   "source": [
    "DF_GALAGAN.head(2)"
   ]
  },
  {
   "cell_type": "code",
   "execution_count": null,
   "metadata": {},
   "outputs": [],
   "source": [
    "for instance in DF_GALAGAN.columns:\n",
    "    fullProfile(DF_GALAGAN[instance], title=instance)"
   ]
  },
  {
   "cell_type": "markdown",
   "metadata": {},
   "source": [
    "## Sherman"
   ]
  },
  {
   "cell_type": "code",
   "execution_count": null,
   "metadata": {},
   "outputs": [],
   "source": [
    "DF_SHERMAN.head(2)"
   ]
  },
  {
   "cell_type": "code",
   "execution_count": null,
   "metadata": {},
   "outputs": [],
   "source": [
    "fullProfile(DF_SHERMAN[0], title=\"Sherman\")"
   ]
  },
  {
   "cell_type": "markdown",
   "metadata": {},
   "source": [
    "## Rustad"
   ]
  },
  {
   "cell_type": "code",
   "execution_count": null,
   "metadata": {},
   "outputs": [],
   "source": []
  },
  {
   "cell_type": "code",
   "execution_count": null,
   "metadata": {},
   "outputs": [],
   "source": [
    "DF_RUSTAD.head(2)"
   ]
  },
  {
   "cell_type": "code",
   "execution_count": null,
   "metadata": {},
   "outputs": [],
   "source": [
    "for instance in DF_RUSTAD.columns:\n",
    "    fullProfile(DF_RUSTAD[instance], title=instance)"
   ]
  },
  {
   "cell_type": "markdown",
   "metadata": {
    "tags": []
   },
   "source": [
    "# Evaluations of Samples - Only \"hypoxia\""
   ]
  },
  {
   "cell_type": "code",
   "execution_count": null,
   "metadata": {},
   "outputs": [],
   "source": [
    "CASE_MANAGER_DCT = copy.deepcopy(CASE_MANAGER_BASE_DCT)"
   ]
  },
  {
   "cell_type": "code",
   "execution_count": null,
   "metadata": {
    "tags": []
   },
   "outputs": [],
   "source": [
    "[m.filterCaseByDescription(SER_DESC, include_terms=[\"hypoxia\"]) for m in CASE_MANAGER_DCT.values()]\n",
    "{k: len(CASE_MANAGER_DCT[k].case_dct) for k in CASE_MANAGER_DCT}"
   ]
  },
  {
   "cell_type": "markdown",
   "metadata": {},
   "source": [
    "## Training Data"
   ]
  },
  {
   "cell_type": "code",
   "execution_count": null,
   "metadata": {},
   "outputs": [],
   "source": [
    "# Below is a evaluation of the feature vector at the first replication at time T3.\n",
    "instances = [\"T3.0\", \"T3.1\", \"T3.2\"]\n",
    "for instance in instances:\n",
    "    fullProfile(DF_X.loc[instance], title=instance)"
   ]
  },
  {
   "cell_type": "code",
   "execution_count": null,
   "metadata": {},
   "outputs": [],
   "source": [
    "instances = [\"T13.0\", \"T13.1\", \"T13.2\"]\n",
    "for instance in instances:\n",
    "    fullProfile(DF_X.loc[instance], title=instance)\n",
    "print(\"State: %s\" % STATE_DCT[SER_Y.loc[\"T13.0\"]])"
   ]
  },
  {
   "cell_type": "markdown",
   "metadata": {},
   "source": [
    "## AW"
   ]
  },
  {
   "cell_type": "code",
   "execution_count": null,
   "metadata": {},
   "outputs": [],
   "source": [
    "instances = [ [\"AW_%s_%d\" % (pm, n) for pm in [\"plus\", \"neg\"]] for n in [1, 3, 4]]\n",
    "instances = list(np.array(instances).flatten())\n",
    "for instance in instances:\n",
    "    fullProfile(DF_AW[instance], title=instance)"
   ]
  },
  {
   "cell_type": "markdown",
   "metadata": {},
   "source": [
    "## AM, MDM"
   ]
  },
  {
   "cell_type": "code",
   "execution_count": null,
   "metadata": {},
   "outputs": [],
   "source": [
    "instances = [ [\"%s_D20_%d\" % (pm, n) for pm in [\"AM\", \"MDM\"]] for n in [1, 3, 4, 5]]\n",
    "instances = list(np.array(instances).flatten())\n",
    "for instance in instances:\n",
    "    fullProfile(DF_AM_MDM[instance], title=instance)"
   ]
  },
  {
   "cell_type": "markdown",
   "metadata": {
    "tags": []
   },
   "source": [
    "# Next Steps"
   ]
  },
  {
   "cell_type": "markdown",
   "metadata": {},
   "source": [
    "1. Use other criteria to select the cases\n",
    "   1. Prefer longer feature vectors since more specific\n",
    "   1. Prefer cases that have a gene with a \"hypoxia\" GO term. Subset the cases to include genes for hypoxia and fatty acid.\n",
    "   1. Aggregate terms if the same features appear repeatedly (e.g., only include a term if it's extension is not significant?)"
   ]
  }
 ],
 "metadata": {
  "kernelspec": {
   "display_name": "Python 3",
   "language": "python",
   "name": "python3"
  },
  "language_info": {
   "codemirror_mode": {
    "name": "ipython",
    "version": 3
   },
   "file_extension": ".py",
   "mimetype": "text/x-python",
   "name": "python",
   "nbconvert_exporter": "python",
   "pygments_lexer": "ipython3",
   "version": "3.6.6"
  }
 },
 "nbformat": 4,
 "nbformat_minor": 4
}
