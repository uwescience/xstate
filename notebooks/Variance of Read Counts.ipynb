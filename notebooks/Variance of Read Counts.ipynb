{
 "cells": [
  {
   "cell_type": "markdown",
   "metadata": {},
   "source": [
    "# Analysis of Variance of Read Counts\n",
    "To support evaluation of classifiers, we need to know the variance (standard deviations) of read counts that are normalized in several ways: by library size, by gene size, and w.r.t. time 0. Two variances are of interest. The first is the variability of replications for the same gene and time. The second is the variability of mean values of replicas for a gene."
   ]
  },
  {
   "cell_type": "code",
   "execution_count": 1,
   "metadata": {},
   "outputs": [],
   "source": [
    "import init\n",
    "from common import constants as cn\n",
    "from common.data_provider import DataProvider\n",
    "from common_python.util import dataframe\n",
    "from common_python.plots import util_plots\n",
    "from common_python.plots.plotter import Plotter\n",
    "from common_python.classifier.random_hypergrid_harness import RandomHypergridHarness\n",
    "\n",
    "import os\n",
    "import matplotlib.pyplot as plt\n",
    "import numpy as np\n",
    "import pandas as pd\n",
    "import statsmodels.distributions.empirical_distribution as stats\n",
    "\n",
    "%matplotlib inline"
   ]
  },
  {
   "cell_type": "markdown",
   "metadata": {},
   "source": [
    "## Data"
   ]
  },
  {
   "cell_type": "code",
   "execution_count": 2,
   "metadata": {},
   "outputs": [],
   "source": [
    "provider = DataProvider()\n",
    "provider.do()"
   ]
  },
  {
   "cell_type": "code",
   "execution_count": 3,
   "metadata": {},
   "outputs": [],
   "source": [
    "# The data used in this analysis is a list of dataframe \"matrix\" that are the log2 values of the\n",
    "# libary and gene adjusted readcounts divided by time 0.\n",
    "# Each data frame has columns of genes and rows of time.\n",
    "dfs_raw = provider.dfs_adjusted_read_count_wrt0\n",
    "# Ignore the first timepoint since it's one because it's the reference.\n",
    "dfs_nonref = [df.T[1:] for df in dfs_raw]\n",
    "# Eliminate nan values\n",
    "dfs_data = []\n",
    "for df in dfs_nonref:\n",
    "    dfs_data.append(df.applymap(lambda v: 0 if v == 0 else np.log(v)))"
   ]
  },
  {
   "cell_type": "code",
   "execution_count": 4,
   "metadata": {},
   "outputs": [
    {
     "data": {
      "text/html": [
       "<div>\n",
       "<style scoped>\n",
       "    .dataframe tbody tr th:only-of-type {\n",
       "        vertical-align: middle;\n",
       "    }\n",
       "\n",
       "    .dataframe tbody tr th {\n",
       "        vertical-align: top;\n",
       "    }\n",
       "\n",
       "    .dataframe thead th {\n",
       "        text-align: right;\n",
       "    }\n",
       "</style>\n",
       "<table border=\"1\" class=\"dataframe\">\n",
       "  <thead>\n",
       "    <tr style=\"text-align: right;\">\n",
       "      <th></th>\n",
       "      <th>Rv0001</th>\n",
       "      <th>Rv0005</th>\n",
       "      <th>Rv0006</th>\n",
       "      <th>Rv0009</th>\n",
       "      <th>Rv0010c</th>\n",
       "      <th>Rv0011c</th>\n",
       "      <th>Rv0013</th>\n",
       "      <th>Rv0014c</th>\n",
       "      <th>Rv0016c</th>\n",
       "      <th>Rv0020c</th>\n",
       "      <th>...</th>\n",
       "      <th>Rvnt36</th>\n",
       "      <th>Rvnt37</th>\n",
       "      <th>Rvnt38</th>\n",
       "      <th>Rvnt39</th>\n",
       "      <th>Rvnt40</th>\n",
       "      <th>Rvnt41</th>\n",
       "      <th>Rvnt42</th>\n",
       "      <th>Rvnt43</th>\n",
       "      <th>Rvnt44</th>\n",
       "      <th>Rvnt45</th>\n",
       "    </tr>\n",
       "  </thead>\n",
       "  <tbody>\n",
       "    <tr>\n",
       "      <th>1</th>\n",
       "      <td>0.069637</td>\n",
       "      <td>0.493369</td>\n",
       "      <td>0.487471</td>\n",
       "      <td>0.672798</td>\n",
       "      <td>0.321152</td>\n",
       "      <td>-0.003061</td>\n",
       "      <td>0.510698</td>\n",
       "      <td>0.493491</td>\n",
       "      <td>0.318525</td>\n",
       "      <td>0.388921</td>\n",
       "      <td>...</td>\n",
       "      <td>-0.700615</td>\n",
       "      <td>-0.232011</td>\n",
       "      <td>-0.850888</td>\n",
       "      <td>-0.786681</td>\n",
       "      <td>-0.164679</td>\n",
       "      <td>0.370297</td>\n",
       "      <td>-0.826179</td>\n",
       "      <td>-0.293972</td>\n",
       "      <td>-0.422338</td>\n",
       "      <td>-0.153859</td>\n",
       "    </tr>\n",
       "    <tr>\n",
       "      <th>2</th>\n",
       "      <td>0.263746</td>\n",
       "      <td>0.548655</td>\n",
       "      <td>0.418436</td>\n",
       "      <td>0.871489</td>\n",
       "      <td>0.148821</td>\n",
       "      <td>0.142356</td>\n",
       "      <td>0.404373</td>\n",
       "      <td>0.486426</td>\n",
       "      <td>0.340078</td>\n",
       "      <td>0.506673</td>\n",
       "      <td>...</td>\n",
       "      <td>-0.026669</td>\n",
       "      <td>-0.761059</td>\n",
       "      <td>-0.897696</td>\n",
       "      <td>-0.575918</td>\n",
       "      <td>-0.337511</td>\n",
       "      <td>0.807163</td>\n",
       "      <td>-0.660811</td>\n",
       "      <td>-0.336057</td>\n",
       "      <td>-0.007541</td>\n",
       "      <td>-0.372408</td>\n",
       "    </tr>\n",
       "    <tr>\n",
       "      <th>3</th>\n",
       "      <td>0.227287</td>\n",
       "      <td>0.713353</td>\n",
       "      <td>0.660986</td>\n",
       "      <td>0.566662</td>\n",
       "      <td>0.158351</td>\n",
       "      <td>0.430510</td>\n",
       "      <td>0.336514</td>\n",
       "      <td>0.399219</td>\n",
       "      <td>0.258814</td>\n",
       "      <td>0.437266</td>\n",
       "      <td>...</td>\n",
       "      <td>-1.087638</td>\n",
       "      <td>-0.994852</td>\n",
       "      <td>-0.601763</td>\n",
       "      <td>-1.113545</td>\n",
       "      <td>-0.105745</td>\n",
       "      <td>-0.005183</td>\n",
       "      <td>-0.635061</td>\n",
       "      <td>-2.133763</td>\n",
       "      <td>0.129770</td>\n",
       "      <td>-1.260719</td>\n",
       "    </tr>\n",
       "    <tr>\n",
       "      <th>4</th>\n",
       "      <td>0.302584</td>\n",
       "      <td>0.685229</td>\n",
       "      <td>0.656924</td>\n",
       "      <td>0.715749</td>\n",
       "      <td>0.127734</td>\n",
       "      <td>0.182507</td>\n",
       "      <td>0.149349</td>\n",
       "      <td>0.496310</td>\n",
       "      <td>0.340376</td>\n",
       "      <td>0.446260</td>\n",
       "      <td>...</td>\n",
       "      <td>-0.606678</td>\n",
       "      <td>-0.965603</td>\n",
       "      <td>-1.498965</td>\n",
       "      <td>-1.131399</td>\n",
       "      <td>-0.534326</td>\n",
       "      <td>0.208669</td>\n",
       "      <td>-1.744030</td>\n",
       "      <td>-2.899132</td>\n",
       "      <td>-0.789347</td>\n",
       "      <td>-2.112273</td>\n",
       "    </tr>\n",
       "    <tr>\n",
       "      <th>5</th>\n",
       "      <td>0.242560</td>\n",
       "      <td>0.687753</td>\n",
       "      <td>0.457919</td>\n",
       "      <td>0.697571</td>\n",
       "      <td>0.236662</td>\n",
       "      <td>0.345702</td>\n",
       "      <td>0.383418</td>\n",
       "      <td>0.521504</td>\n",
       "      <td>0.248118</td>\n",
       "      <td>0.619110</td>\n",
       "      <td>...</td>\n",
       "      <td>-0.893606</td>\n",
       "      <td>-1.596221</td>\n",
       "      <td>-1.938030</td>\n",
       "      <td>-1.346561</td>\n",
       "      <td>-0.335814</td>\n",
       "      <td>0.332139</td>\n",
       "      <td>-1.984260</td>\n",
       "      <td>-1.365403</td>\n",
       "      <td>-0.556671</td>\n",
       "      <td>-1.787842</td>\n",
       "    </tr>\n",
       "  </tbody>\n",
       "</table>\n",
       "<p>5 rows × 2582 columns</p>\n",
       "</div>"
      ],
      "text/plain": [
       "     Rv0001    Rv0005    Rv0006    Rv0009   Rv0010c   Rv0011c    Rv0013  \\\n",
       "1  0.069637  0.493369  0.487471  0.672798  0.321152 -0.003061  0.510698   \n",
       "2  0.263746  0.548655  0.418436  0.871489  0.148821  0.142356  0.404373   \n",
       "3  0.227287  0.713353  0.660986  0.566662  0.158351  0.430510  0.336514   \n",
       "4  0.302584  0.685229  0.656924  0.715749  0.127734  0.182507  0.149349   \n",
       "5  0.242560  0.687753  0.457919  0.697571  0.236662  0.345702  0.383418   \n",
       "\n",
       "    Rv0014c   Rv0016c   Rv0020c  ...    Rvnt36    Rvnt37    Rvnt38    Rvnt39  \\\n",
       "1  0.493491  0.318525  0.388921  ... -0.700615 -0.232011 -0.850888 -0.786681   \n",
       "2  0.486426  0.340078  0.506673  ... -0.026669 -0.761059 -0.897696 -0.575918   \n",
       "3  0.399219  0.258814  0.437266  ... -1.087638 -0.994852 -0.601763 -1.113545   \n",
       "4  0.496310  0.340376  0.446260  ... -0.606678 -0.965603 -1.498965 -1.131399   \n",
       "5  0.521504  0.248118  0.619110  ... -0.893606 -1.596221 -1.938030 -1.346561   \n",
       "\n",
       "     Rvnt40    Rvnt41    Rvnt42    Rvnt43    Rvnt44    Rvnt45  \n",
       "1 -0.164679  0.370297 -0.826179 -0.293972 -0.422338 -0.153859  \n",
       "2 -0.337511  0.807163 -0.660811 -0.336057 -0.007541 -0.372408  \n",
       "3 -0.105745 -0.005183 -0.635061 -2.133763  0.129770 -1.260719  \n",
       "4 -0.534326  0.208669 -1.744030 -2.899132 -0.789347 -2.112273  \n",
       "5 -0.335814  0.332139 -1.984260 -1.365403 -0.556671 -1.787842  \n",
       "\n",
       "[5 rows x 2582 columns]"
      ]
     },
     "execution_count": 4,
     "metadata": {},
     "output_type": "execute_result"
    }
   ],
   "source": [
    "dfs_data[0].head()"
   ]
  },
  {
   "cell_type": "code",
   "execution_count": 5,
   "metadata": {},
   "outputs": [
    {
     "data": {
      "text/html": [
       "<div>\n",
       "<style scoped>\n",
       "    .dataframe tbody tr th:only-of-type {\n",
       "        vertical-align: middle;\n",
       "    }\n",
       "\n",
       "    .dataframe tbody tr th {\n",
       "        vertical-align: top;\n",
       "    }\n",
       "\n",
       "    .dataframe thead th {\n",
       "        text-align: right;\n",
       "    }\n",
       "</style>\n",
       "<table border=\"1\" class=\"dataframe\">\n",
       "  <thead>\n",
       "    <tr style=\"text-align: right;\">\n",
       "      <th></th>\n",
       "      <th>Rv0001</th>\n",
       "      <th>Rv0005</th>\n",
       "      <th>Rv0006</th>\n",
       "      <th>Rv0009</th>\n",
       "      <th>Rv0010c</th>\n",
       "      <th>Rv0011c</th>\n",
       "      <th>Rv0013</th>\n",
       "      <th>Rv0014c</th>\n",
       "      <th>Rv0016c</th>\n",
       "      <th>Rv0020c</th>\n",
       "      <th>...</th>\n",
       "      <th>Rvnt36</th>\n",
       "      <th>Rvnt37</th>\n",
       "      <th>Rvnt38</th>\n",
       "      <th>Rvnt39</th>\n",
       "      <th>Rvnt40</th>\n",
       "      <th>Rvnt41</th>\n",
       "      <th>Rvnt42</th>\n",
       "      <th>Rvnt43</th>\n",
       "      <th>Rvnt44</th>\n",
       "      <th>Rvnt45</th>\n",
       "    </tr>\n",
       "  </thead>\n",
       "  <tbody>\n",
       "    <tr>\n",
       "      <th>1</th>\n",
       "      <td>0.026580</td>\n",
       "      <td>0.138055</td>\n",
       "      <td>0.210720</td>\n",
       "      <td>0.529461</td>\n",
       "      <td>0.329360</td>\n",
       "      <td>0.102481</td>\n",
       "      <td>0.435406</td>\n",
       "      <td>0.154138</td>\n",
       "      <td>0.249899</td>\n",
       "      <td>0.258090</td>\n",
       "      <td>...</td>\n",
       "      <td>0.534493</td>\n",
       "      <td>0.975626</td>\n",
       "      <td>1.893861</td>\n",
       "      <td>0.786852</td>\n",
       "      <td>-0.010767</td>\n",
       "      <td>-0.624610</td>\n",
       "      <td>0.855833</td>\n",
       "      <td>0.297079</td>\n",
       "      <td>0.285376</td>\n",
       "      <td>1.567964</td>\n",
       "    </tr>\n",
       "    <tr>\n",
       "      <th>2</th>\n",
       "      <td>0.324912</td>\n",
       "      <td>0.475974</td>\n",
       "      <td>0.347902</td>\n",
       "      <td>0.789531</td>\n",
       "      <td>0.403294</td>\n",
       "      <td>0.342468</td>\n",
       "      <td>0.378178</td>\n",
       "      <td>0.349270</td>\n",
       "      <td>0.257155</td>\n",
       "      <td>0.379764</td>\n",
       "      <td>...</td>\n",
       "      <td>0.049911</td>\n",
       "      <td>0.487354</td>\n",
       "      <td>1.064901</td>\n",
       "      <td>0.010797</td>\n",
       "      <td>0.124629</td>\n",
       "      <td>-0.367596</td>\n",
       "      <td>-0.278820</td>\n",
       "      <td>-0.945771</td>\n",
       "      <td>0.062134</td>\n",
       "      <td>0.390440</td>\n",
       "    </tr>\n",
       "    <tr>\n",
       "      <th>3</th>\n",
       "      <td>0.150678</td>\n",
       "      <td>0.305756</td>\n",
       "      <td>0.504589</td>\n",
       "      <td>0.427874</td>\n",
       "      <td>0.240316</td>\n",
       "      <td>0.125952</td>\n",
       "      <td>0.359089</td>\n",
       "      <td>0.228570</td>\n",
       "      <td>0.295715</td>\n",
       "      <td>0.348850</td>\n",
       "      <td>...</td>\n",
       "      <td>0.363724</td>\n",
       "      <td>1.003249</td>\n",
       "      <td>1.322216</td>\n",
       "      <td>-0.728707</td>\n",
       "      <td>-0.692735</td>\n",
       "      <td>-0.062877</td>\n",
       "      <td>0.537431</td>\n",
       "      <td>-1.402739</td>\n",
       "      <td>0.368108</td>\n",
       "      <td>0.650801</td>\n",
       "    </tr>\n",
       "    <tr>\n",
       "      <th>4</th>\n",
       "      <td>0.052264</td>\n",
       "      <td>0.309769</td>\n",
       "      <td>0.444228</td>\n",
       "      <td>0.511833</td>\n",
       "      <td>0.099089</td>\n",
       "      <td>0.058976</td>\n",
       "      <td>0.242198</td>\n",
       "      <td>0.238278</td>\n",
       "      <td>0.323161</td>\n",
       "      <td>0.479204</td>\n",
       "      <td>...</td>\n",
       "      <td>-0.296242</td>\n",
       "      <td>0.778796</td>\n",
       "      <td>1.065065</td>\n",
       "      <td>-0.203776</td>\n",
       "      <td>-0.264700</td>\n",
       "      <td>0.226757</td>\n",
       "      <td>0.250092</td>\n",
       "      <td>-1.022031</td>\n",
       "      <td>0.216741</td>\n",
       "      <td>0.081810</td>\n",
       "    </tr>\n",
       "    <tr>\n",
       "      <th>5</th>\n",
       "      <td>0.130206</td>\n",
       "      <td>0.289055</td>\n",
       "      <td>0.119414</td>\n",
       "      <td>0.178876</td>\n",
       "      <td>0.014348</td>\n",
       "      <td>0.008050</td>\n",
       "      <td>-0.048069</td>\n",
       "      <td>0.034901</td>\n",
       "      <td>0.139673</td>\n",
       "      <td>0.168447</td>\n",
       "      <td>...</td>\n",
       "      <td>0.768930</td>\n",
       "      <td>1.367824</td>\n",
       "      <td>1.833502</td>\n",
       "      <td>0.956521</td>\n",
       "      <td>0.318199</td>\n",
       "      <td>-0.131725</td>\n",
       "      <td>0.871278</td>\n",
       "      <td>1.082750</td>\n",
       "      <td>0.145633</td>\n",
       "      <td>0.893727</td>\n",
       "    </tr>\n",
       "  </tbody>\n",
       "</table>\n",
       "<p>5 rows × 2582 columns</p>\n",
       "</div>"
      ],
      "text/plain": [
       "     Rv0001    Rv0005    Rv0006    Rv0009   Rv0010c   Rv0011c    Rv0013  \\\n",
       "1  0.026580  0.138055  0.210720  0.529461  0.329360  0.102481  0.435406   \n",
       "2  0.324912  0.475974  0.347902  0.789531  0.403294  0.342468  0.378178   \n",
       "3  0.150678  0.305756  0.504589  0.427874  0.240316  0.125952  0.359089   \n",
       "4  0.052264  0.309769  0.444228  0.511833  0.099089  0.058976  0.242198   \n",
       "5  0.130206  0.289055  0.119414  0.178876  0.014348  0.008050 -0.048069   \n",
       "\n",
       "    Rv0014c   Rv0016c   Rv0020c  ...    Rvnt36    Rvnt37    Rvnt38    Rvnt39  \\\n",
       "1  0.154138  0.249899  0.258090  ...  0.534493  0.975626  1.893861  0.786852   \n",
       "2  0.349270  0.257155  0.379764  ...  0.049911  0.487354  1.064901  0.010797   \n",
       "3  0.228570  0.295715  0.348850  ...  0.363724  1.003249  1.322216 -0.728707   \n",
       "4  0.238278  0.323161  0.479204  ... -0.296242  0.778796  1.065065 -0.203776   \n",
       "5  0.034901  0.139673  0.168447  ...  0.768930  1.367824  1.833502  0.956521   \n",
       "\n",
       "     Rvnt40    Rvnt41    Rvnt42    Rvnt43    Rvnt44    Rvnt45  \n",
       "1 -0.010767 -0.624610  0.855833  0.297079  0.285376  1.567964  \n",
       "2  0.124629 -0.367596 -0.278820 -0.945771  0.062134  0.390440  \n",
       "3 -0.692735 -0.062877  0.537431 -1.402739  0.368108  0.650801  \n",
       "4 -0.264700  0.226757  0.250092 -1.022031  0.216741  0.081810  \n",
       "5  0.318199 -0.131725  0.871278  1.082750  0.145633  0.893727  \n",
       "\n",
       "[5 rows x 2582 columns]"
      ]
     },
     "execution_count": 5,
     "metadata": {},
     "output_type": "execute_result"
    }
   ],
   "source": [
    "dfs_data[1].head()"
   ]
  },
  {
   "cell_type": "code",
   "execution_count": 6,
   "metadata": {},
   "outputs": [
    {
     "data": {
      "text/html": [
       "<div>\n",
       "<style scoped>\n",
       "    .dataframe tbody tr th:only-of-type {\n",
       "        vertical-align: middle;\n",
       "    }\n",
       "\n",
       "    .dataframe tbody tr th {\n",
       "        vertical-align: top;\n",
       "    }\n",
       "\n",
       "    .dataframe thead th {\n",
       "        text-align: right;\n",
       "    }\n",
       "</style>\n",
       "<table border=\"1\" class=\"dataframe\">\n",
       "  <thead>\n",
       "    <tr style=\"text-align: right;\">\n",
       "      <th></th>\n",
       "      <th>Rv0001</th>\n",
       "      <th>Rv0005</th>\n",
       "      <th>Rv0006</th>\n",
       "      <th>Rv0009</th>\n",
       "      <th>Rv0010c</th>\n",
       "      <th>Rv0011c</th>\n",
       "      <th>Rv0013</th>\n",
       "      <th>Rv0014c</th>\n",
       "      <th>Rv0016c</th>\n",
       "      <th>Rv0020c</th>\n",
       "      <th>...</th>\n",
       "      <th>Rvnt36</th>\n",
       "      <th>Rvnt37</th>\n",
       "      <th>Rvnt38</th>\n",
       "      <th>Rvnt39</th>\n",
       "      <th>Rvnt40</th>\n",
       "      <th>Rvnt41</th>\n",
       "      <th>Rvnt42</th>\n",
       "      <th>Rvnt43</th>\n",
       "      <th>Rvnt44</th>\n",
       "      <th>Rvnt45</th>\n",
       "    </tr>\n",
       "  </thead>\n",
       "  <tbody>\n",
       "    <tr>\n",
       "      <th>1</th>\n",
       "      <td>-0.049259</td>\n",
       "      <td>0.233470</td>\n",
       "      <td>0.168745</td>\n",
       "      <td>0.393708</td>\n",
       "      <td>0.093980</td>\n",
       "      <td>-0.075847</td>\n",
       "      <td>0.159526</td>\n",
       "      <td>0.003408</td>\n",
       "      <td>0.218691</td>\n",
       "      <td>0.150945</td>\n",
       "      <td>...</td>\n",
       "      <td>0.301680</td>\n",
       "      <td>0.241831</td>\n",
       "      <td>0.662514</td>\n",
       "      <td>0.012031</td>\n",
       "      <td>-0.169626</td>\n",
       "      <td>-0.680566</td>\n",
       "      <td>0.110902</td>\n",
       "      <td>0.101967</td>\n",
       "      <td>0.271476</td>\n",
       "      <td>0.781683</td>\n",
       "    </tr>\n",
       "    <tr>\n",
       "      <th>2</th>\n",
       "      <td>0.239653</td>\n",
       "      <td>0.488996</td>\n",
       "      <td>0.392984</td>\n",
       "      <td>0.541217</td>\n",
       "      <td>0.089068</td>\n",
       "      <td>0.211198</td>\n",
       "      <td>0.044357</td>\n",
       "      <td>0.037833</td>\n",
       "      <td>0.289569</td>\n",
       "      <td>0.344453</td>\n",
       "      <td>...</td>\n",
       "      <td>0.211673</td>\n",
       "      <td>0.122141</td>\n",
       "      <td>0.812823</td>\n",
       "      <td>0.172285</td>\n",
       "      <td>-0.429341</td>\n",
       "      <td>0.293526</td>\n",
       "      <td>0.241376</td>\n",
       "      <td>-0.328894</td>\n",
       "      <td>0.406029</td>\n",
       "      <td>-0.015805</td>\n",
       "    </tr>\n",
       "    <tr>\n",
       "      <th>3</th>\n",
       "      <td>0.153105</td>\n",
       "      <td>0.373702</td>\n",
       "      <td>0.529114</td>\n",
       "      <td>0.470078</td>\n",
       "      <td>0.068674</td>\n",
       "      <td>0.252405</td>\n",
       "      <td>0.000815</td>\n",
       "      <td>0.188571</td>\n",
       "      <td>0.302770</td>\n",
       "      <td>0.328342</td>\n",
       "      <td>...</td>\n",
       "      <td>-0.374234</td>\n",
       "      <td>0.322524</td>\n",
       "      <td>0.247267</td>\n",
       "      <td>-0.375072</td>\n",
       "      <td>-0.056829</td>\n",
       "      <td>0.220876</td>\n",
       "      <td>-0.245604</td>\n",
       "      <td>-0.541947</td>\n",
       "      <td>0.308686</td>\n",
       "      <td>-1.192570</td>\n",
       "    </tr>\n",
       "    <tr>\n",
       "      <th>4</th>\n",
       "      <td>0.057715</td>\n",
       "      <td>0.443450</td>\n",
       "      <td>0.495075</td>\n",
       "      <td>0.486260</td>\n",
       "      <td>0.182562</td>\n",
       "      <td>0.025538</td>\n",
       "      <td>0.167300</td>\n",
       "      <td>0.268949</td>\n",
       "      <td>0.361929</td>\n",
       "      <td>0.470058</td>\n",
       "      <td>...</td>\n",
       "      <td>-0.514744</td>\n",
       "      <td>-0.156459</td>\n",
       "      <td>0.640790</td>\n",
       "      <td>-0.260005</td>\n",
       "      <td>-0.601014</td>\n",
       "      <td>0.027937</td>\n",
       "      <td>-0.178358</td>\n",
       "      <td>-0.745230</td>\n",
       "      <td>0.158610</td>\n",
       "      <td>-0.050914</td>\n",
       "    </tr>\n",
       "    <tr>\n",
       "      <th>5</th>\n",
       "      <td>0.003791</td>\n",
       "      <td>0.403282</td>\n",
       "      <td>0.435062</td>\n",
       "      <td>0.335115</td>\n",
       "      <td>-0.000697</td>\n",
       "      <td>0.001247</td>\n",
       "      <td>-0.107879</td>\n",
       "      <td>-0.017771</td>\n",
       "      <td>0.187169</td>\n",
       "      <td>0.439808</td>\n",
       "      <td>...</td>\n",
       "      <td>-0.157188</td>\n",
       "      <td>0.218300</td>\n",
       "      <td>0.571036</td>\n",
       "      <td>-0.395428</td>\n",
       "      <td>-0.318903</td>\n",
       "      <td>0.387199</td>\n",
       "      <td>-0.138256</td>\n",
       "      <td>-0.755490</td>\n",
       "      <td>0.433771</td>\n",
       "      <td>-0.499965</td>\n",
       "    </tr>\n",
       "  </tbody>\n",
       "</table>\n",
       "<p>5 rows × 2582 columns</p>\n",
       "</div>"
      ],
      "text/plain": [
       "     Rv0001    Rv0005    Rv0006    Rv0009   Rv0010c   Rv0011c    Rv0013  \\\n",
       "1 -0.049259  0.233470  0.168745  0.393708  0.093980 -0.075847  0.159526   \n",
       "2  0.239653  0.488996  0.392984  0.541217  0.089068  0.211198  0.044357   \n",
       "3  0.153105  0.373702  0.529114  0.470078  0.068674  0.252405  0.000815   \n",
       "4  0.057715  0.443450  0.495075  0.486260  0.182562  0.025538  0.167300   \n",
       "5  0.003791  0.403282  0.435062  0.335115 -0.000697  0.001247 -0.107879   \n",
       "\n",
       "    Rv0014c   Rv0016c   Rv0020c  ...    Rvnt36    Rvnt37    Rvnt38    Rvnt39  \\\n",
       "1  0.003408  0.218691  0.150945  ...  0.301680  0.241831  0.662514  0.012031   \n",
       "2  0.037833  0.289569  0.344453  ...  0.211673  0.122141  0.812823  0.172285   \n",
       "3  0.188571  0.302770  0.328342  ... -0.374234  0.322524  0.247267 -0.375072   \n",
       "4  0.268949  0.361929  0.470058  ... -0.514744 -0.156459  0.640790 -0.260005   \n",
       "5 -0.017771  0.187169  0.439808  ... -0.157188  0.218300  0.571036 -0.395428   \n",
       "\n",
       "     Rvnt40    Rvnt41    Rvnt42    Rvnt43    Rvnt44    Rvnt45  \n",
       "1 -0.169626 -0.680566  0.110902  0.101967  0.271476  0.781683  \n",
       "2 -0.429341  0.293526  0.241376 -0.328894  0.406029 -0.015805  \n",
       "3 -0.056829  0.220876 -0.245604 -0.541947  0.308686 -1.192570  \n",
       "4 -0.601014  0.027937 -0.178358 -0.745230  0.158610 -0.050914  \n",
       "5 -0.318903  0.387199 -0.138256 -0.755490  0.433771 -0.499965  \n",
       "\n",
       "[5 rows x 2582 columns]"
      ]
     },
     "execution_count": 6,
     "metadata": {},
     "output_type": "execute_result"
    }
   ],
   "source": [
    "dfs_data[2].head()"
   ]
  },
  {
   "cell_type": "code",
   "execution_count": 7,
   "metadata": {},
   "outputs": [
    {
     "data": {
      "text/plain": [
       "2582"
      ]
     },
     "execution_count": 7,
     "metadata": {},
     "output_type": "execute_result"
    }
   ],
   "source": [
    "len(dfs_data[0].columns)"
   ]
  },
  {
   "cell_type": "markdown",
   "metadata": {},
   "source": [
    "## Standard Deviation Between Timepoints By Gene"
   ]
  },
  {
   "cell_type": "code",
   "execution_count": 8,
   "metadata": {},
   "outputs": [
    {
     "data": {
      "text/plain": [
       "Rv0001     0.271613\n",
       "Rv0005     0.503033\n",
       "Rv0006     0.504533\n",
       "Rv0009     0.652856\n",
       "Rv0010c    0.295875\n",
       "dtype: float64"
      ]
     },
     "execution_count": 8,
     "metadata": {},
     "output_type": "execute_result"
    }
   ],
   "source": [
    "df_mean = sum(dfs_data)/len(dfs_data)\n",
    "df_mean.head()\n",
    "ser_stdb = df_mean.std() # Standard deviation between timepoints\n",
    "ser_stdb.head()"
   ]
  },
  {
   "cell_type": "code",
   "execution_count": 9,
   "metadata": {},
   "outputs": [
    {
     "data": {
      "image/png": "[encoded data removed]",
      "text/plain": [
       "<Figure size 432x288 with 1 Axes>"
      ]
     },
     "metadata": {
      "needs_background": "light"
     },
     "output_type": "display_data"
    }
   ],
   "source": [
    "ax = ser_stdb.hist(bins=100, range=(0, 2), density=False)\n"
   ]
  },
  {
   "cell_type": "code",
   "execution_count": 17,
   "metadata": {},
   "outputs": [
    {
     "data": {
      "image/png": "[encoded data removed]",
      "text/plain": [
       "<Figure size 432x288 with 1 Axes>"
      ]
     },
     "metadata": {
      "needs_background": "light"
     },
     "output_type": "display_data"
    }
   ],
   "source": [
    "plotter = Plotter()\n",
    "ecdf = stats.ECDF(ser_stdb)\n",
    "plotter.ax.plot(ecdf.x, ecdf.y)\n",
    "plotter.do(xlim=[0, 1.5], ylim=[0, 1.0], \n",
    "           title=\"STD Between Timepoints for %d genes\" % len(df_mean.columns), \n",
    "           xlabel=\"std\", ylabel=\"probability\")"
   ]
  },
  {
   "cell_type": "markdown",
   "metadata": {},
   "source": [
    "## Standard Deviation Within Gene, Timepoint\n",
    "This is the standard deviation across replications for a gene and timepoint. We use the average value across timepoints for each gene."
   ]
  },
  {
   "cell_type": "code",
   "execution_count": 11,
   "metadata": {},
   "outputs": [
    {
     "data": {
      "text/plain": [
       "Rv0001     0.023080\n",
       "Rv0005     0.048038\n",
       "Rv0006     0.039000\n",
       "Rv0009     0.068523\n",
       "Rv0010c    0.013107\n",
       "dtype: float64"
      ]
     },
     "execution_count": 11,
     "metadata": {},
     "output_type": "execute_result"
    }
   ],
   "source": [
    "df_stdw = dataframe.std(dfs_data)  # Dataframe of standard deviations within a timepoint\n",
    "ser_stdw = df_stdw.mean()\n",
    "#ser_stdw = pd.Series(np.reshape(df_stdw.to_numpy(), df_stdw.size))  # Convert to a series\n",
    "ser_stdw.head()"
   ]
  },
  {
   "cell_type": "code",
   "execution_count": 19,
   "metadata": {},
   "outputs": [
    {
     "data": {
      "image/png": "[encoded data removed]",
      "text/plain": [
       "<Figure size 432x288 with 1 Axes>"
      ]
     },
     "metadata": {
      "needs_background": "light"
     },
     "output_type": "display_data"
    }
   ],
   "source": [
    "plotter = Plotter()\n",
    "ecdf = stats.ECDF(ser_stdw)\n",
    "plotter.ax.plot(ecdf.x, ecdf.y)\n",
    "plotter.do(xlim=[0, 1], ylim=[0, 1.0], title=\"STD Within Timepoints for %d genes\" % len(df_stdw.columns), \n",
    "           xlabel=\"std\", ylabel=\"probability\")"
   ]
  },
  {
   "cell_type": "markdown",
   "metadata": {},
   "source": [
    "## Analysis of Top Genes\n",
    "These are genes identified by SVM classifier as having the most effect on the classification vector as indicated by the plot below.\n",
    "![](pngs/top10genes.png)\n",
    "![](pngs/top15genes.png)"
   ]
  },
  {
   "cell_type": "code",
   "execution_count": 14,
   "metadata": {},
   "outputs": [
    {
     "data": {
      "text/html": [
       "<div>\n",
       "<style scoped>\n",
       "    .dataframe tbody tr th:only-of-type {\n",
       "        vertical-align: middle;\n",
       "    }\n",
       "\n",
       "    .dataframe tbody tr th {\n",
       "        vertical-align: top;\n",
       "    }\n",
       "\n",
       "    .dataframe thead th {\n",
       "        text-align: right;\n",
       "    }\n",
       "</style>\n",
       "<table border=\"1\" class=\"dataframe\">\n",
       "  <thead>\n",
       "    <tr style=\"text-align: right;\">\n",
       "      <th></th>\n",
       "      <th>stdb</th>\n",
       "      <th>stdw</th>\n",
       "    </tr>\n",
       "  </thead>\n",
       "  <tbody>\n",
       "    <tr>\n",
       "      <th>Rv0886</th>\n",
       "      <td>0.934001</td>\n",
       "      <td>0.160486</td>\n",
       "    </tr>\n",
       "    <tr>\n",
       "      <th>Rv2382c</th>\n",
       "      <td>0.885436</td>\n",
       "      <td>0.177066</td>\n",
       "    </tr>\n",
       "    <tr>\n",
       "      <th>Rv3083</th>\n",
       "      <td>0.567923</td>\n",
       "      <td>0.048767</td>\n",
       "    </tr>\n",
       "    <tr>\n",
       "      <th>Rv3613c</th>\n",
       "      <td>0.516543</td>\n",
       "      <td>0.057823</td>\n",
       "    </tr>\n",
       "    <tr>\n",
       "      <th>Rv2329c</th>\n",
       "      <td>0.371466</td>\n",
       "      <td>0.042051</td>\n",
       "    </tr>\n",
       "    <tr>\n",
       "      <th>Rv3136</th>\n",
       "      <td>0.619226</td>\n",
       "      <td>0.072184</td>\n",
       "    </tr>\n",
       "    <tr>\n",
       "      <th>Rv2958c</th>\n",
       "      <td>0.734832</td>\n",
       "      <td>0.077032</td>\n",
       "    </tr>\n",
       "    <tr>\n",
       "      <th>Rv3841</th>\n",
       "      <td>0.811551</td>\n",
       "      <td>0.112700</td>\n",
       "    </tr>\n",
       "    <tr>\n",
       "      <th>Rv2377c</th>\n",
       "      <td>0.636836</td>\n",
       "      <td>0.036655</td>\n",
       "    </tr>\n",
       "    <tr>\n",
       "      <th>Rv2380c</th>\n",
       "      <td>0.650990</td>\n",
       "      <td>0.073587</td>\n",
       "    </tr>\n",
       "    <tr>\n",
       "      <th>Rv3342</th>\n",
       "      <td>0.626683</td>\n",
       "      <td>0.071419</td>\n",
       "    </tr>\n",
       "    <tr>\n",
       "      <th>Rv1479</th>\n",
       "      <td>0.402729</td>\n",
       "      <td>0.041151</td>\n",
       "    </tr>\n",
       "    <tr>\n",
       "      <th>Rv1700</th>\n",
       "      <td>0.329328</td>\n",
       "      <td>0.021945</td>\n",
       "    </tr>\n",
       "    <tr>\n",
       "      <th>Rv2385</th>\n",
       "      <td>0.761384</td>\n",
       "      <td>0.078019</td>\n",
       "    </tr>\n",
       "  </tbody>\n",
       "</table>\n",
       "</div>"
      ],
      "text/plain": [
       "             stdb      stdw\n",
       "Rv0886   0.934001  0.160486\n",
       "Rv2382c  0.885436  0.177066\n",
       "Rv3083   0.567923  0.048767\n",
       "Rv3613c  0.516543  0.057823\n",
       "Rv2329c  0.371466  0.042051\n",
       "Rv3136   0.619226  0.072184\n",
       "Rv2958c  0.734832  0.077032\n",
       "Rv3841   0.811551  0.112700\n",
       "Rv2377c  0.636836  0.036655\n",
       "Rv2380c  0.650990  0.073587\n",
       "Rv3342   0.626683  0.071419\n",
       "Rv1479   0.402729  0.041151\n",
       "Rv1700   0.329328  0.021945\n",
       "Rv2385   0.761384  0.078019"
      ]
     },
     "execution_count": 14,
     "metadata": {},
     "output_type": "execute_result"
    }
   ],
   "source": [
    "STDB = \"stdb\"\n",
    "STDW = \"stdw\"\n",
    "top_genes10 = [\"Rv2382c\", \"Rv2329c\", \"Rv3083\", \"Rv2958c\", \"Rv3613c\", \"Rv2385\", \"Rv3841\", \"Rv3342\", \"Rv0040c\"]\n",
    "top_genes15 = [\"Rv0886\", \"Rv2382c\", \"Rv3083\", \"Rv3613c\", \"Rv2329c\", \"Rv3136\", \"Rv2958c\", \"Rv3841\", \"Rv2377c\",\n",
    "            \"Rv2380c\", \"Rv3342\", \"Rv1479\", \"Rv1700\", \"Rv2385\"]\n",
    "gene_dct = {k: {STDB: None, STDW: None} for k in top_genes15}\n",
    "for gene in top_genes15:\n",
    "    dct = gene_dct[gene]\n",
    "    dct[STDB] = ser_stdb[gene]\n",
    "    dct[STDW] = ser_stdw[gene]\n",
    "df = pd.DataFrame(gene_dct)\n",
    "df.transpose()"
   ]
  },
  {
   "cell_type": "code",
   "execution_count": 15,
   "metadata": {},
   "outputs": [
    {
     "data": {
      "text/plain": [
       "Rv0886      5.819843\n",
       "Rv2382c     5.000607\n",
       "Rv3083     11.645625\n",
       "Rv3613c     8.933242\n",
       "Rv2329c     8.833641\n",
       "Rv3136      8.578438\n",
       "Rv2958c     9.539279\n",
       "Rv3841      7.200991\n",
       "Rv2377c    17.373939\n",
       "Rv2380c     8.846522\n",
       "Rv3342      8.774721\n",
       "Rv1479      9.786620\n",
       "Rv1700     15.006844\n",
       "Rv2385      9.758903\n",
       "dtype: float64"
      ]
     },
     "execution_count": 15,
     "metadata": {},
     "output_type": "execute_result"
    }
   ],
   "source": [
    "dff = df.transpose()\n",
    "dff[STDB] / dff[STDW]"
   ]
  },
  {
   "cell_type": "code",
   "execution_count": 26,
   "metadata": {},
   "outputs": [
    {
     "data": {
      "image/png": "[encoded data removed]",
      "text/plain": [
       "<Figure size 432x288 with 1 Axes>"
      ]
     },
     "metadata": {
      "needs_background": "light"
     },
     "output_type": "display_data"
    }
   ],
   "source": [
    "ecdf = stats.ECDF(dff[STDB])\n",
    "plotter = Plotter()\n",
    "plotter.ax.plot(ecdf.x, ecdf.y)\n",
    "plotter.do(xlim=[0, 1], ylim=[0, 1.0], title=\"CDF of STD Between for 15 top Genes\",\n",
    "          xlabel=\"STDB\", ylabel=\"Probability\")"
   ]
  },
  {
   "cell_type": "code",
   "execution_count": 29,
   "metadata": {},
   "outputs": [
    {
     "data": {
      "image/png": "[encoded data removed]",
      "text/plain": [
       "<Figure size 432x288 with 1 Axes>"
      ]
     },
     "metadata": {
      "needs_background": "light"
     },
     "output_type": "display_data"
    }
   ],
   "source": [
    "ecdf = stats.ECDF(dff[STDW])\n",
    "plotter = Plotter()\n",
    "plotter.ax.plot(ecdf.x, ecdf.y)\n",
    "plotter.do(xlim=[0, 1], ylim=[0, 1.0], title=\"CDF of STD Within for 15 top Genes\",\n",
    "          xlabel=\"STDW\", ylabel=\"Probability\")"
   ]
  },
  {
   "cell_type": "code",
   "execution_count": 16,
   "metadata": {},
   "outputs": [
    {
     "data": {
      "text/plain": [
       "8"
      ]
     },
     "execution_count": 16,
     "metadata": {},
     "output_type": "execute_result"
    }
   ],
   "source": [
    "len(set(top_genes10).intersection(top_genes15))"
   ]
  },
  {
   "cell_type": "markdown",
   "metadata": {},
   "source": [
    "Notes\n",
    "1. Determine an more appropriate range for the accuracy studies based on top genes."
   ]
  }
 ],
 "metadata": {
  "kernelspec": {
   "display_name": "Python 3",
   "language": "python",
   "name": "python3"
  },
  "language_info": {
   "codemirror_mode": {
    "name": "ipython",
    "version": 3
   },
   "file_extension": ".py",
   "mimetype": "text/x-python",
   "name": "python",
   "nbconvert_exporter": "python",
   "pygments_lexer": "ipython3",
   "version": "3.8.0"
  }
 },
 "nbformat": 4,
 "nbformat_minor": 2
}
