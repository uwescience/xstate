{
 "cells": [
  {
   "cell_type": "markdown",
   "metadata": {},
   "source": [
    "# Policies for Replicas and Thresholding for SVMs\n",
    "\n",
    "Suppose we are given features $x$ such that $x_{ijk}$ is the $i$-th instance, $j$-th feature, and $k$-th replication of that instance and the corresponding class labels $y_i$. This notebook explores the following questions:\n",
    "\n",
    "- How should the replicas be used? Averaged? As additional instances?\n",
    "- Does thresholding (of feature values) increase classification accuracy?\n",
    "- How should thresholding be used in combination with replicas?"
   ]
  },
  {
   "cell_type": "code",
   "execution_count": 3,
   "metadata": {},
   "outputs": [],
   "source": [
    "import numpy as np\n",
    "import pandas as pd\n",
    "import matplotlib.pyplot as plt"
   ]
  },
  {
   "cell_type": "markdown",
   "metadata": {},
   "source": [
    "## Experiment\n",
    "\n",
    "- Ground truth feature values are taken from a hypergrid of density $D$ in each feature over the range $[-1, 1]$ such that there are $D$ evenly spaced points for each feature. As a result, there are $D^J$ feature values in the ground truth.\n",
    "- Class values are assigned using the separating hyperplane $\\sum_j x_j = 0$ applied to ground truth feature values. A class value of 1 is assigned if $\\sum_j x_j > 0$ and -1 otherwise. The importance of a feature can be weighted by changing the separating hyperplane.\n",
    "- The replications are obtained by adding noise from $N(0, \\sigma^2)$ to each ground truth feature value.\n",
    "- Accuracy is evaluated for feature vectors $\\alpha (1, \\cdots, 1)$ by computing average accuracy for a set $alpha$ and at different $\\sigma^2$. The result of an experiment displays a plot of $\\alpha \\in [-\\epsilon, \\epsilon]$ versus accuracy at a value of $\\sigma^2$."
   ]
  },
  {
   "cell_type": "markdown",
   "metadata": {},
   "source": [
    "## Creating the Grid"
   ]
  },
  {
   "cell_type": "code",
   "execution_count": 14,
   "metadata": {},
   "outputs": [],
   "source": [
    "def makeGrid(density, dim, min_val=-1, max_val=1):\n",
    "    \"\"\"\n",
    "    Creates a uniform grid on a space of arbitrary dimension.\n",
    "    :param float density: points per unit\n",
    "    \"\"\"\n",
    "    coords = [np.linspace(min_val, max_val, density*(max_val - min_val)) for _ in range(dim)]\n",
    "    return np.meshgrid(*coords)\n",
    "\n",
    "grid = makeGrid(5, 2)\n",
    "\n"
   ]
  },
  {
   "cell_type": "code",
   "execution_count": 23,
   "metadata": {},
   "outputs": [
    {
     "data": {
      "text/plain": [
       "array([-1.        , -1.        , -1.        , -1.        , -1.        ,\n",
       "       -1.        , -1.        , -1.        , -1.        , -1.        ,\n",
       "       -0.77777778, -0.77777778, -0.77777778, -0.77777778, -0.77777778,\n",
       "       -0.77777778, -0.77777778, -0.77777778, -0.77777778, -0.77777778,\n",
       "       -0.55555556, -0.55555556, -0.55555556, -0.55555556, -0.55555556,\n",
       "       -0.55555556, -0.55555556, -0.55555556, -0.55555556, -0.55555556,\n",
       "       -0.33333333, -0.33333333, -0.33333333, -0.33333333, -0.33333333,\n",
       "       -0.33333333, -0.33333333, -0.33333333, -0.33333333, -0.33333333,\n",
       "       -0.11111111, -0.11111111, -0.11111111, -0.11111111, -0.11111111,\n",
       "       -0.11111111, -0.11111111, -0.11111111, -0.11111111, -0.11111111,\n",
       "        0.11111111,  0.11111111,  0.11111111,  0.11111111,  0.11111111,\n",
       "        0.11111111,  0.11111111,  0.11111111,  0.11111111,  0.11111111,\n",
       "        0.33333333,  0.33333333,  0.33333333,  0.33333333,  0.33333333,\n",
       "        0.33333333,  0.33333333,  0.33333333,  0.33333333,  0.33333333,\n",
       "        0.55555556,  0.55555556,  0.55555556,  0.55555556,  0.55555556,\n",
       "        0.55555556,  0.55555556,  0.55555556,  0.55555556,  0.55555556,\n",
       "        0.77777778,  0.77777778,  0.77777778,  0.77777778,  0.77777778,\n",
       "        0.77777778,  0.77777778,  0.77777778,  0.77777778,  0.77777778,\n",
       "        1.        ,  1.        ,  1.        ,  1.        ,  1.        ,\n",
       "        1.        ,  1.        ,  1.        ,  1.        ,  1.        ])"
      ]
     },
     "execution_count": 23,
     "metadata": {},
     "output_type": "execute_result"
    }
   ],
   "source": [
    "np.reshape(grid[0], 100, 1)"
   ]
  },
  {
   "cell_type": "code",
   "execution_count": 24,
   "metadata": {},
   "outputs": [
    {
     "data": {
      "text/plain": [
       "array([-1.        , -0.77777778, -0.55555556, -0.33333333, -0.11111111,\n",
       "        0.11111111,  0.33333333,  0.55555556,  0.77777778,  1.        ,\n",
       "       -1.        , -0.77777778, -0.55555556, -0.33333333, -0.11111111,\n",
       "        0.11111111,  0.33333333,  0.55555556,  0.77777778,  1.        ,\n",
       "       -1.        , -0.77777778, -0.55555556, -0.33333333, -0.11111111,\n",
       "        0.11111111,  0.33333333,  0.55555556,  0.77777778,  1.        ,\n",
       "       -1.        , -0.77777778, -0.55555556, -0.33333333, -0.11111111,\n",
       "        0.11111111,  0.33333333,  0.55555556,  0.77777778,  1.        ,\n",
       "       -1.        , -0.77777778, -0.55555556, -0.33333333, -0.11111111,\n",
       "        0.11111111,  0.33333333,  0.55555556,  0.77777778,  1.        ,\n",
       "       -1.        , -0.77777778, -0.55555556, -0.33333333, -0.11111111,\n",
       "        0.11111111,  0.33333333,  0.55555556,  0.77777778,  1.        ,\n",
       "       -1.        , -0.77777778, -0.55555556, -0.33333333, -0.11111111,\n",
       "        0.11111111,  0.33333333,  0.55555556,  0.77777778,  1.        ,\n",
       "       -1.        , -0.77777778, -0.55555556, -0.33333333, -0.11111111,\n",
       "        0.11111111,  0.33333333,  0.55555556,  0.77777778,  1.        ,\n",
       "       -1.        , -0.77777778, -0.55555556, -0.33333333, -0.11111111,\n",
       "        0.11111111,  0.33333333,  0.55555556,  0.77777778,  1.        ,\n",
       "       -1.        , -0.77777778, -0.55555556, -0.33333333, -0.11111111,\n",
       "        0.11111111,  0.33333333,  0.55555556,  0.77777778,  1.        ])"
      ]
     },
     "execution_count": 24,
     "metadata": {},
     "output_type": "execute_result"
    }
   ],
   "source": [
    "np.reshape(grid[1], 100, 1)"
   ]
  },
  {
   "cell_type": "code",
   "execution_count": null,
   "metadata": {},
   "outputs": [],
   "source": [
    "# Reshape grid into a list of vectors\n",
    "np.array()"
   ]
  },
  {
   "cell_type": "code",
   "execution_count": 18,
   "metadata": {},
   "outputs": [
    {
     "data": {
      "text/plain": [
       "<matplotlib.collections.PathCollection at 0x7f70ca5fac40>"
      ]
     },
     "execution_count": 18,
     "metadata": {},
     "output_type": "execute_result"
    },
    {
     "data": {
      "image/png": "[encoded data removed]",
      "text/plain": [
       "<Figure size 432x288 with 1 Axes>"
      ]
     },
     "metadata": {
      "needs_background": "light"
     },
     "output_type": "display_data"
    }
   ],
   "source": [
    "plt.scatter(grid[0], grid[1])"
   ]
  },
  {
   "cell_type": "code",
   "execution_count": 4,
   "metadata": {},
   "outputs": [
    {
     "data": {
      "text/plain": [
       "array([ 0,  1,  2,  3,  4,  5,  6,  7,  8,  9, 10, 11])"
      ]
     },
     "execution_count": 4,
     "metadata": {},
     "output_type": "execute_result"
    }
   ],
   "source": [
    "arr = np.array(range(12))\n",
    "arr"
   ]
  },
  {
   "cell_type": "code",
   "execution_count": 7,
   "metadata": {},
   "outputs": [
    {
     "data": {
      "text/plain": [
       "array([[[ 0,  1],\n",
       "        [ 2,  3],\n",
       "        [ 4,  5]],\n",
       "\n",
       "       [[ 6,  7],\n",
       "        [ 8,  9],\n",
       "        [10, 11]]])"
      ]
     },
     "execution_count": 7,
     "metadata": {},
     "output_type": "execute_result"
    }
   ],
   "source": [
    "mat = np.reshape(arr, (2,3,2))\n",
    "mat"
   ]
  },
  {
   "cell_type": "code",
   "execution_count": 9,
   "metadata": {},
   "outputs": [
    {
     "data": {
      "text/plain": [
       "array([[ 0,  1],\n",
       "       [ 2,  3],\n",
       "       [ 4,  5],\n",
       "       [ 6,  7],\n",
       "       [ 8,  9],\n",
       "       [10, 11]])"
      ]
     },
     "execution_count": 9,
     "metadata": {},
     "output_type": "execute_result"
    }
   ],
   "source": [
    "np.reshape(mat, (6, 2))"
   ]
  },
  {
   "cell_type": "code",
   "execution_count": 13,
   "metadata": {},
   "outputs": [
    {
     "data": {
      "text/plain": [
       "[array([[[-1.        , -1.        , -1.        , -1.        ],\n",
       "         [-0.33333333, -0.33333333, -0.33333333, -0.33333333],\n",
       "         [ 0.33333333,  0.33333333,  0.33333333,  0.33333333],\n",
       "         [ 1.        ,  1.        ,  1.        ,  1.        ]],\n",
       " \n",
       "        [[-1.        , -1.        , -1.        , -1.        ],\n",
       "         [-0.33333333, -0.33333333, -0.33333333, -0.33333333],\n",
       "         [ 0.33333333,  0.33333333,  0.33333333,  0.33333333],\n",
       "         [ 1.        ,  1.        ,  1.        ,  1.        ]],\n",
       " \n",
       "        [[-1.        , -1.        , -1.        , -1.        ],\n",
       "         [-0.33333333, -0.33333333, -0.33333333, -0.33333333],\n",
       "         [ 0.33333333,  0.33333333,  0.33333333,  0.33333333],\n",
       "         [ 1.        ,  1.        ,  1.        ,  1.        ]],\n",
       " \n",
       "        [[-1.        , -1.        , -1.        , -1.        ],\n",
       "         [-0.33333333, -0.33333333, -0.33333333, -0.33333333],\n",
       "         [ 0.33333333,  0.33333333,  0.33333333,  0.33333333],\n",
       "         [ 1.        ,  1.        ,  1.        ,  1.        ]]]),\n",
       " array([[[-1.        , -1.        , -1.        , -1.        ],\n",
       "         [-1.        , -1.        , -1.        , -1.        ],\n",
       "         [-1.        , -1.        , -1.        , -1.        ],\n",
       "         [-1.        , -1.        , -1.        , -1.        ]],\n",
       " \n",
       "        [[-0.33333333, -0.33333333, -0.33333333, -0.33333333],\n",
       "         [-0.33333333, -0.33333333, -0.33333333, -0.33333333],\n",
       "         [-0.33333333, -0.33333333, -0.33333333, -0.33333333],\n",
       "         [-0.33333333, -0.33333333, -0.33333333, -0.33333333]],\n",
       " \n",
       "        [[ 0.33333333,  0.33333333,  0.33333333,  0.33333333],\n",
       "         [ 0.33333333,  0.33333333,  0.33333333,  0.33333333],\n",
       "         [ 0.33333333,  0.33333333,  0.33333333,  0.33333333],\n",
       "         [ 0.33333333,  0.33333333,  0.33333333,  0.33333333]],\n",
       " \n",
       "        [[ 1.        ,  1.        ,  1.        ,  1.        ],\n",
       "         [ 1.        ,  1.        ,  1.        ,  1.        ],\n",
       "         [ 1.        ,  1.        ,  1.        ,  1.        ],\n",
       "         [ 1.        ,  1.        ,  1.        ,  1.        ]]]),\n",
       " array([[[-1.        , -0.33333333,  0.33333333,  1.        ],\n",
       "         [-1.        , -0.33333333,  0.33333333,  1.        ],\n",
       "         [-1.        , -0.33333333,  0.33333333,  1.        ],\n",
       "         [-1.        , -0.33333333,  0.33333333,  1.        ]],\n",
       " \n",
       "        [[-1.        , -0.33333333,  0.33333333,  1.        ],\n",
       "         [-1.        , -0.33333333,  0.33333333,  1.        ],\n",
       "         [-1.        , -0.33333333,  0.33333333,  1.        ],\n",
       "         [-1.        , -0.33333333,  0.33333333,  1.        ]],\n",
       " \n",
       "        [[-1.        , -0.33333333,  0.33333333,  1.        ],\n",
       "         [-1.        , -0.33333333,  0.33333333,  1.        ],\n",
       "         [-1.        , -0.33333333,  0.33333333,  1.        ],\n",
       "         [-1.        , -0.33333333,  0.33333333,  1.        ]],\n",
       " \n",
       "        [[-1.        , -0.33333333,  0.33333333,  1.        ],\n",
       "         [-1.        , -0.33333333,  0.33333333,  1.        ],\n",
       "         [-1.        , -0.33333333,  0.33333333,  1.        ],\n",
       "         [-1.        , -0.33333333,  0.33333333,  1.        ]]])]"
      ]
     },
     "execution_count": 13,
     "metadata": {},
     "output_type": "execute_result"
    }
   ],
   "source": [
    "min_val = -1; max_val = 1; density = 2; num_dim = 3\n",
    "coords = [np.linspace(min_val, max_val,\n",
    "        density*(max_val - min_val))\n",
    "        for _ in range(num_dim)]\n",
    "grid = np.meshgrid(*coords)\n",
    "grid"
   ]
  }
 ],
 "metadata": {
  "kernelspec": {
   "display_name": "Python 3",
   "language": "python",
   "name": "python3"
  },
  "language_info": {
   "codemirror_mode": {
    "name": "ipython",
    "version": 3
   },
   "file_extension": ".py",
   "mimetype": "text/x-python",
   "name": "python",
   "nbconvert_exporter": "python",
   "pygments_lexer": "ipython3",
   "version": "3.8.0"
  }
 },
 "nbformat": 4,
 "nbformat_minor": 2
}
