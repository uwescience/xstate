{
 "cells": [
  {
   "cell_type": "markdown",
   "metadata": {},
   "source": [
    "# CALCULATING CASE PROBABILITIES"
   ]
  },
  {
   "cell_type": "markdown",
   "metadata": {},
   "source": [
    "This notebook describes how to calculate the probability of a case.\n",
    "\n",
    "Instances are divided into two groups.\n",
    "\n",
    "* $K$ features\n",
    "* $M_1$ group 1 instances\n",
    "* $M_2$ group 2 instances\n",
    "* $V$ number of distinct values for a feature"
   ]
  },
  {
   "cell_type": "markdown",
   "metadata": {},
   "source": [
    "**Terms**\n",
    "* $B(M, m, p) = {M\\choose{m}} p^m (1-p)^{M-m}$"
   ]
  },
  {
   "cell_type": "markdown",
   "metadata": {},
   "source": [
    "Probabilities\n",
    "* $p(m_1, m_2, k)$: $m_1$ of $M_1$ instances have the same value for k features,\n",
    "$m_2$ of $M_2$ have different values from the first set for equally likely feature values:\n",
    "$B \\left( M_1, m_1, \\left( \\frac{1}{V} \\right) ^k \\right)\n",
    "B \\left( M_2, m_2, 1 - \\left( \\frac{1}{V} \\right) ^ k \\right)\n",
    "\\prod_{l=1}^k q_l$, where $q_l$ is the probability of including the $l$-th feature.\n",
    "The $q_l$ are obtained from the single feature classification accuracy.\n",
    "* $P(m_1, m_2; k)$: culumulative probability for $l_1 \\geq m_1$, $l_2 \\geq m_2$:\n",
    "$\\sum_{l_1=m_1}^{M_1} \\sum_{l_2=m_2}^{M_2} P(l_1, l_2; k)$\n"
   ]
  },
  {
   "cell_type": "markdown",
   "metadata": {},
   "source": [
    "**Validations**\n",
    "1. Densities sum to 1?\n",
    "1. Culmulatives converge to 1?\n",
    "1. Always non-negative?"
   ]
  }
 ],
 "metadata": {
  "kernelspec": {
   "display_name": "Python 3",
   "language": "python",
   "name": "python3"
  },
  "language_info": {
   "codemirror_mode": {
    "name": "ipython",
    "version": 3
   },
   "file_extension": ".py",
   "mimetype": "text/x-python",
   "name": "python",
   "nbconvert_exporter": "python",
   "pygments_lexer": "ipython3",
   "version": "3.6.6"
  }
 },
 "nbformat": 4,
 "nbformat_minor": 4
}
