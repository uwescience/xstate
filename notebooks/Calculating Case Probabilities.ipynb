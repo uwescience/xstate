{
 "cells": [
  {
   "cell_type": "markdown",
   "metadata": {},
   "source": [
    "# CALCULATING CASE PROBABILITIES"
   ]
  },
  {
   "cell_type": "markdown",
   "metadata": {},
   "source": [
    "This notebook describes how to calculate the probability of a case.\n",
    "\n",
    "Instances are divided into two groups.\n",
    "\n",
    "* $K$ features\n",
    "* $M_1$ group 1 instances\n",
    "* $M_2$ group 2 instances\n",
    "* $V$ number of distinct values for a feature"
   ]
  },
  {
   "cell_type": "markdown",
   "metadata": {},
   "source": [
    "**Terms**\n",
    "* $B(M, m, p) = {M\\choose{m}} p^m (1-p)^{M-m}$"
   ]
  },
  {
   "cell_type": "markdown",
   "metadata": {},
   "source": [
    "Probabilities\n",
    "* $p(m, k)$: $m$ of $M_1$ instances have the same value for k features,\n",
    "all of which differ from the other $M_2$ instances: \n",
    " $V^k B \\left( M_1, m, \\left( \\frac{1}{V} \\right) ^k \\right) \n",
    "\\left( 1 - \\left( \\frac{1}{V} \\right) ^ k \\right)^{M_2}$\n",
    "* $q(m, k)$: $m$ of $M_1$ instances have the same value for $k$ of $K$ features and none of the $M_2$ have this value for the same $k$ features: $B(K, k, p(m, k))$\n",
    "* $Q(m, k)$: At least $m$ instances have the same $k$ features with the same value:\n",
    "$\\sum_m^{M_1} B \\left( M_1, m, \\sum_k^{K} q(m, k) \\right)$"
   ]
  }
 ],
 "metadata": {
  "kernelspec": {
   "display_name": "Python 3",
   "language": "python",
   "name": "python3"
  },
  "language_info": {
   "codemirror_mode": {
    "name": "ipython",
    "version": 3
   },
   "file_extension": ".py",
   "mimetype": "text/x-python",
   "name": "python",
   "nbconvert_exporter": "python",
   "pygments_lexer": "ipython3",
   "version": "3.6.6"
  }
 },
 "nbformat": 4,
 "nbformat_minor": 4
}
