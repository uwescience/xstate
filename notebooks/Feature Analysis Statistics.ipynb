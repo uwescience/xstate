{
 "cells": [
  {
   "cell_type": "markdown",
   "metadata": {},
   "source": [
    "# Feature Analysis Statistics\n",
    "Provides various statistics about features in the context of a binary classifier. The study is limited to transcription factors (reglators)."
   ]
  },
  {
   "cell_type": "code",
   "execution_count": 1,
   "metadata": {},
   "outputs": [],
   "source": [
    "import init\n",
    "import common.constants as cn\n",
    "import common_python.constants as ccn\n",
    "from common.trinary_data import TrinaryData\n",
    "from common.data_provider import DataProvider\n",
    "import classifier.main_multi_classifier_feature_optimizer as main\n",
    "from common.data_provider import DataProvider\n",
    "from common_python.plots import util_plots\n",
    "from plots import util_plots as xutil_plots\n",
    "from common_python.classifier import feature_analyzer\n",
    "from common_python.util import util\n",
    "\n",
    "import datetime\n",
    "import os\n",
    "import matplotlib.pyplot as plt\n",
    "import numpy as np\n",
    "import pandas as pd\n",
    "import seaborn\n",
    "from sklearn import svm\n",
    "\n",
    "%matplotlib inline"
   ]
  },
  {
   "cell_type": "code",
   "execution_count": 2,
   "metadata": {},
   "outputs": [],
   "source": [
    "# These are the \"long\" data that have individual replications, not averages. And, only using TFs.\n",
    "TRINARY = TrinaryData(is_averaged=False, is_dropT1=False, is_regulator=True)  # Trinary data\n",
    "DF_X = TRINARY.df_X\n",
    "SER_Y = TRINARY.ser_y\n",
    "STATES = SER_Y.unique()\n",
    "REGULATORS = DF_X.columns.tolist()\n",
    "DATA_PATH = cn.PROJECT_DIR\n",
    "for directory in [\"data\", \"feature_analysis\"]:\n",
    "    DATA_PATH = os.path.join(DATA_PATH, directory)\n",
    "BASE_PATH = os.path.join(DATA_PATH, \"main_feature_analyzer_%s_%d.csv\") \n",
    "CLF = svm.LinearSVC()"
   ]
  },
  {
   "cell_type": "code",
   "execution_count": 3,
   "metadata": {},
   "outputs": [],
   "source": [
    "# Construct an FeatureAnalyzer for each sate\n",
    "ANALYZERS = []\n",
    "for state in STATES:\n",
    "    dct = {m: BASE_PATH  % (m, state) for m in feature_analyzer.METRICS}\n",
    "    analyzer = feature_analyzer.FeatureAnalyzer(\n",
    "        CLF, DF_X, SER_Y,\n",
    "        data_path_dct=dct)\n",
    "    ANALYZERS.append(analyzer)"
   ]
  },
  {
   "cell_type": "code",
   "execution_count": 4,
   "metadata": {},
   "outputs": [],
   "source": [
    "# Prune dataframe\n"
   ]
  },
  {
   "cell_type": "code",
   "execution_count": 14,
   "metadata": {},
   "outputs": [],
   "source": [
    "# Non-zero regulators by state\n",
    "def getNZRegulators():\n",
    "    dct = {}\n",
    "    for state in STATES:\n",
    "        analyzer = ANALYZERS[state]\n",
    "        df = util.pruneZeros(analyzer.getMetric(feature_analyzer.CPC))\n",
    "        dct[state] = df.columns.tolist()\n",
    "    return dct"
   ]
  },
  {
   "cell_type": "code",
   "execution_count": 15,
   "metadata": {},
   "outputs": [],
   "source": [
    "NZ_REGULATOR_DCT = getNZRegulators()"
   ]
  },
  {
   "cell_type": "code",
   "execution_count": null,
   "metadata": {},
   "outputs": [],
   "source": [
    "NZ_REGULATOR_DCT"
   ]
  },
  {
   "cell_type": "code",
   "execution_count": null,
   "metadata": {},
   "outputs": [],
   "source": [
    "# Number of non-zero regulators by state\n",
    "num_regulators = [len(NZ_REGULATOR_DCT[s]) for s in STATES]\n",
    "plt.bar(STATES, num_regulators )\n",
    "_ = plt.xlabel(\"state\")\n",
    "_ = plt.ylabel(\"# non-zero regulators\")"
   ]
  },
  {
   "cell_type": "code",
   "execution_count": null,
   "metadata": {},
   "outputs": [],
   "source": [
    "NZ_REGULATOR_DCT[0]"
   ]
  },
  {
   "cell_type": "markdown",
   "metadata": {},
   "source": [
    "## Single Feature Accuracy (SFA)"
   ]
  },
  {
   "cell_type": "code",
   "execution_count": null,
   "metadata": {},
   "outputs": [],
   "source": [
    "def plotSFA(state, num_gene=10, ncol=1, nrow=1):\n",
    "    fig, ax = plt.subplots(ncol, nrow)\n",
    "    fig.set_figheight(6)\n",
    "    fig.set_figwidth(18)\n",
    "    row = int(state/ncol)\n",
    "    col = state - row*ncol\n",
    "    this_ax = ax\n",
    "    ser = getSFA(state)\n",
    "    xv = ser.index.tolist()[:num_gene]\n",
    "    yv = ser.values[:num_gene]\n",
    "    this_ax.bar(xv, yv)\n",
    "    this_ax.set_title(\"%d\" % state)\n",
    "    this_ax.set_xticklabels(xv, fontsize=14)\n",
    "    this_ax.set_ylabel(\"Single Feature Accuracy\")\n",
    "    this_ax.set_ylim([0, 1])\n",
    "    this_ax.set_xticklabels(xv, rotation='vertical')\n",
    "\n",
    "plotSFA(2, num_gene=70)"
   ]
  },
  {
   "cell_type": "code",
   "execution_count": null,
   "metadata": {},
   "outputs": [],
   "source": [
    "def plotAllSFA(num_gene=10, nrow=1, ncol=6):\n",
    "    fig, ax = plt.subplots(nrow, ncol)\n",
    "    fig.set_figheight(6)\n",
    "    fig.set_figwidth(18)\n",
    "    for state in STATES:\n",
    "        row = int(state/ncol)\n",
    "        col = state - row*ncol\n",
    "        if nrow == 1:\n",
    "            this_ax = ax[col]\n",
    "        else:\n",
    "            this_ax = ax[row, col]\n",
    "        ser = getSFA(state)\n",
    "        xv = ser.index.tolist()[:num_gene]\n",
    "        yv = ser.values[:num_gene]\n",
    "        this_ax.bar(xv, yv)\n",
    "        this_ax.set_title(\"%d\" % state)\n",
    "        this_ax.set_xticklabels(xv, fontsize=14)\n",
    "        if state == 0:\n",
    "            this_ax.set_ylabel(\"Single Feature Accuracy\")\n",
    "            this_ax.set_ylim([0, 1])\n",
    "        else:\n",
    "            this_ax.set_yticklabels([])\n",
    "        this_ax.set_xticklabels(xv, rotation='vertical')\n",
    "        this_ax.set_ylim([0.48, 1])\n",
    "        this_ax.yaxis.set_ticks_position('both')\n",
    "\n",
    "plotAllSFA(num_gene=10)"
   ]
  },
  {
   "cell_type": "markdown",
   "metadata": {},
   "source": [
    "# Classifier Prediction Correlation (CPC)\n",
    "Delete rows and columns with 0 values.\n",
    "Heat map for the remainder."
   ]
  },
  {
   "cell_type": "code",
   "execution_count": null,
   "metadata": {},
   "outputs": [],
   "source": [
    "# For each state, plot the accuracy of a single regulator classifier\n",
    "def plotCPC(state):\n",
    "    print(\"\\n*** State %d\" % state)\n",
    "    df = pruneDF(getCPC(state))\n",
    "    if len(df) > 1:\n",
    "        cg = seaborn.clustermap(df, col_cluster=True,\n",
    "              row_cluster=True,\n",
    "              vmin=-1, vmax=1,\n",
    "              cbar_kws={\"ticks\":[-1, 0, 1]}, cmap=\"seismic\")\n",
    "        plt.title(\"State %d\" % state)\n",
    "    else:\n",
    "        print(df)"
   ]
  },
  {
   "cell_type": "code",
   "execution_count": null,
   "metadata": {
    "scrolled": false
   },
   "outputs": [],
   "source": [
    "for state in STATES:\n",
    "    _ = plt.figure()\n",
    "    plotCPC(state)"
   ]
  },
  {
   "cell_type": "markdown",
   "metadata": {},
   "source": [
    "In state 2, Rv0602c has he largest SFA. However, this gene does not appear in the CPC matrix."
   ]
  },
  {
   "cell_type": "code",
   "execution_count": null,
   "metadata": {},
   "outputs": [],
   "source": [
    "df = getCPC(2)\n",
    "df[\"Rv0602c\"]"
   ]
  },
  {
   "cell_type": "code",
   "execution_count": null,
   "metadata": {},
   "outputs": [],
   "source": [
    "dff = pruneDF(df)\n",
    "dff"
   ]
  }
 ],
 "metadata": {
  "kernelspec": {
   "display_name": "Python 3",
   "language": "python",
   "name": "python3"
  },
  "language_info": {
   "codemirror_mode": {
    "name": "ipython",
    "version": 3
   },
   "file_extension": ".py",
   "mimetype": "text/x-python",
   "name": "python",
   "nbconvert_exporter": "python",
   "pygments_lexer": "ipython3",
   "version": "3.8.1"
  }
 },
 "nbformat": 4,
 "nbformat_minor": 4
}
