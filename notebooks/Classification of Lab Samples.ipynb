{
 "cells": [
  {
   "cell_type": "markdown",
   "metadata": {},
   "source": [
    "# CLASSIFICATION OF LAB SAMPLES"
   ]
  },
  {
   "cell_type": "markdown",
   "metadata": {},
   "source": [
    "This notebook analyzes the accuracy of the SVM classifier on the training data and on lab samples.\n",
    "The training data are:\n",
    "* all genes (not just regulators);\n",
    "* averaged;\n",
    "* do not include T1 (since only one observtion)"
   ]
  },
  {
   "cell_type": "markdown",
   "metadata": {},
   "source": [
    "# TO DO\n",
    "1. Structure codes for the analyses conducted\n",
    "   1. Selection of genes\n",
    "   1. How counts are processed\n",
    "      1. Reference - T0/biostat, T0/data source, pooled/data source\n",
    "1. Evaluation of classifiers\n",
    "   1. Performance on biostat data\n",
    "   1. Performance on other samples\n",
    "      1. Time consistency\n",
    "      1. Replication consistency\n",
    "      1. Consistency with expectation\n",
    "1. Analyses for Eliza:\n",
    "   1. Accuracy with all 11 and the accuracy as you add in more genes (same as what you just sent but with all 11).\n",
    "   1. Could you test with just the 10 mycobactin genes (Rv2377c-Rv2386c)?\n",
    "   1. Could you test with just bacterioferritin (Rv3841)? Just Rv2384?\n",
    "   1. Is there one gene that gives good accuracy\n",
    "1. compare accuracy with ranom selection of genes\n",
    "1. Classifier coefficient profile.\n",
    "   1. Eliza genes - 1-10\n",
    "   1. Auto selected genes: 5, 10, 20\n",
    "1. Consider recomputing the training feature vector using pooled"
   ]
  },
  {
   "cell_type": "markdown",
   "metadata": {},
   "source": [
    "# Preliminaries"
   ]
  },
  {
   "cell_type": "markdown",
   "metadata": {},
   "source": [
    "## Imports"
   ]
  },
  {
   "cell_type": "code",
   "execution_count": 1,
   "metadata": {
    "scrolled": true
   },
   "outputs": [],
   "source": [
    "import init\n",
    "from common import constants as cn\n",
    "from common.trinary_data import TrinaryData, REF_TYPE_BIOREACTOR, REF_TYPE_SELF, REF_TYPE_POOLED\n",
    "from common.data_provider import DataProvider\n",
    "from common import trinary_data\n",
    "from common_python.plots import util_plots\n",
    "from common_python.classifier import classifier_ensemble\n",
    "from common_python.classifier import classifier_collection\n",
    "from common_python.util.persister import Persister\n",
    "from common import transform_data\n",
    "\n",
    "import collections\n",
    "import copy\n",
    "import os\n",
    "import matplotlib.pyplot as plt\n",
    "import numpy as np\n",
    "import pandas as pd\n",
    "import sklearn\n",
    "from sklearn.decomposition import PCA\n",
    "from sklearn import svm\n",
    "from sklearn.model_selection import cross_val_score\n",
    "import seaborn as sns\n",
    "\n",
    "%matplotlib inline"
   ]
  },
  {
   "cell_type": "markdown",
   "metadata": {},
   "source": [
    "## Constants"
   ]
  },
  {
   "cell_type": "code",
   "execution_count": 2,
   "metadata": {},
   "outputs": [
    {
     "data": {
      "text/plain": [
       "'/home/ubuntu/xstate/notebooks'"
      ]
     },
     "execution_count": 2,
     "metadata": {},
     "output_type": "execute_result"
    }
   ],
   "source": [
    "os.path.abspath(\".\")"
   ]
  },
  {
   "cell_type": "code",
   "execution_count": 3,
   "metadata": {},
   "outputs": [],
   "source": [
    "# Files\n",
    "DIR = os.path.abspath(\".\")\n",
    "PERSISTER_PATH = os.path.join(DIR, \"classification_of_lab_samples.pcl\")\n",
    "PERSISTER = Persister(PERSISTER_PATH)"
   ]
  },
  {
   "cell_type": "code",
   "execution_count": 4,
   "metadata": {},
   "outputs": [],
   "source": [
    "# Data preparation constants\n",
    "T0 = \"T0\"\n",
    "POOLED = \"pooled\""
   ]
  },
  {
   "cell_type": "code",
   "execution_count": 5,
   "metadata": {},
   "outputs": [],
   "source": [
    "# Test samples. This is a dictionary (key is the control) of dictionaries (key is the data sample)\n",
    "def updateSampleDct(sample_dct):\n",
    "    for name, sample_data in sample_dct.items():\n",
    "        data_dct = {n: sample_data.__getattribute__(n) for n in trinary_data.SAMPLES}\n",
    "        sample_dct[name] = data_dct"
   ]
  },
  {
   "cell_type": "code",
   "execution_count": 6,
   "metadata": {},
   "outputs": [],
   "source": [
    "# Remove the Persister if data has changed\n",
    "if False:\n",
    "    PERSISTER.remove()"
   ]
  },
  {
   "cell_type": "code",
   "execution_count": 7,
   "metadata": {},
   "outputs": [],
   "source": [
    "PERSISTED_VARIABLES = [\"PROVIDER\", \"DATA_DCT\", \"SAMPLE_DCT\", \"CLASSIFIER_BASE\", \"CLASSIFIER_DCT\"]\n",
    "persisted_str = \", \".join(PERSISTED_VARIABLES)\n",
    "if PERSISTER.isExist():\n",
    "    stmt = \"%s = PERSISTER.get()\" % persisted_str\n",
    "    exec(stmt)\n",
    "else:\n",
    "    PROVIDER = DataProvider()\n",
    "    PROVIDER.do()\n",
    "    DATA_DCT = {\n",
    "        T0: TrinaryData(is_regulator=False, is_dropT1=True, is_averaged=True),\n",
    "        POOLED: TrinaryData(is_regulator=False, is_dropT1=True,\n",
    "                            is_averaged=True, calcRef=PROVIDER.calcRefPooled)\n",
    "    }\n",
    "    # Sample data\n",
    "    SAMPLE_DCT = {r: trinary_data.getSampleData(ref_type=r, is_regulator=False) for r in [REF_TYPE_BIOREACTOR, REF_TYPE_SELF, REF_TYPE_POOLED]}\n",
    "    # Classifiers\n",
    "    CLASSIFIER_BASE = classifier_ensemble.ClassifierEnsemble(\n",
    "          classifier_ensemble.ClassifierDescriptorSVM(), filter_high_rank=20, size=100)\n",
    "    CLASSIFIER_DCT = {k: copy.deepcopy(CLASSIFIER_BASE) for k in DATA_DCT.keys()}\n",
    "    _ = [c.fit(DF_X_DCT[k], SER_Y_DCT[k]) for k,c in CLASSIFIER_DCT.items()]\n",
    "    updateSampleDct(SAMPLE_DCT)\n",
    "    #\n",
    "    stmt = \"PERSISTER.set((%s))\" % persisted_str\n",
    "    exec(stmt)"
   ]
  },
  {
   "cell_type": "code",
   "execution_count": 25,
   "metadata": {},
   "outputs": [
    {
     "data": {
      "text/html": [
       "<div>\n",
       "<style scoped>\n",
       "    .dataframe tbody tr th:only-of-type {\n",
       "        vertical-align: middle;\n",
       "    }\n",
       "\n",
       "    .dataframe tbody tr th {\n",
       "        vertical-align: top;\n",
       "    }\n",
       "\n",
       "    .dataframe thead th {\n",
       "        text-align: right;\n",
       "    }\n",
       "</style>\n",
       "<table border=\"1\" class=\"dataframe\">\n",
       "  <thead>\n",
       "    <tr style=\"text-align: right;\">\n",
       "      <th></th>\n",
       "      <th>name</th>\n",
       "      <th>color</th>\n",
       "    </tr>\n",
       "    <tr>\n",
       "      <th>timepoint</th>\n",
       "      <th></th>\n",
       "      <th></th>\n",
       "    </tr>\n",
       "  </thead>\n",
       "  <tbody>\n",
       "    <tr>\n",
       "      <th>T0</th>\n",
       "      <td>Normoxia</td>\n",
       "      <td>b</td>\n",
       "    </tr>\n",
       "    <tr>\n",
       "      <th>T1</th>\n",
       "      <td>Normoxia</td>\n",
       "      <td>b</td>\n",
       "    </tr>\n",
       "    <tr>\n",
       "      <th>T2</th>\n",
       "      <td>Transition</td>\n",
       "      <td>c</td>\n",
       "    </tr>\n",
       "    <tr>\n",
       "      <th>T3</th>\n",
       "      <td>Transition</td>\n",
       "      <td>c</td>\n",
       "    </tr>\n",
       "    <tr>\n",
       "      <th>T4</th>\n",
       "      <td>Transition</td>\n",
       "      <td>c</td>\n",
       "    </tr>\n",
       "    <tr>\n",
       "      <th>T5</th>\n",
       "      <td>Transition</td>\n",
       "      <td>c</td>\n",
       "    </tr>\n",
       "    <tr>\n",
       "      <th>T6</th>\n",
       "      <td>Transition</td>\n",
       "      <td>c</td>\n",
       "    </tr>\n",
       "    <tr>\n",
       "      <th>T7</th>\n",
       "      <td>Transition</td>\n",
       "      <td>c</td>\n",
       "    </tr>\n",
       "    <tr>\n",
       "      <th>T8</th>\n",
       "      <td>StageII</td>\n",
       "      <td>y</td>\n",
       "    </tr>\n",
       "    <tr>\n",
       "      <th>T9</th>\n",
       "      <td>StageII</td>\n",
       "      <td>y</td>\n",
       "    </tr>\n",
       "    <tr>\n",
       "      <th>T10</th>\n",
       "      <td>Stage1a</td>\n",
       "      <td>g</td>\n",
       "    </tr>\n",
       "    <tr>\n",
       "      <th>T11</th>\n",
       "      <td>StageII</td>\n",
       "      <td>y</td>\n",
       "    </tr>\n",
       "    <tr>\n",
       "      <th>T12</th>\n",
       "      <td>Stage1a</td>\n",
       "      <td>g</td>\n",
       "    </tr>\n",
       "    <tr>\n",
       "      <th>T13</th>\n",
       "      <td>Stage1a</td>\n",
       "      <td>g</td>\n",
       "    </tr>\n",
       "    <tr>\n",
       "      <th>T14</th>\n",
       "      <td>Stage1a</td>\n",
       "      <td>g</td>\n",
       "    </tr>\n",
       "    <tr>\n",
       "      <th>T15</th>\n",
       "      <td>Stage1a</td>\n",
       "      <td>g</td>\n",
       "    </tr>\n",
       "    <tr>\n",
       "      <th>T16</th>\n",
       "      <td>Stage1b</td>\n",
       "      <td>k</td>\n",
       "    </tr>\n",
       "    <tr>\n",
       "      <th>T17</th>\n",
       "      <td>Stage1b</td>\n",
       "      <td>k</td>\n",
       "    </tr>\n",
       "    <tr>\n",
       "      <th>T18</th>\n",
       "      <td>Stage1b</td>\n",
       "      <td>k</td>\n",
       "    </tr>\n",
       "    <tr>\n",
       "      <th>T19</th>\n",
       "      <td>StageII</td>\n",
       "      <td>y</td>\n",
       "    </tr>\n",
       "    <tr>\n",
       "      <th>T20</th>\n",
       "      <td>StageII</td>\n",
       "      <td>y</td>\n",
       "    </tr>\n",
       "    <tr>\n",
       "      <th>T21</th>\n",
       "      <td>StageII</td>\n",
       "      <td>y</td>\n",
       "    </tr>\n",
       "    <tr>\n",
       "      <th>T22</th>\n",
       "      <td>Resuscitation</td>\n",
       "      <td>r</td>\n",
       "    </tr>\n",
       "    <tr>\n",
       "      <th>T23</th>\n",
       "      <td>Resuscitation</td>\n",
       "      <td>r</td>\n",
       "    </tr>\n",
       "    <tr>\n",
       "      <th>T24</th>\n",
       "      <td>Resuscitation</td>\n",
       "      <td>r</td>\n",
       "    </tr>\n",
       "    <tr>\n",
       "      <th>T25</th>\n",
       "      <td>Resuscitation</td>\n",
       "      <td>r</td>\n",
       "    </tr>\n",
       "  </tbody>\n",
       "</table>\n",
       "</div>"
      ],
      "text/plain": [
       "                    name color\n",
       "timepoint                     \n",
       "T0              Normoxia     b\n",
       "T1              Normoxia     b\n",
       "T2            Transition     c\n",
       "T3            Transition     c\n",
       "T4            Transition     c\n",
       "T5            Transition     c\n",
       "T6            Transition     c\n",
       "T7            Transition     c\n",
       "T8               StageII     y\n",
       "T9               StageII     y\n",
       "T10              Stage1a     g\n",
       "T11              StageII     y\n",
       "T12              Stage1a     g\n",
       "T13              Stage1a     g\n",
       "T14              Stage1a     g\n",
       "T15              Stage1a     g\n",
       "T16              Stage1b     k\n",
       "T17              Stage1b     k\n",
       "T18              Stage1b     k\n",
       "T19              StageII     y\n",
       "T20              StageII     y\n",
       "T21              StageII     y\n",
       "T22        Resuscitation     r\n",
       "T23        Resuscitation     r\n",
       "T24        Resuscitation     r\n",
       "T25        Resuscitation     r"
      ]
     },
     "execution_count": 25,
     "metadata": {},
     "output_type": "execute_result"
    }
   ],
   "source": [
    "PROVIDER.df_stage_matrix"
   ]
  },
  {
   "cell_type": "code",
   "execution_count": 21,
   "metadata": {},
   "outputs": [
    {
     "ename": "KeyError",
     "evalue": "\"None of [Int64Index([ 0,  1,  2,  3,  4,  5,  6,  7,  8,  9, 10, 11, 12, 13, 14, 15, 16,\\n            17, 18, 19, 20, 21, 22, 23, 24],\\n           dtype='int64', name='timepoint')] are in the [index]\"",
     "output_type": "error",
     "traceback": [
      "\u001b[0;31m------------------------------------------------------------------------\u001b[0m",
      "\u001b[0;31mKeyError\u001b[0m                               Traceback (most recent call last)",
      "\u001b[0;32m<ipython-input-21-34024039340c>\u001b[0m in \u001b[0;36m<module>\u001b[0;34m\u001b[0m\n\u001b[0;32m----> 1\u001b[0;31m \u001b[0mPROVIDER\u001b[0m\u001b[0;34m.\u001b[0m\u001b[0mgetStages\u001b[0m\u001b[0;34m(\u001b[0m\u001b[0mlist\u001b[0m\u001b[0;34m(\u001b[0m\u001b[0mrange\u001b[0m\u001b[0;34m(\u001b[0m\u001b[0;36m25\u001b[0m\u001b[0;34m)\u001b[0m\u001b[0;34m)\u001b[0m\u001b[0;34m)\u001b[0m\u001b[0;34m\u001b[0m\u001b[0m\n\u001b[0m",
      "\u001b[0;32m~/xstate/xstate/python/common/data_provider.py\u001b[0m in \u001b[0;36mgetStages\u001b[0;34m(self, timepoints)\u001b[0m\n\u001b[1;32m    580\u001b[0m       \u001b[0mresult\u001b[0m \u001b[0;34m=\u001b[0m \u001b[0mself\u001b[0m\u001b[0;34m.\u001b[0m\u001b[0mdf_stage_matrix\u001b[0m\u001b[0;34m[\u001b[0m\u001b[0;34m\"name\"\u001b[0m\u001b[0;34m]\u001b[0m\u001b[0;34m.\u001b[0m\u001b[0mloc\u001b[0m\u001b[0;34m[\u001b[0m\u001b[0;34m[\u001b[0m\u001b[0mtimepoints\u001b[0m\u001b[0;34m]\u001b[0m\u001b[0;34m]\u001b[0m\u001b[0;34m.\u001b[0m\u001b[0mvalues\u001b[0m\u001b[0;34m[\u001b[0m\u001b[0;36m0\u001b[0m\u001b[0;34m]\u001b[0m\u001b[0;34m\u001b[0m\u001b[0m\n\u001b[1;32m    581\u001b[0m     \u001b[0;32melse\u001b[0m\u001b[0;34m:\u001b[0m\u001b[0;34m\u001b[0m\u001b[0m\n\u001b[0;32m--> 582\u001b[0;31m       \u001b[0mresult\u001b[0m \u001b[0;34m=\u001b[0m \u001b[0mself\u001b[0m\u001b[0;34m.\u001b[0m\u001b[0mdf_stage_matrix\u001b[0m\u001b[0;34m[\u001b[0m\u001b[0;34m\"name\"\u001b[0m\u001b[0;34m]\u001b[0m\u001b[0;34m.\u001b[0m\u001b[0mloc\u001b[0m\u001b[0;34m[\u001b[0m\u001b[0mtimepoints\u001b[0m\u001b[0;34m]\u001b[0m\u001b[0;34m.\u001b[0m\u001b[0mvalues\u001b[0m\u001b[0;34m\u001b[0m\u001b[0m\n\u001b[0m\u001b[1;32m    583\u001b[0m     \u001b[0;32mreturn\u001b[0m \u001b[0mresult\u001b[0m\u001b[0;34m\u001b[0m\u001b[0m\n\u001b[1;32m    584\u001b[0m \u001b[0;34m\u001b[0m\u001b[0m\n",
      "\u001b[0;32m~/miniconda3/lib/python3.6/site-packages/pandas/core/indexing.py\u001b[0m in \u001b[0;36m__getitem__\u001b[0;34m(self, key)\u001b[0m\n\u001b[1;32m    877\u001b[0m \u001b[0;34m\u001b[0m\u001b[0m\n\u001b[1;32m    878\u001b[0m             \u001b[0mmaybe_callable\u001b[0m \u001b[0;34m=\u001b[0m \u001b[0mcom\u001b[0m\u001b[0;34m.\u001b[0m\u001b[0mapply_if_callable\u001b[0m\u001b[0;34m(\u001b[0m\u001b[0mkey\u001b[0m\u001b[0;34m,\u001b[0m \u001b[0mself\u001b[0m\u001b[0;34m.\u001b[0m\u001b[0mobj\u001b[0m\u001b[0;34m)\u001b[0m\u001b[0;34m\u001b[0m\u001b[0m\n\u001b[0;32m--> 879\u001b[0;31m             \u001b[0;32mreturn\u001b[0m \u001b[0mself\u001b[0m\u001b[0;34m.\u001b[0m\u001b[0m_getitem_axis\u001b[0m\u001b[0;34m(\u001b[0m\u001b[0mmaybe_callable\u001b[0m\u001b[0;34m,\u001b[0m \u001b[0maxis\u001b[0m\u001b[0;34m=\u001b[0m\u001b[0maxis\u001b[0m\u001b[0;34m)\u001b[0m\u001b[0;34m\u001b[0m\u001b[0m\n\u001b[0m\u001b[1;32m    880\u001b[0m \u001b[0;34m\u001b[0m\u001b[0m\n\u001b[1;32m    881\u001b[0m     \u001b[0;32mdef\u001b[0m \u001b[0m_is_scalar_access\u001b[0m\u001b[0;34m(\u001b[0m\u001b[0mself\u001b[0m\u001b[0;34m,\u001b[0m \u001b[0mkey\u001b[0m\u001b[0;34m:\u001b[0m \u001b[0mTuple\u001b[0m\u001b[0;34m)\u001b[0m\u001b[0;34m:\u001b[0m\u001b[0;34m\u001b[0m\u001b[0m\n",
      "\u001b[0;32m~/miniconda3/lib/python3.6/site-packages/pandas/core/indexing.py\u001b[0m in \u001b[0;36m_getitem_axis\u001b[0;34m(self, key, axis)\u001b[0m\n\u001b[1;32m   1097\u001b[0m                     \u001b[0;32mraise\u001b[0m \u001b[0mValueError\u001b[0m\u001b[0;34m(\u001b[0m\u001b[0;34m\"Cannot index with multidimensional key\"\u001b[0m\u001b[0;34m)\u001b[0m\u001b[0;34m\u001b[0m\u001b[0m\n\u001b[1;32m   1098\u001b[0m \u001b[0;34m\u001b[0m\u001b[0m\n\u001b[0;32m-> 1099\u001b[0;31m                 \u001b[0;32mreturn\u001b[0m \u001b[0mself\u001b[0m\u001b[0;34m.\u001b[0m\u001b[0m_getitem_iterable\u001b[0m\u001b[0;34m(\u001b[0m\u001b[0mkey\u001b[0m\u001b[0;34m,\u001b[0m \u001b[0maxis\u001b[0m\u001b[0;34m=\u001b[0m\u001b[0maxis\u001b[0m\u001b[0;34m)\u001b[0m\u001b[0;34m\u001b[0m\u001b[0m\n\u001b[0m\u001b[1;32m   1100\u001b[0m \u001b[0;34m\u001b[0m\u001b[0m\n\u001b[1;32m   1101\u001b[0m             \u001b[0;31m# nested tuple slicing\u001b[0m\u001b[0;34m\u001b[0m\u001b[0;34m\u001b[0m\u001b[0m\n",
      "\u001b[0;32m~/miniconda3/lib/python3.6/site-packages/pandas/core/indexing.py\u001b[0m in \u001b[0;36m_getitem_iterable\u001b[0;34m(self, key, axis)\u001b[0m\n\u001b[1;32m   1035\u001b[0m \u001b[0;34m\u001b[0m\u001b[0m\n\u001b[1;32m   1036\u001b[0m         \u001b[0;31m# A collection of keys\u001b[0m\u001b[0;34m\u001b[0m\u001b[0;34m\u001b[0m\u001b[0m\n\u001b[0;32m-> 1037\u001b[0;31m         \u001b[0mkeyarr\u001b[0m\u001b[0;34m,\u001b[0m \u001b[0mindexer\u001b[0m \u001b[0;34m=\u001b[0m \u001b[0mself\u001b[0m\u001b[0;34m.\u001b[0m\u001b[0m_get_listlike_indexer\u001b[0m\u001b[0;34m(\u001b[0m\u001b[0mkey\u001b[0m\u001b[0;34m,\u001b[0m \u001b[0maxis\u001b[0m\u001b[0;34m,\u001b[0m \u001b[0mraise_missing\u001b[0m\u001b[0;34m=\u001b[0m\u001b[0;32mFalse\u001b[0m\u001b[0;34m)\u001b[0m\u001b[0;34m\u001b[0m\u001b[0m\n\u001b[0m\u001b[1;32m   1038\u001b[0m         return self.obj._reindex_with_indexers(\n\u001b[1;32m   1039\u001b[0m             \u001b[0;34m{\u001b[0m\u001b[0maxis\u001b[0m\u001b[0;34m:\u001b[0m \u001b[0;34m[\u001b[0m\u001b[0mkeyarr\u001b[0m\u001b[0;34m,\u001b[0m \u001b[0mindexer\u001b[0m\u001b[0;34m]\u001b[0m\u001b[0;34m}\u001b[0m\u001b[0;34m,\u001b[0m \u001b[0mcopy\u001b[0m\u001b[0;34m=\u001b[0m\u001b[0;32mTrue\u001b[0m\u001b[0;34m,\u001b[0m \u001b[0mallow_dups\u001b[0m\u001b[0;34m=\u001b[0m\u001b[0;32mTrue\u001b[0m\u001b[0;34m\u001b[0m\u001b[0m\n",
      "\u001b[0;32m~/miniconda3/lib/python3.6/site-packages/pandas/core/indexing.py\u001b[0m in \u001b[0;36m_get_listlike_indexer\u001b[0;34m(self, key, axis, raise_missing)\u001b[0m\n\u001b[1;32m   1252\u001b[0m             \u001b[0mkeyarr\u001b[0m\u001b[0;34m,\u001b[0m \u001b[0mindexer\u001b[0m\u001b[0;34m,\u001b[0m \u001b[0mnew_indexer\u001b[0m \u001b[0;34m=\u001b[0m \u001b[0max\u001b[0m\u001b[0;34m.\u001b[0m\u001b[0m_reindex_non_unique\u001b[0m\u001b[0;34m(\u001b[0m\u001b[0mkeyarr\u001b[0m\u001b[0;34m)\u001b[0m\u001b[0;34m\u001b[0m\u001b[0m\n\u001b[1;32m   1253\u001b[0m \u001b[0;34m\u001b[0m\u001b[0m\n\u001b[0;32m-> 1254\u001b[0;31m         \u001b[0mself\u001b[0m\u001b[0;34m.\u001b[0m\u001b[0m_validate_read_indexer\u001b[0m\u001b[0;34m(\u001b[0m\u001b[0mkeyarr\u001b[0m\u001b[0;34m,\u001b[0m \u001b[0mindexer\u001b[0m\u001b[0;34m,\u001b[0m \u001b[0maxis\u001b[0m\u001b[0;34m,\u001b[0m \u001b[0mraise_missing\u001b[0m\u001b[0;34m=\u001b[0m\u001b[0mraise_missing\u001b[0m\u001b[0;34m)\u001b[0m\u001b[0;34m\u001b[0m\u001b[0m\n\u001b[0m\u001b[1;32m   1255\u001b[0m         \u001b[0;32mreturn\u001b[0m \u001b[0mkeyarr\u001b[0m\u001b[0;34m,\u001b[0m \u001b[0mindexer\u001b[0m\u001b[0;34m\u001b[0m\u001b[0m\n\u001b[1;32m   1256\u001b[0m \u001b[0;34m\u001b[0m\u001b[0m\n",
      "\u001b[0;32m~/miniconda3/lib/python3.6/site-packages/pandas/core/indexing.py\u001b[0m in \u001b[0;36m_validate_read_indexer\u001b[0;34m(self, key, indexer, axis, raise_missing)\u001b[0m\n\u001b[1;32m   1296\u001b[0m             \u001b[0;32mif\u001b[0m \u001b[0mmissing\u001b[0m \u001b[0;34m==\u001b[0m \u001b[0mlen\u001b[0m\u001b[0;34m(\u001b[0m\u001b[0mindexer\u001b[0m\u001b[0;34m)\u001b[0m\u001b[0;34m:\u001b[0m\u001b[0;34m\u001b[0m\u001b[0m\n\u001b[1;32m   1297\u001b[0m                 \u001b[0maxis_name\u001b[0m \u001b[0;34m=\u001b[0m \u001b[0mself\u001b[0m\u001b[0;34m.\u001b[0m\u001b[0mobj\u001b[0m\u001b[0;34m.\u001b[0m\u001b[0m_get_axis_name\u001b[0m\u001b[0;34m(\u001b[0m\u001b[0maxis\u001b[0m\u001b[0;34m)\u001b[0m\u001b[0;34m\u001b[0m\u001b[0m\n\u001b[0;32m-> 1298\u001b[0;31m                 \u001b[0;32mraise\u001b[0m \u001b[0mKeyError\u001b[0m\u001b[0;34m(\u001b[0m\u001b[0;34mf\"None of [{key}] are in the [{axis_name}]\"\u001b[0m\u001b[0;34m)\u001b[0m\u001b[0;34m\u001b[0m\u001b[0m\n\u001b[0m\u001b[1;32m   1299\u001b[0m \u001b[0;34m\u001b[0m\u001b[0m\n\u001b[1;32m   1300\u001b[0m             \u001b[0;31m# We (temporarily) allow for some missing keys with .loc, except in\u001b[0m\u001b[0;34m\u001b[0m\u001b[0;34m\u001b[0m\u001b[0m\n",
      "\u001b[0;31mKeyError\u001b[0m: \"None of [Int64Index([ 0,  1,  2,  3,  4,  5,  6,  7,  8,  9, 10, 11, 12, 13, 14, 15, 16,\\n            17, 18, 19, 20, 21, 22, 23, 24],\\n           dtype='int64', name='timepoint')] are in the [index]\""
     ]
    }
   ],
   "source": [
    "PROVIDER.getStages(list(range(25)))"
   ]
  },
  {
   "cell_type": "code",
   "execution_count": 8,
   "metadata": {},
   "outputs": [],
   "source": [
    "# Construct derivative structures    \n",
    "DF_X_DCT = {k: t.df_X for k,t in DATA_DCT.items()}\n",
    "DF_X = DF_X_DCT[T0]\n",
    "SER_Y_DCT = {k: t.ser_y for k,t in DATA_DCT.items()}\n",
    "SER_Y = SER_Y_DCT[T0]\n",
    "STAGE_NAMES = np.array(list(cn.STAGE_DCT.values()))\n",
    "SAMPLE_DATA_DCT = SAMPLE_DCT[REF_TYPE_BIOREACTOR]\n",
    "CLASSIFIER = CLASSIFIER_DCT[T0]"
   ]
  },
  {
   "cell_type": "code",
   "execution_count": 9,
   "metadata": {},
   "outputs": [],
   "source": [
    "FULL_RUN = True"
   ]
  },
  {
   "cell_type": "code",
   "execution_count": 10,
   "metadata": {},
   "outputs": [],
   "source": [
    "# Gene groupings\n",
    "MYCOBACTIN_GENES = [\n",
    "\"Rv2377c\",\n",
    "\"Rv2378c\",\n",
    "\"Rv2379c\",\n",
    "\"Rv2380c\",\n",
    "\"Rv2381c\",\n",
    "\"Rv2382c\",\n",
    "\"Rv2383c\",\n",
    "\"Rv2384\",\n",
    "\"Rv2385\",\n",
    "\"Rv2386c\",\n",
    "]\n",
    "BACTERIOFERRITIN_GENES = [\n",
    "\"Rv2341\", \"Rv3841\", \n",
    "]\n",
    "GENE_DCT = {\"mycobactin\": MYCOBACTIN_GENES,\n",
    "            \"bacterioferritin 1\": [BACTERIOFERRITIN_GENES[0]],\n",
    "            \"bacterioferritin 2\": [BACTERIOFERRITIN_GENES[1]],\n",
    "           }\n",
    "MYCOBACTIN_PLUS_GENES = list(MYCOBACTIN_GENES)\n",
    "MYCOBACTIN_PLUS_GENES.append(\"Rv3841\")\n",
    "DF_X_DCT = {k: df[MYCOBACTIN_GENES] for k, df in DF_X_DCT.items()}"
   ]
  },
  {
   "cell_type": "markdown",
   "metadata": {},
   "source": [
    "## Helper Functions"
   ]
  },
  {
   "cell_type": "code",
   "execution_count": 11,
   "metadata": {},
   "outputs": [
    {
     "name": "stdout",
     "output_type": "stream",
     "text": [
      "OK!\n"
     ]
    }
   ],
   "source": [
    "def getStage(states):\n",
    "    \"\"\"\n",
    "    Provides the name of the stage for the value of a state.\n",
    "    \n",
    "    Parameters\n",
    "    ----------\n",
    "    states: list-int\n",
    "    \"\"\"\n",
    "    timepoints = []\n",
    "    for state in states:\n",
    "        timepoint = [i for i, v in SER_Y_DCT[T0].iteritems() if v == state][0]\n",
    "        timepoints.append(timepoint)\n",
    "    return list(PROVIDER.getStages(timepoints))\n",
    "\n",
    "# TESTS\n",
    "assert(getStage([0, 1])[0] == \"Transition\")\n",
    "print(\"OK!\")"
   ]
  },
  {
   "cell_type": "code",
   "execution_count": 12,
   "metadata": {},
   "outputs": [],
   "source": [
    "def sortColumns(df):\n",
    "    if df is None:\n",
    "        return None\n",
    "    columns = list(df.columns)\n",
    "    columns.sort()\n",
    "    df.columns = columns\n",
    "    df = df.sort_index()\n",
    "    return df"
   ]
  },
  {
   "cell_type": "code",
   "execution_count": 18,
   "metadata": {},
   "outputs": [
    {
     "name": "stdout",
     "output_type": "stream",
     "text": [
      "OK!\n"
     ]
    }
   ],
   "source": [
    "def plotExpressionLevels(df_X, features, ser_y=None, is_plot=True, title=\"\"):\n",
    "    \"\"\"\n",
    "    Heat map of expression levels. Shades states.\n",
    "    \n",
    "    Parameters\n",
    "    ----------\n",
    "    df_X: DataFrame (feature vector)\n",
    "    features: list-str\n",
    "    \"\"\"\n",
    "    # Internal constants\n",
    "    ROTATION = 30\n",
    "    FONTSIZE = 14\n",
    "    # Shade replications\n",
    "    fig, ax = plt.subplots(1, figsize=(20, 5))\n",
    "    columns = list(set(features).intersection(df_X.columns))\n",
    "    columns.sort()\n",
    "    new_df_X = df_X\n",
    "    sns.heatmap(new_df_X.T, cmap=\"seismic\", ax=ax, vmin=-1, vmax=1)\n",
    "    # Shade the classes\n",
    "    if ser_y is not None:\n",
    "        alphas = [0.0, 0.4]\n",
    "        alpha_idx = 0\n",
    "        for idx, val in enumerate(ser_y.values):\n",
    "            stage = getStage([val])[0]\n",
    "            if (idx == 0):\n",
    "                ax.text(idx, 0, \"%s\" % stage, fontsize=FONTSIZE, rotation=ROTATION)\n",
    "            elif ser_y.values[idx-1] != val:\n",
    "                ax.text(idx, 0, \"%s\" % stage, fontsize=FONTSIZE, rotation=ROTATION)\n",
    "                alpha_idx = 1 - alpha_idx\n",
    "            ax.axvspan(idx, idx+1, facecolor='grey', alpha=alphas[alpha_idx])\n",
    "    # Other plot characteristics\n",
    "    ax.set_title(title, fontsize=18)\n",
    "    #\n",
    "    if is_plot:\n",
    "        plt.show()\n",
    "    else:\n",
    "        plt.close()\n",
    "    \n",
    "# Tests\n",
    "plotExpressionLevels(DF_X, CLASSIFIER.features, SER_Y, is_plot=False)\n",
    "print(\"OK!\")"
   ]
  },
  {
   "cell_type": "code",
   "execution_count": 15,
   "metadata": {},
   "outputs": [
    {
     "name": "stdout",
     "output_type": "stream",
     "text": [
      "OK!\n"
     ]
    }
   ],
   "source": [
    "def evaluateClassifierOnInstances(clf, df_X=DF_X_DCT[T0], ser_y=None, class_names=None, is_plot=True, nrow=6, ncol=4, suptitle=\"\"):\n",
    "    _, axes = plt.subplots(nrow, ncol, figsize=(18,12))\n",
    "    for irow in range(nrow):\n",
    "        for icol in range(ncol):\n",
    "            ax = axes[irow, icol]\n",
    "            instance_num = irow*ncol + icol + 2\n",
    "            instance = \"T%d\" % instance_num\n",
    "            if instance not in df_X.index:\n",
    "                break\n",
    "            ser_X = df_X.loc[instance, :]\n",
    "            if (icol + 1 == ncol) and (irow==0):\n",
    "                is_legend = True\n",
    "            else:\n",
    "                is_legend = False\n",
    "            if (irow + 1 == nrow):\n",
    "                is_xlabel = True\n",
    "                if icol == 0:\n",
    "                    is_ylabel = True\n",
    "                else:\n",
    "                    is_ylabel = False\n",
    "            else:\n",
    "                is_ylabel = False\n",
    "                is_xlabel = False\n",
    "            clf.plotFeatureContributions(ser_X, ax=ax,\n",
    "                    title=instance, true_class=ser_y.loc[instance], is_plot=False, is_legend=is_legend,\n",
    "                                               class_names=class_names,\n",
    "                                               is_xlabel=is_xlabel, is_ylabel=is_ylabel)\n",
    "    plt.suptitle(suptitle)\n",
    "    if not is_plot:\n",
    "        plt.close()\n",
    "    \n",
    "# Tests\n",
    "evaluateClassifierOnInstances(CLASSIFIER, ser_y=SER_Y, class_names=STAGE_NAMES, is_plot=False, nrow=2, ncol=2, suptitle=\"test\")\n",
    "print(\"OK!\")"
   ]
  },
  {
   "cell_type": "code",
   "execution_count": 19,
   "metadata": {},
   "outputs": [
    {
     "name": "stdout",
     "output_type": "stream",
     "text": [
      "OK!\n"
     ]
    }
   ],
   "source": [
    "def plotSampleData(data_dct, genes=CLASSIFIER_DCT[T0].features, is_plot=True):\n",
    "    \"\"\"\n",
    "    Plots trinary values of data for the specified genes.\n",
    "    \n",
    "    Parameters\n",
    "    ----------\n",
    "    data_dct: dict\n",
    "        key: data sample name\n",
    "        value: feature vector\n",
    "    genes: list-str\n",
    "    \"\"\"\n",
    "    for name, df_X in data_dct.items():\n",
    "        plotExpressionLevels(df_X, genes, title=name, is_plot=is_plot)\n",
    "            \n",
    "# Tests\n",
    "plotSampleData(SAMPLE_DCT[REF_TYPE_BIOREACTOR], is_plot=False)\n",
    "print(\"OK!\")"
   ]
  },
  {
   "cell_type": "code",
   "execution_count": null,
   "metadata": {},
   "outputs": [],
   "source": [
    "def reportSamplePredictions(data_dct):\n",
    "    for name, df_X in data_dct.items():\n",
    "        print(\"\\n%s\" % name)\n",
    "        df_pred = CLASSIFIER.predict(df_X)\n",
    "        new_columns = [STAGE_NAMES[c] for c in df_pred.columns]\n",
    "        df_pred.columns = new_columns\n",
    "        print(df_pred)"
   ]
  },
  {
   "cell_type": "code",
   "execution_count": null,
   "metadata": {},
   "outputs": [],
   "source": [
    "def plotReplicationsOverTime(prediction_df, repl_strs, time_strs, timeFunc, title=\"\", ax=None, is_plot=True):\n",
    "    \"\"\"\n",
    "    Plots the dominate state predicted over time for each replication.\n",
    "    \n",
    "    arameter\n",
    "    ---------\n",
    "    prediction_df: DataFrame\n",
    "        column: stage\n",
    "        row: time and replication\n",
    "    repl_strs: list-str\n",
    "    time_strs: list-str\n",
    "    timeFunc: Function\n",
    "        input: index value\n",
    "        output: time portion\n",
    "    \"\"\"\n",
    "    if ax is None:\n",
    "        _, ax = plt.subplots(1)\n",
    "    for repl_str in repl_strs:\n",
    "        indices = list(prediction_df.index)\n",
    "        bools = [repl_str in i for i in indices]\n",
    "        if any(bools):\n",
    "            indices = [i for i in prediction_df.index if repl_str in i]\n",
    "            y_vals = []\n",
    "            x_vals = []\n",
    "            for idx in indices:\n",
    "                x_vals.append(timeFunc(idx))\n",
    "                row = prediction_df.loc[idx, :]\n",
    "                val = row.max()\n",
    "                y_val = [c for c in row.index if row[c] == val][0]\n",
    "                y_vals.append(y_val)\n",
    "            ax.plot(x_vals, y_vals)\n",
    "            ax.set_ylim(0, len(STAGE_NAMES))\n",
    "            yticks = ax.get_yticklabels()[0]\n",
    "            labels = list(STAGE_NAMES)\n",
    "            ax.set_xticklabels(x_vals, rotation=90)\n",
    "            ax.set_yticklabels(labels)\n",
    "    plt.legend(repl_strs)\n",
    "    plt.title(title)\n",
    "    if not is_plot:\n",
    "        plt.close()\n",
    "            \n",
    "# Tests\n",
    "df_X = SAMPLE_DCT[REF_TYPE_BIOREACTOR][\"rustad\"]\n",
    "prediction_df = CLASSIFIER_DCT[T0].predict(df_X)\n",
    "repl_strs = [\"rep%d\" % n for n in range(4)]\n",
    "time_strs = [\"4hr\", \"12hr\", \"1day\", \"4day\", \"7day\"]\n",
    "prediction_df = prediction_df[[\"H37Rv_hypoxia\" in i for i in prediction_df.index]]\n",
    "timeFunc = lambda i: i.split(\"_\")[-2]\n",
    "plotReplicationsOverTime(prediction_df, repl_strs, time_strs, timeFunc, is_plot=False)\n",
    "print(\"OK!\")"
   ]
  },
  {
   "cell_type": "markdown",
   "metadata": {},
   "source": [
    "## Data"
   ]
  },
  {
   "cell_type": "markdown",
   "metadata": {},
   "source": [
    "### BioReactor"
   ]
  },
  {
   "cell_type": "code",
   "execution_count": null,
   "metadata": {},
   "outputs": [],
   "source": [
    "for ref in DATA_DCT.keys():\n",
    "    plotExpressionLevels(DF_X_DCT[ref], DF_X_DCT[ref].columns, title=\"%s\" % ref, ser_y=SER_Y_DCT[ref])"
   ]
  },
  {
   "cell_type": "code",
   "execution_count": null,
   "metadata": {},
   "outputs": [],
   "source": [
    "if FULL_RUN:\n",
    "    for ref in DATA_DCT.keys():\n",
    "        suptitle = \"%s: Acc=%1.2f\" % (ref, np.mean(CLASSIFIER_DCT[ref].scores))\n",
    "        evaluateClassifierOnInstances(CLASSIFIER_DCT[ref], ser_y=DATA_DCT[ref].ser_y, class_names=STAGE_NAMES, nrow=4, ncol=6, suptitle=suptitle)"
   ]
  },
  {
   "cell_type": "markdown",
   "metadata": {},
   "source": [
    "### Lab Samples"
   ]
  },
  {
   "cell_type": "markdown",
   "metadata": {},
   "source": [
    "**Observations**\n",
    "1. Prefer control values that avoid having a constant value of the trinary value over the samples (since such a situation is unhelpful for distinguishing classes).\n",
    "1. On training data (Bioreactor)\n",
    "   1. Many genes have the same within class values\n",
    "   1. Few genes have the same between class values"
   ]
  },
  {
   "cell_type": "code",
   "execution_count": null,
   "metadata": {},
   "outputs": [],
   "source": [
    "# With Bioreactor reference data\n",
    "plotSampleData(SAMPLE_DCT[REF_TYPE_BIOREACTOR])"
   ]
  },
  {
   "cell_type": "code",
   "execution_count": null,
   "metadata": {},
   "outputs": [],
   "source": [
    "# With pooled reference data\n",
    "plotSampleData(SAMPLE_DCT[REF_TYPE_POOLED])"
   ]
  },
  {
   "cell_type": "markdown",
   "metadata": {},
   "source": [
    "# Classification Validations on Training Samples\n",
    "Classify T2-T25 and see if result is same as original class. Use 5-fold cross validation, where there is a holdout for each class and the selection is random.\n"
   ]
  },
  {
   "cell_type": "code",
   "execution_count": null,
   "metadata": {},
   "outputs": [],
   "source": [
    "if False:\n",
    "    accuracy_dct = {}\n",
    "    ranks = [1, 2, 4, 8, 16, 32, 64, 128, 256]\n",
    "    ranks = range(1,12)\n",
    "    for rank in ranks:\n",
    "        accuracy_dct[rank] = CLASSIFIER.crossValidate(\n",
    "            NEW_DATA, num_iter=10, num_holdout=1, filter_high_rank=rank, size=100)\n",
    "    plt.plot(list(accuracy_dct.keys()), list(accuracy_dct.values()))\n",
    "    plt.ylim([0, 1.1])\n",
    "    _ = plt.xlabel(\"No genes in clasifier\")\n",
    "    _ = plt.ylabel(\"accuracy\")"
   ]
  },
  {
   "cell_type": "markdown",
   "metadata": {},
   "source": [
    "**TODO**: List the genes used for each coordinate."
   ]
  },
  {
   "cell_type": "code",
   "execution_count": null,
   "metadata": {},
   "outputs": [],
   "source": [
    "CLASSIFIER.plotSVMCoefficients(title=\"Classifier Coefficients\", class_names=STAGE_NAMES)"
   ]
  },
  {
   "cell_type": "markdown",
   "metadata": {},
   "source": [
    "The above chart displays the values of the SVM coefficients for each of the genes for the classifier used to identify each state. The vertical lines are error bars ($\\pm$ 1 standard deviation) for the value of the coefficient over 100 classifiers constructed using 1 holdout per state.\n",
    "\n",
    "The coefficients are used to identify the stage that best matches a gene expression vector. Given\n",
    "an expression vector $\\mathbf{x} = (x_1, \\cdots, x_N)$, where $x_n \\in [-1, 1 ]$ is the expression level of gene $x_n$ and\n",
    "$c_{m,n}$ is the coefficient for the classifier for stage $m$ and gene $n$:\n",
    "1. $d_m = \\sum_n c_{m,n} x_n$\n",
    "1. Choose stage $m^{\\star}$ such that $m^{\\star} = arg max_m \\{ d_m \\}$"
   ]
  },
  {
   "cell_type": "code",
   "execution_count": null,
   "metadata": {},
   "outputs": [],
   "source": [
    "# Deeper look at training data\n",
    "plotExpressionLevels(DF_X, CLASSIFIER.features, ser_y=SER_Y, title=\"\")"
   ]
  },
  {
   "cell_type": "markdown",
   "metadata": {},
   "source": [
    "Several observations are of interest:\n",
    "1. The coefficients for Transition are mostly negative, which means that this stage is about *under-expression*.\n",
    "In particular, this stage is characterized by an under-expression of the genes Rv2383c, Rv2382c, Rv2386c, and Rv2385.\n",
    "1. We see that Stage1a is characterized by large positive values of the coefficients for Rv2385, Rv3841, and Rv2384.\n",
    "Although this makes sense for Rv2385, it is counter intuitive for\n",
    "Rv2384 and Rv3841.\n",
    "The rationale here is more complicated.\n",
    "Rv2384 is not differentially expressed in Stage 1a; however, it is under-expressed in Transition.\n",
    "So, a positive coefficient for Rv2384 for Stage 1a allows for differentiation from Transition.\n",
    "A similar tactic seems to be in play for Rv3841 to distinguish Stage1a from Stage II and Resuscitation.\n",
    "However, this is complicated by the fact that Transition over-expresses Rv3841.\n",
    "The classifier compensates for this by having a large coefficient for Rv2384.\n",
    "\n",
    "1. The other stages are characterized by a mixture of over- and under-expression."
   ]
  },
  {
   "cell_type": "markdown",
   "metadata": {},
   "source": [
    "# Accuracy of Gene Groups"
   ]
  },
  {
   "cell_type": "code",
   "execution_count": null,
   "metadata": {},
   "outputs": [],
   "source": [
    "def plotAccuracy(genes, title=\"\", selected_stages=None, size=100, is_plot=True, ax=None):\n",
    "    \"\"\"\n",
    "    Plots the accuracy curve for a collection of genes\n",
    "    \n",
    "    Parameters\n",
    "    ----------\n",
    "    genes: list-str\n",
    "    title: str\n",
    "    selected_stages: list-str\n",
    "        Create a binary classifier for just these tages\n",
    "    size: int\n",
    "    is_plot: bol\n",
    "    \"\"\"\n",
    "    if ax is None:\n",
    "        _, ax = plt.subplots(1)\n",
    "    accuracy_dct = {}\n",
    "    #data = mkDataSubset(genes, selected_stages=selected_stages)\n",
    "    data = DATA_DCT[T0].subsetToStages(selected_stages, genes=genes)\n",
    "    ranks = range(1, len(genes) + 1)\n",
    "    for rank in ranks:\n",
    "        accuracy_dct[rank] = CLASSIFIER.crossValidate(\n",
    "            data, num_iter=10, num_holdout=1, filter_high_rank=rank, size=size)\n",
    "    ax.plot(list(accuracy_dct.keys()), list(accuracy_dct.values()), marker=\"o\")\n",
    "    ax.set_ylim([0, 1.1])\n",
    "    _ = ax.set_xlabel(\"No genes in clasifier\")\n",
    "    _ = ax.set_ylabel(\"accuracy\")\n",
    "    ax.set_title(title)\n",
    "    if not is_plot:\n",
    "        plt.close()\n",
    "    return accuracy_dct\n",
    "    \n",
    "# Tests\n",
    "genes = GENE_DCT[\"bacterioferritin 1\"]\n",
    "accuracy_dct = plotAccuracy(GENE_DCT[\"bacterioferritin 1\"], title=\", \".join(genes), selected_stages=\"StageII\", size=5, is_plot=False)\n",
    "assert(np.isclose(list(accuracy_dct.values())[0], 0.5))"
   ]
  },
  {
   "cell_type": "code",
   "execution_count": null,
   "metadata": {},
   "outputs": [],
   "source": [
    "if False:\n",
    "    gene_dct = {g: [g] for g in GENE_DCT[\"mycobactin\"]}\n",
    "    gene_dct.update(GENE_DCT)\n",
    "    for name, genes in gene_dct.items():\n",
    "        _, ax = plt.subplots(1)\n",
    "        _ = accuracy_dct = plotAccuracy(genes, title=\", \".join(genes), selected_stages=[\"StageII\"], ax=ax, size=100)"
   ]
  },
  {
   "cell_type": "code",
   "execution_count": null,
   "metadata": {},
   "outputs": [],
   "source": [
    "if False:\n",
    "    gene_dct = {g: [g] for g in GENE_DCT[\"mycobactin\"]}\n",
    "    gene_dct.update(GENE_DCT)\n",
    "    for name, genes in gene_dct.items():\n",
    "        _, ax = plt.subplots(1)\n",
    "        _ = accuracy_dct = plotAccuracy(genes, title=\", \".join(genes), ax=ax, size=100)"
   ]
  },
  {
   "cell_type": "code",
   "execution_count": null,
   "metadata": {},
   "outputs": [],
   "source": [
    "# Details for the 10 genes\n",
    "if False:\n",
    "    df_X = DF_X[GENE_DCT[\"mycobactin\"]]\n",
    "    num_genes = range(1, len(df_X.columns) + 1)\n",
    "    num_genes = [10]\n",
    "    for num_gene in num_genes:\n",
    "        clf = classifier_ensemble.ClassifierEnsemble(\n",
    "                classifier_ensemble.ClassifierDescriptorSVM(), filter_high_rank=num_gene, size=100)\n",
    "        clf.fit(df_X, SER_Y)\n",
    "        evaluateClassifierOnInstances(clf, df_X=df_X, ser_y=SER_Y, class_names=STAGE_NAMES, nrow=4, ncol=6, is_plot=True)"
   ]
  },
  {
   "cell_type": "markdown",
   "metadata": {},
   "source": [
    "## Evaluation for good performing genes"
   ]
  },
  {
   "cell_type": "markdown",
   "metadata": {},
   "source": [
    "# Classification of Samples"
   ]
  },
  {
   "cell_type": "code",
   "execution_count": null,
   "metadata": {},
   "outputs": [],
   "source": [
    "CLASSIFIER.features"
   ]
  },
  {
   "cell_type": "code",
   "execution_count": null,
   "metadata": {},
   "outputs": [],
   "source": [
    "CLASSIFIER.predict(SAMPLE_DATA_DCT[\"AM_MDM\"])"
   ]
  },
  {
   "cell_type": "code",
   "execution_count": null,
   "metadata": {},
   "outputs": [],
   "source": [
    "timeFunc = lambda i: i.split(\"_\")[-2]\n",
    "for ref_type in [REF_TYPE_BIOREACTOR, REF_TYPE_POOLED]:\n",
    "    _, ax = plt.subplots(1)\n",
    "    df_X = SAMPLE_DCT[ref_type][\"rustad\"]\n",
    "    prediction_df = CLASSIFIER.predict(df_X)\n",
    "    repl_strs = [\"rep%d\" % n for n in range(4)]\n",
    "    time_strs = [\"4hr\", \"12hr\", \"1day\", \"4day\", \"7day\"]\n",
    "    prediction_df = prediction_df[[\"H37Rv_hypoxia\" in i for i in prediction_df.index]]\n",
    "    title = \"rustad: \" + ref_type\n",
    "    plotReplicationsOverTime(prediction_df, repl_strs, time_strs, title=title, timeFunc=timeFunc, ax=ax)"
   ]
  },
  {
   "cell_type": "code",
   "execution_count": null,
   "metadata": {},
   "outputs": [],
   "source": [
    "for ref_type in [REF_TYPE_BIOREACTOR, REF_TYPE_POOLED]:\n",
    "    df_X = SAMPLE_DCT[ref_type][\"galagan\"]\n",
    "    prediction_df = CLASSIFIER.predict(df_X)\n",
    "    repl_strs = [\"rep%d\" % n for n in range(1,4)]\n",
    "    time_strs = [\"d%d\" % n for n in [1, 2, 3, 5, 7, 8]]\n",
    "    timeFunc = lambda i: i[0:2]\n",
    "    title = \"galagan: \" + ref_type\n",
    "    _, ax = plt.subplots(1)\n",
    "    plotReplicationsOverTime(prediction_df, repl_strs, time_strs, timeFunc, title=title, ax=ax)"
   ]
  },
  {
   "cell_type": "code",
   "execution_count": null,
   "metadata": {},
   "outputs": [],
   "source": [
    "reportSamplePredictions(SAMPLE_DCT[REF_TYPE_BIOREACTOR])"
   ]
  },
  {
   "cell_type": "code",
   "execution_count": null,
   "metadata": {},
   "outputs": [],
   "source": [
    "reportSamplePredictions(SAMPLE_DCT[REF_TYPE_POOLED])"
   ]
  },
  {
   "cell_type": "markdown",
   "metadata": {
    "tags": []
   },
   "source": [
    "# Detailed Analyses"
   ]
  },
  {
   "cell_type": "markdown",
   "metadata": {},
   "source": [
    "## GSE167232"
   ]
  },
  {
   "cell_type": "code",
   "execution_count": null,
   "metadata": {},
   "outputs": [],
   "source": [
    "plotExpressionLevels(DF_X, CLASSIFIER.features, title=\"BioReactor\", ser_y=SER_Y)\n",
    "plotExpressionLevels(SAMPLE_DATA_DCT[\"GSE167232\"], CLASSIFIER.features, title=\"GSE167232\")"
   ]
  },
  {
   "cell_type": "code",
   "execution_count": null,
   "metadata": {},
   "outputs": [],
   "source": [
    "plotExpressionLevels(DF_X_DCT[POOLED], CLASSIFIER.features, title=\"BioReactor\", ser_y=SER_Y)\n",
    "plotExpressionLevels(SAMPLE_DCT[REF_TYPE_POOLED][\"GSE167232\"], CLASSIFIER.features, title=\"GSE167232\")"
   ]
  },
  {
   "cell_type": "code",
   "execution_count": null,
   "metadata": {},
   "outputs": [],
   "source": [
    "#CLASSIFIER.plotFeatureContributions(df_X.loc[\"TB_AM1\",:], class_names=STAGE_NAMES)\n",
    "df_predict = CLASSIFIER.predict(SAMPLE_DATA_DCT[\"GSE167232\"])\n",
    "indexArr = np.reshape(list(df_predict.index), (4,3))\n",
    "num_row = 4\n",
    "num_col =3\n",
    "_, axes = plt.subplots(num_row, num_col, figsize=(20, 12))\n",
    "for irow in range(4):\n",
    "    for icol in range(3):\n",
    "        if icol == 0:\n",
    "            is_ylabel = True\n",
    "        else:\n",
    "            is_ylabel = False\n",
    "        if icol == num_col - 1:\n",
    "            is_legend = True\n",
    "        else:\n",
    "            is_legend = False\n",
    "        if irow == num_row - 1:\n",
    "            is_xlabel = True\n",
    "        else:\n",
    "            is_xlabel = False\n",
    "        instance = indexArr[irow, icol]\n",
    "        ser_X = SAMPLE_DATA_DCT[\"GSE167232\"].loc[instance, :]\n",
    "        CLASSIFIER.plotFeatureContributions(ser_X, class_names=STAGE_NAMES, title=instance, ax=axes[irow,icol], is_plot=False,\n",
    "                                           is_xlabel=is_xlabel, is_ylabel=is_ylabel, is_legend=is_legend)\n",
    "plt.show()"
   ]
  },
  {
   "cell_type": "markdown",
   "metadata": {},
   "source": [
    "## Rustad"
   ]
  },
  {
   "cell_type": "code",
   "execution_count": null,
   "metadata": {},
   "outputs": [],
   "source": [
    "# Rustad analysis\n",
    "df_X = SAMPLE_DATA_DCT[\"rustad\"]\n",
    "df_pred = CLASSIFIER.predict(df_X)\n",
    "instances = [i for i in df_pred.index if \"H37Rv_hypoxia\" in i]\n",
    "df_pred = df_pred.loc[instances, :]\n",
    "times = []\n",
    "replications = []\n",
    "for instance in instances:\n",
    "    if \"hr\" in instance:\n",
    "        pos = instance.index(\"hr_\")\n",
    "    else:\n",
    "        pos = instance.index(\"ay_\")\n",
    "    last_pos = pos + 2\n",
    "    times.append(instance[0:last_pos])\n",
    "    if \"10\" in instance:\n",
    "        replications.append(instance[-2:])\n",
    "    else:\n",
    "        replications.append(instance[-1])\n",
    "timeArr = np.array(times)\n",
    "replicationArr = np.array(replications)\n",
    "indexArr = list(df_pred.index)\n",
    "indexArr = np.array(indexArr)\n",
    "#\n",
    "state_dct = {}\n",
    "for time in set(times):\n",
    "    idxs = [p for p, i in enumerate(indexArr) if time in i]\n",
    "    replications_sub = replicationArr[idxs]\n",
    "    times_sub = timeArr[idxs]\n",
    "    state_dct[time] = []\n",
    "    for instance in indexArr[idxs]:\n",
    "        max_val = np.max(df_pred.loc[instance, :].values)\n",
    "        state = [s for s in df_pred.columns if df_pred.loc[instance, s] == max_val][0]\n",
    "        state_dct[time].append(STAGE_NAMES[state])"
   ]
  },
  {
   "cell_type": "code",
   "execution_count": null,
   "metadata": {},
   "outputs": [],
   "source": [
    "time_keys = np.array([\"H37Rv_hypoxia_4hr\", \"H37Rv_hypoxia_8hr\", \"H37Rv_hypoxia_12hr\",\n",
    "                      \"H37Rv_hypoxia_1day\", \"H37Rv_hypoxia_4day\", \"H37Rv_hypoxia_7day\"])\n",
    "truncated_time_keys = np.array([\"4hr\", \"8hr\", \"12hr\",\n",
    "                      \"1day\", \"4day\", \"7day\"])\n",
    "time_idxs = np.array([list(state_dct.keys()).index(k) for k in time_keys])\n",
    "repl_dct = {}\n",
    "for repl in [0, 1, 2]:\n",
    "    repl_dct[repl] = [state_dct[t][repl] for t in time_keys[time_idxs]]"
   ]
  },
  {
   "cell_type": "code",
   "execution_count": null,
   "metadata": {},
   "outputs": [],
   "source": [
    "_, ax = plt.subplots(1)\n",
    "repl_dct[-1] = [\"Transition\", \"Stage1a\", \"Stage1b\", \"StageII\", \"Resuscitation\"]\n",
    "repl_dct[-1] = repl_dct[0]\n",
    "repl_dct[-1][0] = \"Transition\"\n",
    "repl_dct[-1][1] = \"Stage1a\"\n",
    "repl_dct[-1][2] = \"Stage1b\"\n",
    "repl_dct[-1][3] = \"StageII\"\n",
    "repl_dct[-1][4] = \"Resuscitation\"\n",
    "colors = [\"red\", \"blue\", \"green\"]\n",
    "for repl in range(-1, 3):\n",
    "    if repl == -1:\n",
    "        color = \"black\"\n",
    "    else:\n",
    "        color = colors[repl]\n",
    "    ax.plot(truncated_time_keys, repl_dct[repl], color=color)\n",
    "plt.legend([0, 1, 2], loc=\"upper left\")\n",
    "plt.xlabel(\"time\")\n",
    "plt.ylabel(\"Stage\")"
   ]
  },
  {
   "cell_type": "markdown",
   "metadata": {},
   "source": [
    "## AM, MDM"
   ]
  },
  {
   "cell_type": "code",
   "execution_count": null,
   "metadata": {},
   "outputs": [],
   "source": [
    "SAMPLE_DATA_DCT[\"AM_MDM\"]"
   ]
  },
  {
   "cell_type": "markdown",
   "metadata": {},
   "source": [
    "## Galagan"
   ]
  },
  {
   "cell_type": "markdown",
   "metadata": {},
   "source": [
    "**TODO**: Plot progression of replications over time"
   ]
  },
  {
   "cell_type": "markdown",
   "metadata": {},
   "source": [
    "# Summary Comments"
   ]
  },
  {
   "cell_type": "markdown",
   "metadata": {},
   "source": [
    "1. Choice of control\n",
    "   1. Criteria for choice\n",
    "1. Evaluating the quality of classification for test samples\n",
    "   1. Consistency between replications\n",
    "   1. Consistency in stage progression of replication\n",
    "1. Detailed summaries for data sets"
   ]
  }
 ],
 "metadata": {
  "kernelspec": {
   "display_name": "Python 3",
   "language": "python",
   "name": "python3"
  },
  "language_info": {
   "codemirror_mode": {
    "name": "ipython",
    "version": 3
   },
   "file_extension": ".py",
   "mimetype": "text/x-python",
   "name": "python",
   "nbconvert_exporter": "python",
   "pygments_lexer": "ipython3",
   "version": "3.6.6"
  }
 },
 "nbformat": 4,
 "nbformat_minor": 4
}
