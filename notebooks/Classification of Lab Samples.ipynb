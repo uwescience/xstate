{
 "cells": [
  {
   "cell_type": "markdown",
   "metadata": {},
   "source": [
    "# CLASSIFICATION OF LAB SAMPLES"
   ]
  },
  {
   "cell_type": "markdown",
   "metadata": {},
   "source": [
    "This notebook analyzes the accuracy of the SVM classifier on the training data and on lab samples.\n",
    "The training data are:\n",
    "* all genes (not just regulators);\n",
    "* averaged;\n",
    "* do not include T1 (since only one observtion)"
   ]
  },
  {
   "cell_type": "markdown",
   "metadata": {},
   "source": [
    "# TO DO\n",
    "1. **Check calculation of pooled, whether average log**\n",
    "1. Structure codes for the analyses conducted. This structure should be reflected in ``DATA_DCT``.\n",
    "   1. Selection of genes: myco, myco +, all genes\n",
    "   1. How counts are processed\n",
    "      1. Reference - T0/biostat, T0/data source, pooled/data source\n",
    "1. Evaluation of classifiers\n",
    "   1. Performance on biostat data\n",
    "   1. Performance on other samples\n",
    "      1. Time consistency\n",
    "      1. Replication consistency\n",
    "      1. Consistency with expectation\n",
    "1. Analyses for Eliza:\n",
    "   1. Accuracy with all 11 and the accuracy as you add in more genes (same as what you just sent but with all 11).\n",
    "   1. Could you test with just the 10 mycobactin genes (Rv2377c-Rv2386c)?\n",
    "   1. Could you test with just bacterioferritin (Rv3841)? Just Rv2384?\n",
    "   1. Is there one gene that gives good accuracy\n",
    "1. compare accuracy with ranom selection of genes\n",
    "1. Classifier coefficient profile.\n",
    "   1. Eliza genes - 1-10\n",
    "   1. Auto selected genes: 5, 10, 20"
   ]
  },
  {
   "cell_type": "markdown",
   "metadata": {},
   "source": [
    "# Preliminaries"
   ]
  },
  {
   "cell_type": "markdown",
   "metadata": {},
   "source": [
    "## Imports"
   ]
  },
  {
   "cell_type": "code",
   "execution_count": 1,
   "metadata": {
    "scrolled": true
   },
   "outputs": [],
   "source": [
    "import init\n",
    "from common import constants as cn\n",
    "from common.trinary_data import TrinaryData, REF_TYPE_BIOREACTOR, REF_TYPE_SELF, REF_TYPE_POOLED\n",
    "from common.data_provider import DataProvider\n",
    "from common import trinary_data\n",
    "from common_python.plots import util_plots\n",
    "from common_python.classifier import classifier_ensemble\n",
    "from common_python.classifier import classifier_collection\n",
    "from common_python.util.persister import Persister\n",
    "from common_python.util import dataframe\n",
    "from common import transform_data\n",
    "\n",
    "import collections\n",
    "import copy\n",
    "import os\n",
    "import matplotlib.pyplot as plt\n",
    "import numpy as np\n",
    "import pandas as pd\n",
    "import sklearn\n",
    "from sklearn.decomposition import PCA\n",
    "from sklearn import svm\n",
    "from sklearn.model_selection import cross_val_score\n",
    "import seaborn as sns\n",
    "\n",
    "%matplotlib inline"
   ]
  },
  {
   "cell_type": "markdown",
   "metadata": {},
   "source": [
    "## Constants"
   ]
  },
  {
   "cell_type": "code",
   "execution_count": 2,
   "metadata": {},
   "outputs": [],
   "source": [
    "# Run control\n",
    "FULL_RUN = True\n",
    "REINITIALIZE_PERSISTER = False"
   ]
  },
  {
   "cell_type": "code",
   "execution_count": 3,
   "metadata": {},
   "outputs": [],
   "source": [
    "# Files\n",
    "DIR = os.path.abspath(\".\")\n",
    "PERSISTER_PATH = os.path.join(DIR, \"classification_of_lab_samples.pcl\")\n",
    "PERSISTER = Persister(PERSISTER_PATH)"
   ]
  },
  {
   "cell_type": "code",
   "execution_count": 4,
   "metadata": {},
   "outputs": [],
   "source": [
    "# Data preparation constants\n",
    "T0 = \"T0\"\n",
    "POOLED = \"pooled\""
   ]
  },
  {
   "cell_type": "code",
   "execution_count": 5,
   "metadata": {},
   "outputs": [],
   "source": [
    "# Test samples. This is a dictionary (key is the control) of dictionaries (key is the data sample)\n",
    "def updateSampleDct(sample_dct):\n",
    "    for name, sample_data in sample_dct.items():\n",
    "        data_dct = {n: sample_data.__getattribute__(n) for n in trinary_data.SAMPLES}\n",
    "        sample_dct[name] = data_dct"
   ]
  },
  {
   "cell_type": "code",
   "execution_count": 6,
   "metadata": {},
   "outputs": [],
   "source": [
    "# Generic provider to supply non-readcount data and access to DataProvider methods\n",
    "PROVIDER = DataProvider()\n",
    "PROVIDER.do()\n",
    "trinary = TrinaryData()\n",
    "ALL_GENES = list(trinary.df_X.columns)"
   ]
  },
  {
   "cell_type": "code",
   "execution_count": 7,
   "metadata": {},
   "outputs": [],
   "source": [
    "# Gene groupings\n",
    "MYCOBACTIN_GENES = [\n",
    "\"Rv2377c\",\n",
    "\"Rv2378c\",\n",
    "\"Rv2379c\",\n",
    "\"Rv2380c\",\n",
    "\"Rv2381c\",\n",
    "\"Rv2382c\",\n",
    "\"Rv2383c\",\n",
    "\"Rv2384\",\n",
    "\"Rv2385\",\n",
    "\"Rv2386c\",\n",
    "]\n",
    "BACTERIOFERRITIN_GENES = [\n",
    "\"Rv2341\", \"Rv3841\", \n",
    "]\n",
    "MYCOBACTIN_BACTERIOFERRIN_GENES = list(MYCOBACTIN_GENES)\n",
    "MYCOBACTIN_BACTERIOFERRIN_GENES.extend(BACTERIOFERRITIN_GENES)\n",
    "GENE_DCT = {\"mycobactin\": MYCOBACTIN_GENES,\n",
    "            \"bacterioferrin\": BACTERIOFERRITIN_GENES,\n",
    "            \"mycobactin_bacterioferritin\": MYCOBACTIN_BACTERIOFERRIN_GENES,\n",
    "            \"all\": ALL_GENES,\n",
    "           }"
   ]
  },
  {
   "cell_type": "code",
   "execution_count": 8,
   "metadata": {},
   "outputs": [],
   "source": [
    "STAGE_NAMES = list(cn.STATE_NAMES)\n",
    "STAGE_NAMES.remove(\"Normoxia\")\n",
    "STAGE_NAMES = np.array(STAGE_NAMES)"
   ]
  },
  {
   "cell_type": "markdown",
   "metadata": {},
   "source": [
    "**TO DO**: Classifiers for all combinations of data and genes"
   ]
  },
  {
   "cell_type": "code",
   "execution_count": 9,
   "metadata": {},
   "outputs": [],
   "source": [
    "# Remove the Persister if data has changed\n",
    "if REINITIALIZE_PERSISTER:\n",
    "    PERSISTER.remove()\n",
    "#\n",
    "PERSISTED_VARIABLES = [\"DATA_DCT\", \"SAMPLE_DCT\", \"CLASSIFIER_BASE\", \"CLASSIFIER_DCT\", \"DF_X_DCT\", \"SER_Y_DCT\"]\n",
    "persisted_str = \", \".join(PERSISTED_VARIABLES)\n",
    "if PERSISTER.isExist():\n",
    "    stmt = \"%s = PERSISTER.get()\" % persisted_str\n",
    "    exec(stmt)\n",
    "else:\n",
    "    # Bioreactor data calculated with two different references\n",
    "    DATA_DCT = {\n",
    "        T0: TrinaryData(is_regulator=False, is_dropT1=True, is_averaged=True),\n",
    "        POOLED: TrinaryData(is_regulator=False, is_dropT1=True,\n",
    "                            is_averaged=True, calcRef=PROVIDER.calcRefPooled)\n",
    "    }\n",
    "    SER_Y_DCT = {k: t.ser_y for k,t in DATA_DCT.items()}\n",
    "    # Feature vectors are specific to the gene subsets\n",
    "    DF_X_DCT = {k: t.df_X.copy() for k,t in DATA_DCT.items()}\n",
    "    DF_X_DCT = {k: df[MYCOBACTIN_GENES] for k, df in DF_X_DCT.items()}\n",
    "    # Sample data\n",
    "    SAMPLE_DCT = {r: trinary_data.getSampleData(ref_type=r, is_regulator=False) for r in [REF_TYPE_BIOREACTOR, REF_TYPE_SELF, REF_TYPE_POOLED]}\n",
    "    # Classifiers\n",
    "    CLASSIFIER_BASE = classifier_ensemble.ClassifierEnsemble(\n",
    "          classifier_ensemble.ClassifierDescriptorSVM(), filter_high_rank=20, size=100)\n",
    "    CLASSIFIER_DCT = {}\n",
    "    for trinary_key, trinary in DATA_DCT.items():\n",
    "        for gene_key, gene_list in GENE_DCT.items():\n",
    "            classifier = copy.deepcopy(CLASSIFIER_BASE)\n",
    "            # Not all genes may be present in TrinaryData since they may be correlated or unvarying.\n",
    "            common_genes = list(set(trinary.df_X.columns).intersection(gene_list))\n",
    "            df_X = dataframe.intersection(trinary.)\n",
    "            classifier.fit(trinary.df_X[common_genes], trinary.ser_y, class_names=STAGE_NAMES)\n",
    "            CLASSIFIER_DCT[(trinary_key, gene_key)] = classifier\n",
    "    updateSampleDct(SAMPLE_DCT)\n",
    "    #\n",
    "    stmt = \"PERSISTER.set((%s))\" % persisted_str\n",
    "    exec(stmt)"
   ]
  },
  {
   "cell_type": "code",
   "execution_count": 11,
   "metadata": {},
   "outputs": [
    {
     "ename": "KeyError",
     "evalue": "\"['Rv2647', 'Rv1904--Rv3478', 'Rv0959', 'Rv2481c', 'Rv2162c', 'Rv0624--Rv1952', 'Rv1684', 'Rv1550--Rv2283', 'Rv0805', 'Rv3317', 'Rv0376c', 'Rv1245c--Rv1769--Rv2152c--Rv2198c--Rv2280--Rv2851c--Rv2852c--Rv3338', 'Rv3169', 'Rv2966c', 'Rv0483--Rv0484c', 'Rv0279c', 'Rv2498c--Rv2503c', 'Rv2850c', 'Rv1248c--Rv2197c--Rv2841c', 'Rv0326', 'Rv2689c', 'Rv2822c', 'Rv3122', 'Rv2438A', 'Rv3654c', 'Rvnt37', 'Rv3456c', 'Rv1297', 'Rv2809', 'Rv2244', 'Rv2439c', 'Rv0863--Rv3029c', 'Rv1325c', 'Rv0270--Rv0309--Rv0476--Rv0810c--Rv0864--Rv0931c--Rv0983--Rv1307--Rv1308--Rv1309--Rv1324--Rv1924c--Rv1946c--Rv2111c--Rv2129c--Rv2182c--Rv2193--Rv2196--Rv2204c--Rv2291--Rv2391--Rv2445c--Rv2601A--Rv2704--Rv2753c--Rv2868c--Rv3283--Rv3409c--Rv3869', 'Rv3280', 'Rv2549c', 'Rv1305', 'Rv2804c--Rv3892c', 'Rv1144', 'Rv1227c', 'Rv1489A', 'Rv3612c', 'Rv0835', 'Rv2641', 'Rv0430--Rv3320c', 'Rv3260c', 'Rv2979c', 'Rv3625c', 'Rv1039c', 'Rv3005c', 'Rv1663', 'Rv0604--Rv0904c--Rv2340c--Rv2803--Rv2896c--Rv3228--Rv3256c--Rv3589--Rv3897c', 'Rv1349', 'Rv2278--Rv3428c', 'Rv0760c', 'Rv1719', 'Rv1619', 'Rv0329c', 'Rv1643', 'Rv1696', 'Rv1347c', 'Rv1791', 'Rv1168c', 'Rv3824c', 'Rv1329c', 'Rv2029c--Rv2623', 'Rv3355c', 'Rv3789', 'Rv0088', 'Rv0411c', 'Rv0170', 'Rv1385--Rv2065', 'Rv2614A', 'Rv0098--Rv0593--Rv0605--Rv0658c--Rv0917--Rv1431--Rv1556--Rv1722--Rv1761c--Rv2274c--Rv2577--Rv2820c--Rv3090--Rv3324c--Rv3387--Rv3431c', 'Rv1658', 'Rv2006--Rv3132c--Rv3134c', 'Rv1044--Rv1587c--Rv2864c--Rv3096', 'Rv3403c', 'Rv2338c', 'Rv0643c', 'Rv1935c', 'Rv0412c--Rv2777c', 'Rv0618', 'Rv3045--Rv3852', 'Rv0057--Rv0464c--Rv0470c--Rv0479c--Rv0556--Rv0567--Rv0781--Rv0870c--Rv0948c--Rv1103c--Rv1223--Rv1331--Rv1334--Rv1838c--Rv2124c--Rv2202c--Rv2239c--Rv2606c--Rv2876--Rv2951c--Rv3142c--Rv3198A--Rv3207c--Rv3405c--Rv3491--Rv3628--Rv3651--Rv3755c--Rv3837c--Rv3915--Rvnt07--Rvnt11', 'Rv0105c--Rv3352c--Rv3787c', 'Rv3073c', 'Rv1263', 'Rv0711--Rv2021c--Rv2115c', 'Rv2794c', 'Rv0561c', 'Rv0379', 'Rv1956', 'Rv0578c', 'Rv1306', 'Rv0560c', 'Rv1947', 'Rv1687c', 'Rv0707--Rv0709', 'Rv0625c', 'Rv1698', 'Rv2458', 'Rv0324', 'Rv3615c', 'Rv3675', 'Rv0067c--Rv0549c--Rv2086', 'Rv3282--Rv3455c', 'Rv0704', 'Rv1521--Rv3465', 'Rv0414c', 'Rv2306A', 'Rv1507c', 'Rv3559c', 'Rv1452c--Rv3590c', 'Rv1482c', 'Rv3846--Rv3847', 'Rv0024--Rv3561', 'Rv0416--Rv0765c', 'Rv3505', 'Rvnt01', 'Rv3918c', 'Rv3224', 'Rv0862c', 'Rv0240', 'Rv0895--Rv1573', 'Rv0359', 'Rv0890c--Rv1752--Rv2754c--Rv3362c--Rv3794', 'Rv2816c', 'Rv0053', 'Rv0132c', 'Rv0456c', 'Rv3587c', 'Rv3550', 'Rv0211--Rv0268c--Rv1161--Rv2454c--Rv3197--Rv3801c', 'Rv1799', 'Rv1951c', 'Rv3319', 'Rv1763--Rv3162c--Rv3184--Rv3325', 'Rv3723', 'Rv2613c--Rv3171c--Rv3265c', 'Rv3052c', 'Rv0462', 'Rv0841', 'Rv0274--Rv0596c--Rv3182', 'Rv2978c', 'Rv1501', 'Rv0094c--Rv2807--Rv2983--Rv3467--Rv3899c', 'Rv1727', 'Rv0006', 'Rv1204c', 'Rv2185c', 'Rv2307B', 'Rv0573c', 'Rv1999c', 'Rv1595--Rv3221A', 'Rv3235', 'Rv0365c--Rv0366c--Rv1889c--Rv2542--Rv3439c', 'Rv0840c--Rv3572', 'Rv1218c', 'Rv1310', 'Rv0969--Rv1083--Rv1342c--Rv2019--Rv2358', 'Rv0629c--Rv0745--Rv2545--Rv3649', 'Rv1370c', 'Rv2268c', 'Rv3092c', 'Rv0422c--Rv3670', 'Rv1888A', 'Rv2261c--Rv3578', 'Rv1062', 'Rv0482--Rv1406--Rv1423--Rv3466', 'Rv2105--Rv2648', 'Rv1813c--Rv2007c--Rv2626c', 'Rv1858', 'Rv1992c', 'Rv0647c--Rv3646c', 'Rv3376', 'Rv0659c', 'Rv0551c--Rv1426c', 'Rv1407', 'Rv1542c--Rv3088--Rv3089', 'Rv2797c', 'Rv0225--Rv0406c--Rv0427c--Rv0695--Rv1025--Rv1069c--Rv1098c--Rv1512--Rv1751--Rv2046--Rv2258c--Rv3030--Rv3031--Rv3313c--Rv3575c', 'Rv3027c', 'Rv2506', 'Rv2644c', 'Rv1009--Rv3205c', 'Rv2540c', 'Rv1786--Rv2541', 'Rv0935', 'Rv0114--Rv0644c--Rv0726c--Rv1345--Rv1346--Rv1471--Rv1783--Rv2451--Rv2698--Rv3137--Rv3194c--Rv3197A--Rv3831--Rv3862c--Rv3881c--Rv3913', 'Rv2516c', 'Rv2706c', 'Rv0843', 'Rv3300c', 'Rv1455', 'Rv0751c', 'Rv3136', 'Rv0921--Rv3064c--Rvnt17', 'Rv3469c', 'Rv3618', 'Rv3809c', 'Rv3870', 'Rv0865--Rv1182', 'Rvnt15', 'Rv0525--Rv0527', 'Rv3098c', 'Rv0370c--Rv0622', 'Rv0499', 'Rv2990c', 'Rv0302', 'Rv0449c', 'Rv3183--Rv3533c', 'Rv1466', 'Rv1298--Rv2839c', 'Rv0048c--Rv0558--Rv1415--Rv2110c--Rv2292c--Rv2532c--Rv3273--Rv3520c', 'Rv1277', 'Rv3807c', 'Rv0696', 'Rv2476c', 'Rv1830', 'Rv1944c', 'Rv1909c--Rv3180c', 'Rv0113--Rv0343--Rv0672--Rv0713--Rv1065--Rv1082--Rv2518c', 'Rv0157A', 'Rv0068--Rv0448c--Rv1151c--Rv2643--Rv3851', 'Rv2885c', 'Rv2393', 'Rv1624c--Rv2187', 'Rv1712', 'Rvnt35', 'Rv0831c', 'Rv2442c', 'Rv1718', 'Rv2068c', 'Rv0761c', 'Rv1957', 'Rv0435c--Rv2446c--Rv3756c', 'Rv2650c--Rv2669', 'Rv3553', 'Rv1708', 'Rv3151', 'Rv1460--Rv3662c', 'Rv3874', 'Rv3039c', 'Rv2424c', 'Rv1388--Rv1793--Rv2114', 'Rv2047c', 'Rv1038c--Rv1197--Rv1792--Rv2347c--Rv3620c', 'Rv2973c', 'Rv0095c', 'Rv3470c', 'Rv3865', 'Rv2695', 'Rv3906c', 'Rv0395--Rv1553--Rv2813', 'Rv2033c', 'Rv0669c--Rv2679--Rv3262', 'Rv1043c', 'Rv3563', 'Rv1432--Rv1968--Rv1972', 'Rv3642c', 'Rv1303', 'Rv2842c', 'Rv1006', 'Rv0112--Rv2022c--Rv3416', 'Rv1857', 'Rv0768', 'Rv1319c--Rv3361c', 'Rv0020c', 'Rv0755c', 'Rv1589', 'Rv1113', 'Rv3195', 'Rv0022c--Rv0219--Rv1931c', 'Rv2011c', 'Rv2639c', 'Rv1472--Rv2715', 'Rv0014c', 'Rv2719c', 'Rv3890c', 'Rv2735c', 'Rv3093c--Rv3094c', 'Rv3639c', 'Rv2625c--Rv2627c', 'Rv0566c', 'Rv0641--Rv1097c--Rv2397c--Rv2950c', 'Rv0078--Rv0191--Rv1084--Rv1191--Rv1266c--Rv1918c--Rv2253--Rv2305--Rv2365c--Rv2615c--Rv2621c--Rv2677c--Rv2741--Rv2910c--Rv3070--Rv3292--Rv3500c--Rv3712', 'Rv0764c--Rv0977', 'Rv0512', 'Rv0851c', 'Rv0750', 'Rv3108', 'Rv3600c', 'Rv2956', 'Rv0952--Rv3811', 'Rv2127', 'Rv1304', 'Rv3316', 'Rv0361', 'Rv0011c--Rv0117--Rv0137c--Rv0307c--Rv0338c--Rv0367c--Rv0383c--Rv0424c--Rv0454--Rv0780--Rv0784--Rv0787A--Rv0956--Rv1179c--Rv1212c--Rv1216c--Rv1247c--Rv1253--Rv1260--Rv1332--Rv1394c--Rv1711--Rv1747--Rv1749c--Rv1788--Rv1814--Rv1828--Rv1845c--Rv1923--Rv1979c--Rv2056c--Rv2132--Rv2135c--Rv2215--Rv2216--Rv2238c--Rv2337c--Rv2486--Rv2586c--Rv2725c--Rv2761c--Rv2784c--Rv3038c--Rv3072c--Rv3075c--Rv3107c--Rv3123--Rv3154--Rv3204--Rv3223c--Rv3314c--Rv3454--Rv3606c--Rv3610c--Rv3683--Rv3710--Rv3731--Rv3886c', 'Rv0933', 'Rv3895c', 'Rv0587', 'Rv2189c', 'Rv2269c', 'Rv0055', 'Rv1794--Rv2711', 'Rv3833', 'Rv0887c', 'Rv0793--Rv1936', 'Rv3457c', 'Rv2584c', 'Rv0859', 'Rv1427c--Rv3146', 'Rv0848', 'Rv1479', 'Rv0601c--Rv0620--Rv0648--Rv0650--Rv1688--Rv2667--Rv2891--Rv3446c--Rv3448--Rv3450c--Rv3573c--Rv3659c', 'Rv3238c', 'Rv0126--Rv0466--Rv1379--Rv1380--Rv1383', 'Rv0136', 'Rv2053c', 'Rv1810', 'Rv2336', 'Rv3616c', 'Rv0318c', 'Rv0001--Rv0119--Rv0257--Rv0854--Rv0884c--Rv1638A--Rv1690--Rv1720c--Rv2302--Rv3353c--Rv3354', 'Rv0951--Rv1233c', 'Rv2407', 'Rv0179c', 'Rv0738', 'Rv0194', 'Rv1725c', 'Rv2744c', 'Rv1626', 'Rv1864c', 'Rv0163--Rv0929--Rv1120c--Rv1669--Rv2037c--Rv2177c--Rv2478c--Rv2514c--Rv3063--Rv3079c--Rv3335c--Rv3665c', 'Rv1767', 'Rv0651', 'Rv0492c', 'Rv2928', 'Rv1834', 'Rv2674', 'Rv0135c--Rv0175--Rv0177--Rv0236A--Rv0501--Rv0511--Rv0543c--Rv0545c--Rv0639--Rv0660c--Rv0714--Rv0715--Rv0909--Rv0954--Rv1171--Rv1262c--Rv1321--Rv1340--Rv1617--Rv1630--Rv1901--Rv2060--Rv2138--Rv2172c--Rv2206--Rv2462c--Rv2553c--Rv2889c--Rv2890c--Rv3001c--Rv3284--Rv3461c--Rv3490--Rv3592--Rv3686c--Rv3688c--Rv3808c', 'Rv2414c', 'Rv3119', 'Rv1588c--Rv1866', 'Rv0261c--Rv0826', 'Rv2350c', 'Rv2327', 'Rv2832c--Rv3032', 'Rv3192', 'Rv1737c--Rv2624c', 'Rv2248', 'Rv0280', 'Rv2539c', 'Rv2985', 'Rv0997', 'Rv1176c--Rv2095c--Rv2205c', 'Rv2729c', 'Rv0403c', 'Rv1381--Rv1382', 'Rv2566', 'Rv0352', 'Rv0023', 'Rv2525c', 'Rvns01', 'Rv1028c', 'Rv0747--Rv1087--Rvnt25', 'Rv1473A', 'Rv2971', 'Rv0968--Rv1194c', 'Rv3066', 'Rv1700', 'Rv0096--Rv0375c--Rv0602c--Rv1034c--Rv1050--Rv1134--Rv1552--Rv2811--Rv2812', 'Rvnt36', 'Rv1257c', 'Rv0303', 'Rv2457c', 'Rv1593c', 'Rv0385', 'Rv0822c', 'Rv1031', 'Rv1601', 'Rv0513', 'Rv2145c', 'Rv2071c', 'Rvnt44', 'Rv1278', 'Rv1757c--Rv2168c--Rv2480c--Rv2815c--Rv3381c--Rv3474', 'Rv1530', 'Rv3161c', 'Rv0186--Rv0342', 'Rv0762c--Rv2964--Rv3535c', 'Rv2551c', 'Rv1765A', 'Rv0331', 'Rv2736c', 'Rv0590--Rv0690c--Rv1680--Rv2502c--Rv2827c--Rv2848c', 'Rv3577', 'Rv0494', 'Rv2371', 'Rv3268', 'Rv0541c', 'Rv0506', 'Rv0732', 'Rv3422c', 'Rv1713--Rv3147--Rv3149--Rv3150--Rv3156', 'Rv2304c', 'Rv0794c', 'Rv2016', 'Rv1563c--Rv2310--Rv3444c--Rv3591c', 'Rv2598--Rv3506', 'Rv1782', 'Rv1075c', 'Rv1673c', 'Rv1078', 'Rv0433--Rv0554', 'Rv2073c', 'Rv0058', 'Rv3875', 'Rv3768', 'Rv1274', 'Rv1485', 'Rv3175', 'Rv2791c', 'Rv2272', 'Rv1854c', 'Rv0992c--Rv1244--Rv1610--Rv2207', 'Rv2144c', 'Rv3792', 'Rv3181c', 'Rv0156--Rv0157--Rv2582', 'Rv2475c', 'Rv0032--Rv0110--Rv0151c--Rv0152c--Rv0218--Rv0386--Rv0488--Rv0687--Rv0796--Rv0804--Rv0837c--Rv1058--Rv1105--Rv1114--Rv1357c--Rv1503c--Rv1514c--Rv1548c--Rv1572c--Rv1651c--Rv1664--Rv1702c--Rv1753c--Rv1755c--Rv1764--Rv1817--Rv2014--Rv2023c--Rv2106--Rv2170--Rv2236c--Rv2277c--Rv2279--Rv2308--Rv2355--Rv2408--Rv2435c--Rv2479c--Rv2528c--Rv2591--Rv2649--Rv2756c--Rv2975c--Rv3097c--Rv3159c--Rv3185--Rv3187--Rv3293--Rv3296--Rv3326--Rv3347c--Rv3475--Rv3501c--Rv3502c--Rv3515c--Rv3555c--Rv3558--Rv3595c--Rv3700c--Rv3812--Rv3845--Rv3887c--Rvnt16--Rvnt39', 'Rv3776', 'Rv3879c', 'Rv3203', 'Rv2226', 'Rv0594--Rv0880--Rv1087A--Rv1922--Rv2113--Rv2759c--Rv3911', 'Rv0697', 'Rv0878c--Rv1116--Rv2015c', 'Rv2894c', 'Rv0266c', 'Rv3002c', 'Rv0500A', 'Rv0193c--Rv3047c', 'Rv1851', 'Rv1337--Rv3413c', 'Rvnt34', 'Rv0010c--Rv0013--Rv0016c--Rv0042c--Rv0147--Rv0148--Rv0174--Rv0178--Rv0198c--Rv0201c--Rv0206c--Rv0238--Rv0239--Rv0248c--Rv0281--Rv0298--Rv0301--Rv0313--Rv0346c--Rv0423c--Rv0426c--Rv0455c--Rv0468--Rv0469--Rv0490--Rv0503c--Rv0559c--Rv0609--Rv0635--Rv0693--Rv0724--Rv0809--Rv0871--Rv0896--Rv0898c--Rv1046c--Rv1079--Rv1080c--Rv1093--Rv1096--Rv1102c--Rv1117--Rv1132--Rv1155--Rv1156--Rv1185c--Rv1293--Rv1335--Rv1360--Rv1390--Rv1410c--Rv1416--Rv1447c--Rv1448c--Rv1489--Rv1543--Rv1559--Rv1676--Rv1677--Rv1703c--Rv1709--Rv1821--Rv1836c--Rv1846c--Rv1887--Rv1888c--Rv1898--Rv2061c--Rv2094c--Rv2097c--Rv2109c--Rv2128--Rv2178c--Rv2195--Rv2203--Rv2224c--Rv2290--Rv2295--Rv2368c--Rv2392--Rv2430c--Rv2431c--Rv2443--Rv2477c--Rv2581c--Rv2588c--Rv2603c--Rv2714--Rv2750--Rv2764c--Rv2782c--Rv2783c--Rv2785c--Rv2861c--Rv2867c--Rv2883c--Rv2926c--Rv2941--Rv2942--Rv2969c--Rv3028c--Rv3208--Rv3220c--Rv3278c--Rv3408--Rv3420c--Rv3519--Rv3596c--Rv3624c--Rv3674c--Rv3677c--Rv3678c--Rv3680--Rv3682--Rv3725--Rv3769--Rv3782--Rv3799c--Rv3802c--Rv3857c--Rv3868--Rv3871', 'Rv1873', 'Rv1299--Rv1797', 'Rv2254c', 'Rv1317c', 'Rv0115--Rv0963c--Rv1509--Rv2023A--Rv2267c--Rv2423--Rv3019c--Rv3378c--Rvnt03', 'Rv2722', 'Rv3740c', 'Rv0860', 'Rv2882c', 'Rv2357c', 'Rvnt42', 'Rv0996', 'Rv0685', 'Rv1962c--Rv2954c--Rv3377c', 'Rv2413c', 'Rv1668c', 'Rv0337c--Rv0390--Rv0674--Rv0814c--Rv1811--Rv3118', 'Rv3564', 'Rvnt29', 'Rv3196A', 'Rv3504', 'Rv0417', 'Rv3390', 'Rv2436--Rv3562', 'Rv0821c--Rv1577c--Rv2651c', 'Rv3560c', 'Rv2932', 'Rvnt06', 'Rv0827c', 'Rv0655--Rv3853', 'Rv2252', 'Rv2108', 'Rv0369c', 'Rv3717', 'Rv0744c', 'Rv3246c', 'Rv2561', 'Rv0770', 'Rv3703c', 'Rv0440--Rv3417c', 'Rv3341', 'Rv2746c', 'Rv1130', 'Rv1457c--Rv1933c--Rv2464c', 'Rv1435c', 'Rv0171--Rv3281', 'Rv3415c', 'Rv3248c', 'Rv0300--Rv0634B--Rv0701--Rv0716--Rv1408--Rv1484--Rv1631--Rv1886c--Rv2240c--Rv2441c', 'Rv2163c', 'Rv1611--Rv3155--Rv3224B', 'Rv2838c', 'Rv2652c', 'Rv0360c', 'Rv1112', 'Rv2862c--Rv3359', 'Rv1226c--Rv3080c', 'Rv2826c', 'Rv3888c', 'Rv0839', 'Rv3551', 'Rv1276c', 'Rv2084--Rv3795', 'Rv1502', 'Rv0612', 'Rv2311', 'Rv0832--Rv1004c--Rv1135c--Rv1441c--Rv2088--Rv2126c--Rv2835c--Rv3164c--Rv3388--Rv3511', 'Rv2488c', 'Rv1490', 'Rv2307c', 'Rv1158c', 'Rv3524', 'Rv3245c', 'Rv0930', 'Rv1063c--Rv2600', 'Rv3557c', 'Rv0173', 'Rv3174', 'Rv0636--Rv1483', 'Rv2183c--Rv2937--Rv3484--Rv3878', 'Rv0891c', 'Rv0979A', 'Rv2902c', 'Rv0540--Rv3797', 'Rv1537', 'Rv0377', 'Rv0467--Rv0509', 'Rv1040c', 'Rv1583c--Rv2208--Rv3037c', 'Rv3310', 'Rv1273c--Rv1417--Rv2447c--Rv2552c--Rv2609c--Rv2829c--Rv3544c', 'Rv1534', 'Rv2653c--Rv3351c', 'Rv1645c', 'Rv0065', 'Rv2349c', 'Rv1138c', 'Rv1465', 'Rv1192', 'Rv2020c', 'Rv3442c--Rv3443c', 'Rv1839c', 'Rv0807--Rv0828c--Rv1969', 'Rvnt41', 'Rv2505c', 'Rv0743c', 'Rv1462', 'Rv2909c', 'Rv2808', 'Rv2662', 'Rv0005', 'Rv2765', 'Rv1998c--Rv2629', 'Rv0197', 'Rvnt09', 'Rv2200c', 'Rv0250c', 'Rv0728c--Rv3242c', 'Rv1585c', 'Rv3349c', 'Rv0210--Rv0372c--Rv1930c', 'Rv2351c', 'Rv0858c', 'Rv1131', 'Rv1939--Rv2250c', 'Rv0646c', 'Rv1802--Rv2961--Rv3532', 'Rv1861', 'Rv0531', 'Rv0749A', 'Rv3742c', 'Rv2734', 'Rv0064--Rv1285--Rv2359--Rv2483c--Rv2484c--Rv2495c--Rv2500c--Rv2781c--Rv3334--Rv3536c', 'Rv2670c', 'Rv0623', 'Rv3658c', 'Rv2828c', 'Rv0771', 'Rv2618', 'Rv1938--Rv1965--Rv1967--Rv1970', 'Rv0892', 'Rv1128c', 'Rv0069c--Rv0879c--Rv1010--Rv1650--Rv2085--Rv2139--Rv2403c--Rv2404c--Rv2550c--Rv2915c--Rv3279c--Rv3713', 'Rv0729', 'Rv1211', 'Rv0227c--Rv0981--Rv1264--Rv1336--Rv1449c--Rv1451--Rv1481--Rv2879c--Rv3285', 'Rv0304c--Rv0396--Rv0532--Rv0746--Rv1028A--Rv1917c--Rv2039c--Rv2352c--Rv2353c--Rv2755c--Rv3113--Rv3343c--Rv3357--Rv3358--Rv3828c--Rvnt21--Rvnt24', 'Rv0504c', 'Rv2245--Rv2246', 'Rv3051c', 'Rv1203c', 'Rv3375', 'Rv1867', 'Rv1259', 'Rv3395A', 'Rv3464', 'Rv3582c', 'Rv0912', 'Rv1738', 'Rv3209', 'Rv2527', 'Rv3391', 'Rv1284', 'Rv3593', 'Rv3872', 'Rv0710--Rv3919c--Rv3920c', 'Rv3864', 'Rv3126c', 'Rv1027c', 'Rv1464', 'Rv3050c--Rv3645--Rv3800c', 'Rv2356c', 'Rv0264c', 'Rv1870c', 'Rv3843c', 'Rv0125--Rv0128--Rv0256c--Rv0391--Rv1047--Rv1199c--Rv1419--Rv1470--Rv2328--Rv2411c--Rv2512c--Rv2595--Rv2707--Rv2962c--Rv3023c--Rv3115--Rv3311--Rv3893c--Rv3914', 'Rv0535', 'Rv2370c', 'Rv3747', 'Rv2901c--Rv3140', 'Rv2320c--Rv3383c--Rvnt40', 'Rv3468c', 'Rv2911', 'Rv0353', 'Rv2571c', 'Rv3206c', 'Rv0232', 'Rv3771c', 'Rv3597c', 'Rv0964c', 'Rv0676c--Rv1493--Rv3552--Rv3566A--Rv3566c--Rv3757c', 'Rv2596', 'Rv0987', 'Rv0311', 'Rv1008', 'Rv2699c', 'Rv1146', 'Rv2077A--Rv3368c', 'Rv1252c', 'Rv2089c', 'Rv0244c--Rv1535--Rv1536--Rv2225--Rv3477', 'Rv2121c', 'Rv1602--Rv3411c--Rv3816c', 'Rv1699', 'Rv0122--Rv0384c--Rv0806c--Rv1239c--Rv1467c--Rv2289--Rv2821c--Rv3734c', 'Rv1667c', 'Rv1868--Rv2918c', 'Rv0263c', 'Rv0445c--Rv0719--Rv2376c--Rv3774', 'Rv1869c', 'Rv2622', 'Rv3410c', 'Rv0703', 'Rv3267', 'Rv1672c--Rv1681--Rv3176c', 'Rv2191', 'Rv0463--Rv1980c', 'Rv1088', 'Rv3250c', 'Rv2602', 'Rv3432c', 'Rv3212', 'Rv2072c', 'Rv3363c', 'Rv2231c', 'Rv3426', 'Rv3321c', 'Rv2429', 'Rv1532c--Rv1876', 'Rv2892c', 'Rv2992c', 'Rv1184c', 'Rv3158', 'Rv3020c', 'Rv1289', 'Rv0614', 'Rv0243--Rv1387--Rv3148--Rv3157', 'Rv3211', 'Rv0694--Rv1444c', 'Rv0144--Rv0145--Rv0207c--Rv0229c--Rv0432--Rv0460--Rv0500B--Rv0502--Rv0611c--Rv0632c--Rv0638--Rv0640--Rv0667--Rv0670--Rv0682--Rv0683--Rv0700--Rv1095--Rv1109c--Rv1110--Rv1162--Rv1174c--Rv1200--Rv1221--Rv1222--Rv1265--Rv1322--Rv1322A--Rv1323--Rv1392--Rv1411c--Rv1594--Rv1615--Rv1644--Rv1796--Rv1826--Rv1827--Rv1831--Rv1871c--Rv1872c--Rv1906c--Rv1925--Rv1926c--Rv1929c--Rv2069--Rv2080--Rv2091c--Rv2104c--Rv2194--Rv2220--Rv2222c--Rv2412--Rv2444c--Rv2460c--Rv2463--Rv2534c--Rv2555c--Rv2556c--Rv2576c--Rv2656c--Rv2703--Rv2708c--Rv2795c--Rv2840c--Rv2888c--Rv2903c--Rv2904c--Rv2976c--Rv3006--Rv3046c--Rv3219--Rv3277--Rv3295--Rv3407--Rv3412--Rv3458c--Rv3460c--Rv3462c--Rv3487c--Rv3489--Rv3581c--Rv3584--Rv3648c--Rv3678A--Rv3679--Rv3722c--Rv3859c--Rv3924c--Rvnt08', 'Rv1414', 'Rv1404--Rv2927c', 'Rv3015c', 'Rv0066c', 'Rv1220c', 'Rv2048c--Rv3793', 'Rv0162c', 'Rv0534c--Rv2914c', 'Rv3133c', 'Rv1030', 'Rv1860', 'Rv0485--Rv2720--Rv2988c', 'Rv0431', 'Rv1198--Rv3312A', 'Rv0209', 'Rv1124', 'Rv0953c', 'Rv1037c--Rv2346c--Rv3619c', 'Rv0514', 'Rv3307', 'Rv0510', 'Rv0393', 'Rv2802c', 'Rv2369c', 'Rv1636--Rv3849', 'Rv0528--Rv0597c--Rv1026--Rv1679--Rv2092c--Rv3152', 'Rv0894', 'Rv1389', 'Rv3424c', 'Rv3601c', 'Rv0269c--Rv0584--Rv3170', 'Rv2590', 'Rv0249c', 'Rv1330c', 'Rv1017c--Rv1173--Rv1224--Rv1443c--Rv1780--Rv1863c--Rv1941--Rv2259--Rv2472--Rv2537c--Rv2587c--Rv2792c--Rv3603c', 'Rv1219c', 'Rv2165c--Rv2497c', 'Rv0477--Rv0608--Rv0702--Rv1015c--Rv1300--Rv1301--Rv1397c--Rv1398c--Rv2077c--Rv2331--Rv3486', 'Rv3770c', 'Rv1286', 'Rv0634A', 'Rv3166c', 'Rv3880c', 'Rv0592', 'Rv1937', 'Rv0925c', 'Rv1275--Rv1362c--Rv2410c--Rv3863--Rv3876', 'Rv0399c--Rv2425c', 'Rvnt28', 'Rv3571', 'Rv2970A', 'Rv1356c', 'Rv2164c', 'Rv1549', 'Rv2933', 'Rv2489c', 'Rv3613c', 'Rv0721--Rv2952', 'Rv0754', 'Rv0599c', 'Rv1986', 'Rv2982c', 'Rv1125--Rv2417c', 'Rv0061c', 'Rv0795--Rv2354--Rv3186', 'Rv0084', 'Rv2963', 'Rv1070c', 'Rv2496c', 'Rv2631--Rv3271c', 'Rv1932', 'Rv2523c--Rv3805c', 'Rv2485c', 'Rv1934c--Rv2573', 'Rv2150c', 'Rv2255c', 'Rv3741c', 'Rv2158c', 'Rv2330c', 'Rv1005c', 'Rvnt04', 'Rv1885c', 'Rv3322c', 'Rv1988', 'Rv0586', 'Rv1339', 'Rv2017', 'Rv1958c', 'Rv0583c--Rv1246c--Rv1515c--Rv2716--Rv3818--Rv3901c', 'Rv1840c', 'Rv3257c--Rv3709c', 'Rv1399c', 'Rv2739c', 'Rv1116A', 'Rv0330c', 'Rv1463', 'Rv1705c', 'Rv2160A', 'Rv1497--Rv3241c', 'Rv0521', 'Rv2727c', 'Rvnt31', 'Rv3160c', 'Rv1837c', 'Rv0692', 'Rv0752c', 'Rv3676', 'Rv0470A', 'Rv0062--Rv1473--Rv2398c--Rv2400c', 'Rv0373c--Rv0374c--Rv1726', 'Rv0575c--Rv2515c--Rv3471c--Rv3637', 'Rv0160c', 'Rv0524--Rv0529--Rv2604c--Rv3758c', 'Rv0081--Rv0082--Rv2030c', 'Rv0875c', 'Rv2251', 'Rv2922A', 'Rv3201c', 'Rv2032--Rv3129', 'Rv2570', 'Rv1436', 'Rv0116c--Rv0140--Rv0158--Rv1545--Rv1608c--Rv1710--Rv1844c--Rv2134c--Rv2146c--Rv2237--Rv2296--Rv2970c--Rv3274c--Rv3336c', 'Rv2273--Rv3364c--Rv3791', 'Rv1660', 'Rv1187--Rv3848', 'Rv1369c--Rv1756c--Rv2167c--Rv2814c--Rv3380c--Rv3517', 'Rv2806', 'Rv0405--Rv2796c', 'Rv2035', 'Rv3586', 'Rv3583c', 'Rv2452c', 'Rv3055', 'Rv0172--Rv2929', 'Rv0962c--Rv2025c', 'Rv2997', 'Rv1359', 'Rv0893c', 'Rv0720', 'Rv0220', 'Rv0883c', 'Rv1241', 'Rv3803c', 'Rv2160c', 'Rv1579c', 'Rv0322', 'Rv2745c', 'Rv3485c', 'Rv1584c', 'Rv0226c', 'Rv2517c', 'Rv3425', 'Rv1547--Rv2747', 'Rv3540c', 'Rv1773c', 'Rv0487', 'Rv0619--Rv1973', 'Rv3382c', 'Rv0245--Rv0328--Rv0491--Rv0577--Rv0903c--Rv1599--Rv1600--Rv1603--Rv1604--Rv1606--Rv2148c--Rv2149c--Rv2156c--Rv2157c--Rv2482c--Rv2494--Rv2499c--Rv2501c--Rv2776c--Rv2779c--Rv3244c--Rv3287c--Rv3626c', 'Rv0988', 'Rv3003c', 'Rv3440c', 'Rv2694c', 'Rv0653c--Rv0723', 'Rv0106', 'Rv1927', 'Rv0519c', 'Rvns02', 'Rv2440c', 'Rv2987c', 'Rv0642c', 'Rv3866--Rv3873', 'Rv1363c', 'Rv2050', 'Rv2960c', 'Rv2334--Rv2375', 'Rv3711c', 'Rv2166c', 'Rv0421c', 'Rv2005c', 'Rv0984', 'Rv0972c--Rv3163c', 'Rv3202c', 'Rv0849', 'Rv0340--Rv3291c', 'Rv0733--Rv3043c', 'Rv0986', 'Rv0097--Rv0192A--Rv0217c--Rv0305c--Rv0327c--Rv0355c--Rv0536--Rv0779c--Rv1036c--Rv1068c--Rv1961--Rv2038c--Rv2264c--Rv2530A--Rv2810c--Rv2853--Rv2886c--Rv2974c--Rv2998A--Rv3350c--Rv3367--Rv3421c--Rv3903c', 'Rv3048c', 'Rv0591--Rv0943c--Rv1714--Rv3447c--Rv3640c', 'Rv0855--Rv2012--Rv2263', 'Rv3128c', 'Rv3258c', 'Rv2924c', 'Rv2637', 'Rv0908--Rv2062c', 'Rv2690c'] not in index\"",
     "output_type": "error",
     "traceback": [
      "\u001b[0;31m------------------------------------------------------------------------\u001b[0m",
      "\u001b[0;31mKeyError\u001b[0m                               Traceback (most recent call last)",
      "\u001b[0;32m<ipython-input-11-3fdd52840489>\u001b[0m in \u001b[0;36m<module>\u001b[0;34m\u001b[0m\n\u001b[1;32m      8\u001b[0m     \u001b[0;32mfor\u001b[0m \u001b[0mdata_key\u001b[0m \u001b[0;32min\u001b[0m \u001b[0mDATA_DCT\u001b[0m\u001b[0;34m.\u001b[0m\u001b[0mkeys\u001b[0m\u001b[0;34m(\u001b[0m\u001b[0;34m)\u001b[0m\u001b[0;34m:\u001b[0m\u001b[0;34m\u001b[0m\u001b[0m\n\u001b[1;32m      9\u001b[0m         \u001b[0;32mif\u001b[0m \u001b[0mdata_key\u001b[0m \u001b[0;34m==\u001b[0m \u001b[0mclassifier_key\u001b[0m\u001b[0;34m[\u001b[0m\u001b[0;36m0\u001b[0m\u001b[0;34m]\u001b[0m\u001b[0;34m:\u001b[0m\u001b[0;34m\u001b[0m\u001b[0m\n\u001b[0;32m---> 10\u001b[0;31m             \u001b[0mtest_df\u001b[0m \u001b[0;34m=\u001b[0m \u001b[0mDATA_DCT\u001b[0m\u001b[0;34m[\u001b[0m\u001b[0mdata_key\u001b[0m\u001b[0;34m]\u001b[0m\u001b[0;34m.\u001b[0m\u001b[0mdf_X\u001b[0m\u001b[0;34m[\u001b[0m\u001b[0mGENE_DCT\u001b[0m\u001b[0;34m[\u001b[0m\u001b[0mclassifier_key\u001b[0m\u001b[0;34m[\u001b[0m\u001b[0;36m1\u001b[0m\u001b[0;34m]\u001b[0m\u001b[0;34m]\u001b[0m\u001b[0;34m]\u001b[0m\u001b[0;34m\u001b[0m\u001b[0m\n\u001b[0m\u001b[1;32m     11\u001b[0m             \u001b[0mdf_X\u001b[0m \u001b[0;34m=\u001b[0m \u001b[0mclassifier_clf\u001b[0m\u001b[0;34m.\u001b[0m\u001b[0m_df_X\u001b[0m\u001b[0;34m.\u001b[0m\u001b[0mcopy\u001b[0m\u001b[0;34m(\u001b[0m\u001b[0;34m)\u001b[0m\u001b[0;34m\u001b[0m\u001b[0m\n\u001b[1;32m     12\u001b[0m             \u001b[0mcolumns\u001b[0m \u001b[0;34m=\u001b[0m \u001b[0mlist\u001b[0m\u001b[0;34m(\u001b[0m\u001b[0mtest_df\u001b[0m\u001b[0;34m.\u001b[0m\u001b[0mcolumns\u001b[0m\u001b[0;34m)\u001b[0m\u001b[0;34m\u001b[0m\u001b[0m\n",
      "\u001b[0;32m~/miniconda3/lib/python3.6/site-packages/pandas/core/frame.py\u001b[0m in \u001b[0;36m__getitem__\u001b[0;34m(self, key)\u001b[0m\n\u001b[1;32m   2910\u001b[0m             \u001b[0;32mif\u001b[0m \u001b[0mis_iterator\u001b[0m\u001b[0;34m(\u001b[0m\u001b[0mkey\u001b[0m\u001b[0;34m)\u001b[0m\u001b[0;34m:\u001b[0m\u001b[0;34m\u001b[0m\u001b[0m\n\u001b[1;32m   2911\u001b[0m                 \u001b[0mkey\u001b[0m \u001b[0;34m=\u001b[0m \u001b[0mlist\u001b[0m\u001b[0;34m(\u001b[0m\u001b[0mkey\u001b[0m\u001b[0;34m)\u001b[0m\u001b[0;34m\u001b[0m\u001b[0m\n\u001b[0;32m-> 2912\u001b[0;31m             \u001b[0mindexer\u001b[0m \u001b[0;34m=\u001b[0m \u001b[0mself\u001b[0m\u001b[0;34m.\u001b[0m\u001b[0mloc\u001b[0m\u001b[0;34m.\u001b[0m\u001b[0m_get_listlike_indexer\u001b[0m\u001b[0;34m(\u001b[0m\u001b[0mkey\u001b[0m\u001b[0;34m,\u001b[0m \u001b[0maxis\u001b[0m\u001b[0;34m=\u001b[0m\u001b[0;36m1\u001b[0m\u001b[0;34m,\u001b[0m \u001b[0mraise_missing\u001b[0m\u001b[0;34m=\u001b[0m\u001b[0;32mTrue\u001b[0m\u001b[0;34m)\u001b[0m\u001b[0;34m[\u001b[0m\u001b[0;36m1\u001b[0m\u001b[0;34m]\u001b[0m\u001b[0;34m\u001b[0m\u001b[0m\n\u001b[0m\u001b[1;32m   2913\u001b[0m \u001b[0;34m\u001b[0m\u001b[0m\n\u001b[1;32m   2914\u001b[0m         \u001b[0;31m# take() does not accept boolean indexers\u001b[0m\u001b[0;34m\u001b[0m\u001b[0;34m\u001b[0m\u001b[0m\n",
      "\u001b[0;32m~/miniconda3/lib/python3.6/site-packages/pandas/core/indexing.py\u001b[0m in \u001b[0;36m_get_listlike_indexer\u001b[0;34m(self, key, axis, raise_missing)\u001b[0m\n\u001b[1;32m   1252\u001b[0m             \u001b[0mkeyarr\u001b[0m\u001b[0;34m,\u001b[0m \u001b[0mindexer\u001b[0m\u001b[0;34m,\u001b[0m \u001b[0mnew_indexer\u001b[0m \u001b[0;34m=\u001b[0m \u001b[0max\u001b[0m\u001b[0;34m.\u001b[0m\u001b[0m_reindex_non_unique\u001b[0m\u001b[0;34m(\u001b[0m\u001b[0mkeyarr\u001b[0m\u001b[0;34m)\u001b[0m\u001b[0;34m\u001b[0m\u001b[0m\n\u001b[1;32m   1253\u001b[0m \u001b[0;34m\u001b[0m\u001b[0m\n\u001b[0;32m-> 1254\u001b[0;31m         \u001b[0mself\u001b[0m\u001b[0;34m.\u001b[0m\u001b[0m_validate_read_indexer\u001b[0m\u001b[0;34m(\u001b[0m\u001b[0mkeyarr\u001b[0m\u001b[0;34m,\u001b[0m \u001b[0mindexer\u001b[0m\u001b[0;34m,\u001b[0m \u001b[0maxis\u001b[0m\u001b[0;34m,\u001b[0m \u001b[0mraise_missing\u001b[0m\u001b[0;34m=\u001b[0m\u001b[0mraise_missing\u001b[0m\u001b[0;34m)\u001b[0m\u001b[0;34m\u001b[0m\u001b[0m\n\u001b[0m\u001b[1;32m   1255\u001b[0m         \u001b[0;32mreturn\u001b[0m \u001b[0mkeyarr\u001b[0m\u001b[0;34m,\u001b[0m \u001b[0mindexer\u001b[0m\u001b[0;34m\u001b[0m\u001b[0m\n\u001b[1;32m   1256\u001b[0m \u001b[0;34m\u001b[0m\u001b[0m\n",
      "\u001b[0;32m~/miniconda3/lib/python3.6/site-packages/pandas/core/indexing.py\u001b[0m in \u001b[0;36m_validate_read_indexer\u001b[0;34m(self, key, indexer, axis, raise_missing)\u001b[0m\n\u001b[1;32m   1302\u001b[0m             \u001b[0;32mif\u001b[0m \u001b[0mraise_missing\u001b[0m\u001b[0;34m:\u001b[0m\u001b[0;34m\u001b[0m\u001b[0m\n\u001b[1;32m   1303\u001b[0m                 \u001b[0mnot_found\u001b[0m \u001b[0;34m=\u001b[0m \u001b[0mlist\u001b[0m\u001b[0;34m(\u001b[0m\u001b[0mset\u001b[0m\u001b[0;34m(\u001b[0m\u001b[0mkey\u001b[0m\u001b[0;34m)\u001b[0m \u001b[0;34m-\u001b[0m \u001b[0mset\u001b[0m\u001b[0;34m(\u001b[0m\u001b[0max\u001b[0m\u001b[0;34m)\u001b[0m\u001b[0;34m)\u001b[0m\u001b[0;34m\u001b[0m\u001b[0m\n\u001b[0;32m-> 1304\u001b[0;31m                 \u001b[0;32mraise\u001b[0m \u001b[0mKeyError\u001b[0m\u001b[0;34m(\u001b[0m\u001b[0;34mf\"{not_found} not in index\"\u001b[0m\u001b[0;34m)\u001b[0m\u001b[0;34m\u001b[0m\u001b[0m\n\u001b[0m\u001b[1;32m   1305\u001b[0m \u001b[0;34m\u001b[0m\u001b[0m\n\u001b[1;32m   1306\u001b[0m             \u001b[0;31m# we skip the warning on Categorical\u001b[0m\u001b[0;34m\u001b[0m\u001b[0;34m\u001b[0m\u001b[0m\n",
      "\u001b[0;31mKeyError\u001b[0m: \"['Rv2647', 'Rv1904--Rv3478', 'Rv0959', 'Rv2481c', 'Rv2162c', 'Rv0624--Rv1952', 'Rv1684', 'Rv1550--Rv2283', 'Rv0805', 'Rv3317', 'Rv0376c', 'Rv1245c--Rv1769--Rv2152c--Rv2198c--Rv2280--Rv2851c--Rv2852c--Rv3338', 'Rv3169', 'Rv2966c', 'Rv0483--Rv0484c', 'Rv0279c', 'Rv2498c--Rv2503c', 'Rv2850c', 'Rv1248c--Rv2197c--Rv2841c', 'Rv0326', 'Rv2689c', 'Rv2822c', 'Rv3122', 'Rv2438A', 'Rv3654c', 'Rvnt37', 'Rv3456c', 'Rv1297', 'Rv2809', 'Rv2244', 'Rv2439c', 'Rv0863--Rv3029c', 'Rv1325c', 'Rv0270--Rv0309--Rv0476--Rv0810c--Rv0864--Rv0931c--Rv0983--Rv1307--Rv1308--Rv1309--Rv1324--Rv1924c--Rv1946c--Rv2111c--Rv2129c--Rv2182c--Rv2193--Rv2196--Rv2204c--Rv2291--Rv2391--Rv2445c--Rv2601A--Rv2704--Rv2753c--Rv2868c--Rv3283--Rv3409c--Rv3869', 'Rv3280', 'Rv2549c', 'Rv1305', 'Rv2804c--Rv3892c', 'Rv1144', 'Rv1227c', 'Rv1489A', 'Rv3612c', 'Rv0835', 'Rv2641', 'Rv0430--Rv3320c', 'Rv3260c', 'Rv2979c', 'Rv3625c', 'Rv1039c', 'Rv3005c', 'Rv1663', 'Rv0604--Rv0904c--Rv2340c--Rv2803--Rv2896c--Rv3228--Rv3256c--Rv3589--Rv3897c', 'Rv1349', 'Rv2278--Rv3428c', 'Rv0760c', 'Rv1719', 'Rv1619', 'Rv0329c', 'Rv1643', 'Rv1696', 'Rv1347c', 'Rv1791', 'Rv1168c', 'Rv3824c', 'Rv1329c', 'Rv2029c--Rv2623', 'Rv3355c', 'Rv3789', 'Rv0088', 'Rv0411c', 'Rv0170', 'Rv1385--Rv2065', 'Rv2614A', 'Rv0098--Rv0593--Rv0605--Rv0658c--Rv0917--Rv1431--Rv1556--Rv1722--Rv1761c--Rv2274c--Rv2577--Rv2820c--Rv3090--Rv3324c--Rv3387--Rv3431c', 'Rv1658', 'Rv2006--Rv3132c--Rv3134c', 'Rv1044--Rv1587c--Rv2864c--Rv3096', 'Rv3403c', 'Rv2338c', 'Rv0643c', 'Rv1935c', 'Rv0412c--Rv2777c', 'Rv0618', 'Rv3045--Rv3852', 'Rv0057--Rv0464c--Rv0470c--Rv0479c--Rv0556--Rv0567--Rv0781--Rv0870c--Rv0948c--Rv1103c--Rv1223--Rv1331--Rv1334--Rv1838c--Rv2124c--Rv2202c--Rv2239c--Rv2606c--Rv2876--Rv2951c--Rv3142c--Rv3198A--Rv3207c--Rv3405c--Rv3491--Rv3628--Rv3651--Rv3755c--Rv3837c--Rv3915--Rvnt07--Rvnt11', 'Rv0105c--Rv3352c--Rv3787c', 'Rv3073c', 'Rv1263', 'Rv0711--Rv2021c--Rv2115c', 'Rv2794c', 'Rv0561c', 'Rv0379', 'Rv1956', 'Rv0578c', 'Rv1306', 'Rv0560c', 'Rv1947', 'Rv1687c', 'Rv0707--Rv0709', 'Rv0625c', 'Rv1698', 'Rv2458', 'Rv0324', 'Rv3615c', 'Rv3675', 'Rv0067c--Rv0549c--Rv2086', 'Rv3282--Rv3455c', 'Rv0704', 'Rv1521--Rv3465', 'Rv0414c', 'Rv2306A', 'Rv1507c', 'Rv3559c', 'Rv1452c--Rv3590c', 'Rv1482c', 'Rv3846--Rv3847', 'Rv0024--Rv3561', 'Rv0416--Rv0765c', 'Rv3505', 'Rvnt01', 'Rv3918c', 'Rv3224', 'Rv0862c', 'Rv0240', 'Rv0895--Rv1573', 'Rv0359', 'Rv0890c--Rv1752--Rv2754c--Rv3362c--Rv3794', 'Rv2816c', 'Rv0053', 'Rv0132c', 'Rv0456c', 'Rv3587c', 'Rv3550', 'Rv0211--Rv0268c--Rv1161--Rv2454c--Rv3197--Rv3801c', 'Rv1799', 'Rv1951c', 'Rv3319', 'Rv1763--Rv3162c--Rv3184--Rv3325', 'Rv3723', 'Rv2613c--Rv3171c--Rv3265c', 'Rv3052c', 'Rv0462', 'Rv0841', 'Rv0274--Rv0596c--Rv3182', 'Rv2978c', 'Rv1501', 'Rv0094c--Rv2807--Rv2983--Rv3467--Rv3899c', 'Rv1727', 'Rv0006', 'Rv1204c', 'Rv2185c', 'Rv2307B', 'Rv0573c', 'Rv1999c', 'Rv1595--Rv3221A', 'Rv3235', 'Rv0365c--Rv0366c--Rv1889c--Rv2542--Rv3439c', 'Rv0840c--Rv3572', 'Rv1218c', 'Rv1310', 'Rv0969--Rv1083--Rv1342c--Rv2019--Rv2358', 'Rv0629c--Rv0745--Rv2545--Rv3649', 'Rv1370c', 'Rv2268c', 'Rv3092c', 'Rv0422c--Rv3670', 'Rv1888A', 'Rv2261c--Rv3578', 'Rv1062', 'Rv0482--Rv1406--Rv1423--Rv3466', 'Rv2105--Rv2648', 'Rv1813c--Rv2007c--Rv2626c', 'Rv1858', 'Rv1992c', 'Rv0647c--Rv3646c', 'Rv3376', 'Rv0659c', 'Rv0551c--Rv1426c', 'Rv1407', 'Rv1542c--Rv3088--Rv3089', 'Rv2797c', 'Rv0225--Rv0406c--Rv0427c--Rv0695--Rv1025--Rv1069c--Rv1098c--Rv1512--Rv1751--Rv2046--Rv2258c--Rv3030--Rv3031--Rv3313c--Rv3575c', 'Rv3027c', 'Rv2506', 'Rv2644c', 'Rv1009--Rv3205c', 'Rv2540c', 'Rv1786--Rv2541', 'Rv0935', 'Rv0114--Rv0644c--Rv0726c--Rv1345--Rv1346--Rv1471--Rv1783--Rv2451--Rv2698--Rv3137--Rv3194c--Rv3197A--Rv3831--Rv3862c--Rv3881c--Rv3913', 'Rv2516c', 'Rv2706c', 'Rv0843', 'Rv3300c', 'Rv1455', 'Rv0751c', 'Rv3136', 'Rv0921--Rv3064c--Rvnt17', 'Rv3469c', 'Rv3618', 'Rv3809c', 'Rv3870', 'Rv0865--Rv1182', 'Rvnt15', 'Rv0525--Rv0527', 'Rv3098c', 'Rv0370c--Rv0622', 'Rv0499', 'Rv2990c', 'Rv0302', 'Rv0449c', 'Rv3183--Rv3533c', 'Rv1466', 'Rv1298--Rv2839c', 'Rv0048c--Rv0558--Rv1415--Rv2110c--Rv2292c--Rv2532c--Rv3273--Rv3520c', 'Rv1277', 'Rv3807c', 'Rv0696', 'Rv2476c', 'Rv1830', 'Rv1944c', 'Rv1909c--Rv3180c', 'Rv0113--Rv0343--Rv0672--Rv0713--Rv1065--Rv1082--Rv2518c', 'Rv0157A', 'Rv0068--Rv0448c--Rv1151c--Rv2643--Rv3851', 'Rv2885c', 'Rv2393', 'Rv1624c--Rv2187', 'Rv1712', 'Rvnt35', 'Rv0831c', 'Rv2442c', 'Rv1718', 'Rv2068c', 'Rv0761c', 'Rv1957', 'Rv0435c--Rv2446c--Rv3756c', 'Rv2650c--Rv2669', 'Rv3553', 'Rv1708', 'Rv3151', 'Rv1460--Rv3662c', 'Rv3874', 'Rv3039c', 'Rv2424c', 'Rv1388--Rv1793--Rv2114', 'Rv2047c', 'Rv1038c--Rv1197--Rv1792--Rv2347c--Rv3620c', 'Rv2973c', 'Rv0095c', 'Rv3470c', 'Rv3865', 'Rv2695', 'Rv3906c', 'Rv0395--Rv1553--Rv2813', 'Rv2033c', 'Rv0669c--Rv2679--Rv3262', 'Rv1043c', 'Rv3563', 'Rv1432--Rv1968--Rv1972', 'Rv3642c', 'Rv1303', 'Rv2842c', 'Rv1006', 'Rv0112--Rv2022c--Rv3416', 'Rv1857', 'Rv0768', 'Rv1319c--Rv3361c', 'Rv0020c', 'Rv0755c', 'Rv1589', 'Rv1113', 'Rv3195', 'Rv0022c--Rv0219--Rv1931c', 'Rv2011c', 'Rv2639c', 'Rv1472--Rv2715', 'Rv0014c', 'Rv2719c', 'Rv3890c', 'Rv2735c', 'Rv3093c--Rv3094c', 'Rv3639c', 'Rv2625c--Rv2627c', 'Rv0566c', 'Rv0641--Rv1097c--Rv2397c--Rv2950c', 'Rv0078--Rv0191--Rv1084--Rv1191--Rv1266c--Rv1918c--Rv2253--Rv2305--Rv2365c--Rv2615c--Rv2621c--Rv2677c--Rv2741--Rv2910c--Rv3070--Rv3292--Rv3500c--Rv3712', 'Rv0764c--Rv0977', 'Rv0512', 'Rv0851c', 'Rv0750', 'Rv3108', 'Rv3600c', 'Rv2956', 'Rv0952--Rv3811', 'Rv2127', 'Rv1304', 'Rv3316', 'Rv0361', 'Rv0011c--Rv0117--Rv0137c--Rv0307c--Rv0338c--Rv0367c--Rv0383c--Rv0424c--Rv0454--Rv0780--Rv0784--Rv0787A--Rv0956--Rv1179c--Rv1212c--Rv1216c--Rv1247c--Rv1253--Rv1260--Rv1332--Rv1394c--Rv1711--Rv1747--Rv1749c--Rv1788--Rv1814--Rv1828--Rv1845c--Rv1923--Rv1979c--Rv2056c--Rv2132--Rv2135c--Rv2215--Rv2216--Rv2238c--Rv2337c--Rv2486--Rv2586c--Rv2725c--Rv2761c--Rv2784c--Rv3038c--Rv3072c--Rv3075c--Rv3107c--Rv3123--Rv3154--Rv3204--Rv3223c--Rv3314c--Rv3454--Rv3606c--Rv3610c--Rv3683--Rv3710--Rv3731--Rv3886c', 'Rv0933', 'Rv3895c', 'Rv0587', 'Rv2189c', 'Rv2269c', 'Rv0055', 'Rv1794--Rv2711', 'Rv3833', 'Rv0887c', 'Rv0793--Rv1936', 'Rv3457c', 'Rv2584c', 'Rv0859', 'Rv1427c--Rv3146', 'Rv0848', 'Rv1479', 'Rv0601c--Rv0620--Rv0648--Rv0650--Rv1688--Rv2667--Rv2891--Rv3446c--Rv3448--Rv3450c--Rv3573c--Rv3659c', 'Rv3238c', 'Rv0126--Rv0466--Rv1379--Rv1380--Rv1383', 'Rv0136', 'Rv2053c', 'Rv1810', 'Rv2336', 'Rv3616c', 'Rv0318c', 'Rv0001--Rv0119--Rv0257--Rv0854--Rv0884c--Rv1638A--Rv1690--Rv1720c--Rv2302--Rv3353c--Rv3354', 'Rv0951--Rv1233c', 'Rv2407', 'Rv0179c', 'Rv0738', 'Rv0194', 'Rv1725c', 'Rv2744c', 'Rv1626', 'Rv1864c', 'Rv0163--Rv0929--Rv1120c--Rv1669--Rv2037c--Rv2177c--Rv2478c--Rv2514c--Rv3063--Rv3079c--Rv3335c--Rv3665c', 'Rv1767', 'Rv0651', 'Rv0492c', 'Rv2928', 'Rv1834', 'Rv2674', 'Rv0135c--Rv0175--Rv0177--Rv0236A--Rv0501--Rv0511--Rv0543c--Rv0545c--Rv0639--Rv0660c--Rv0714--Rv0715--Rv0909--Rv0954--Rv1171--Rv1262c--Rv1321--Rv1340--Rv1617--Rv1630--Rv1901--Rv2060--Rv2138--Rv2172c--Rv2206--Rv2462c--Rv2553c--Rv2889c--Rv2890c--Rv3001c--Rv3284--Rv3461c--Rv3490--Rv3592--Rv3686c--Rv3688c--Rv3808c', 'Rv2414c', 'Rv3119', 'Rv1588c--Rv1866', 'Rv0261c--Rv0826', 'Rv2350c', 'Rv2327', 'Rv2832c--Rv3032', 'Rv3192', 'Rv1737c--Rv2624c', 'Rv2248', 'Rv0280', 'Rv2539c', 'Rv2985', 'Rv0997', 'Rv1176c--Rv2095c--Rv2205c', 'Rv2729c', 'Rv0403c', 'Rv1381--Rv1382', 'Rv2566', 'Rv0352', 'Rv0023', 'Rv2525c', 'Rvns01', 'Rv1028c', 'Rv0747--Rv1087--Rvnt25', 'Rv1473A', 'Rv2971', 'Rv0968--Rv1194c', 'Rv3066', 'Rv1700', 'Rv0096--Rv0375c--Rv0602c--Rv1034c--Rv1050--Rv1134--Rv1552--Rv2811--Rv2812', 'Rvnt36', 'Rv1257c', 'Rv0303', 'Rv2457c', 'Rv1593c', 'Rv0385', 'Rv0822c', 'Rv1031', 'Rv1601', 'Rv0513', 'Rv2145c', 'Rv2071c', 'Rvnt44', 'Rv1278', 'Rv1757c--Rv2168c--Rv2480c--Rv2815c--Rv3381c--Rv3474', 'Rv1530', 'Rv3161c', 'Rv0186--Rv0342', 'Rv0762c--Rv2964--Rv3535c', 'Rv2551c', 'Rv1765A', 'Rv0331', 'Rv2736c', 'Rv0590--Rv0690c--Rv1680--Rv2502c--Rv2827c--Rv2848c', 'Rv3577', 'Rv0494', 'Rv2371', 'Rv3268', 'Rv0541c', 'Rv0506', 'Rv0732', 'Rv3422c', 'Rv1713--Rv3147--Rv3149--Rv3150--Rv3156', 'Rv2304c', 'Rv0794c', 'Rv2016', 'Rv1563c--Rv2310--Rv3444c--Rv3591c', 'Rv2598--Rv3506', 'Rv1782', 'Rv1075c', 'Rv1673c', 'Rv1078', 'Rv0433--Rv0554', 'Rv2073c', 'Rv0058', 'Rv3875', 'Rv3768', 'Rv1274', 'Rv1485', 'Rv3175', 'Rv2791c', 'Rv2272', 'Rv1854c', 'Rv0992c--Rv1244--Rv1610--Rv2207', 'Rv2144c', 'Rv3792', 'Rv3181c', 'Rv0156--Rv0157--Rv2582', 'Rv2475c', 'Rv0032--Rv0110--Rv0151c--Rv0152c--Rv0218--Rv0386--Rv0488--Rv0687--Rv0796--Rv0804--Rv0837c--Rv1058--Rv1105--Rv1114--Rv1357c--Rv1503c--Rv1514c--Rv1548c--Rv1572c--Rv1651c--Rv1664--Rv1702c--Rv1753c--Rv1755c--Rv1764--Rv1817--Rv2014--Rv2023c--Rv2106--Rv2170--Rv2236c--Rv2277c--Rv2279--Rv2308--Rv2355--Rv2408--Rv2435c--Rv2479c--Rv2528c--Rv2591--Rv2649--Rv2756c--Rv2975c--Rv3097c--Rv3159c--Rv3185--Rv3187--Rv3293--Rv3296--Rv3326--Rv3347c--Rv3475--Rv3501c--Rv3502c--Rv3515c--Rv3555c--Rv3558--Rv3595c--Rv3700c--Rv3812--Rv3845--Rv3887c--Rvnt16--Rvnt39', 'Rv3776', 'Rv3879c', 'Rv3203', 'Rv2226', 'Rv0594--Rv0880--Rv1087A--Rv1922--Rv2113--Rv2759c--Rv3911', 'Rv0697', 'Rv0878c--Rv1116--Rv2015c', 'Rv2894c', 'Rv0266c', 'Rv3002c', 'Rv0500A', 'Rv0193c--Rv3047c', 'Rv1851', 'Rv1337--Rv3413c', 'Rvnt34', 'Rv0010c--Rv0013--Rv0016c--Rv0042c--Rv0147--Rv0148--Rv0174--Rv0178--Rv0198c--Rv0201c--Rv0206c--Rv0238--Rv0239--Rv0248c--Rv0281--Rv0298--Rv0301--Rv0313--Rv0346c--Rv0423c--Rv0426c--Rv0455c--Rv0468--Rv0469--Rv0490--Rv0503c--Rv0559c--Rv0609--Rv0635--Rv0693--Rv0724--Rv0809--Rv0871--Rv0896--Rv0898c--Rv1046c--Rv1079--Rv1080c--Rv1093--Rv1096--Rv1102c--Rv1117--Rv1132--Rv1155--Rv1156--Rv1185c--Rv1293--Rv1335--Rv1360--Rv1390--Rv1410c--Rv1416--Rv1447c--Rv1448c--Rv1489--Rv1543--Rv1559--Rv1676--Rv1677--Rv1703c--Rv1709--Rv1821--Rv1836c--Rv1846c--Rv1887--Rv1888c--Rv1898--Rv2061c--Rv2094c--Rv2097c--Rv2109c--Rv2128--Rv2178c--Rv2195--Rv2203--Rv2224c--Rv2290--Rv2295--Rv2368c--Rv2392--Rv2430c--Rv2431c--Rv2443--Rv2477c--Rv2581c--Rv2588c--Rv2603c--Rv2714--Rv2750--Rv2764c--Rv2782c--Rv2783c--Rv2785c--Rv2861c--Rv2867c--Rv2883c--Rv2926c--Rv2941--Rv2942--Rv2969c--Rv3028c--Rv3208--Rv3220c--Rv3278c--Rv3408--Rv3420c--Rv3519--Rv3596c--Rv3624c--Rv3674c--Rv3677c--Rv3678c--Rv3680--Rv3682--Rv3725--Rv3769--Rv3782--Rv3799c--Rv3802c--Rv3857c--Rv3868--Rv3871', 'Rv1873', 'Rv1299--Rv1797', 'Rv2254c', 'Rv1317c', 'Rv0115--Rv0963c--Rv1509--Rv2023A--Rv2267c--Rv2423--Rv3019c--Rv3378c--Rvnt03', 'Rv2722', 'Rv3740c', 'Rv0860', 'Rv2882c', 'Rv2357c', 'Rvnt42', 'Rv0996', 'Rv0685', 'Rv1962c--Rv2954c--Rv3377c', 'Rv2413c', 'Rv1668c', 'Rv0337c--Rv0390--Rv0674--Rv0814c--Rv1811--Rv3118', 'Rv3564', 'Rvnt29', 'Rv3196A', 'Rv3504', 'Rv0417', 'Rv3390', 'Rv2436--Rv3562', 'Rv0821c--Rv1577c--Rv2651c', 'Rv3560c', 'Rv2932', 'Rvnt06', 'Rv0827c', 'Rv0655--Rv3853', 'Rv2252', 'Rv2108', 'Rv0369c', 'Rv3717', 'Rv0744c', 'Rv3246c', 'Rv2561', 'Rv0770', 'Rv3703c', 'Rv0440--Rv3417c', 'Rv3341', 'Rv2746c', 'Rv1130', 'Rv1457c--Rv1933c--Rv2464c', 'Rv1435c', 'Rv0171--Rv3281', 'Rv3415c', 'Rv3248c', 'Rv0300--Rv0634B--Rv0701--Rv0716--Rv1408--Rv1484--Rv1631--Rv1886c--Rv2240c--Rv2441c', 'Rv2163c', 'Rv1611--Rv3155--Rv3224B', 'Rv2838c', 'Rv2652c', 'Rv0360c', 'Rv1112', 'Rv2862c--Rv3359', 'Rv1226c--Rv3080c', 'Rv2826c', 'Rv3888c', 'Rv0839', 'Rv3551', 'Rv1276c', 'Rv2084--Rv3795', 'Rv1502', 'Rv0612', 'Rv2311', 'Rv0832--Rv1004c--Rv1135c--Rv1441c--Rv2088--Rv2126c--Rv2835c--Rv3164c--Rv3388--Rv3511', 'Rv2488c', 'Rv1490', 'Rv2307c', 'Rv1158c', 'Rv3524', 'Rv3245c', 'Rv0930', 'Rv1063c--Rv2600', 'Rv3557c', 'Rv0173', 'Rv3174', 'Rv0636--Rv1483', 'Rv2183c--Rv2937--Rv3484--Rv3878', 'Rv0891c', 'Rv0979A', 'Rv2902c', 'Rv0540--Rv3797', 'Rv1537', 'Rv0377', 'Rv0467--Rv0509', 'Rv1040c', 'Rv1583c--Rv2208--Rv3037c', 'Rv3310', 'Rv1273c--Rv1417--Rv2447c--Rv2552c--Rv2609c--Rv2829c--Rv3544c', 'Rv1534', 'Rv2653c--Rv3351c', 'Rv1645c', 'Rv0065', 'Rv2349c', 'Rv1138c', 'Rv1465', 'Rv1192', 'Rv2020c', 'Rv3442c--Rv3443c', 'Rv1839c', 'Rv0807--Rv0828c--Rv1969', 'Rvnt41', 'Rv2505c', 'Rv0743c', 'Rv1462', 'Rv2909c', 'Rv2808', 'Rv2662', 'Rv0005', 'Rv2765', 'Rv1998c--Rv2629', 'Rv0197', 'Rvnt09', 'Rv2200c', 'Rv0250c', 'Rv0728c--Rv3242c', 'Rv1585c', 'Rv3349c', 'Rv0210--Rv0372c--Rv1930c', 'Rv2351c', 'Rv0858c', 'Rv1131', 'Rv1939--Rv2250c', 'Rv0646c', 'Rv1802--Rv2961--Rv3532', 'Rv1861', 'Rv0531', 'Rv0749A', 'Rv3742c', 'Rv2734', 'Rv0064--Rv1285--Rv2359--Rv2483c--Rv2484c--Rv2495c--Rv2500c--Rv2781c--Rv3334--Rv3536c', 'Rv2670c', 'Rv0623', 'Rv3658c', 'Rv2828c', 'Rv0771', 'Rv2618', 'Rv1938--Rv1965--Rv1967--Rv1970', 'Rv0892', 'Rv1128c', 'Rv0069c--Rv0879c--Rv1010--Rv1650--Rv2085--Rv2139--Rv2403c--Rv2404c--Rv2550c--Rv2915c--Rv3279c--Rv3713', 'Rv0729', 'Rv1211', 'Rv0227c--Rv0981--Rv1264--Rv1336--Rv1449c--Rv1451--Rv1481--Rv2879c--Rv3285', 'Rv0304c--Rv0396--Rv0532--Rv0746--Rv1028A--Rv1917c--Rv2039c--Rv2352c--Rv2353c--Rv2755c--Rv3113--Rv3343c--Rv3357--Rv3358--Rv3828c--Rvnt21--Rvnt24', 'Rv0504c', 'Rv2245--Rv2246', 'Rv3051c', 'Rv1203c', 'Rv3375', 'Rv1867', 'Rv1259', 'Rv3395A', 'Rv3464', 'Rv3582c', 'Rv0912', 'Rv1738', 'Rv3209', 'Rv2527', 'Rv3391', 'Rv1284', 'Rv3593', 'Rv3872', 'Rv0710--Rv3919c--Rv3920c', 'Rv3864', 'Rv3126c', 'Rv1027c', 'Rv1464', 'Rv3050c--Rv3645--Rv3800c', 'Rv2356c', 'Rv0264c', 'Rv1870c', 'Rv3843c', 'Rv0125--Rv0128--Rv0256c--Rv0391--Rv1047--Rv1199c--Rv1419--Rv1470--Rv2328--Rv2411c--Rv2512c--Rv2595--Rv2707--Rv2962c--Rv3023c--Rv3115--Rv3311--Rv3893c--Rv3914', 'Rv0535', 'Rv2370c', 'Rv3747', 'Rv2901c--Rv3140', 'Rv2320c--Rv3383c--Rvnt40', 'Rv3468c', 'Rv2911', 'Rv0353', 'Rv2571c', 'Rv3206c', 'Rv0232', 'Rv3771c', 'Rv3597c', 'Rv0964c', 'Rv0676c--Rv1493--Rv3552--Rv3566A--Rv3566c--Rv3757c', 'Rv2596', 'Rv0987', 'Rv0311', 'Rv1008', 'Rv2699c', 'Rv1146', 'Rv2077A--Rv3368c', 'Rv1252c', 'Rv2089c', 'Rv0244c--Rv1535--Rv1536--Rv2225--Rv3477', 'Rv2121c', 'Rv1602--Rv3411c--Rv3816c', 'Rv1699', 'Rv0122--Rv0384c--Rv0806c--Rv1239c--Rv1467c--Rv2289--Rv2821c--Rv3734c', 'Rv1667c', 'Rv1868--Rv2918c', 'Rv0263c', 'Rv0445c--Rv0719--Rv2376c--Rv3774', 'Rv1869c', 'Rv2622', 'Rv3410c', 'Rv0703', 'Rv3267', 'Rv1672c--Rv1681--Rv3176c', 'Rv2191', 'Rv0463--Rv1980c', 'Rv1088', 'Rv3250c', 'Rv2602', 'Rv3432c', 'Rv3212', 'Rv2072c', 'Rv3363c', 'Rv2231c', 'Rv3426', 'Rv3321c', 'Rv2429', 'Rv1532c--Rv1876', 'Rv2892c', 'Rv2992c', 'Rv1184c', 'Rv3158', 'Rv3020c', 'Rv1289', 'Rv0614', 'Rv0243--Rv1387--Rv3148--Rv3157', 'Rv3211', 'Rv0694--Rv1444c', 'Rv0144--Rv0145--Rv0207c--Rv0229c--Rv0432--Rv0460--Rv0500B--Rv0502--Rv0611c--Rv0632c--Rv0638--Rv0640--Rv0667--Rv0670--Rv0682--Rv0683--Rv0700--Rv1095--Rv1109c--Rv1110--Rv1162--Rv1174c--Rv1200--Rv1221--Rv1222--Rv1265--Rv1322--Rv1322A--Rv1323--Rv1392--Rv1411c--Rv1594--Rv1615--Rv1644--Rv1796--Rv1826--Rv1827--Rv1831--Rv1871c--Rv1872c--Rv1906c--Rv1925--Rv1926c--Rv1929c--Rv2069--Rv2080--Rv2091c--Rv2104c--Rv2194--Rv2220--Rv2222c--Rv2412--Rv2444c--Rv2460c--Rv2463--Rv2534c--Rv2555c--Rv2556c--Rv2576c--Rv2656c--Rv2703--Rv2708c--Rv2795c--Rv2840c--Rv2888c--Rv2903c--Rv2904c--Rv2976c--Rv3006--Rv3046c--Rv3219--Rv3277--Rv3295--Rv3407--Rv3412--Rv3458c--Rv3460c--Rv3462c--Rv3487c--Rv3489--Rv3581c--Rv3584--Rv3648c--Rv3678A--Rv3679--Rv3722c--Rv3859c--Rv3924c--Rvnt08', 'Rv1414', 'Rv1404--Rv2927c', 'Rv3015c', 'Rv0066c', 'Rv1220c', 'Rv2048c--Rv3793', 'Rv0162c', 'Rv0534c--Rv2914c', 'Rv3133c', 'Rv1030', 'Rv1860', 'Rv0485--Rv2720--Rv2988c', 'Rv0431', 'Rv1198--Rv3312A', 'Rv0209', 'Rv1124', 'Rv0953c', 'Rv1037c--Rv2346c--Rv3619c', 'Rv0514', 'Rv3307', 'Rv0510', 'Rv0393', 'Rv2802c', 'Rv2369c', 'Rv1636--Rv3849', 'Rv0528--Rv0597c--Rv1026--Rv1679--Rv2092c--Rv3152', 'Rv0894', 'Rv1389', 'Rv3424c', 'Rv3601c', 'Rv0269c--Rv0584--Rv3170', 'Rv2590', 'Rv0249c', 'Rv1330c', 'Rv1017c--Rv1173--Rv1224--Rv1443c--Rv1780--Rv1863c--Rv1941--Rv2259--Rv2472--Rv2537c--Rv2587c--Rv2792c--Rv3603c', 'Rv1219c', 'Rv2165c--Rv2497c', 'Rv0477--Rv0608--Rv0702--Rv1015c--Rv1300--Rv1301--Rv1397c--Rv1398c--Rv2077c--Rv2331--Rv3486', 'Rv3770c', 'Rv1286', 'Rv0634A', 'Rv3166c', 'Rv3880c', 'Rv0592', 'Rv1937', 'Rv0925c', 'Rv1275--Rv1362c--Rv2410c--Rv3863--Rv3876', 'Rv0399c--Rv2425c', 'Rvnt28', 'Rv3571', 'Rv2970A', 'Rv1356c', 'Rv2164c', 'Rv1549', 'Rv2933', 'Rv2489c', 'Rv3613c', 'Rv0721--Rv2952', 'Rv0754', 'Rv0599c', 'Rv1986', 'Rv2982c', 'Rv1125--Rv2417c', 'Rv0061c', 'Rv0795--Rv2354--Rv3186', 'Rv0084', 'Rv2963', 'Rv1070c', 'Rv2496c', 'Rv2631--Rv3271c', 'Rv1932', 'Rv2523c--Rv3805c', 'Rv2485c', 'Rv1934c--Rv2573', 'Rv2150c', 'Rv2255c', 'Rv3741c', 'Rv2158c', 'Rv2330c', 'Rv1005c', 'Rvnt04', 'Rv1885c', 'Rv3322c', 'Rv1988', 'Rv0586', 'Rv1339', 'Rv2017', 'Rv1958c', 'Rv0583c--Rv1246c--Rv1515c--Rv2716--Rv3818--Rv3901c', 'Rv1840c', 'Rv3257c--Rv3709c', 'Rv1399c', 'Rv2739c', 'Rv1116A', 'Rv0330c', 'Rv1463', 'Rv1705c', 'Rv2160A', 'Rv1497--Rv3241c', 'Rv0521', 'Rv2727c', 'Rvnt31', 'Rv3160c', 'Rv1837c', 'Rv0692', 'Rv0752c', 'Rv3676', 'Rv0470A', 'Rv0062--Rv1473--Rv2398c--Rv2400c', 'Rv0373c--Rv0374c--Rv1726', 'Rv0575c--Rv2515c--Rv3471c--Rv3637', 'Rv0160c', 'Rv0524--Rv0529--Rv2604c--Rv3758c', 'Rv0081--Rv0082--Rv2030c', 'Rv0875c', 'Rv2251', 'Rv2922A', 'Rv3201c', 'Rv2032--Rv3129', 'Rv2570', 'Rv1436', 'Rv0116c--Rv0140--Rv0158--Rv1545--Rv1608c--Rv1710--Rv1844c--Rv2134c--Rv2146c--Rv2237--Rv2296--Rv2970c--Rv3274c--Rv3336c', 'Rv2273--Rv3364c--Rv3791', 'Rv1660', 'Rv1187--Rv3848', 'Rv1369c--Rv1756c--Rv2167c--Rv2814c--Rv3380c--Rv3517', 'Rv2806', 'Rv0405--Rv2796c', 'Rv2035', 'Rv3586', 'Rv3583c', 'Rv2452c', 'Rv3055', 'Rv0172--Rv2929', 'Rv0962c--Rv2025c', 'Rv2997', 'Rv1359', 'Rv0893c', 'Rv0720', 'Rv0220', 'Rv0883c', 'Rv1241', 'Rv3803c', 'Rv2160c', 'Rv1579c', 'Rv0322', 'Rv2745c', 'Rv3485c', 'Rv1584c', 'Rv0226c', 'Rv2517c', 'Rv3425', 'Rv1547--Rv2747', 'Rv3540c', 'Rv1773c', 'Rv0487', 'Rv0619--Rv1973', 'Rv3382c', 'Rv0245--Rv0328--Rv0491--Rv0577--Rv0903c--Rv1599--Rv1600--Rv1603--Rv1604--Rv1606--Rv2148c--Rv2149c--Rv2156c--Rv2157c--Rv2482c--Rv2494--Rv2499c--Rv2501c--Rv2776c--Rv2779c--Rv3244c--Rv3287c--Rv3626c', 'Rv0988', 'Rv3003c', 'Rv3440c', 'Rv2694c', 'Rv0653c--Rv0723', 'Rv0106', 'Rv1927', 'Rv0519c', 'Rvns02', 'Rv2440c', 'Rv2987c', 'Rv0642c', 'Rv3866--Rv3873', 'Rv1363c', 'Rv2050', 'Rv2960c', 'Rv2334--Rv2375', 'Rv3711c', 'Rv2166c', 'Rv0421c', 'Rv2005c', 'Rv0984', 'Rv0972c--Rv3163c', 'Rv3202c', 'Rv0849', 'Rv0340--Rv3291c', 'Rv0733--Rv3043c', 'Rv0986', 'Rv0097--Rv0192A--Rv0217c--Rv0305c--Rv0327c--Rv0355c--Rv0536--Rv0779c--Rv1036c--Rv1068c--Rv1961--Rv2038c--Rv2264c--Rv2530A--Rv2810c--Rv2853--Rv2886c--Rv2974c--Rv2998A--Rv3350c--Rv3367--Rv3421c--Rv3903c', 'Rv3048c', 'Rv0591--Rv0943c--Rv1714--Rv3447c--Rv3640c', 'Rv0855--Rv2012--Rv2263', 'Rv3128c', 'Rv3258c', 'Rv2924c', 'Rv2637', 'Rv0908--Rv2062c', 'Rv2690c'] not in index\""
     ]
    }
   ],
   "source": [
    "# TESTS\n",
    "for classifier_key, classifier_clf in CLASSIFIER_DCT.items():\n",
    "    # Got expected genes in the feature vector?\n",
    "    for gene_key, gene_list in GENE_DCT.items():\n",
    "        if gene_key == classifier_key[1]:\n",
    "            assert(len(gene_list) >= len(classifier_clf._df_X.columns))\n",
    "    # Got expected data:\n",
    "    for data_key in DATA_DCT.keys():\n",
    "        if data_key == classifier_key[0]:\n",
    "            # Find common genes\n",
    "            test_df = DATA_DCT[data_key].df_X[GENE_DCT[classifier_key[1]]]\n",
    "            df_X = classifier_clf._df_X.copy()\n",
    "            columns = list(test_df.columns)\n",
    "            df_X = df_X[columns]\n",
    "            assert(test_df.equals(df_X))\n",
    "    "
   ]
  },
  {
   "cell_type": "code",
   "execution_count": null,
   "metadata": {},
   "outputs": [],
   "source": [
    "xx = list(CLASSIFIER_DCT.keys())[0]\n",
    "xx"
   ]
  },
  {
   "cell_type": "code",
   "execution_count": null,
   "metadata": {},
   "outputs": [],
   "source": [
    "len(CLASSIFIER_DCT[('T0', 'bacterioferrin')].features)"
   ]
  },
  {
   "cell_type": "code",
   "execution_count": null,
   "metadata": {},
   "outputs": [],
   "source": [
    "len(CLASSIFIER_DCT[('T0', 'mycobactin')].features)"
   ]
  },
  {
   "cell_type": "code",
   "execution_count": null,
   "metadata": {},
   "outputs": [],
   "source": [
    "SAMPLE_DCT[\"ref_type_bioreactor\"]"
   ]
  },
  {
   "cell_type": "code",
   "execution_count": null,
   "metadata": {},
   "outputs": [],
   "source": [
    "CLASSIFIER_DCT.keys()"
   ]
  },
  {
   "cell_type": "code",
   "execution_count": null,
   "metadata": {},
   "outputs": [],
   "source": [
    "# Construct derivative structures    \n",
    "DF_X = DF_X_DCT[T0]\n",
    "SER_Y = SER_Y_DCT[T0]\n",
    "SAMPLE_DATA_DCT = SAMPLE_DCT[REF_TYPE_BIOREACTOR]\n",
    "CLASSIFIER = CLASSIFIER_DCT[('T0', 'mycobactin')]\n",
    "TRINARY = DATA_DCT[('T0', 'mycobactin')]"
   ]
  },
  {
   "cell_type": "markdown",
   "metadata": {},
   "source": [
    "## Helper Functions"
   ]
  },
  {
   "cell_type": "code",
   "execution_count": null,
   "metadata": {},
   "outputs": [],
   "source": [
    "def evaluateClassifierOnInstances(clf, **kwargs):\n",
    "    clf.evaluateClassifierOnInstances(**kwargs)"
   ]
  },
  {
   "cell_type": "code",
   "execution_count": null,
   "metadata": {},
   "outputs": [],
   "source": [
    "def plotSampleData(data_dct, genes=CLASSIFIER_DCT[T0].features, is_plot=True):\n",
    "    \"\"\"\n",
    "    Plots trinary values of data for the specified genes.\n",
    "    \n",
    "    Parameters\n",
    "    ----------\n",
    "    data_dct: dict\n",
    "        key: data sample name\n",
    "        value: feature vector\n",
    "    genes: list-str\n",
    "    \"\"\"\n",
    "    for name, df_X in data_dct.items():\n",
    "        TRINARY.plotExpressionLevels(genes, df_X=df_X, title=name, is_plot=is_plot)\n",
    "            \n",
    "# Tests\n",
    "plotSampleData(SAMPLE_DCT[REF_TYPE_BIOREACTOR], is_plot=False)\n",
    "print(\"OK!\")"
   ]
  },
  {
   "cell_type": "code",
   "execution_count": null,
   "metadata": {},
   "outputs": [],
   "source": [
    "def reportSamplePredictions(data_dct):\n",
    "    for name, df_X in data_dct.items():\n",
    "        print(\"\\n%s\" % name)\n",
    "        df_pred = CLASSIFIER.predict(df_X)\n",
    "        new_columns = [STAGE_NAMES[c] for c in df_pred.columns]\n",
    "        df_pred.columns = new_columns\n",
    "        print(df_pred)"
   ]
  },
  {
   "cell_type": "markdown",
   "metadata": {},
   "source": [
    "## Data"
   ]
  },
  {
   "cell_type": "markdown",
   "metadata": {},
   "source": [
    "### BioReactor"
   ]
  },
  {
   "cell_type": "code",
   "execution_count": null,
   "metadata": {},
   "outputs": [],
   "source": [
    "for ref, df in DF_X_DCT.items():\n",
    "    TRINARY.plotExpressionLevels(df.columns, title=\"%s\" % ref)"
   ]
  },
  {
   "cell_type": "code",
   "execution_count": null,
   "metadata": {},
   "outputs": [],
   "source": [
    "if FULL_RUN:\n",
    "    for ref in DATA_DCT.keys():\n",
    "        suptitle = \"%s: Acc=%1.2f\" % (ref, np.mean(CLASSIFIER_DCT[ref].scores))\n",
    "        evaluateClassifierOnInstances(CLASSIFIER_DCT[ref], ser_y=DATA_DCT[ref].ser_y, nrow=4, ncol=6, suptitle=suptitle)"
   ]
  },
  {
   "cell_type": "markdown",
   "metadata": {},
   "source": [
    "### Lab Samples"
   ]
  },
  {
   "cell_type": "markdown",
   "metadata": {},
   "source": [
    "**Observations**\n",
    "1. Prefer control values that avoid having a constant value of the trinary value over the samples (since such a situation is unhelpful for distinguishing classes).\n",
    "1. On training data (Bioreactor)\n",
    "   1. Many genes have the same within class values\n",
    "   1. Few genes have the same between class values"
   ]
  },
  {
   "cell_type": "markdown",
   "metadata": {},
   "source": [
    "**TO DO**: Plot data in pairs, 1 column, 2 rows; this allows comparisons of the expressions for T0 vs. pooled."
   ]
  },
  {
   "cell_type": "code",
   "execution_count": null,
   "metadata": {},
   "outputs": [],
   "source": [
    "# With Bioreactor reference data\n",
    "plotSampleData(SAMPLE_DCT[REF_TYPE_BIOREACTOR])"
   ]
  },
  {
   "cell_type": "code",
   "execution_count": null,
   "metadata": {},
   "outputs": [],
   "source": [
    "# With pooled reference data\n",
    "plotSampleData(SAMPLE_DCT[REF_TYPE_POOLED])"
   ]
  },
  {
   "cell_type": "markdown",
   "metadata": {},
   "source": [
    "# Classification Validations on Training Samples\n",
    "Classify T2-T25 and see if result is same as original class. Use 5-fold cross validation, where there is a holdout for each class and the selection is random.\n"
   ]
  },
  {
   "cell_type": "code",
   "execution_count": null,
   "metadata": {},
   "outputs": [],
   "source": [
    "if FULL_RUN:\n",
    "    accuracy_dct = {}\n",
    "    ranks = [1, 2, 4, 8, 16, 32, 64, 128, 256]\n",
    "    ranks = range(1,12)\n",
    "    for rank in ranks:\n",
    "        accuracy_dct[rank] = CLASSIFIER.crossValidate(\n",
    "            DATA_DCT[T0], num_iter=10, num_holdout=1, filter_high_rank=rank, size=100)\n",
    "    plt.plot(list(accuracy_dct.keys()), list(accuracy_dct.values()))\n",
    "    plt.ylim([0, 1.1])\n",
    "    _ = plt.xlabel(\"No genes in clasifier\")\n",
    "    _ = plt.ylabel(\"accuracy\")"
   ]
  },
  {
   "cell_type": "markdown",
   "metadata": {},
   "source": [
    "**TODO**: Verify values plotted for coefficients."
   ]
  },
  {
   "cell_type": "code",
   "execution_count": null,
   "metadata": {},
   "outputs": [],
   "source": [
    "CLASSIFIER_DCT[T0].plotSVMCoefficients(title=\"T0 Classifier Coefficients\", class_names=STAGE_NAMES)\n",
    "CLASSIFIER_DCT[POOLED].plotSVMCoefficients(title=\"Pooled Classifier Coefficients\", class_names=STAGE_NAMES)"
   ]
  },
  {
   "cell_type": "markdown",
   "metadata": {},
   "source": [
    "**TO DO**: Note difference in roles of genes for each state based on pooled vs. TO."
   ]
  },
  {
   "cell_type": "markdown",
   "metadata": {},
   "source": [
    "The above chart displays the values of the SVM coefficients for each of the genes for the classifier used to identify each state. The vertical lines are error bars ($\\pm$ 1 standard deviation) for the value of the coefficient over 100 classifiers constructed using 1 holdout per state.\n",
    "\n",
    "The coefficients are used to identify the stage that best matches a gene expression vector. Given\n",
    "an expression vector $\\mathbf{x} = (x_1, \\cdots, x_N)$, where $x_n \\in [-1, 1 ]$ is the expression level of gene $x_n$ and\n",
    "$c_{m,n}$ is the coefficient for the classifier for stage $m$ and gene $n$:\n",
    "1. $d_m = \\sum_n c_{m,n} x_n$\n",
    "1. Choose stage $m^{\\star}$ such that $m^{\\star} = arg max_m \\{ d_m \\}$"
   ]
  },
  {
   "cell_type": "code",
   "execution_count": null,
   "metadata": {},
   "outputs": [],
   "source": [
    "# Deeper look at training data\n",
    "DATA_DCT[T0].plotExpressionLevels(CLASSIFIER.features, title=\"\")"
   ]
  },
  {
   "cell_type": "markdown",
   "metadata": {},
   "source": [
    "Several observations are of interest:\n",
    "1. The coefficients for Transition are mostly negative, which means that this stage is about *under-expression*.\n",
    "In particular, this stage is characterized by an under-expression of the genes Rv2383c, Rv2382c, Rv2386c, and Rv2385.\n",
    "1. We see that Stage1a is characterized by large positive values of the coefficients for Rv2385, Rv3841, and Rv2384.\n",
    "Although this makes sense for Rv2385, it is counter intuitive for\n",
    "Rv2384 and Rv3841.\n",
    "The rationale here is more complicated.\n",
    "Rv2384 is not differentially expressed in Stage 1a; however, it is under-expressed in Transition.\n",
    "So, a positive coefficient for Rv2384 for Stage 1a allows for differentiation from Transition.\n",
    "A similar tactic seems to be in play for Rv3841 to distinguish Stage1a from Stage II and Resuscitation.\n",
    "However, this is complicated by the fact that Transition over-expresses Rv3841.\n",
    "The classifier compensates for this by having a large coefficient for Rv2384.\n",
    "\n",
    "1. The other stages are characterized by a mixture of over- and under-expression."
   ]
  },
  {
   "cell_type": "markdown",
   "metadata": {},
   "source": [
    "# Accuracy of Gene Groups"
   ]
  },
  {
   "cell_type": "code",
   "execution_count": null,
   "metadata": {},
   "outputs": [],
   "source": [
    "def plotAccuracy(genes, title=\"\", selected_stages=None, size=100, is_plot=True, ax=None):\n",
    "    \"\"\"\n",
    "    Plots the accuracy curve for a collection of genes\n",
    "    \n",
    "    Parameters\n",
    "    ----------\n",
    "    genes: list-str\n",
    "    title: str\n",
    "    selected_stages: list-str\n",
    "        Create a binary classifier for just these tages\n",
    "    size: int\n",
    "    is_plot: bol\n",
    "    \"\"\"\n",
    "    if ax is None:\n",
    "        _, ax = plt.subplots(1)\n",
    "    accuracy_dct = {}\n",
    "    #data = mkDataSubset(genes, selected_stages=selected_stages)\n",
    "    data = DATA_DCT[T0].subsetToStates(selected_stages, genes=genes)\n",
    "    ranks = range(1, len(genes) + 1)\n",
    "    for rank in ranks:\n",
    "        accuracy_dct[rank] = CLASSIFIER.crossValidate(\n",
    "            data, num_iter=10, num_holdout=1, filter_high_rank=rank, size=size)\n",
    "    ax.plot(list(accuracy_dct.keys()), list(accuracy_dct.values()), marker=\"o\")\n",
    "    ax.set_ylim([0, 1.1])\n",
    "    _ = ax.set_xlabel(\"No genes in clasifier\")\n",
    "    _ = ax.set_ylabel(\"accuracy\")\n",
    "    ax.set_title(title)\n",
    "    if not is_plot:\n",
    "        plt.close()\n",
    "    return accuracy_dct\n",
    "    \n",
    "# Tests\n",
    "genes = GENE_DCT[\"bacterioferritin 1\"]\n",
    "accuracy_dct = plotAccuracy(GENE_DCT[\"bacterioferritin 1\"], title=\", \".join(genes), selected_stages=\"StageII\", size=5, is_plot=True)\n",
    "assert(np.isclose(list(accuracy_dct.values())[0], 0.5))\n",
    "print(\"OK!\")"
   ]
  },
  {
   "cell_type": "code",
   "execution_count": null,
   "metadata": {},
   "outputs": [],
   "source": [
    "if False:\n",
    "    gene_dct = {g: [g] for g in GENE_DCT[\"mycobactin\"]}\n",
    "    gene_dct.update(GENE_DCT)\n",
    "    for name, genes in gene_dct.items():\n",
    "        _, ax = plt.subplots(1)\n",
    "        _ = accuracy_dct = plotAccuracy(genes, title=\", \".join(genes), selected_stages=[\"StageII\"], ax=ax, size=100)"
   ]
  },
  {
   "cell_type": "code",
   "execution_count": null,
   "metadata": {},
   "outputs": [],
   "source": [
    "if False:\n",
    "    gene_dct = {g: [g] for g in GENE_DCT[\"mycobactin\"]}\n",
    "    gene_dct.update(GENE_DCT)\n",
    "    for name, genes in gene_dct.items():\n",
    "        _, ax = plt.subplots(1)\n",
    "        _ = accuracy_dct = plotAccuracy(genes, title=\", \".join(genes), ax=ax, size=100)"
   ]
  },
  {
   "cell_type": "code",
   "execution_count": null,
   "metadata": {},
   "outputs": [],
   "source": [
    "# Details for the 10 genes\n",
    "if False:\n",
    "    df_X = DF_X[GENE_DCT[\"mycobactin\"]]\n",
    "    num_genes = range(1, len(df_X.columns) + 1)\n",
    "    num_genes = [10]\n",
    "    for num_gene in num_genes:\n",
    "        clf = classifier_ensemble.ClassifierEnsemble(\n",
    "                classifier_ensemble.ClassifierDescriptorSVM(), filter_high_rank=num_gene, size=100)\n",
    "        clf.fit(df_X, SER_Y)\n",
    "        evaluateClassifierOnInstances(clf, df_X=df_X, ser_y=SER_Y, class_names=STAGE_NAMES, nrow=4, ncol=6, is_plot=True)"
   ]
  },
  {
   "cell_type": "markdown",
   "metadata": {},
   "source": [
    "## Evaluation for good performing genes"
   ]
  },
  {
   "cell_type": "markdown",
   "metadata": {},
   "source": [
    "# Classification of Samples"
   ]
  },
  {
   "cell_type": "code",
   "execution_count": null,
   "metadata": {},
   "outputs": [],
   "source": [
    "CLASSIFIER.features"
   ]
  },
  {
   "cell_type": "code",
   "execution_count": null,
   "metadata": {},
   "outputs": [],
   "source": [
    "CLASSIFIER.predict(SAMPLE_DATA_DCT[\"AM_MDM\"])"
   ]
  },
  {
   "cell_type": "code",
   "execution_count": null,
   "metadata": {},
   "outputs": [],
   "source": [
    "reportSamplePredictions(SAMPLE_DCT[REF_TYPE_BIOREACTOR])"
   ]
  },
  {
   "cell_type": "code",
   "execution_count": null,
   "metadata": {},
   "outputs": [],
   "source": [
    "reportSamplePredictions(SAMPLE_DCT[REF_TYPE_POOLED])"
   ]
  },
  {
   "cell_type": "markdown",
   "metadata": {
    "tags": []
   },
   "source": [
    "# Detailed Analyses"
   ]
  },
  {
   "cell_type": "markdown",
   "metadata": {},
   "source": [
    "## GSE167232"
   ]
  },
  {
   "cell_type": "code",
   "execution_count": null,
   "metadata": {},
   "outputs": [],
   "source": [
    "TRINARY.plotExpressionLevels(CLASSIFIER.features, df_X=SAMPLE_DATA_DCT[\"GSE167232\"], title=\"GSE167232\")"
   ]
  },
  {
   "cell_type": "code",
   "execution_count": null,
   "metadata": {},
   "outputs": [],
   "source": [
    "TRINARY.plotExpressionLevels(CLASSIFIER.features, df_X=SAMPLE_DCT[REF_TYPE_POOLED][\"GSE167232\"], title=\"GSE167232\")"
   ]
  },
  {
   "cell_type": "code",
   "execution_count": null,
   "metadata": {},
   "outputs": [],
   "source": [
    "#CLASSIFIER.plotFeatureContributions(df_X.loc[\"TB_AM1\",:], class_names=STAGE_NAMES)\n",
    "df_predict = CLASSIFIER.predict(SAMPLE_DATA_DCT[\"GSE167232\"])\n",
    "indexArr = np.reshape(list(df_predict.index), (4,3))\n",
    "num_row = 4\n",
    "num_col =3\n",
    "_, axes = plt.subplots(num_row, num_col, figsize=(20, 12))\n",
    "for irow in range(4):\n",
    "    for icol in range(3):\n",
    "        if icol == 0:\n",
    "            is_ylabel = True\n",
    "        else:\n",
    "            is_ylabel = False\n",
    "        if icol == num_col - 1:\n",
    "            is_legend = True\n",
    "        else:\n",
    "            is_legend = False\n",
    "        if irow == num_row - 1:\n",
    "            is_xlabel = True\n",
    "        else:\n",
    "            is_xlabel = False\n",
    "        instance = indexArr[irow, icol]\n",
    "        ser_X = SAMPLE_DATA_DCT[\"GSE167232\"].loc[instance, :]\n",
    "        CLASSIFIER.plotFeatureContributions(ser_X, class_names=STAGE_NAMES, title=instance, ax=axes[irow,icol], is_plot=False,\n",
    "                                           is_xlabel=is_xlabel, is_ylabel=is_ylabel, is_legend=is_legend)\n",
    "plt.show()"
   ]
  },
  {
   "cell_type": "markdown",
   "metadata": {},
   "source": [
    "## Rustad"
   ]
  },
  {
   "cell_type": "code",
   "execution_count": null,
   "metadata": {},
   "outputs": [],
   "source": [
    "for ref_type in [REF_TYPE_BIOREACTOR, REF_TYPE_POOLED]:\n",
    "    _, ax = plt.subplots(1)\n",
    "    df_X = SAMPLE_DCT[ref_type][\"rustad\"]\n",
    "    # Select hypoxia samples\n",
    "    sel =  [\"H37Rv_hypoxia\" in i and (not \"10\" in i) for i in df_X.index]\n",
    "    df_X = df_X[sel]\n",
    "    # Select just replication 1-3\n",
    "    sel =  [any([r in i for r in [\"rep1\", \"rep2\", \"rep3\"]])  for i in df_X.index]\n",
    "    df_X = df_X[sel]\n",
    "    #\n",
    "    replFunc = lambda i: i[-4:]\n",
    "    timeFunc = lambda i: i[-9:-6].replace(\"_\", \"\")\n",
    "    #time_strs = [\"4hr\", \"12hr\", \"1day\", \"4day\", \"7day\"]\n",
    "    title = \"rustad: \" + ref_type\n",
    "    CLASSIFIER.plotReplicationsOverTime(df_X, replFunc, timeFunc, title=title, ax=ax)"
   ]
  },
  {
   "cell_type": "markdown",
   "metadata": {},
   "source": [
    "## AM, MDM"
   ]
  },
  {
   "cell_type": "code",
   "execution_count": null,
   "metadata": {
    "tags": []
   },
   "outputs": [],
   "source": [
    "SAMPLE_DATA_DCT[\"AM_MDM\"]"
   ]
  },
  {
   "cell_type": "markdown",
   "metadata": {},
   "source": [
    "## Galagan"
   ]
  },
  {
   "cell_type": "code",
   "execution_count": null,
   "metadata": {},
   "outputs": [],
   "source": [
    "for ref_type in [REF_TYPE_BIOREACTOR, REF_TYPE_POOLED]:\n",
    "    df_X = SAMPLE_DCT[ref_type][\"galagan\"]\n",
    "    prediction_df = CLASSIFIER.predict(df_X)\n",
    "    replFunc = lambda i: i[-4:]\n",
    "    timeFunc = lambda i: i[0:2]\n",
    "    title = \"galagan: \" + ref_type\n",
    "    _, ax = plt.subplots(1)\n",
    "    CLASSIFIER.plotReplicationsOverTime(df_X, replFunc, timeFunc, title=title, ax=ax)"
   ]
  },
  {
   "cell_type": "markdown",
   "metadata": {},
   "source": [
    "# Summary Comments"
   ]
  },
  {
   "cell_type": "markdown",
   "metadata": {},
   "source": [
    "1. Choice of control\n",
    "   1. Criteria for choice\n",
    "1. Evaluating the quality of classification for test samples\n",
    "   1. Consistency between replications\n",
    "   1. Consistency in stage progression of replication\n",
    "1. Detailed summaries for data sets"
   ]
  }
 ],
 "metadata": {
  "kernelspec": {
   "display_name": "Python 3",
   "language": "python",
   "name": "python3"
  },
  "language_info": {
   "codemirror_mode": {
    "name": "ipython",
    "version": 3
   },
   "file_extension": ".py",
   "mimetype": "text/x-python",
   "name": "python",
   "nbconvert_exporter": "python",
   "pygments_lexer": "ipython3",
   "version": "3.6.6"
  }
 },
 "nbformat": 4,
 "nbformat_minor": 4
}
