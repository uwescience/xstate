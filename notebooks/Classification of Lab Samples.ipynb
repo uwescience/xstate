{
 "cells": [
  {
   "cell_type": "markdown",
   "metadata": {},
   "source": [
    "# CLASSIFICATION OF LAB SAMPLES"
   ]
  },
  {
   "cell_type": "markdown",
   "metadata": {},
   "source": [
    "This notebook analyzes the accuracy of the SVM classifier on the training data and on lab samples.\n",
    "The training data are:\n",
    "* all genes (not just regulators);\n",
    "* averaged;\n",
    "* do not include T1 (since only one observtion)"
   ]
  },
  {
   "cell_type": "markdown",
   "metadata": {},
   "source": [
    "# TO DO\n",
    "1. Analyses for Eliza:\n",
    "   1. Accuracy with all 11 and the accuracy as you add in more genes (same as what you just sent but with all 11).\n",
    "   1. Could you test with just the 10 mycobactin genes (Rv2377c-Rv2386c)?\n",
    "   1. Could you test with just bacterioferritin (Rv3841)? Just Rv2384?\n",
    "   1. Is there one gene that gives good accuracy\n",
    "1. compare accuracy with ranom selection of genes\n",
    "1. Classifier coefficient profile.\n",
    "   1. Eliza genes - 1-10\n",
    "   1. Auto selected genes: 5, 10, 20"
   ]
  },
  {
   "cell_type": "markdown",
   "metadata": {},
   "source": [
    "# Preliminaries"
   ]
  },
  {
   "cell_type": "markdown",
   "metadata": {},
   "source": [
    "## Imports"
   ]
  },
  {
   "cell_type": "code",
   "execution_count": 1,
   "metadata": {
    "scrolled": true
   },
   "outputs": [],
   "source": [
    "import init\n",
    "from common import constants as cn\n",
    "from common.trinary_data import TrinaryData, REF_TYPE_BIOREACTOR, REF_TYPE_SELF, REF_TYPE_POOLED\n",
    "from common.data_provider import DataProvider\n",
    "from common import trinary_data\n",
    "from common_python.plots import util_plots\n",
    "from common_python.classifier import classifier_ensemble\n",
    "from common_python.classifier import classifier_collection\n",
    "from common import transform_data\n",
    "\n",
    "import collections\n",
    "import copy\n",
    "import os\n",
    "import matplotlib.pyplot as plt\n",
    "import numpy as np\n",
    "import pandas as pd\n",
    "import sklearn\n",
    "from sklearn.decomposition import PCA\n",
    "from sklearn import svm\n",
    "from sklearn.model_selection import cross_val_score\n",
    "import seaborn as sns\n",
    "\n",
    "%matplotlib inline"
   ]
  },
  {
   "cell_type": "markdown",
   "metadata": {},
   "source": [
    "## Constants"
   ]
  },
  {
   "cell_type": "code",
   "execution_count": 29,
   "metadata": {},
   "outputs": [],
   "source": [
    "PROVIDER = DataProvider()\n",
    "PROVIDER.do()\n",
    "DATA = TrinaryData(is_regulator=False, is_dropT1=True, is_averaged=True)\n",
    "DF_X = DATA.df_X.copy()\n",
    "SER_Y = DATA.ser_y\n",
    "NEW_DATA = copy.deepcopy(DATA)\n",
    "rename_dct = {0: 0, 1: 3, 2:1, 3: 2, 4:4}\n",
    "NEW_DATA.ser_y = pd.Series([rename_dct[v] for v in SER_Y.values])\n",
    "NEW_DATA.ser_y.index = DATA.ser_y.index\n",
    "STAGE_NAME_DCT = {0: \"Transition\",  1: \"Stage1a\", 2: \"Stage1b\", 3: \"StageII\", 4: \"Resusciation\"}\n",
    "STAGE_NAMES = np.array(list(STAGE_NAME_DCT.values()))"
   ]
  },
  {
   "cell_type": "code",
   "execution_count": 31,
   "metadata": {},
   "outputs": [
    {
     "data": {
      "text/plain": [
       "timepoint\n",
       "T2     0\n",
       "T3     0\n",
       "T4     0\n",
       "T5     0\n",
       "T6     0\n",
       "T7     0\n",
       "T8     2\n",
       "T9     2\n",
       "T10    3\n",
       "T11    2\n",
       "T12    3\n",
       "T13    3\n",
       "T14    3\n",
       "T15    3\n",
       "T16    1\n",
       "T17    1\n",
       "T18    1\n",
       "T19    2\n",
       "T20    2\n",
       "T21    2\n",
       "T22    4\n",
       "T23    4\n",
       "T24    4\n",
       "T25    4\n",
       "dtype: int64"
      ]
     },
     "execution_count": 31,
     "metadata": {},
     "output_type": "execute_result"
    }
   ],
   "source": [
    "NEW_DATA.ser_y"
   ]
  },
  {
   "cell_type": "code",
   "execution_count": 3,
   "metadata": {},
   "outputs": [
    {
     "data": {
      "text/plain": [
       "{0: 'Transition', 1: 'Stage1a', 2: 'Stage1b', 3: 'StageII', 4: 'Resusciation'}"
      ]
     },
     "execution_count": 3,
     "metadata": {},
     "output_type": "execute_result"
    }
   ],
   "source": [
    "STAGE_NAME_DCT"
   ]
  },
  {
   "cell_type": "code",
   "execution_count": 4,
   "metadata": {},
   "outputs": [
    {
     "data": {
      "text/plain": [
       "['Transition',\n",
       " 'Transition',\n",
       " 'Transition',\n",
       " 'Transition',\n",
       " 'Transition',\n",
       " 'Transition',\n",
       " 'StageII',\n",
       " 'StageII',\n",
       " 'Stage1a',\n",
       " 'StageII',\n",
       " 'Stage1a',\n",
       " 'Stage1a',\n",
       " 'Stage1a',\n",
       " 'Stage1a',\n",
       " 'Stage1b',\n",
       " 'Stage1b',\n",
       " 'Stage1b',\n",
       " 'StageII',\n",
       " 'StageII',\n",
       " 'StageII',\n",
       " 'Resusciation',\n",
       " 'Resusciation',\n",
       " 'Resusciation',\n",
       " 'Resusciation']"
      ]
     },
     "execution_count": 4,
     "metadata": {},
     "output_type": "execute_result"
    }
   ],
   "source": [
    "[STAGE_NAMES[i] for i in SER_Y]"
   ]
  },
  {
   "cell_type": "code",
   "execution_count": 5,
   "metadata": {},
   "outputs": [],
   "source": [
    "MYCOBACTIN_GENES = [\n",
    "\"Rv2377c\",\n",
    "\"Rv2378c\",\n",
    "\"Rv2379c\",\n",
    "\"Rv2380c\",\n",
    "\"Rv2381c\",\n",
    "\"Rv2382c\",\n",
    "\"Rv2383c\",\n",
    "\"Rv2384\",\n",
    "\"Rv2385\",\n",
    "\"Rv2386c\",\n",
    "]\n",
    "BACTERIOFERRITIN_GENES = [\n",
    "\"Rv2341\", \"Rv3841\", \n",
    "]\n",
    "GENE_DCT = {\"mycobactin\": MYCOBACTIN_GENES,\n",
    "            \"bacterioferritin 1\": [BACTERIOFERRITIN_GENES[0]],\n",
    "            \"bacterioferritin 2\": [BACTERIOFERRITIN_GENES[1]],\n",
    "           }"
   ]
  },
  {
   "cell_type": "code",
   "execution_count": 6,
   "metadata": {},
   "outputs": [],
   "source": [
    "ELIZA_COLUMNS = [\"Rv3841\",\n",
    "\"Rv2377c\",\n",
    "\"Rv2378c\",\n",
    "\"Rv2379c\",\n",
    "\"Rv2380c\",\n",
    "\"Rv2381c\",\n",
    "\"Rv2382c\",\n",
    "\"Rv2383c\",\n",
    "\"Rv2384\",\n",
    "\"Rv2385\",\n",
    "\"Rv2386c\",\n",
    "]\n",
    "DF_X = DF_X[ELIZA_COLUMNS]"
   ]
  },
  {
   "cell_type": "code",
   "execution_count": 7,
   "metadata": {
    "tags": []
   },
   "outputs": [],
   "source": [
    "CLASSIFIER = classifier_ensemble.ClassifierEnsemble(\n",
    "        classifier_ensemble.ClassifierDescriptorSVM(), filter_high_rank=20, size=100)\n",
    "CLASSIFIER.fit(DF_X, SER_Y)"
   ]
  },
  {
   "cell_type": "code",
   "execution_count": 8,
   "metadata": {},
   "outputs": [
    {
     "name": "stdout",
     "output_type": "stream",
     "text": [
      "Rv2385: triglyceride lipase activity\n",
      "Rv2386c: tryptophan biosynthetic process---cellular response to ironstarvation---siderophore biosynthetic process from catechol---growth---response-to-host-immune-response---magnesium ion binding---anthranilate synthase activity---chorismate mutase activity---plasma membrane---anthranilate synthase complex\n",
      "Rv3841: response to hypoxia---iron assimilation by chelation and transport---response to nitrosative stress---ferroxidase activity---iron ion binding---extracellular region---cell wall---cytosol---plasma membrane\n",
      "Rv2384: cellular response to ironstarvation---siderophore biosynthetic process from catechol---acid-amino acid ligase activity\n",
      "Rv2382c: growth\n",
      "Rv2379c: cell wall---cytosol---plasma membrane\n",
      "Rv2378c: siderophore biosynthetic process from catechol---growth\n",
      "Rv2383c: pathogenesis---cellular response to ironstarvation---siderophore biosynthetic process from catechol---response-to-host-immune-response---acyl carrier activity---protein binding---phosphopantetheine binding---cell wall---plasma membrane\n",
      "Rv2381c: plasma membrane\n"
     ]
    }
   ],
   "source": [
    "# GO Terms for the genes\n",
    "df_go_terms = PROVIDER.df_go_terms.set_index(\"GENE_ID\")\n",
    "for gene in CLASSIFIER.features:\n",
    "    if gene in df_go_terms.index:\n",
    "        print(\"%s: %s\" % (gene, df_go_terms.loc[gene, \"GO_Term\"]))"
   ]
  },
  {
   "cell_type": "markdown",
   "metadata": {},
   "source": [
    "## Helper Functions"
   ]
  },
  {
   "cell_type": "code",
   "execution_count": 9,
   "metadata": {},
   "outputs": [],
   "source": [
    "def getStage(states):\n",
    "    \"\"\"\n",
    "    Provides the name of the stage for the value of a state.\n",
    "    \n",
    "    Parameters\n",
    "    ----------\n",
    "    states: list-int\n",
    "    \"\"\"\n",
    "    timepoints = []\n",
    "    for state in states:\n",
    "        timepoint = [i for i, v in SER_Y.iteritems() if v == state][0]\n",
    "        timepoints.append(timepoint)\n",
    "    return list(PROVIDER.getStages(timepoints))\n",
    "\n",
    "# TESTS\n",
    "assert(getStage([0, 1])[0] == \"Transition\")"
   ]
  },
  {
   "cell_type": "code",
   "execution_count": 10,
   "metadata": {},
   "outputs": [
    {
     "name": "stdout",
     "output_type": "stream",
     "text": [
      "OK!\n"
     ]
    }
   ],
   "source": [
    "def plotExpressionLevels(df_X, features, ser_y=None, is_plot=True, title=\"\"):\n",
    "    \"\"\"\n",
    "    Heat map of expression levels. Shades states.\n",
    "    \n",
    "    Parameters\n",
    "    ----------\n",
    "    df_X: DataFrame (feature vector)\n",
    "    features: list-str\n",
    "    \"\"\"\n",
    "    # Internal constants\n",
    "    ROTATION = 30\n",
    "    FONTSIZE = 14\n",
    "    # Shade replications\n",
    "    fig, ax = plt.subplots(1, figsize=(20, 5))\n",
    "    columns = list(features)\n",
    "    columns.sort()\n",
    "    try:\n",
    "        new_df_X = df_X[columns]\n",
    "    except:\n",
    "        import pdb; pdb.set_trace()\n",
    "        pass\n",
    "    sns.heatmap(new_df_X.T, cmap=\"seismic\", ax=ax, vmin=-1, vmax=1)\n",
    "    # Shade the classes\n",
    "    if ser_y is not None:\n",
    "        alphas = [0.0, 0.4]\n",
    "        alpha_idx = 0\n",
    "        for idx, val in enumerate(ser_y.values):\n",
    "            stage = getStage([val])[0]\n",
    "            if (idx == 0):\n",
    "                ax.text(idx, 0, \"%s\" % stage, fontsize=FONTSIZE, rotation=ROTATION)\n",
    "            elif ser_y.values[idx-1] != val:\n",
    "                ax.text(idx, 0, \"%s\" % stage, fontsize=FONTSIZE, rotation=ROTATION)\n",
    "                alpha_idx = 1 - alpha_idx\n",
    "            ax.axvspan(idx, idx+1, facecolor='grey', alpha=alphas[alpha_idx])\n",
    "    # Other plot characteristics\n",
    "    ax.set_title(title, fontsize=18)\n",
    "    #\n",
    "    if is_plot:\n",
    "        plt.show()\n",
    "    else:\n",
    "        plt.close()\n",
    "    \n",
    "# Tests\n",
    "plotExpressionLevels(DF_X, CLASSIFIER.features, SER_Y, is_plot=False)\n",
    "print(\"OK!\")"
   ]
  },
  {
   "cell_type": "code",
   "execution_count": 11,
   "metadata": {},
   "outputs": [],
   "source": [
    "def sortColumns(df):\n",
    "    if df is None:\n",
    "        return None\n",
    "    columns = list(df.columns)\n",
    "    columns.sort()\n",
    "    df.columns = columns\n",
    "    df = df.sort_index()\n",
    "    return df"
   ]
  },
  {
   "cell_type": "code",
   "execution_count": 14,
   "metadata": {},
   "outputs": [
    {
     "name": "stdout",
     "output_type": "stream",
     "text": [
      "OK!\n"
     ]
    }
   ],
   "source": [
    "def getSampleData(**kwargs):\n",
    "    sample_data = trinary_data.getSampleData(**kwargs)\n",
    "    dct = {}\n",
    "    for sample in trinary_data.SAMPLES:\n",
    "        dct[sample] = sortColumns(sample_data.__getattribute__(sample))\n",
    "    return dct\n",
    "        \n",
    "SAMPLE_DATA_DCT = getSampleData(is_regulator=False, ref_type=REF_TYPE_BIOREACTOR)\n",
    "print(\"OK!\")"
   ]
  },
  {
   "cell_type": "code",
   "execution_count": 23,
   "metadata": {},
   "outputs": [
    {
     "name": "stdout",
     "output_type": "stream",
     "text": [
      "> <ipython-input-23-f614e25d911f>(17)mkDataSubset()\n",
      "-> data.ser_y = pd.Series(new_values)\n"
     ]
    },
    {
     "name": "stdin",
     "output_type": "stream",
     "text": [
      "(Pdb)  n\n"
     ]
    },
    {
     "name": "stdout",
     "output_type": "stream",
     "text": [
      "> <ipython-input-23-f614e25d911f>(18)mkDataSubset()\n",
      "-> data.ser_y.index = ser_y.index\n"
     ]
    },
    {
     "name": "stdin",
     "output_type": "stream",
     "text": [
      "(Pdb)  ser_y.index\n"
     ]
    },
    {
     "name": "stdout",
     "output_type": "stream",
     "text": [
      "<built-in method index of list object at 0x7f46a7da8c08>\n"
     ]
    },
    {
     "name": "stdin",
     "output_type": "stream",
     "text": [
      "(Pdb)  type(ser_y)\n"
     ]
    },
    {
     "name": "stdout",
     "output_type": "stream",
     "text": [
      "<class 'list'>\n"
     ]
    },
    {
     "name": "stdin",
     "output_type": "stream",
     "text": [
      "(Pdb)  exit\n"
     ]
    },
    {
     "ename": "BdbQuit",
     "evalue": "",
     "output_type": "error",
     "traceback": [
      "\u001b[0;31m------------------------------------------------------------------------\u001b[0m",
      "\u001b[0;31mBdbQuit\u001b[0m                                Traceback (most recent call last)",
      "\u001b[0;32m<ipython-input-23-f614e25d911f>\u001b[0m in \u001b[0;36m<module>\u001b[0;34m\u001b[0m\n\u001b[1;32m     21\u001b[0m \u001b[0;31m# Tests\u001b[0m\u001b[0;34m\u001b[0m\u001b[0;34m\u001b[0m\u001b[0m\n\u001b[1;32m     22\u001b[0m \u001b[0mgenes\u001b[0m \u001b[0;34m=\u001b[0m \u001b[0;34m[\u001b[0m\u001b[0;34m\"Rv3841\"\u001b[0m\u001b[0;34m,\u001b[0m \u001b[0;34m\"Rv2382c\"\u001b[0m\u001b[0;34m]\u001b[0m\u001b[0;34m\u001b[0m\u001b[0m\n\u001b[0;32m---> 23\u001b[0;31m \u001b[0mdata\u001b[0m \u001b[0;34m=\u001b[0m \u001b[0mmkDataSubset\u001b[0m\u001b[0;34m(\u001b[0m\u001b[0mgenes\u001b[0m\u001b[0;34m,\u001b[0m \u001b[0mselected_stages\u001b[0m\u001b[0;34m=\u001b[0m\u001b[0;34m[\u001b[0m\u001b[0;34m\"StageII\"\u001b[0m\u001b[0;34m]\u001b[0m\u001b[0;34m)\u001b[0m\u001b[0;34m\u001b[0m\u001b[0m\n\u001b[0m\u001b[1;32m     24\u001b[0m \u001b[0;32massert\u001b[0m\u001b[0;34m(\u001b[0m\u001b[0mlen\u001b[0m\u001b[0;34m(\u001b[0m\u001b[0mdata\u001b[0m\u001b[0;34m.\u001b[0m\u001b[0mdf_X\u001b[0m\u001b[0;34m.\u001b[0m\u001b[0mcolumns\u001b[0m\u001b[0;34m)\u001b[0m \u001b[0;34m==\u001b[0m \u001b[0mlen\u001b[0m\u001b[0;34m(\u001b[0m\u001b[0mgenes\u001b[0m\u001b[0;34m)\u001b[0m\u001b[0;34m)\u001b[0m\u001b[0;34m\u001b[0m\u001b[0m\n\u001b[1;32m     25\u001b[0m \u001b[0;32massert\u001b[0m\u001b[0;34m(\u001b[0m\u001b[0mdata\u001b[0m\u001b[0;34m.\u001b[0m\u001b[0mser_y\u001b[0m\u001b[0;34m.\u001b[0m\u001b[0mmax\u001b[0m\u001b[0;34m(\u001b[0m\u001b[0;34m)\u001b[0m \u001b[0;34m==\u001b[0m \u001b[0;36m1\u001b[0m\u001b[0;34m)\u001b[0m\u001b[0;34m\u001b[0m\u001b[0m\n",
      "\u001b[0;32m<ipython-input-23-f614e25d911f>\u001b[0m in \u001b[0;36mmkDataSubset\u001b[0;34m(genes, selected_stages)\u001b[0m\n\u001b[1;32m     16\u001b[0m         \u001b[0;32mimport\u001b[0m \u001b[0mpdb\u001b[0m\u001b[0;34m;\u001b[0m \u001b[0mpdb\u001b[0m\u001b[0;34m.\u001b[0m\u001b[0mset_trace\u001b[0m\u001b[0;34m(\u001b[0m\u001b[0;34m)\u001b[0m\u001b[0;34m\u001b[0m\u001b[0m\n\u001b[1;32m     17\u001b[0m         \u001b[0mdata\u001b[0m\u001b[0;34m.\u001b[0m\u001b[0mser_y\u001b[0m \u001b[0;34m=\u001b[0m \u001b[0mpd\u001b[0m\u001b[0;34m.\u001b[0m\u001b[0mSeries\u001b[0m\u001b[0;34m(\u001b[0m\u001b[0mnew_values\u001b[0m\u001b[0;34m)\u001b[0m\u001b[0;34m\u001b[0m\u001b[0m\n\u001b[0;32m---> 18\u001b[0;31m         \u001b[0mdata\u001b[0m\u001b[0;34m.\u001b[0m\u001b[0mser_y\u001b[0m\u001b[0;34m.\u001b[0m\u001b[0mindex\u001b[0m \u001b[0;34m=\u001b[0m \u001b[0mser_y\u001b[0m\u001b[0;34m.\u001b[0m\u001b[0mindex\u001b[0m\u001b[0;34m\u001b[0m\u001b[0m\n\u001b[0m\u001b[1;32m     19\u001b[0m     \u001b[0;32mreturn\u001b[0m \u001b[0mdata\u001b[0m\u001b[0;34m\u001b[0m\u001b[0m\n\u001b[1;32m     20\u001b[0m \u001b[0;34m\u001b[0m\u001b[0m\n",
      "\u001b[0;32m<ipython-input-23-f614e25d911f>\u001b[0m in \u001b[0;36mmkDataSubset\u001b[0;34m(genes, selected_stages)\u001b[0m\n\u001b[1;32m     16\u001b[0m         \u001b[0;32mimport\u001b[0m \u001b[0mpdb\u001b[0m\u001b[0;34m;\u001b[0m \u001b[0mpdb\u001b[0m\u001b[0;34m.\u001b[0m\u001b[0mset_trace\u001b[0m\u001b[0;34m(\u001b[0m\u001b[0;34m)\u001b[0m\u001b[0;34m\u001b[0m\u001b[0m\n\u001b[1;32m     17\u001b[0m         \u001b[0mdata\u001b[0m\u001b[0;34m.\u001b[0m\u001b[0mser_y\u001b[0m \u001b[0;34m=\u001b[0m \u001b[0mpd\u001b[0m\u001b[0;34m.\u001b[0m\u001b[0mSeries\u001b[0m\u001b[0;34m(\u001b[0m\u001b[0mnew_values\u001b[0m\u001b[0;34m)\u001b[0m\u001b[0;34m\u001b[0m\u001b[0m\n\u001b[0;32m---> 18\u001b[0;31m         \u001b[0mdata\u001b[0m\u001b[0;34m.\u001b[0m\u001b[0mser_y\u001b[0m\u001b[0;34m.\u001b[0m\u001b[0mindex\u001b[0m \u001b[0;34m=\u001b[0m \u001b[0mser_y\u001b[0m\u001b[0;34m.\u001b[0m\u001b[0mindex\u001b[0m\u001b[0;34m\u001b[0m\u001b[0m\n\u001b[0m\u001b[1;32m     19\u001b[0m     \u001b[0;32mreturn\u001b[0m \u001b[0mdata\u001b[0m\u001b[0;34m\u001b[0m\u001b[0m\n\u001b[1;32m     20\u001b[0m \u001b[0;34m\u001b[0m\u001b[0m\n",
      "\u001b[0;32m~/miniconda3/lib/python3.6/bdb.py\u001b[0m in \u001b[0;36mtrace_dispatch\u001b[0;34m(self, frame, event, arg)\u001b[0m\n\u001b[1;32m     49\u001b[0m             \u001b[0;32mreturn\u001b[0m \u001b[0;31m# None\u001b[0m\u001b[0;34m\u001b[0m\u001b[0m\n\u001b[1;32m     50\u001b[0m         \u001b[0;32mif\u001b[0m \u001b[0mevent\u001b[0m \u001b[0;34m==\u001b[0m \u001b[0;34m'line'\u001b[0m\u001b[0;34m:\u001b[0m\u001b[0;34m\u001b[0m\u001b[0m\n\u001b[0;32m---> 51\u001b[0;31m             \u001b[0;32mreturn\u001b[0m \u001b[0mself\u001b[0m\u001b[0;34m.\u001b[0m\u001b[0mdispatch_line\u001b[0m\u001b[0;34m(\u001b[0m\u001b[0mframe\u001b[0m\u001b[0;34m)\u001b[0m\u001b[0;34m\u001b[0m\u001b[0m\n\u001b[0m\u001b[1;32m     52\u001b[0m         \u001b[0;32mif\u001b[0m \u001b[0mevent\u001b[0m \u001b[0;34m==\u001b[0m \u001b[0;34m'call'\u001b[0m\u001b[0;34m:\u001b[0m\u001b[0;34m\u001b[0m\u001b[0m\n\u001b[1;32m     53\u001b[0m             \u001b[0;32mreturn\u001b[0m \u001b[0mself\u001b[0m\u001b[0;34m.\u001b[0m\u001b[0mdispatch_call\u001b[0m\u001b[0;34m(\u001b[0m\u001b[0mframe\u001b[0m\u001b[0;34m,\u001b[0m \u001b[0marg\u001b[0m\u001b[0;34m)\u001b[0m\u001b[0;34m\u001b[0m\u001b[0m\n",
      "\u001b[0;32m~/miniconda3/lib/python3.6/bdb.py\u001b[0m in \u001b[0;36mdispatch_line\u001b[0;34m(self, frame)\u001b[0m\n\u001b[1;32m     68\u001b[0m         \u001b[0;32mif\u001b[0m \u001b[0mself\u001b[0m\u001b[0;34m.\u001b[0m\u001b[0mstop_here\u001b[0m\u001b[0;34m(\u001b[0m\u001b[0mframe\u001b[0m\u001b[0;34m)\u001b[0m \u001b[0;32mor\u001b[0m \u001b[0mself\u001b[0m\u001b[0;34m.\u001b[0m\u001b[0mbreak_here\u001b[0m\u001b[0;34m(\u001b[0m\u001b[0mframe\u001b[0m\u001b[0;34m)\u001b[0m\u001b[0;34m:\u001b[0m\u001b[0;34m\u001b[0m\u001b[0m\n\u001b[1;32m     69\u001b[0m             \u001b[0mself\u001b[0m\u001b[0;34m.\u001b[0m\u001b[0muser_line\u001b[0m\u001b[0;34m(\u001b[0m\u001b[0mframe\u001b[0m\u001b[0;34m)\u001b[0m\u001b[0;34m\u001b[0m\u001b[0m\n\u001b[0;32m---> 70\u001b[0;31m             \u001b[0;32mif\u001b[0m \u001b[0mself\u001b[0m\u001b[0;34m.\u001b[0m\u001b[0mquitting\u001b[0m\u001b[0;34m:\u001b[0m \u001b[0;32mraise\u001b[0m \u001b[0mBdbQuit\u001b[0m\u001b[0;34m\u001b[0m\u001b[0m\n\u001b[0m\u001b[1;32m     71\u001b[0m         \u001b[0;32mreturn\u001b[0m \u001b[0mself\u001b[0m\u001b[0;34m.\u001b[0m\u001b[0mtrace_dispatch\u001b[0m\u001b[0;34m\u001b[0m\u001b[0m\n\u001b[1;32m     72\u001b[0m \u001b[0;34m\u001b[0m\u001b[0m\n",
      "\u001b[0;31mBdbQuit\u001b[0m: "
     ]
    }
   ],
   "source": [
    "def mkDataSubset(genes, selected_stages=None):\n",
    "    \"\"\"\n",
    "    Creates a subset of the data for the genes and stages.\n",
    "    \n",
    "    Returns\n",
    "    -------\n",
    "    TrinaryData\n",
    "    \"\"\"\n",
    "    data = copy.deepcopy(NEW_DATA)\n",
    "    data.df_X = pd.DataFrame(data.df_X[genes])\n",
    "    if selected_stages is not None:\n",
    "        ser_y = data.ser_y.copy()\n",
    "        numeric_stages = []\n",
    "        value_dct = {i: 1 if (s in selected_stages) else 0 for  i, s in enumerate(STAGE_NAMES)}\n",
    "        new_values = [value_dct[v] for v in data.ser_y]\n",
    "        data.ser_y = pd.Series(new_values)\n",
    "        data.ser_y.index = ser_y.index\n",
    "    return data\n",
    "\n",
    "# Tests\n",
    "genes = [\"Rv3841\", \"Rv2382c\"]\n",
    "data = mkDataSubset(genes, selected_stages=[\"StageII\"])\n",
    "assert(len(data.df_X.columns) == len(genes))\n",
    "assert(data.ser_y.max() == 1)"
   ]
  },
  {
   "cell_type": "markdown",
   "metadata": {},
   "source": [
    "## Data"
   ]
  },
  {
   "cell_type": "markdown",
   "metadata": {},
   "source": [
    "### BioReactor"
   ]
  },
  {
   "cell_type": "code",
   "execution_count": null,
   "metadata": {},
   "outputs": [],
   "source": [
    "DF_X.head(2)"
   ]
  },
  {
   "cell_type": "code",
   "execution_count": null,
   "metadata": {},
   "outputs": [],
   "source": [
    "SER_Y.head(2)"
   ]
  },
  {
   "cell_type": "code",
   "execution_count": null,
   "metadata": {},
   "outputs": [],
   "source": [
    "# Deeper look at training data\n",
    "plotExpressionLevels(DATA.df_X, CLASSIFIER.features, ser_y=SER_Y, title=\"\")"
   ]
  },
  {
   "cell_type": "code",
   "execution_count": null,
   "metadata": {},
   "outputs": [],
   "source": [
    "instances = [\"T2\"]\n",
    "for instance in instances:\n",
    "    CLASSIFIER.plotFeatureContributions(DF_X.loc[instance, :],\n",
    "                    title=instance, true_class=SER_Y.loc[instance],\n",
    "                    class_names=STAGE_NAMES)"
   ]
  },
  {
   "cell_type": "code",
   "execution_count": null,
   "metadata": {},
   "outputs": [],
   "source": [
    "len(CLASSIFIER.columns)"
   ]
  },
  {
   "cell_type": "code",
   "execution_count": null,
   "metadata": {},
   "outputs": [],
   "source": [
    "def evaluateClassifierOnInstances(clf, df_X=NEW_DATA.df_X, ser_y=None, class_names=None, is_plot=True, nrow=6, ncol=4, suptitle=\"\"):\n",
    "    _, axes = plt.subplots(nrow, ncol, figsize=(18,12))\n",
    "    for irow in range(nrow):\n",
    "        for icol in range(ncol):\n",
    "            ax = axes[irow, icol]\n",
    "            instance_num = irow*ncol + icol + 2\n",
    "            instance = \"T%d\" % instance_num\n",
    "            if instance not in df_X.index:\n",
    "                break\n",
    "            ser_X = df_X.loc[instance, :]\n",
    "            if (icol + 1 == ncol) and (irow==0):\n",
    "                is_legend = True\n",
    "            else:\n",
    "                is_legend = False\n",
    "            if (irow + 1 == nrow):\n",
    "                is_xlabel = True\n",
    "                if icol == 0:\n",
    "                    is_ylabel = True\n",
    "                else:\n",
    "                    is_ylabel = False\n",
    "            else:\n",
    "                is_ylabel = False\n",
    "                is_xlabel = False\n",
    "            clf.plotFeatureContributions(ser_X, ax=ax,\n",
    "                    title=instance, true_class=ser_y.loc[instance], is_plot=False, is_legend=is_legend,\n",
    "                                               class_names=class_names,\n",
    "                                               is_xlabel=is_xlabel, is_ylabel=is_ylabel)\n",
    "    plt.suptitle(suptitle)\n",
    "    if not is_plot:\n",
    "        plt.close()\n",
    "    \n",
    "# Tests\n",
    "evaluateClassifierOnInstances(CLASSIFIER, ser_y=NEW_DATA.ser_y, class_names=STAGE_NAMES, is_plot=True, nrow=2, ncol=2, suptitle=\"test\")"
   ]
  },
  {
   "cell_type": "code",
   "execution_count": null,
   "metadata": {},
   "outputs": [],
   "source": [
    "evaluateClassifierOnInstances(CLASSIFIER, ser_y=NEW_DATA.ser_y, class_names=STAGE_NAMES, nrow=4, ncol=6)"
   ]
  },
  {
   "cell_type": "markdown",
   "metadata": {},
   "source": [
    "### Lab Samples"
   ]
  },
  {
   "cell_type": "code",
   "execution_count": null,
   "metadata": {},
   "outputs": [],
   "source": [
    "if False:\n",
    "    df = trinary_data.getSampleData(is_regulator=False).GSE167232\n",
    "    for _ in range(20):\n",
    "        sample_data = trinary_data.getSampleData(is_regulator=False)\n",
    "        if not (df.equals(sample_data.GSE167232)):\n",
    "            import pdb; pdb.set_trace()\n",
    "            pass"
   ]
  },
  {
   "cell_type": "code",
   "execution_count": null,
   "metadata": {},
   "outputs": [],
   "source": [
    "def plotSampleData(genes=CLASSIFIER.features, is_plot=True, **kwargs):\n",
    "    \"\"\"\n",
    "    Plots trinary values of data for the specified genes.\n",
    "    \n",
    "    Parameters\n",
    "    ----------\n",
    "    genes: list-str\n",
    "    kwargs: optional arguments for getSampleData\n",
    "    \"\"\"\n",
    "    sample_data = trinary_data.getSampleData(**kwargs)\n",
    "    for name in trinary_data.SAMPLES:\n",
    "        if name == \"sherman\":\n",
    "            continue\n",
    "        df = sample_data.__getattribute__(name)\n",
    "        if df is not None:\n",
    "            plotExpressionLevels(df, genes, title=name, is_plot=is_plot)\n",
    "            \n",
    "# Tests\n",
    "plotSampleData(is_regulator=False, ref_type=REF_TYPE_BIOREACTOR, is_plot=False)\n",
    "print(\"OK!\")"
   ]
  },
  {
   "cell_type": "code",
   "execution_count": null,
   "metadata": {},
   "outputs": [],
   "source": [
    "# With Bioreactor reference data\n",
    "plotSampleData(is_regulator=False, ref_type=REF_TYPE_BIOREACTOR)"
   ]
  },
  {
   "cell_type": "code",
   "execution_count": null,
   "metadata": {},
   "outputs": [],
   "source": [
    "# With pooled reference data\n",
    "plotSampleData(is_regulator=False, ref_type=REF_TYPE_POOLED)"
   ]
  },
  {
   "cell_type": "markdown",
   "metadata": {},
   "source": [
    "# Classification Validations on Training Samples\n",
    "Classify T2-T25 and see if result is same as original class. Use 5-fold cross validation, where there is a holdout for each class and the selection is random.\n"
   ]
  },
  {
   "cell_type": "code",
   "execution_count": null,
   "metadata": {},
   "outputs": [],
   "source": [
    "if False:\n",
    "    accuracy_dct = {}\n",
    "    ranks = [1, 2, 4, 8, 16, 32, 64, 128, 256]\n",
    "    ranks = range(1,12)\n",
    "    for rank in ranks:\n",
    "        accuracy_dct[rank] = CLASSIFIER.crossValidate(\n",
    "            NEW_DATA, num_iter=10, num_holdout=1, filter_high_rank=rank, size=100)\n",
    "    plt.plot(list(accuracy_dct.keys()), list(accuracy_dct.values()))\n",
    "    plt.ylim([0, 1.1])\n",
    "    _ = plt.xlabel(\"No genes in clasifier\")\n",
    "    _ = plt.ylabel(\"accuracy\")"
   ]
  },
  {
   "cell_type": "markdown",
   "metadata": {},
   "source": [
    "**TODO**: List the genes used for each coordinate."
   ]
  },
  {
   "cell_type": "code",
   "execution_count": null,
   "metadata": {},
   "outputs": [],
   "source": [
    "CLASSIFIER.plotSVMCoefficients(title=\"Classifier Coefficients\", class_names=STAGE_NAMES)"
   ]
  },
  {
   "cell_type": "markdown",
   "metadata": {},
   "source": [
    "The above chart displays the values of the SVM coefficients for each of the genes for the classifier used to identify each state. The vertical lines are error bars ($\\pm$ 1 standard deviation) for the value of the coefficient over 100 classifiers constructed using 1 holdout per state.\n",
    "\n",
    "The coefficients are used to identify the stage that best matches a gene expression vector. Given\n",
    "an expression vector $\\mathbf{x} = (x_1, \\cdots, x_N)$, where $x_n \\in [-1, 1 ]$ is the expression level of gene $x_n$ and\n",
    "$c_{m,n}$ is the coefficient for the classifier for stage $m$ and gene $n$:\n",
    "1. $d_m = \\sum_n c_{m,n} x_n$\n",
    "1. Choose stage $m^{\\star}$ such that $m^{\\star} = arg max_m \\{ d_m \\}$"
   ]
  },
  {
   "cell_type": "code",
   "execution_count": null,
   "metadata": {},
   "outputs": [],
   "source": [
    "# Deeper look at training data\n",
    "plotExpressionLevels(DATA.df_X, CLASSIFIER.features, ser_y=SER_Y, title=\"\")"
   ]
  },
  {
   "cell_type": "markdown",
   "metadata": {},
   "source": [
    "Several observations are of interest:\n",
    "1. The coefficients for Transition are mostly negative, which means that this stage is about *under-expression*.\n",
    "In particular, this stage is characterized by an under-expression of the genes Rv2383c, Rv2382c, Rv2386c, and Rv2385.\n",
    "1. We see that Stage1a is characterized by large positive values of the coefficients for Rv2385, Rv3841, and Rv2384.\n",
    "Although this makes sense for Rv2385, it is counter intuitive for\n",
    "Rv2384 and Rv3841.\n",
    "The rationale here is more complicated.\n",
    "Rv2384 is not differentially expressed in Stage 1a; however, it is under-expressed in Transition.\n",
    "So, a positive coefficient for Rv2384 for Stage 1a allows for differentiation from Transition.\n",
    "A similar tactic seems to be in play for Rv3841 to distinguish Stage1a from Stage II and Resuscitation.\n",
    "However, this is complicated by the fact that Transition over-expresses Rv3841.\n",
    "The classifier compensates for this by having a large coefficient for Rv2384.\n",
    "\n",
    "1. The other stages are characterized by a mixture of over- and under-expression."
   ]
  },
  {
   "cell_type": "code",
   "execution_count": null,
   "metadata": {},
   "outputs": [],
   "source": [
    "CLASSIFIER.clfs[0].coef_"
   ]
  },
  {
   "cell_type": "markdown",
   "metadata": {},
   "source": [
    "# Accuracy of Gene Groups"
   ]
  },
  {
   "cell_type": "code",
   "execution_count": null,
   "metadata": {},
   "outputs": [],
   "source": [
    "def plotAccuracy(genes, title=\"\", selected_stages=None, size=100, is_plot=True, ax=None):\n",
    "    \"\"\"\n",
    "    Plots the accuracy curve for a collection of genes\n",
    "    \n",
    "    Parameters\n",
    "    ----------\n",
    "    genes: list-str\n",
    "    title: str\n",
    "    selected_stages: list-str\n",
    "        Create a binary classifier for just these tages\n",
    "    size: int\n",
    "    is_plot: bol\n",
    "    \"\"\"\n",
    "    if ax is None:\n",
    "        _, ax = plt.subplots(1)\n",
    "    accuracy_dct = {}\n",
    "    data = mkDataSubset(genes, selected_stages=selected_stages)\n",
    "    ranks = range(1, len(genes) + 1)\n",
    "    for rank in ranks:\n",
    "        accuracy_dct[rank] = CLASSIFIER.crossValidate(\n",
    "            data, num_iter=10, num_holdout=1, filter_high_rank=rank, size=size)\n",
    "    ax.plot(list(accuracy_dct.keys()), list(accuracy_dct.values()), marker=\"o\")\n",
    "    ax.set_ylim([0, 1.1])\n",
    "    _ = ax.set_xlabel(\"No genes in clasifier\")\n",
    "    _ = ax.set_ylabel(\"accuracy\")\n",
    "    ax.set_title(title)\n",
    "    if not is_plot:\n",
    "        plt.close()\n",
    "    return accuracy_dct\n",
    "    \n",
    "# Tests\n",
    "genes = GENE_DCT[\"bacterioferritin 1\"]\n",
    "accuracy_dct = plotAccuracy(GENE_DCT[\"bacterioferritin 1\"], title=\", \".join(genes), selected_stages=\"StageII\", size=5, is_plot=False)\n",
    "assert(np.isclose(list(accuracy_dct.values())[0], 0.5))"
   ]
  },
  {
   "cell_type": "code",
   "execution_count": null,
   "metadata": {},
   "outputs": [],
   "source": [
    "if True:\n",
    "    gene_dct = {g: [g] for g in GENE_DCT[\"mycobactin\"]}\n",
    "    gene_dct.update(GENE_DCT)\n",
    "    for name, genes in gene_dct.items():\n",
    "        _, ax = plt.subplots(1)\n",
    "        _ = accuracy_dct = plotAccuracy(genes, title=\", \".join(genes), selected_stages=[\"StageII\"], ax=ax, size=100)"
   ]
  },
  {
   "cell_type": "code",
   "execution_count": null,
   "metadata": {},
   "outputs": [],
   "source": [
    "gene_dct = {g: [g] for g in GENE_DCT[\"mycobactin\"]}\n",
    "gene_dct.update(GENE_DCT)\n",
    "for name, genes in gene_dct.items():\n",
    "    _, ax = plt.subplots(1)\n",
    "    _ = accuracy_dct = plotAccuracy(genes, title=\", \".join(genes), ax=ax, size=100)"
   ]
  },
  {
   "cell_type": "code",
   "execution_count": null,
   "metadata": {},
   "outputs": [],
   "source": [
    "# Details for the 10 genes\n",
    "df_X = DF_X[GENE_DCT[\"mycobactin\"]]\n",
    "num_genes = range(1, len(df_X.columns) + 1)\n",
    "num_genes = [10]\n",
    "for num_gene in num_genes:\n",
    "    clf = classifier_ensemble.ClassifierEnsemble(\n",
    "            classifier_ensemble.ClassifierDescriptorSVM(), filter_high_rank=num_gene, size=100)\n",
    "    clf.fit(df_X, SER_Y)\n",
    "    evaluateClassifierOnInstances(clf, df_X=df_X, ser_y=NEW_DATA.ser_y, class_names=STAGE_NAMES, nrow=4, ncol=6, is_plot=True)"
   ]
  },
  {
   "cell_type": "markdown",
   "metadata": {},
   "source": [
    "## Evaluation for good performing genes"
   ]
  },
  {
   "cell_type": "code",
   "execution_count": null,
   "metadata": {},
   "outputs": [],
   "source": [
    "ser_X = pd.Series([1])\n",
    "ser_X.index = [\"Rv2384\"]\n",
    "df_X = pd.DataFrame(ser_X).T\n",
    "clf.predict(pd.DataFrame(df_X))"
   ]
  },
  {
   "cell_type": "code",
   "execution_count": null,
   "metadata": {},
   "outputs": [],
   "source": [
    "if False:\n",
    "    genes = [\"Rv2384\"]\n",
    "    data = mkDataSubset(genes, selected_stages=[\"StageII\"])\n",
    "    clf = classifier_ensemble.ClassifierEnsemble(\n",
    "            classifier_ensemble.ClassifierDescriptorSVM(), filter_high_rank=20, size=100)\n",
    "    clf.fit(data.df_X, data.ser_y)\n",
    "    clf.plotSVMCoefficients(title=\"Classifier Coefficients\", class_names=[\"Not StageII\", \"StageII\"])"
   ]
  },
  {
   "cell_type": "markdown",
   "metadata": {},
   "source": [
    "# Classification of Samples"
   ]
  },
  {
   "cell_type": "code",
   "execution_count": null,
   "metadata": {},
   "outputs": [],
   "source": [
    "CLASSIFIER.features"
   ]
  },
  {
   "cell_type": "code",
   "execution_count": null,
   "metadata": {},
   "outputs": [],
   "source": [
    "CLASSIFIER.predict(SAMPLE_DATA_DCT[\"AM_MDM\"])"
   ]
  },
  {
   "cell_type": "code",
   "execution_count": null,
   "metadata": {},
   "outputs": [],
   "source": [
    "stage_names = STAGE_NAMES[np.array(CLASSIFIER.classes)]\n",
    "stage_names"
   ]
  },
  {
   "cell_type": "code",
   "execution_count": null,
   "metadata": {},
   "outputs": [],
   "source": [
    "def reportSamplePredictions(sample_data):\n",
    "    for name in trinary_data.SAMPLES:\n",
    "        df_X = sample_data.__getattribute__(name)\n",
    "        print(\"\\n%s\" % name)\n",
    "        df_pred = CLASSIFIER.predict(df_X)\n",
    "        new_columns = [STAGE_NAMES[c] for c in df_pred.columns]\n",
    "        df_pred.columns = new_columns\n",
    "        print(df_pred)"
   ]
  },
  {
   "cell_type": "code",
   "execution_count": null,
   "metadata": {},
   "outputs": [],
   "source": [
    "sample_data = trinary_data.getSampleData(is_regulator=False, ref_type=REF_TYPE_POOLED)\n",
    "reportSamplePredictions(sample_data)"
   ]
  },
  {
   "cell_type": "code",
   "execution_count": null,
   "metadata": {},
   "outputs": [],
   "source": [
    "sample_data.__getattribute__(\"AW\")"
   ]
  },
  {
   "cell_type": "markdown",
   "metadata": {
    "tags": []
   },
   "source": [
    "# Detailed Analyses"
   ]
  },
  {
   "cell_type": "markdown",
   "metadata": {},
   "source": [
    "## GSE167232"
   ]
  },
  {
   "cell_type": "code",
   "execution_count": null,
   "metadata": {},
   "outputs": [],
   "source": [
    "plotExpressionLevels(SAMPLE_DATA_DCT[\"GSE167232\"], CLASSIFIER.features, title=\"GSE167232\")"
   ]
  },
  {
   "cell_type": "code",
   "execution_count": null,
   "metadata": {},
   "outputs": [],
   "source": [
    "#CLASSIFIER.plotFeatureContributions(df_X.loc[\"TB_AM1\",:], class_names=STAGE_NAMES)\n",
    "df_predict = CLASSIFIER.predict(SAMPLE_DATA_DCT[\"GSE167232\"])\n",
    "indexArr = np.reshape(list(df_predict.index), (4,3))\n",
    "num_row = 4\n",
    "num_col =3\n",
    "_, axes = plt.subplots(num_row, num_col, figsize=(20, 12))\n",
    "for irow in range(4):\n",
    "    for icol in range(3):\n",
    "        if icol == 0:\n",
    "            is_ylabel = True\n",
    "        else:\n",
    "            is_ylabel = False\n",
    "        if icol == num_col - 1:\n",
    "            is_legend = True\n",
    "        else:\n",
    "            is_legend = False\n",
    "        if irow == num_row - 1:\n",
    "            is_xlabel = True\n",
    "        else:\n",
    "            is_xlabel = False\n",
    "        instance = indexArr[irow, icol]\n",
    "        ser_X = SAMPLE_DATA_DCT[\"GSE167232\"].loc[instance, :]\n",
    "        CLASSIFIER.plotFeatureContributions(ser_X, class_names=STAGE_NAMES, title=instance, ax=axes[irow,icol], is_plot=False,\n",
    "                                           is_xlabel=is_xlabel, is_ylabel=is_ylabel, is_legend=is_legend)\n",
    "plt.show()"
   ]
  },
  {
   "cell_type": "code",
   "execution_count": null,
   "metadata": {},
   "outputs": [],
   "source": [
    "df_X"
   ]
  },
  {
   "cell_type": "markdown",
   "metadata": {},
   "source": [
    "## Rustad"
   ]
  },
  {
   "cell_type": "code",
   "execution_count": null,
   "metadata": {},
   "outputs": [],
   "source": [
    "# Rustad analysis\n",
    "df_X = SAMPLE_DATA_DCT[\"rustad\"]\n",
    "df_pred = CLASSIFIER.predict(df_X)\n",
    "instances = [i for i in df_pred.index if \"H37Rv_hypoxia\" in i]\n",
    "df_pred = df_pred.loc[instances, :]\n",
    "times = []\n",
    "replications = []\n",
    "for instance in instances:\n",
    "    if \"hr\" in instance:\n",
    "        pos = instance.index(\"hr_\")\n",
    "    else:\n",
    "        pos = instance.index(\"ay_\")\n",
    "    last_pos = pos + 2\n",
    "    times.append(instance[0:last_pos])\n",
    "    if \"10\" in instance:\n",
    "        replications.append(instance[-2:])\n",
    "    else:\n",
    "        replications.append(instance[-1])\n",
    "timeArr = np.array(times)\n",
    "replicationArr = np.array(replications)\n",
    "indexArr = list(df_pred.index)\n",
    "indexArr = np.array(indexArr)\n",
    "#\n",
    "state_dct = {}\n",
    "for time in set(times):\n",
    "    idxs = [p for p, i in enumerate(indexArr) if time in i]\n",
    "    replications_sub = replicationArr[idxs]\n",
    "    times_sub = timeArr[idxs]\n",
    "    state_dct[time] = []\n",
    "    for instance in indexArr[idxs]:\n",
    "        max_val = np.max(df_pred.loc[instance, :].values)\n",
    "        state = [s for s in df_pred.columns if df_pred.loc[instance, s] == max_val][0]\n",
    "        state_dct[time].append(STAGE_NAMES[state])"
   ]
  },
  {
   "cell_type": "code",
   "execution_count": null,
   "metadata": {},
   "outputs": [],
   "source": [
    "time_keys = np.array([\"H37Rv_hypoxia_4hr\", \"H37Rv_hypoxia_8hr\", \"H37Rv_hypoxia_12hr\",\n",
    "                      \"H37Rv_hypoxia_1day\", \"H37Rv_hypoxia_4day\", \"H37Rv_hypoxia_7day\"])\n",
    "truncated_time_keys = np.array([\"4hr\", \"8hr\", \"12hr\",\n",
    "                      \"1day\", \"4day\", \"7day\"])\n",
    "time_idxs = np.array([list(state_dct.keys()).index(k) for k in time_keys])\n",
    "repl_dct = {}\n",
    "for repl in [0, 1, 2]:\n",
    "    repl_dct[repl] = [state_dct[t][repl] for t in time_keys[time_idxs]]"
   ]
  },
  {
   "cell_type": "code",
   "execution_count": null,
   "metadata": {},
   "outputs": [],
   "source": [
    "_, ax = plt.subplots(1)\n",
    "repl_dct[-1] = [\"Transition\", \"Stage1a\", \"Stage1b\", \"StageII\", \"Resuscitation\"]\n",
    "repl_dct[-1] = repl_dct[0]\n",
    "repl_dct[-1][0] = \"Transition\"\n",
    "repl_dct[-1][1] = \"Stage1a\"\n",
    "repl_dct[-1][2] = \"Stage1b\"\n",
    "repl_dct[-1][3] = \"StageII\"\n",
    "repl_dct[-1][4] = \"Resuscitation\"\n",
    "colors = [\"red\", \"blue\", \"green\"]\n",
    "for repl in range(-1, 3):\n",
    "    if repl == -1:\n",
    "        color = \"black\"\n",
    "    else:\n",
    "        color = colors[repl]\n",
    "    ax.plot(truncated_time_keys, repl_dct[repl], color=color)\n",
    "plt.legend([0, 1, 2], loc=\"upper left\")\n",
    "plt.xlabel(\"time\")\n",
    "plt.ylabel(\"Stage\")"
   ]
  },
  {
   "cell_type": "markdown",
   "metadata": {},
   "source": [
    "## AM, MDM"
   ]
  },
  {
   "cell_type": "code",
   "execution_count": null,
   "metadata": {},
   "outputs": [],
   "source": [
    "SAMPLE_DATA_DCT[\"AM_MDM\"]"
   ]
  },
  {
   "cell_type": "markdown",
   "metadata": {},
   "source": [
    "## Galagan"
   ]
  },
  {
   "cell_type": "markdown",
   "metadata": {},
   "source": [
    "**TODO**: Plot progression of replications over time"
   ]
  }
 ],
 "metadata": {
  "kernelspec": {
   "display_name": "Python 3",
   "language": "python",
   "name": "python3"
  },
  "language_info": {
   "codemirror_mode": {
    "name": "ipython",
    "version": 3
   },
   "file_extension": ".py",
   "mimetype": "text/x-python",
   "name": "python",
   "nbconvert_exporter": "python",
   "pygments_lexer": "ipython3",
   "version": "3.6.6"
  }
 },
 "nbformat": 4,
 "nbformat_minor": 4
}
