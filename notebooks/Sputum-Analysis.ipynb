{
 "cells": [
  {
   "cell_type": "markdown",
   "id": "0a835d9d-0c25-472b-969a-13f05c1db6fe",
   "metadata": {},
   "source": [
    "# ANALYSIS OF WADDELL SPUTNUM DATA"
   ]
  },
  {
   "cell_type": "code",
   "execution_count": 1,
   "id": "6227ddf9-57a0-40a2-9b39-bccd18d0cad1",
   "metadata": {},
   "outputs": [],
   "source": [
    "import numpy as np\n",
    "import pandas as pd"
   ]
  },
  {
   "cell_type": "code",
   "execution_count": null,
   "id": "adbcf51a-b69a-431a-94d5-e16ae6e460b9",
   "metadata": {},
   "outputs": [],
   "source": [
    "# Constants\n",
    "DATA_PATH = ../data/samples/"
   ]
  }
 ],
 "metadata": {
  "kernelspec": {
   "display_name": "Python 3 (ipykernel)",
   "language": "python",
   "name": "python3"
  },
  "language_info": {
   "codemirror_mode": {
    "name": "ipython",
    "version": 3
   },
   "file_extension": ".py",
   "mimetype": "text/x-python",
   "name": "python",
   "nbconvert_exporter": "python",
   "pygments_lexer": "ipython3",
   "version": "3.9.6"
  }
 },
 "nbformat": 4,
 "nbformat_minor": 5
}
