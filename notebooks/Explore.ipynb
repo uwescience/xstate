{
 "cells": [
  {
   "cell_type": "code",
   "execution_count": 1,
   "metadata": {},
   "outputs": [],
   "source": [
    "import init\n",
    "from common import constants as cn\n",
    "from common.trinary_data import TrinaryData\n",
    "from common.data_provider import DataProvider\n",
    "from common_python.plots import util_plots\n",
    "from plots import util_plots as xutil_plots\n",
    "from common_python.classifier import classifier_ensemble\n",
    "\n",
    "import os\n",
    "import collections\n",
    "import matplotlib.pyplot as plt\n",
    "import numpy as np\n",
    "import pandas as pd\n",
    "import sklearn\n",
    "from sklearn.decomposition import PCA\n",
    "from sklearn import svm\n",
    "from sklearn.model_selection import cross_val_score\n",
    "\n",
    "%matplotlib inline"
   ]
  },
  {
   "cell_type": "markdown",
   "metadata": {},
   "source": [
    "## SVM prediction"
   ]
  },
  {
   "cell_type": "code",
   "execution_count": 2,
   "metadata": {},
   "outputs": [
    {
     "data": {
      "text/plain": [
       "Counter({1: 3, 3: 1, 2: 2})"
      ]
     },
     "execution_count": 2,
     "metadata": {},
     "output_type": "execute_result"
    }
   ],
   "source": [
    "a_list = [1, 3, 2, 1, 1, 2]\n",
    "collections.Counter(a_list)"
   ]
  },
  {
   "cell_type": "code",
   "execution_count": 7,
   "metadata": {},
   "outputs": [],
   "source": [
    "from sklearn.datasets import load_iris\n",
    "from sklearn.model_selection import train_test_split\n",
    "from sklearn.tree import DecisionTreeClassifier\n",
    "import pandas as pd\n",
    "import numpy as np\n",
    "\n",
    "data = load_iris()\n",
    "\n",
    "# bear with me for the next few steps... I'm trying to walk you through\n",
    "# how my data object landscape looks... i.e. how I get from raw data \n",
    "# to matrices with the actual data I have, not the iris dataset\n",
    "# put feature matrix into columnar format in dataframe\n",
    "df = pd.DataFrame(data = data.data)\n",
    "\n",
    "# add outcome variable\n",
    "df['class'] = data.target\n",
    "\n",
    "X = np.matrix(df.loc[:, [0, 1, 2, 3]])\n",
    "y = np.array(df['class'])\n",
    "\n",
    "# finally, split into train-test\n",
    "X_train, X_test, y_train, y_test = train_test_split(X, y, train_size = 0.8)\n",
    "\n",
    "model = DecisionTreeClassifier()\n",
    "\n",
    "model.fit(X_train, y_train)\n",
    "\n",
    "# I've got my predictions now\n",
    "y_hats = model.predict(X_test)"
   ]
  },
  {
   "cell_type": "code",
   "execution_count": 8,
   "metadata": {},
   "outputs": [
    {
     "data": {
      "text/plain": [
       "matrix([[6.5, 3.2, 5.1, 2. ],\n",
       "        [4.6, 3.1, 1.5, 0.2],\n",
       "        [6.7, 3.1, 4.4, 1.4],\n",
       "        [5.9, 3. , 4.2, 1.5],\n",
       "        [6.9, 3.2, 5.7, 2.3],\n",
       "        [4.4, 3. , 1.3, 0.2],\n",
       "        [7.6, 3. , 6.6, 2.1],\n",
       "        [5.6, 3. , 4.1, 1.3],\n",
       "        [5.7, 4.4, 1.5, 0.4],\n",
       "        [6.6, 3. , 4.4, 1.4],\n",
       "        [5.1, 3.8, 1.5, 0.3],\n",
       "        [5.7, 2.8, 4.5, 1.3],\n",
       "        [7.1, 3. , 5.9, 2.1],\n",
       "        [5.1, 2.5, 3. , 1.1],\n",
       "        [5.1, 3.4, 1.5, 0.2],\n",
       "        [6.3, 2.8, 5.1, 1.5],\n",
       "        [5. , 2. , 3.5, 1. ],\n",
       "        [6.2, 2.8, 4.8, 1.8],\n",
       "        [5.1, 3.5, 1.4, 0.2],\n",
       "        [5.2, 3.4, 1.4, 0.2],\n",
       "        [5.4, 3.9, 1.3, 0.4],\n",
       "        [5.6, 2.9, 3.6, 1.3],\n",
       "        [4.4, 2.9, 1.4, 0.2],\n",
       "        [5.2, 3.5, 1.5, 0.2],\n",
       "        [4.6, 3.6, 1. , 0.2],\n",
       "        [6.7, 3. , 5. , 1.7],\n",
       "        [7.4, 2.8, 6.1, 1.9],\n",
       "        [5.8, 4. , 1.2, 0.2],\n",
       "        [4.5, 2.3, 1.3, 0.3],\n",
       "        [5.8, 2.6, 4. , 1.2]])"
      ]
     },
     "execution_count": 8,
     "metadata": {},
     "output_type": "execute_result"
    }
   ],
   "source": [
    "X_test"
   ]
  }
 ],
 "metadata": {
  "kernelspec": {
   "display_name": "Python 3",
   "language": "python",
   "name": "python3"
  },
  "language_info": {
   "codemirror_mode": {
    "name": "ipython",
    "version": 3
   },
   "file_extension": ".py",
   "mimetype": "text/x-python",
   "name": "python",
   "nbconvert_exporter": "python",
   "pygments_lexer": "ipython3",
   "version": "3.6.8"
  }
 },
 "nbformat": 4,
 "nbformat_minor": 2
}
