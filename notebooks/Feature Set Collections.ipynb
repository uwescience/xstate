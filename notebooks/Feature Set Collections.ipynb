{
 "cells": [
  {
   "cell_type": "markdown",
   "metadata": {},
   "source": [
    "# Feature Set Collections"
   ]
  },
  {
   "cell_type": "code",
   "execution_count": 1,
   "metadata": {
    "scrolled": true
   },
   "outputs": [],
   "source": [
    "import init\n",
    "import common.constants as cn\n",
    "import common_python.constants as ccn\n",
    "from common.trinary_data import TrinaryData\n",
    "from common.data_provider import DataProvider\n",
    "from common.data_provider import DataProvider\n",
    "from common_python.plots import util_plots\n",
    "from plots import util_plots as xutil_plots\n",
    "from common_python.classifier import feature_analyzer\n",
    "from common_python.classifier import feature_set_collection\n",
    "from common_python.util import util\n",
    "from common import transform_data\n",
    "from common_python.classifier.feature_set import FeatureSet\n",
    "from common import trinary_data\n",
    "\n",
    "import datetime\n",
    "import os\n",
    "import matplotlib.pyplot as plt\n",
    "import numpy as np\n",
    "import pandas as pd\n",
    "import seaborn\n",
    "from sklearn import svm\n",
    "\n",
    "%matplotlib inline"
   ]
  },
  {
   "cell_type": "code",
   "execution_count": 2,
   "metadata": {
    "scrolled": true
   },
   "outputs": [],
   "source": [
    "# These are the \"long\" data that have individual replications, not averages. And, only using TFs.\n",
    "PROVIDER = DataProvider()\n",
    "PROVIDER.do()\n",
    "TRINARY = TrinaryData(is_averaged=False, is_dropT1=False, is_regulator=True)  # Trinary data\n",
    "DF_X = TRINARY.df_X\n",
    "SER_Y = TRINARY.ser_y\n",
    "STATES = SER_Y.unique()\n",
    "REGULATORS = DF_X.columns.tolist()\n",
    "DATA_PATH = cn.PROJECT_DIR\n",
    "for directory in [\"data\", \"feature_analyzer\"]:\n",
    "    DATA_PATH = os.path.join(DATA_PATH, directory)\n",
    "DATA_PATH_PAT = os.path.join(DATA_PATH, \"%d\") \n",
    "ANALYZER_DCT = feature_analyzer.deserialize({s: DATA_PATH_PAT % s for s in STATES})\n",
    "ANALYZERS = ANALYZER_DCT.values()\n",
    "COLLECTION_DCT = {s: feature_set_collection.FeatureSetCollection.deserialize(DATA_PATH_PAT % s) for s in STATES}\n",
    "_ = [c.ser_comb for c in COLLECTION_DCT.values()]"
   ]
  },
  {
   "cell_type": "code",
   "execution_count": 3,
   "metadata": {
    "scrolled": true
   },
   "outputs": [
    {
     "data": {
      "text/html": [
       "<div>\n",
       "<style scoped>\n",
       "    .dataframe tbody tr th:only-of-type {\n",
       "        vertical-align: middle;\n",
       "    }\n",
       "\n",
       "    .dataframe tbody tr th {\n",
       "        vertical-align: top;\n",
       "    }\n",
       "\n",
       "    .dataframe thead th {\n",
       "        text-align: right;\n",
       "    }\n",
       "</style>\n",
       "<table border=\"1\" class=\"dataframe\">\n",
       "  <thead>\n",
       "    <tr style=\"text-align: right;\">\n",
       "      <th></th>\n",
       "      <th>GENE_ID</th>\n",
       "      <th>GO_Term</th>\n",
       "    </tr>\n",
       "  </thead>\n",
       "  <tbody>\n",
       "    <tr>\n",
       "      <th>0</th>\n",
       "      <td>P9WKY5</td>\n",
       "      <td>host cell nucleus</td>\n",
       "    </tr>\n",
       "    <tr>\n",
       "      <th>1</th>\n",
       "      <td>Rv0001</td>\n",
       "      <td>DNA replication initiation---dephosphorylation...</td>\n",
       "    </tr>\n",
       "    <tr>\n",
       "      <th>2</th>\n",
       "      <td>Rv0002</td>\n",
       "      <td>extracellular region---cell wall</td>\n",
       "    </tr>\n",
       "    <tr>\n",
       "      <th>3</th>\n",
       "      <td>Rv0003</td>\n",
       "      <td>double-strand break repair---cytosol---plasma ...</td>\n",
       "    </tr>\n",
       "    <tr>\n",
       "      <th>4</th>\n",
       "      <td>Rv0005</td>\n",
       "      <td>DNA topological change---growth---magnesium io...</td>\n",
       "    </tr>\n",
       "  </tbody>\n",
       "</table>\n",
       "</div>"
      ],
      "text/plain": [
       "  GENE_ID                                            GO_Term\n",
       "0  P9WKY5                                  host cell nucleus\n",
       "1  Rv0001  DNA replication initiation---dephosphorylation...\n",
       "2  Rv0002                   extracellular region---cell wall\n",
       "3  Rv0003  double-strand break repair---cytosol---plasma ...\n",
       "4  Rv0005  DNA topological change---growth---magnesium io..."
      ]
     },
     "execution_count": 3,
     "metadata": {},
     "output_type": "execute_result"
    }
   ],
   "source": [
    "PROVIDER.df_go_terms.head()"
   ]
  },
  {
   "cell_type": "code",
   "execution_count": 4,
   "metadata": {
    "scrolled": true
   },
   "outputs": [],
   "source": [
    "SAMPLE_DATA = trinary_data.getSampleData()\n",
    "DF_AM = SAMPLE_DATA.AM_MDM\n",
    "DF_AW = SAMPLE_DATA.AW\n",
    "DF_GALAGAN = SAMPLE_DATA.galagan"
   ]
  },
  {
   "cell_type": "markdown",
   "metadata": {},
   "source": [
    "# Alternative Feature Sets"
   ]
  },
  {
   "cell_type": "code",
   "execution_count": 5,
   "metadata": {},
   "outputs": [
    {
     "data": {
      "image/png": "[encoded data removed]",
      "text/plain": [
       "<Figure size 864x720 with 6 Axes>"
      ]
     },
     "metadata": {
      "needs_background": "light"
     },
     "output_type": "display_data"
    }
   ],
   "source": [
    "nrow = 2\n",
    "ncol = 3\n",
    "xv = range(1, 11)\n",
    "fig, axes = plt.subplots(nrow, ncol, figsize=(12, 10))\n",
    "for state in STATES:\n",
    "    row = int(state/ncol)\n",
    "    col = state % ncol\n",
    "    collection = COLLECTION_DCT[state]\n",
    "    ax = axes[row, col]\n",
    "    values = collection.ser_comb.to_list()\n",
    "    ax.bar(xv, values[:len(xv)])\n",
    "    ax.set_ylabel(\"Accuracy\")\n",
    "    ax.set_ylim([0, 1])\n",
    "    ax.set_title(\"%d\" % state)\n",
    "    \n",
    "    "
   ]
  },
  {
   "cell_type": "code",
   "execution_count": 6,
   "metadata": {},
   "outputs": [
    {
     "data": {
      "text/plain": [
       "Rv3095+Rv3246c                            0.958333\n",
       "Rv2009+Rv3830c                            0.950000\n",
       "Rv0054+Rv3066+Rv3133c                     0.936667\n",
       "Rv0158+Rv0653c+Rv1176c+Rv2745c+Rv3082c    0.935000\n",
       "Rv1460                                    0.915000\n",
       "Name: 0, dtype: float64"
      ]
     },
     "execution_count": 6,
     "metadata": {},
     "output_type": "execute_result"
    }
   ],
   "source": [
    "COLLECTION_DCT[1].ser_comb.head()"
   ]
  },
  {
   "cell_type": "code",
   "execution_count": 7,
   "metadata": {},
   "outputs": [
    {
     "data": {
      "text/html": [
       "<div>\n",
       "<style scoped>\n",
       "    .dataframe tbody tr th:only-of-type {\n",
       "        vertical-align: middle;\n",
       "    }\n",
       "\n",
       "    .dataframe tbody tr th {\n",
       "        vertical-align: top;\n",
       "    }\n",
       "\n",
       "    .dataframe thead th {\n",
       "        text-align: right;\n",
       "    }\n",
       "</style>\n",
       "<table border=\"1\" class=\"dataframe\">\n",
       "  <thead>\n",
       "    <tr style=\"text-align: right;\">\n",
       "      <th></th>\n",
       "      <th>predicted</th>\n",
       "      <th>count</th>\n",
       "      <th>frac</th>\n",
       "      <th>siglvl_pos</th>\n",
       "      <th>siglvl_neg</th>\n",
       "    </tr>\n",
       "    <tr>\n",
       "      <th>value</th>\n",
       "      <th></th>\n",
       "      <th></th>\n",
       "      <th></th>\n",
       "      <th></th>\n",
       "      <th></th>\n",
       "    </tr>\n",
       "  </thead>\n",
       "  <tbody>\n",
       "    <tr>\n",
       "      <th>(-1, -1)</th>\n",
       "      <td>0</td>\n",
       "      <td>2.0</td>\n",
       "      <td>0.00</td>\n",
       "      <td>1.000000</td>\n",
       "      <td>0.000000</td>\n",
       "    </tr>\n",
       "    <tr>\n",
       "      <th>(-1, 0)</th>\n",
       "      <td>0</td>\n",
       "      <td>22.0</td>\n",
       "      <td>0.00</td>\n",
       "      <td>1.000000</td>\n",
       "      <td>0.000000</td>\n",
       "    </tr>\n",
       "    <tr>\n",
       "      <th>(-1, 1)</th>\n",
       "      <td>0</td>\n",
       "      <td>11.0</td>\n",
       "      <td>0.00</td>\n",
       "      <td>1.000000</td>\n",
       "      <td>0.000000</td>\n",
       "    </tr>\n",
       "    <tr>\n",
       "      <th>(0, -1)</th>\n",
       "      <td>0</td>\n",
       "      <td>0.0</td>\n",
       "      <td>NaN</td>\n",
       "      <td>NaN</td>\n",
       "      <td>NaN</td>\n",
       "    </tr>\n",
       "    <tr>\n",
       "      <th>(0, 0)</th>\n",
       "      <td>0</td>\n",
       "      <td>20.0</td>\n",
       "      <td>0.05</td>\n",
       "      <td>0.999999</td>\n",
       "      <td>0.000020</td>\n",
       "    </tr>\n",
       "    <tr>\n",
       "      <th>(0, 1)</th>\n",
       "      <td>1</td>\n",
       "      <td>20.0</td>\n",
       "      <td>0.85</td>\n",
       "      <td>0.001288</td>\n",
       "      <td>0.999799</td>\n",
       "    </tr>\n",
       "    <tr>\n",
       "      <th>(1, -1)</th>\n",
       "      <td>0</td>\n",
       "      <td>0.0</td>\n",
       "      <td>NaN</td>\n",
       "      <td>NaN</td>\n",
       "      <td>NaN</td>\n",
       "    </tr>\n",
       "    <tr>\n",
       "      <th>(1, 0)</th>\n",
       "      <td>1</td>\n",
       "      <td>0.0</td>\n",
       "      <td>NaN</td>\n",
       "      <td>NaN</td>\n",
       "      <td>NaN</td>\n",
       "    </tr>\n",
       "    <tr>\n",
       "      <th>(1, 1)</th>\n",
       "      <td>1</td>\n",
       "      <td>0.0</td>\n",
       "      <td>NaN</td>\n",
       "      <td>NaN</td>\n",
       "      <td>NaN</td>\n",
       "    </tr>\n",
       "  </tbody>\n",
       "</table>\n",
       "</div>"
      ],
      "text/plain": [
       "          predicted  count  frac  siglvl_pos  siglvl_neg\n",
       "value                                                   \n",
       "(-1, -1)          0    2.0  0.00    1.000000    0.000000\n",
       "(-1, 0)           0   22.0  0.00    1.000000    0.000000\n",
       "(-1, 1)           0   11.0  0.00    1.000000    0.000000\n",
       "(0, -1)           0    0.0   NaN         NaN         NaN\n",
       "(0, 0)            0   20.0  0.05    0.999999    0.000020\n",
       "(0, 1)            1   20.0  0.85    0.001288    0.999799\n",
       "(1, -1)           0    0.0   NaN         NaN         NaN\n",
       "(1, 0)            1    0.0   NaN         NaN         NaN\n",
       "(1, 1)            1    0.0   NaN         NaN         NaN"
      ]
     },
     "execution_count": 7,
     "metadata": {},
     "output_type": "execute_result"
    }
   ],
   "source": [
    "fset = FeatureSet(\"Rv3095+Rv3246c\", analyzer=COLLECTION_DCT[1]._analyzer)\n",
    "df = fset.profileTrinary()\n",
    "del df[\"feature_set\"]\n",
    "df"
   ]
  },
  {
   "cell_type": "markdown",
   "metadata": {},
   "source": [
    "## Profile Instances"
   ]
  },
  {
   "cell_type": "code",
   "execution_count": 8,
   "metadata": {
    "scrolled": true
   },
   "outputs": [],
   "source": [
    "def plotProfile(state, count=3):\n",
    "    collection = COLLECTION_DCT[state]\n",
    "    collection.plotProfileInstance(collection.ser_comb.index.tolist()[0:count], figsize=(16, 10))"
   ]
  },
  {
   "cell_type": "code",
   "execution_count": null,
   "metadata": {
    "scrolled": true
   },
   "outputs": [],
   "source": [
    "for state in STATES:\n",
    "    plotProfile(state)"
   ]
  },
  {
   "cell_type": "markdown",
   "metadata": {},
   "source": [
    "## Instance Evaluation"
   ]
  },
  {
   "cell_type": "code",
   "execution_count": null,
   "metadata": {
    "scrolled": true
   },
   "outputs": [],
   "source": [
    " def fullProfile(ser_X, title=\"\", **kwargs):\n",
    "        num_row = 2 \n",
    "        num_col = 3 \n",
    "        fig, axes = plt.subplots(num_row, num_col,\n",
    "            figsize=(16, 10))\n",
    "        for idx, state in enumerate(STATES):\n",
    "            row = int(idx/num_col)\n",
    "            col = idx % num_col\n",
    "            collection = COLLECTION_DCT[state]\n",
    "            if row == 0:\n",
    "                label_xoffset = -0.1\n",
    "            else:\n",
    "                label_xoffset = 0.1 \n",
    "            collection.plotEvaluate(ser_X, \n",
    "                ax=axes[row, col], is_plot=False,\n",
    "                title = \"State %d\" % idx,\n",
    "                label_xoffset=label_xoffset, **kwargs)\n",
    "        fig.suptitle(title, fontsize=16)\n",
    "        plt.show()"
   ]
  },
  {
   "cell_type": "code",
   "execution_count": null,
   "metadata": {
    "scrolled": false
   },
   "outputs": [],
   "source": [
    "instance = \"T3.0\"\n",
    "ser_X = DF_X.loc[instance]\n",
    "fullProfile(ser_X, title=instance)"
   ]
  },
  {
   "cell_type": "code",
   "execution_count": null,
   "metadata": {
    "scrolled": false
   },
   "outputs": [],
   "source": [
    "DF_AW.head()"
   ]
  },
  {
   "cell_type": "code",
   "execution_count": null,
   "metadata": {
    "scrolled": true
   },
   "outputs": [],
   "source": [
    "for instance in DF_AM.index:\n",
    "    ser_X = DF_AM.loc[instance]\n",
    "    fullProfile(ser_X, title=instance)"
   ]
  },
  {
   "cell_type": "code",
   "execution_count": null,
   "metadata": {
    "scrolled": true
   },
   "outputs": [],
   "source": [
    "for instance in DF_AW.index:\n",
    "    ser_X = DF_AW.loc[instance]\n",
    "    fullProfile(ser_X, title=instance, num_fset=5)"
   ]
  },
  {
   "cell_type": "code",
   "execution_count": null,
   "metadata": {
    "scrolled": false
   },
   "outputs": [],
   "source": [
    "sorted_index = sorted(DF_GALAGAN.index.tolist(), key=lambda v: float(int(v[1]) + 0.1*int(v[6])))\n",
    "for instance in sorted_index:\n",
    "    ser_X = DF_GALAGAN.loc[instance]\n",
    "    fullProfile(ser_X, title=instance, num_fset=15)"
   ]
  },
  {
   "cell_type": "markdown",
   "metadata": {},
   "source": [
    "## Gene Analysis"
   ]
  },
  {
   "cell_type": "code",
   "execution_count": null,
   "metadata": {
    "scrolled": true
   },
   "outputs": [],
   "source": [
    "def reportGO(genes):\n",
    "    df = PROVIDER.df_go_terms.set_index(cn.GENE_ID)\n",
    "    result = []\n",
    "    for gene in genes:\n",
    "        if gene in df.index.tolist():\n",
    "            result.append('\"%s: %s\"\\n' % (gene, df.loc[gene, \"GO_Term\"]))\n",
    "        else:\n",
    "            result.append('\"%s: no description\"\\n' % gene)\n",
    "    return result\n",
    "genes = [\"Rv3095\", \"Rv3246c\", \"Rv2009\", \"Rv3830c\", \"Rv0602c\", \"Rv1956\", \"Rv3249c\"]\n",
    "print(\"\\n\".join(reportGO(genes)))"
   ]
  },
  {
   "cell_type": "code",
   "execution_count": null,
   "metadata": {},
   "outputs": [],
   "source": [
    "PROVIDER.df_go_terms.head()"
   ]
  },
  {
   "cell_type": "code",
   "execution_count": null,
   "metadata": {},
   "outputs": [],
   "source": [
    "ser = pd.Series(reportGO(PROVIDER.tfs))\n",
    "ser.to_csv(\"trn_report.csv\")"
   ]
  },
  {
   "cell_type": "code",
   "execution_count": null,
   "metadata": {},
   "outputs": [],
   "source": [
    "df = PROVIDER.df_go_terms.set_index(cn.GENE_ID)\n",
    "df.loc[\"Rv0674\", :]"
   ]
  }
 ],
 "metadata": {
  "kernelspec": {
   "display_name": "Python 3",
   "language": "python",
   "name": "python3"
  },
  "language_info": {
   "codemirror_mode": {
    "name": "ipython",
    "version": 3
   },
   "file_extension": ".py",
   "mimetype": "text/x-python",
   "name": "python",
   "nbconvert_exporter": "python",
   "pygments_lexer": "ipython3",
   "version": "3.8.1"
  }
 },
 "nbformat": 4,
 "nbformat_minor": 4
}
